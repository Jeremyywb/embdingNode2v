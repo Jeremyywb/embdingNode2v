{
 "cells": [
  {
   "cell_type": "code",
   "execution_count": 1,
   "metadata": {},
   "outputs": [
    {
     "name": "stdout",
     "output_type": "stream",
     "text": [
      "/\n",
      "    0-运行说明.txt\n",
      "    1-模型说明.txt\n",
      "    学生证.jpg\n",
      "cache/\n",
      "    code2_weighted_edglist_DeepWalk.txt\n",
      "    code2_weighted_edglist_filytypeTxt.edgelist\n",
      "    code2_weighted_edglist_filytypeTxt.txt\n",
      "    device1_edglist_emb_dim36.emb\n",
      "    device1_weighted_edglist_DeepWalk.txt\n",
      "    device1_weighted_edglist_filytypeTxt.edgelist\n",
      "    device1_weighted_edglist_filytypeTxt.txt\n",
      "    device_code1_weighted_edglist_DeepWalk.txt\n",
      "    device_code1_weighted_edglist_filytypeTxt.edgelist\n",
      "    device_code1_weighted_edglist_filytypeTxt.txt\n",
      "    device_code2_edglist_emb_dim36.emb\n",
      "    device_code2_weighted_edglist_DeepWalk.txt\n",
      "    device_code2_weighted_edglist_filytypeTxt.edgelist\n",
      "    device_code2_weighted_edglist_filytypeTxt.txt\n",
      "    device_code3_weighted_edglist_DeepWalk.txt\n",
      "    device_code3_weighted_edglist_filytypeTxt.edgelist\n",
      "    device_code3_weighted_edglist_filytypeTxt.txt\n",
      "    geo_code_edglist.embeddings\n",
      "    geo_code_edglist_emb_dim36.emb\n",
      "    geo_code_weighted_edglist_DeepWalk.txt\n",
      "    geo_code_weighted_edglist_filytypeTxt.edgelist\n",
      "    geo_code_weighted_edglist_filytypeTxt.txt\n",
      "    ip1_edglist.embeddings\n",
      "    ip1_edglist_emb_dim36.emb\n",
      "    ip1_weighted_edglist_DeepWalk.txt\n",
      "    ip1_weighted_edglist_filytypeTxt.edgelist\n",
      "    ip1_weighted_edglist_filytypeTxt.txt\n",
      "    ip_sub_weighted_edglist_DeepWalk.txt\n",
      "    ip_sub_weighted_edglist_filytypeTxt.edgelist\n",
      "    ip_sub_weighted_edglist_filytypeTxt.txt\n",
      "    ip_weighted_edglist_DeepWalk.txt\n",
      "    ip_weighted_edglist_filytypeTxt.edgelist\n",
      "    ip_weighted_edglist_filytypeTxt.txt\n",
      "    mac1_edglist_emb_dim36.emb\n",
      "    mac1_edglist_noweit_.embeddings\n",
      "    mac1_weighted_edglist_DeepWalk.txt\n",
      "    mac1_weighted_edglist_filytypeTxt.edgelist\n",
      "    mac1_weighted_edglist_filytypeTxt.txt\n",
      "    merchant_edglist_emb_dim36.emb\n",
      "    merchant_weighted_edglist_DeepWalk.embeddings\n",
      "    merchant_weighted_edglist_DeepWalk.txt\n",
      "    merchant_weighted_edglist_filytypeTxt.edgelist\n",
      "    merchant_weighted_edglist_filytypeTxt.txt\n",
      "    wifi_edglist.embeddings\n",
      "    wifi_edglist_emb_dim36.emb\n",
      "    wifi_weighted_edglist_DeepWalk.txt\n",
      "    wifi_weighted_edglist_filytypeTxt.edgelist\n",
      "    wifi_weighted_edglist_filytypeTxt.txt\n",
      "code/\n",
      "    0-runtest.ipynb\n",
      "    1-0-data_preprocess.ipynb\n",
      "    1-1-EdgePrepare.ipynb\n",
      "    1-2-Graph_embeddings.ipynb\n",
      "    2-1-FeatureExact.ipynb\n",
      "    2-2-extract_features.ipynb\n",
      "    3-1-lgb_embedding.ipynb\n",
      "    3-2-lightgbm_model.ipynb\n",
      "    4-1-blend_model.ipynb\n",
      "    4-2-rule_adjust.ipynb\n",
      "    .ipynb_checkpoints/\n",
      "        0-runtest-checkpoint.ipynb\n",
      "        1-0-data_preprocess-checkpoint.ipynb\n",
      "        1-1-EdgePrepare-checkpoint.ipynb\n",
      "        1-1-prtst-checkpoint.ipynb\n",
      "        1-2-Graph_embeddings-checkpoint.ipynb\n",
      "        2-1-FeatureExact-checkpoint.ipynb\n",
      "        2-2-extract_features-checkpoint.ipynb\n",
      "        3-1-lgb_embedding-checkpoint.ipynb\n",
      "        3-2-lightgbm_model-checkpoint.ipynb\n",
      "        4-1-blend_model-checkpoint.ipynb\n",
      "        4-2-rule_adjust-checkpoint.ipynb\n",
      "        lgb_572-checkpoint.ipynb\n",
      "        print_a_add_b-checkpoint.ipynb\n",
      "        val_a-checkpoint.ipynb\n",
      "        val_b-checkpoint.ipynb\n",
      "data/\n",
      "    GeoDetails.csv\n",
      "    operation_round1_new.csv\n",
      "    operation_train_new.csv\n",
      "    submit_example.csv\n",
      "    tag_train_new.csv\n",
      "    test_operation_round2.csv\n",
      "    test_transaction_round2.csv\n",
      "    transaction_round1_new.csv\n",
      "    transaction_train_new.csv\n",
      "    提交样例.csv\n",
      "geo_getdetail/\n",
      "    Download.py\n",
      "    FeeDExport.py\n",
      "    geo.txt\n",
      "    Html_pareser.py\n",
      "    Pipeline.py\n",
      "    Spider.py\n",
      "    URLSchedul.py\n",
      "submission/\n",
      "    sub_final.csv\n"
     ]
    }
   ],
   "source": [
    "import os\n",
    "\n",
    "def list_files(startpath):\n",
    "    for root, dirs, files in os.walk(startpath):\n",
    "        level = root.replace(startpath, '').count(os.sep)\n",
    "        indent = ' ' * 4 * (level)\n",
    "        print('{}{}/'.format(indent, os.path.basename(root)))\n",
    "        subindent = ' ' * 4 * (level + 1)\n",
    "        for f in files:\n",
    "            print('{}{}'.format(subindent, f))\n",
    "list_files(\"../\")"
   ]
  },
  {
   "cell_type": "code",
   "execution_count": null,
   "metadata": {},
   "outputs": [],
   "source": [
    "%run 1-0-data_preprocess.ipynb\n",
    "%run 1-1-EdgePrepare.ipynb\n",
    "%run 1-2-Graph_embeddings.ipynb\n",
    "%run 2-1-FeatureExact.ipynb\n",
    "%run 2-2-extract_features.ipynb\n",
    "%run 3-1-lgb_embedding.ipynb\n",
    "%run 3-2-lightgbm_model.ipynb\n",
    "%run 4-1-blend_model.ipynb\n",
    "%run 4-2-rule_adjust.ipynb"
   ]
  },
  {
   "cell_type": "code",
   "execution_count": 4,
   "metadata": {},
   "outputs": [],
   "source": [
    "# import pandas as pd\n",
    "df = pd.read_csv(\"../cache/2018-12-16_737044/device1__embtype_emb_test_0_.csv\")\n",
    "df1 = pd.read_csv(\"../cache/2018-12-16_737044/device_code2__embtype_emb_test_1_.csv\")"
   ]
  },
  {
   "cell_type": "code",
   "execution_count": 31,
   "metadata": {},
   "outputs": [],
   "source": [
    "import numpy as np\n",
    "\n",
    "a = np.zeros(df.shape[0])\n",
    "b = np.zeros(df.shape[0])"
   ]
  },
  {
   "cell_type": "code",
   "execution_count": 33,
   "metadata": {},
   "outputs": [],
   "source": [
    "a[df.index] = df.Tag.values\n",
    "b[df1.index] = df1.Tag.values"
   ]
  },
  {
   "cell_type": "code",
   "execution_count": 38,
   "metadata": {},
   "outputs": [
    {
     "data": {
      "text/plain": [
       "(array([0.23221805, 0.15608086, 0.18109191, ..., 0.33726053, 0.2386923 ,\n",
       "        0.0899235 ]),\n",
       " array([0.22765584, 0.1648382 , 0.16894631, ..., 0.33768669, 0.25256878,\n",
       "        0.07470897]))"
      ]
     },
     "execution_count": 38,
     "metadata": {},
     "output_type": "execute_result"
    }
   ],
   "source": [
    "df.Tag.values,df1.Tag.values"
   ]
  },
  {
   "cell_type": "code",
   "execution_count": 40,
   "metadata": {},
   "outputs": [
    {
     "data": {
      "text/plain": [
       "array([[0.23221805, 0.22765584],\n",
       "       [0.15608086, 0.1648382 ],\n",
       "       [0.18109191, 0.16894631],\n",
       "       ...,\n",
       "       [0.33726053, 0.33768669],\n",
       "       [0.2386923 , 0.25256878],\n",
       "       [0.0899235 , 0.07470897]])"
      ]
     },
     "execution_count": 40,
     "metadata": {},
     "output_type": "execute_result"
    }
   ],
   "source": [
    "np.concatenate( [df.Tag.values.reshape(-1,1),df1.Tag.values.reshape(-1,1)  ] ,axis=1) "
   ]
  },
  {
   "cell_type": "code",
   "execution_count": 41,
   "metadata": {},
   "outputs": [
    {
     "data": {
      "text/plain": [
       "array([[0.23221805],\n",
       "       [0.15608086],\n",
       "       [0.18109191],\n",
       "       ...,\n",
       "       [0.33726053],\n",
       "       [0.2386923 ],\n",
       "       [0.0899235 ]])"
      ]
     },
     "execution_count": 41,
     "metadata": {},
     "output_type": "execute_result"
    }
   ],
   "source": [
    "df.Tag.values.reshape(-1,1)"
   ]
  },
  {
   "cell_type": "code",
   "execution_count": 45,
   "metadata": {},
   "outputs": [
    {
     "data": {
      "text/plain": [
       "array([1, 0, 0, ..., 0, 1, 1], dtype=int64)"
      ]
     },
     "execution_count": 45,
     "metadata": {},
     "output_type": "execute_result"
    }
   ],
   "source": [
    "y_train.ravel()"
   ]
  },
  {
   "cell_type": "code",
   "execution_count": 44,
   "metadata": {},
   "outputs": [
    {
     "data": {
      "text/plain": [
       "31179"
      ]
     },
     "execution_count": 44,
     "metadata": {},
     "output_type": "execute_result"
    }
   ],
   "source": [
    "len(y_train)"
   ]
  }
 ],
 "metadata": {
  "anaconda-cloud": {},
  "kernelspec": {
   "display_name": "Python [conda root]",
   "language": "python",
   "name": "conda-root-py"
  },
  "language_info": {
   "codemirror_mode": {
    "name": "ipython",
    "version": 3
   },
   "file_extension": ".py",
   "mimetype": "text/x-python",
   "name": "python",
   "nbconvert_exporter": "python",
   "pygments_lexer": "ipython3",
   "version": "3.5.2"
  }
 },
 "nbformat": 4,
 "nbformat_minor": 2
}
