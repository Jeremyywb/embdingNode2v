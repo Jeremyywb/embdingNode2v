{
 "cells": [
  {
   "cell_type": "markdown",
   "metadata": {},
   "source": [
    "**导入所需库**"
   ]
  },
  {
   "cell_type": "code",
   "execution_count": 1,
   "metadata": {},
   "outputs": [],
   "source": [
    "import pandas as pd"
   ]
  },
  {
   "cell_type": "markdown",
   "metadata": {},
   "source": [
    "**加权融合**"
   ]
  },
  {
   "cell_type": "code",
   "execution_count": 2,
   "metadata": {},
   "outputs": [],
   "source": [
    "sub1 = pd.read_csv('../submission/lgb_basesub.csv')# 线上0.479+\n",
    "sub2 = pd.read_csv('../submission/lgb_embeding_eepWalk.csv')# 线上0.37+\n",
    "sub3 = pd.read_csv('../submission/lgb_embeding_pca.csv')# 线上0.37+\n",
    "\n",
    "sub1 = sub1.rename(columns={'Tag': 'Tag1'})\n",
    "sub2 = sub2.rename(columns={'Tag': 'Tag2'})\n",
    "sub3 = sub3.rename(columns={'Tag': 'Tag3'})"
   ]
  },
  {
   "cell_type": "code",
   "execution_count": 3,
   "metadata": {},
   "outputs": [],
   "source": [
    "sub = sub1.merge(sub2, on=['UID'], how='left')\n",
    "sub = sub.merge(sub3, on=['UID'], how='left')\n",
    "sub['Tag'] = 0.50*sub['Tag1']+0.28*sub['Tag2']+0.22*sub['Tag3']"
   ]
  },
  {
   "cell_type": "markdown",
   "metadata": {},
   "source": [
    "**输出结果**"
   ]
  },
  {
   "cell_type": "code",
   "execution_count": 4,
   "metadata": {},
   "outputs": [],
   "source": [
    "sub[['UID', 'Tag']].to_csv('../submission/avg_blend_6.csv', index=False)"
   ]
  }
 ],
 "metadata": {
  "anaconda-cloud": {},
  "kernelspec": {
   "display_name": "Python [default]",
   "language": "python",
   "name": "python3"
  },
  "language_info": {
   "codemirror_mode": {
    "name": "ipython",
    "version": 3
   },
   "file_extension": ".py",
   "mimetype": "text/x-python",
   "name": "python",
   "nbconvert_exporter": "python",
   "pygments_lexer": "ipython3",
   "version": "3.5.2"
  }
 },
 "nbformat": 4,
 "nbformat_minor": 2
}
