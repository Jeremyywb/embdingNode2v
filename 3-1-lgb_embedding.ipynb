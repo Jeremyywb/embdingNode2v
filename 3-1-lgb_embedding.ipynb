{
 "cells": [
  {
   "cell_type": "code",
   "execution_count": 1,
   "metadata": {},
   "outputs": [],
   "source": [
    "import pandas as pd\n",
    "import numpy as np\n",
    "import gc\n",
    "import time\n",
    "from contextlib import contextmanager\n",
    "import lightgbm as lgb\n",
    "import xgboost as xgb\n",
    "from sklearn.metrics import roc_auc_score, roc_curve, f1_score\n",
    "from sklearn.model_selection import KFold, StratifiedKFold\n",
    "import matplotlib.pyplot as plt\n",
    "import seaborn as sns\n",
    "import warnings\n",
    "import pickle\n",
    "import os\n",
    "from sklearn.svm import SVC\n",
    "warnings.simplefilter(action='ignore', category=FutureWarning)\n",
    "dataroot = \"../data/\"\n",
    "cacheRoot = \"../cache/\"\n",
    "subRoot = \"../submission/\""
   ]
  },
  {
   "cell_type": "code",
   "execution_count": 3,
   "metadata": {},
   "outputs": [],
   "source": [
    "# import os\n",
    "\n",
    "# def list_files(startpath):\n",
    "#     for root, dirs, files in os.walk(startpath):\n",
    "#         level = root.replace(startpath, '').count(os.sep)\n",
    "#         indent = ' ' * 4 * (level)\n",
    "#         print('{}{}/'.format(indent, os.path.basename(root)))\n",
    "#         subindent = ' ' * 4 * (level + 1)\n",
    "#         for f in files:\n",
    "#             print('{}{}'.format(subindent, f))\n",
    "# list_files(\"../\")\n",
    "def get_embeding(fname, embname):\n",
    "    f = open(fname)\n",
    "    embeding_lines = f.readlines()\n",
    "    f.close()\n",
    "    mapfunc = lambda x: list( map( float, x ) )\n",
    "    embeding_lines = [li.replace(\"\\n\",\"\").split(\" \") for li in embeding_lines[1:]]\n",
    "    embeding_lines = [ [ int(line[0]) ] +  mapfunc( line[1:]  )   for line in   embeding_lines ]\n",
    "    cols = [\"UID\"] + [ embname  + str(i) for i in range( len(embeding_lines[0]) -1 )]\n",
    "    embeding_df = pd.DataFrame(embeding_lines, columns=cols )\n",
    "    del embeding_lines\n",
    "    return embeding_df\n",
    "\n"
   ]
  },
  {
   "cell_type": "code",
   "execution_count": 1,
   "metadata": {},
   "outputs": [
    {
     "ename": "NameError",
     "evalue": "name 'pd' is not defined",
     "output_type": "error",
     "traceback": [
      "\u001b[1;31m---------------------------------------------------------------------------\u001b[0m",
      "\u001b[1;31mNameError\u001b[0m                                 Traceback (most recent call last)",
      "\u001b[1;32m<ipython-input-1-d75279f42e18>\u001b[0m in \u001b[0;36m<module>\u001b[1;34m\u001b[0m\n\u001b[1;32m----> 1\u001b[1;33m \u001b[0mdata\u001b[0m \u001b[1;33m=\u001b[0m  \u001b[0mpd\u001b[0m\u001b[1;33m.\u001b[0m\u001b[0mread_csv\u001b[0m\u001b[1;33m(\u001b[0m\u001b[0mcacheRoot\u001b[0m \u001b[1;33m+\u001b[0m \u001b[1;34m\"grouping_features.csv\"\u001b[0m\u001b[1;33m)\u001b[0m\u001b[1;33m\u001b[0m\u001b[0m\n\u001b[0m",
      "\u001b[1;31mNameError\u001b[0m: name 'pd' is not defined"
     ]
    }
   ],
   "source": [
    "data =  pd.read_csv(cacheRoot + \"grouping_features.csv\")"
   ]
  },
  {
   "cell_type": "code",
   "execution_count": 5,
   "metadata": {},
   "outputs": [
    {
     "data": {
      "text/plain": [
       "['device1_edglist_emb_dim36.emb',\n",
       " 'device_code2_edglist_emb_dim36.emb',\n",
       " 'geo_code_edglist.embeddings',\n",
       " 'geo_code_edglist_emb_dim36.emb',\n",
       " 'ip1_edglist.embeddings',\n",
       " 'ip1_edglist_emb_dim36.emb',\n",
       " 'mac1_edglist_emb_dim36.emb',\n",
       " 'mac1_edglist_noweit_.embeddings',\n",
       " 'merchant_edglist_emb_dim36.emb',\n",
       " 'merchant_weighted_edglist_DeepWalk.embeddings',\n",
       " 'wifi_edglist.embeddings',\n",
       " 'wifi_edglist_emb_dim36.emb']"
      ]
     },
     "execution_count": 5,
     "metadata": {},
     "output_type": "execute_result"
    }
   ],
   "source": []
  },
  {
   "cell_type": "code",
   "execution_count": 103,
   "metadata": {},
   "outputs": [],
   "source": [
    "# mac1_emb = get_embeding(cacheRoot + \"mac1_.emb\", \"mac1_emb_\")\n",
    "# merchant_dbk = get_embeding(cacheRoot + \"merchant_weighted_edglist_DeepWalk.embeddings\", \"merchant_deepwalk_\")\n",
    "# mac1_emb = mac1_emb[ mac1_emb.UID.map(lambda x: x<= 131587) ] \n",
    "# merchant_dbk = merchant_dbk[ merchant_dbk.UID.map(lambda x: x<= 131587) ] \n",
    "\n",
    "\n",
    "# merchant_emb = get_embeding(cacheRoot + \"merchant_.emb\", \"merchant_emb_\")\n",
    "# merchant_emb = merchant_emb[ merchant_emb.UID.map(lambda x: x<= 131587) ] \n",
    "# mac_merch = pd.DataFrame()\n",
    "# mac_merch[\"UID\"] = merchant_dbk.UID.tolist() +  mac1_emb.UID.tolist()\n",
    "# mac_merch = mac_merch.merge( mac1_emb, on = [\"UID\"],how = \"left\"  )\n",
    "# mac_merch = mac_merch.merge( merchant_dbk, on = [\"UID\"],how = \"left\"  )\n",
    "# mac_merch = mac_merch.fillna( 0.0 )"
   ]
  },
  {
   "cell_type": "code",
   "execution_count": 53,
   "metadata": {},
   "outputs": [],
   "source": [
    "# len(mac_merch.columns)"
   ]
  },
  {
   "cell_type": "code",
   "execution_count": 104,
   "metadata": {},
   "outputs": [],
   "source": [
    "# # for embedding mac1 and merchants pca\n",
    "# from sklearn.decomposition import PCA\n",
    "# dim = 42\n",
    "# pca = PCA(n_components=dim)\n",
    "# pca_res = pca.fit_transform(mac_merch.drop(\"UID\", axis = 1)  )\n",
    "# me_pca = pd.DataFrame(pca_res, columns=[\"pca_mac1_merchrant_%d\" % i for i in range(dim)])\n",
    "# me_pca[\"UID\"] = mac_merch.UID.values"
   ]
  },
  {
   "cell_type": "code",
   "execution_count": 57,
   "metadata": {},
   "outputs": [],
   "source": [
    "# datapca.head()"
   ]
  },
  {
   "cell_type": "code",
   "execution_count": 105,
   "metadata": {},
   "outputs": [],
   "source": [
    "# datapca = pd.merge( data,me_pca,on = [\"UID\"],how = \"left\"  )\n",
    "# data = pd.merge( data, mac1_emb, on =[\"UID\"], how=\"left\" )\n",
    "# data = pd.merge( data, merchant_dbk, on =[\"UID\"], how=\"left\" )"
   ]
  },
  {
   "cell_type": "code",
   "execution_count": 32,
   "metadata": {},
   "outputs": [],
   "source": [
    "import os\n",
    "import pandas as pd\n",
    "import numpy as np\n",
    "import gc\n",
    "import time\n",
    "from contextlib import contextmanager\n",
    "import lightgbm as lgb\n",
    "import xgboost as xgb\n",
    "from sklearn.metrics import roc_auc_score, roc_curve, f1_score\n",
    "from sklearn.model_selection import KFold, StratifiedKFold\n",
    "import matplotlib.pyplot as plt\n",
    "import seaborn as sns\n",
    "import warnings\n",
    "import pickle\n",
    "from sklearn.svm import SVC\n",
    "def  process_feature(train_x, valid_x, test_df):\n",
    "    result = []\n",
    "    drop_cols = ['Tag']\n",
    "    for df in [train_x, valid_x, test_df]:\n",
    "        result.append(df.drop(drop_cols, axis=1))\n",
    "    return result \n",
    "def cv(df, num_folds, param, stratified=True, debug=False):\n",
    "    train_df =  df[df.Tag != 0.5]\n",
    "    test_df =   df[df.Tag == 0.5]\n",
    "    \n",
    "    seed = 178\n",
    "    if \"seed\" in param: \n",
    "        seed = param[\"seed\"]\n",
    "        del param['seed']\n",
    "    if stratified:\n",
    "        folds = StratifiedKFold(n_splits= num_folds, shuffle=True, random_state=seed)\n",
    "    else:\n",
    "        folds = KFold(n_splits= num_folds, shuffle=True, random_state=seed)\n",
    "    oof_preds = np.zeros(train_df.shape[0])\n",
    "    all_test_preds = []    \n",
    "    feature_importance_df = pd.DataFrame()\n",
    "    for n_fold, (train_idx, valid_idx) in enumerate(folds.split(train_df, train_df['Tag'])):\n",
    "        train_x, train_y = train_df.iloc[train_idx], train_df['Tag'].iloc[train_idx]\n",
    "        valid_x, valid_y = train_df.iloc[valid_idx], train_df['Tag'].iloc[valid_idx]\n",
    "        fold_preds = test_df[[\"UID\"]]\n",
    "        \n",
    "        train_x, valid_x, test = process_feature(train_x, valid_x, test_df)\n",
    "        if n_fold == 0:\n",
    "            print(train_x.shape, valid_x.shape, test.shape)\n",
    "        \n",
    "        train_data = lgb.Dataset(train_x, label=train_y)\n",
    "        validation_data = lgb.Dataset(valid_x, label=valid_y)\n",
    "\n",
    "        clf=lgb.train(param,\n",
    "                      train_data,\n",
    "                      num_boost_round=10000,\n",
    "                      valid_sets=[train_data, validation_data],\n",
    "                      valid_names=[\"train\", \"valid\"],\n",
    "                      early_stopping_rounds=100,\n",
    "                      verbose_eval=100)\n",
    "\n",
    "        valid_preds = clf.predict(valid_x, num_iteration=clf.best_iteration)\n",
    "        test_preds = clf.predict(test, num_iteration=clf.best_iteration)\n",
    "\n",
    "        fold_preds['Tag'] = test_preds\n",
    "        fold_preds['fold_id'] = n_fold + 1\n",
    "        all_test_preds.append(fold_preds)\n",
    "        \n",
    "        oof_preds[valid_idx] = valid_preds\n",
    "        \n",
    "        print('Fold %2d AUC : %.6f' % (n_fold + 1, roc_auc_score(valid_y, valid_preds)))\n",
    "        \n",
    "        del clf, train_x, train_y, valid_x, valid_y\n",
    "        gc.collect()\n",
    "    train_df[\"prob\"] = oof_preds\n",
    "    full_auc = roc_auc_score(train_df['Tag'], oof_preds)\n",
    "    train_df = train_df[['UID', 'prob']]\n",
    "    all_test_preds = pd.concat(all_test_preds, axis=0)\n",
    "    test_preds = all_test_preds.groupby(\"UID\")[\"Tag\"].agg({\"Tag\":\"mean\"}).reset_index()\n",
    "    del all_test_preds\n",
    "    print('Full AUC score %.6f' % full_auc)\n",
    "    \n",
    "    return [train_df,test_preds]"
   ]
  },
  {
   "cell_type": "code",
   "execution_count": 33,
   "metadata": {},
   "outputs": [],
   "source": [
    "class runmodel(object):\n",
    "    def __init__(self,data):\n",
    "        self.data = data\n",
    "    def getinfo(self):\n",
    "        print(\"use variable = runlgb.get_result() get reusult \")\n",
    "    def get_embeding(self,fname, embname):\n",
    "        f = open(fname)\n",
    "        embeding_lines = f.readlines()\n",
    "        f.close()\n",
    "        mapfunc = lambda x: list( map( float, x ) )\n",
    "        embeding_lines = [li.replace(\"\\n\",\"\").split(\" \") for li in embeding_lines[1:]]\n",
    "        embeding_lines = [ [ int(line[0]) ] +  mapfunc( line[1:]  )   for line in   embeding_lines ]\n",
    "        cols = [\"UID\"] + [ embname  + str(i) for i in range( len(embeding_lines[0]) -1 )]\n",
    "        embeding_df = pd.DataFrame(embeding_lines, columns=cols )\n",
    "        del embeding_lines\n",
    "        return embeding_df\n",
    "    def merge_emb2grdata(self,embdf):\n",
    "        return pd.merge( self.data,embdf,on = [\"UID\"],how = \"left\"  )\n",
    "    def get_result(self,fname, embname,subname):\n",
    "        embdata = self.get_embeding(fname, embname)\n",
    "        usedata = self.merge_emb2grdata(embdata)\n",
    "        params_list =[\n",
    "         {'boosting_type': 'goss', 'colsample_bytree': 0.6555004575000242, 'learning_rate': 0.016380004820033073, 'max_bin': 1000, 'metric': 'auc', 'min_child_weight': 2.1115838168176433, 'num_leaves': 108, 'reg_alpha': 23.247001339889128, 'reg_lambda': 997.9576062039534, 'subsample': 1.0, 'verbose': 1, 'seed': 4419},\n",
    "         {'boosting_type': 'goss', 'colsample_bytree': 0.7187703092392053, 'learning_rate': 0.01939219215282862, 'max_bin': 310, 'metric': 'auc', 'min_child_weight': 2.66983907940641, 'num_leaves': 89, 'reg_alpha': 18.48224434106526, 'reg_lambda': 470.54675380054465, 'subsample': 1.0, 'verbose': 1, 'seed': 57},\n",
    "         {'boosting_type': 'goss', 'colsample_bytree': 0.6274617979582582, 'learning_rate': 0.01680918441243103, 'max_bin': 780, 'metric': 'auc', 'min_child_weight': 0.8226071606806127, 'num_leaves': 73, 'reg_alpha': 14.466924422050258, 'reg_lambda': 658.5772060624658, 'subsample': 1.0, 'verbose': 1, 'seed': 1732},\n",
    "         {'boosting_type': 'goss', 'colsample_bytree': 0.6991838451153098, 'learning_rate': 0.01577419276366034, 'max_bin': 940, 'metric': 'auc', 'min_child_weight': 7.758954855388241, 'num_leaves': 187, 'reg_alpha': 43.60868666926589, 'reg_lambda': 667.6371302027073, 'subsample': 1.0, 'verbose': 1, 'seed': 139},\n",
    "         {'boosting_type': 'goss', 'colsample_bytree': 0.6198406436401038, 'learning_rate': 0.016662891953242748, 'max_bin': 820, 'metric': 'auc', 'min_child_weight': 3.5602833459924015, 'num_leaves': 77, 'reg_alpha': 13.398041512170746, 'reg_lambda': 631.8105595021391, 'subsample': 1.0, 'verbose': 1, 'seed': 7609}\n",
    "        ]\n",
    "        result = []\n",
    "        for i, params in enumerate(params_list):\n",
    "            model_dir = \"./model_output/random/lgb_693/%d/\" % i\n",
    "            train_df,test_preds = cv(usedata , 5, params)\n",
    "            train_pred_save = subname + '_train_%d_.csv'%i\n",
    "            test_pred_save = subname + '_test_%d_.csv'%i\n",
    "            train_df.to_csv(train_pred_save, encoding = 'utf8', index = False)\n",
    "            test_preds.to_csv(test_pred_save, encoding = 'utf8', index = False)\n",
    "\n",
    "\n"
   ]
  },
  {
   "cell_type": "code",
   "execution_count": 35,
   "metadata": {},
   "outputs": [
    {
     "name": "stdout",
     "output_type": "stream",
     "text": [
      "making sub root for stacking :../cache/2018-12-16_737044\n",
      "(24943, 503) (6236, 503) (31588, 503)\n",
      "Training until validation scores don't improve for 100 rounds.\n",
      "[100]\ttrain's auc: 0.960953\tvalid's auc: 0.943097\n",
      "[200]\ttrain's auc: 0.975819\tvalid's auc: 0.957462\n",
      "[300]\ttrain's auc: 0.98164\tvalid's auc: 0.961531\n",
      "[400]\ttrain's auc: 0.985667\tvalid's auc: 0.963404\n",
      "[500]\ttrain's auc: 0.988591\tvalid's auc: 0.964632\n",
      "[600]\ttrain's auc: 0.990986\tvalid's auc: 0.965195\n",
      "[700]\ttrain's auc: 0.992749\tvalid's auc: 0.965576\n",
      "[800]\ttrain's auc: 0.994085\tvalid's auc: 0.965564\n",
      "Early stopping, best iteration is:\n",
      "[727]\ttrain's auc: 0.993158\tvalid's auc: 0.965661\n"
     ]
    },
    {
     "name": "stderr",
     "output_type": "stream",
     "text": [
      "D:\\Programfiles2\\anaconda\\lib\\site-packages\\ipykernel\\__main__.py:60: SettingWithCopyWarning: \n",
      "A value is trying to be set on a copy of a slice from a DataFrame.\n",
      "Try using .loc[row_indexer,col_indexer] = value instead\n",
      "\n",
      "See the caveats in the documentation: http://pandas.pydata.org/pandas-docs/stable/indexing.html#indexing-view-versus-copy\n",
      "D:\\Programfiles2\\anaconda\\lib\\site-packages\\ipykernel\\__main__.py:61: SettingWithCopyWarning: \n",
      "A value is trying to be set on a copy of a slice from a DataFrame.\n",
      "Try using .loc[row_indexer,col_indexer] = value instead\n",
      "\n",
      "See the caveats in the documentation: http://pandas.pydata.org/pandas-docs/stable/indexing.html#indexing-view-versus-copy\n"
     ]
    },
    {
     "name": "stdout",
     "output_type": "stream",
     "text": [
      "Fold  1 AUC : 0.965661\n",
      "Training until validation scores don't improve for 100 rounds.\n",
      "[100]\ttrain's auc: 0.92507\tvalid's auc: 0.917656\n",
      "Early stopping, best iteration is:\n",
      "[61]\ttrain's auc: 0.953941\tvalid's auc: 0.940748\n"
     ]
    },
    {
     "name": "stderr",
     "output_type": "stream",
     "text": [
      "D:\\Programfiles2\\anaconda\\lib\\site-packages\\ipykernel\\__main__.py:60: SettingWithCopyWarning: \n",
      "A value is trying to be set on a copy of a slice from a DataFrame.\n",
      "Try using .loc[row_indexer,col_indexer] = value instead\n",
      "\n",
      "See the caveats in the documentation: http://pandas.pydata.org/pandas-docs/stable/indexing.html#indexing-view-versus-copy\n",
      "D:\\Programfiles2\\anaconda\\lib\\site-packages\\ipykernel\\__main__.py:61: SettingWithCopyWarning: \n",
      "A value is trying to be set on a copy of a slice from a DataFrame.\n",
      "Try using .loc[row_indexer,col_indexer] = value instead\n",
      "\n",
      "See the caveats in the documentation: http://pandas.pydata.org/pandas-docs/stable/indexing.html#indexing-view-versus-copy\n"
     ]
    },
    {
     "name": "stdout",
     "output_type": "stream",
     "text": [
      "Fold  2 AUC : 0.940748\n",
      "Training until validation scores don't improve for 100 rounds.\n",
      "[100]\ttrain's auc: 0.963421\tvalid's auc: 0.944344\n",
      "[200]\ttrain's auc: 0.976518\tvalid's auc: 0.957771\n",
      "[300]\ttrain's auc: 0.982151\tvalid's auc: 0.961972\n",
      "[400]\ttrain's auc: 0.986215\tvalid's auc: 0.964039\n",
      "[500]\ttrain's auc: 0.989105\tvalid's auc: 0.965281\n",
      "[600]\ttrain's auc: 0.991349\tvalid's auc: 0.965957\n",
      "[700]\ttrain's auc: 0.993019\tvalid's auc: 0.966507\n",
      "[800]\ttrain's auc: 0.994287\tvalid's auc: 0.967286\n",
      "[900]\ttrain's auc: 0.995275\tvalid's auc: 0.967486\n",
      "[1000]\ttrain's auc: 0.996069\tvalid's auc: 0.967732\n",
      "[1100]\ttrain's auc: 0.996657\tvalid's auc: 0.9679\n",
      "[1200]\ttrain's auc: 0.997121\tvalid's auc: 0.967724\n",
      "Early stopping, best iteration is:\n",
      "[1142]\ttrain's auc: 0.996849\tvalid's auc: 0.967978\n"
     ]
    },
    {
     "name": "stderr",
     "output_type": "stream",
     "text": [
      "D:\\Programfiles2\\anaconda\\lib\\site-packages\\ipykernel\\__main__.py:60: SettingWithCopyWarning: \n",
      "A value is trying to be set on a copy of a slice from a DataFrame.\n",
      "Try using .loc[row_indexer,col_indexer] = value instead\n",
      "\n",
      "See the caveats in the documentation: http://pandas.pydata.org/pandas-docs/stable/indexing.html#indexing-view-versus-copy\n",
      "D:\\Programfiles2\\anaconda\\lib\\site-packages\\ipykernel\\__main__.py:61: SettingWithCopyWarning: \n",
      "A value is trying to be set on a copy of a slice from a DataFrame.\n",
      "Try using .loc[row_indexer,col_indexer] = value instead\n",
      "\n",
      "See the caveats in the documentation: http://pandas.pydata.org/pandas-docs/stable/indexing.html#indexing-view-versus-copy\n"
     ]
    },
    {
     "name": "stdout",
     "output_type": "stream",
     "text": [
      "Fold  3 AUC : 0.967978\n",
      "Training until validation scores don't improve for 100 rounds.\n",
      "[100]\ttrain's auc: 0.962354\tvalid's auc: 0.952193\n",
      "[200]\ttrain's auc: 0.976198\tvalid's auc: 0.962099\n",
      "[300]\ttrain's auc: 0.982156\tvalid's auc: 0.965221\n",
      "[400]\ttrain's auc: 0.986365\tvalid's auc: 0.966764\n",
      "[500]\ttrain's auc: 0.989372\tvalid's auc: 0.96749\n",
      "[600]\ttrain's auc: 0.991606\tvalid's auc: 0.968004\n",
      "[700]\ttrain's auc: 0.993269\tvalid's auc: 0.968098\n",
      "[800]\ttrain's auc: 0.994573\tvalid's auc: 0.968146\n",
      "Early stopping, best iteration is:\n",
      "[733]\ttrain's auc: 0.993768\tvalid's auc: 0.968236\n"
     ]
    },
    {
     "name": "stderr",
     "output_type": "stream",
     "text": [
      "D:\\Programfiles2\\anaconda\\lib\\site-packages\\ipykernel\\__main__.py:60: SettingWithCopyWarning: \n",
      "A value is trying to be set on a copy of a slice from a DataFrame.\n",
      "Try using .loc[row_indexer,col_indexer] = value instead\n",
      "\n",
      "See the caveats in the documentation: http://pandas.pydata.org/pandas-docs/stable/indexing.html#indexing-view-versus-copy\n",
      "D:\\Programfiles2\\anaconda\\lib\\site-packages\\ipykernel\\__main__.py:61: SettingWithCopyWarning: \n",
      "A value is trying to be set on a copy of a slice from a DataFrame.\n",
      "Try using .loc[row_indexer,col_indexer] = value instead\n",
      "\n",
      "See the caveats in the documentation: http://pandas.pydata.org/pandas-docs/stable/indexing.html#indexing-view-versus-copy\n"
     ]
    },
    {
     "name": "stdout",
     "output_type": "stream",
     "text": [
      "Fold  4 AUC : 0.968236\n",
      "Training until validation scores don't improve for 100 rounds.\n",
      "[100]\ttrain's auc: 0.960922\tvalid's auc: 0.939412\n",
      "[200]\ttrain's auc: 0.975804\tvalid's auc: 0.952772\n",
      "[300]\ttrain's auc: 0.981848\tvalid's auc: 0.955857\n",
      "[400]\ttrain's auc: 0.985972\tvalid's auc: 0.957908\n",
      "[500]\ttrain's auc: 0.988993\tvalid's auc: 0.959396\n",
      "[600]\ttrain's auc: 0.991229\tvalid's auc: 0.960373\n",
      "[700]\ttrain's auc: 0.992889\tvalid's auc: 0.960649\n",
      "[800]\ttrain's auc: 0.994252\tvalid's auc: 0.961126\n",
      "[900]\ttrain's auc: 0.99524\tvalid's auc: 0.961277\n",
      "Early stopping, best iteration is:\n",
      "[848]\ttrain's auc: 0.994751\tvalid's auc: 0.96145\n"
     ]
    },
    {
     "name": "stderr",
     "output_type": "stream",
     "text": [
      "D:\\Programfiles2\\anaconda\\lib\\site-packages\\ipykernel\\__main__.py:60: SettingWithCopyWarning: \n",
      "A value is trying to be set on a copy of a slice from a DataFrame.\n",
      "Try using .loc[row_indexer,col_indexer] = value instead\n",
      "\n",
      "See the caveats in the documentation: http://pandas.pydata.org/pandas-docs/stable/indexing.html#indexing-view-versus-copy\n",
      "D:\\Programfiles2\\anaconda\\lib\\site-packages\\ipykernel\\__main__.py:61: SettingWithCopyWarning: \n",
      "A value is trying to be set on a copy of a slice from a DataFrame.\n",
      "Try using .loc[row_indexer,col_indexer] = value instead\n",
      "\n",
      "See the caveats in the documentation: http://pandas.pydata.org/pandas-docs/stable/indexing.html#indexing-view-versus-copy\n"
     ]
    },
    {
     "name": "stdout",
     "output_type": "stream",
     "text": [
      "Fold  5 AUC : 0.961450\n"
     ]
    },
    {
     "name": "stderr",
     "output_type": "stream",
     "text": [
      "D:\\Programfiles2\\anaconda\\lib\\site-packages\\ipykernel\\__main__.py:70: SettingWithCopyWarning: \n",
      "A value is trying to be set on a copy of a slice from a DataFrame.\n",
      "Try using .loc[row_indexer,col_indexer] = value instead\n",
      "\n",
      "See the caveats in the documentation: http://pandas.pydata.org/pandas-docs/stable/indexing.html#indexing-view-versus-copy\n"
     ]
    },
    {
     "name": "stdout",
     "output_type": "stream",
     "text": [
      "Full AUC score 0.958906\n",
      "(24943, 503) (6236, 503) (31588, 503)\n",
      "Training until validation scores don't improve for 100 rounds.\n",
      "[100]\ttrain's auc: 0.974866\tvalid's auc: 0.963252\n",
      "[200]\ttrain's auc: 0.985359\tvalid's auc: 0.969769\n",
      "[300]\ttrain's auc: 0.990742\tvalid's auc: 0.971068\n",
      "[400]\ttrain's auc: 0.994071\tvalid's auc: 0.97188\n",
      "[500]\ttrain's auc: 0.996028\tvalid's auc: 0.972352\n",
      "[600]\ttrain's auc: 0.997281\tvalid's auc: 0.972907\n",
      "[700]\ttrain's auc: 0.998011\tvalid's auc: 0.973261\n",
      "[800]\ttrain's auc: 0.998515\tvalid's auc: 0.973549\n",
      "[900]\ttrain's auc: 0.998843\tvalid's auc: 0.973411\n",
      "Early stopping, best iteration is:\n",
      "[802]\ttrain's auc: 0.998522\tvalid's auc: 0.973598\n"
     ]
    },
    {
     "name": "stderr",
     "output_type": "stream",
     "text": [
      "D:\\Programfiles2\\anaconda\\lib\\site-packages\\ipykernel\\__main__.py:60: SettingWithCopyWarning: \n",
      "A value is trying to be set on a copy of a slice from a DataFrame.\n",
      "Try using .loc[row_indexer,col_indexer] = value instead\n",
      "\n",
      "See the caveats in the documentation: http://pandas.pydata.org/pandas-docs/stable/indexing.html#indexing-view-versus-copy\n",
      "D:\\Programfiles2\\anaconda\\lib\\site-packages\\ipykernel\\__main__.py:61: SettingWithCopyWarning: \n",
      "A value is trying to be set on a copy of a slice from a DataFrame.\n",
      "Try using .loc[row_indexer,col_indexer] = value instead\n",
      "\n",
      "See the caveats in the documentation: http://pandas.pydata.org/pandas-docs/stable/indexing.html#indexing-view-versus-copy\n"
     ]
    },
    {
     "name": "stdout",
     "output_type": "stream",
     "text": [
      "Fold  1 AUC : 0.973598\n",
      "Training until validation scores don't improve for 100 rounds.\n",
      "[100]\ttrain's auc: 0.976595\tvalid's auc: 0.953384\n",
      "[200]\ttrain's auc: 0.986671\tvalid's auc: 0.959368\n",
      "[300]\ttrain's auc: 0.991472\tvalid's auc: 0.961406\n",
      "[400]\ttrain's auc: 0.994361\tvalid's auc: 0.962858\n",
      "[500]\ttrain's auc: 0.99626\tvalid's auc: 0.963553\n",
      "Early stopping, best iteration is:\n",
      "[482]\ttrain's auc: 0.995996\tvalid's auc: 0.963817\n"
     ]
    },
    {
     "name": "stderr",
     "output_type": "stream",
     "text": [
      "D:\\Programfiles2\\anaconda\\lib\\site-packages\\ipykernel\\__main__.py:60: SettingWithCopyWarning: \n",
      "A value is trying to be set on a copy of a slice from a DataFrame.\n",
      "Try using .loc[row_indexer,col_indexer] = value instead\n",
      "\n",
      "See the caveats in the documentation: http://pandas.pydata.org/pandas-docs/stable/indexing.html#indexing-view-versus-copy\n",
      "D:\\Programfiles2\\anaconda\\lib\\site-packages\\ipykernel\\__main__.py:61: SettingWithCopyWarning: \n",
      "A value is trying to be set on a copy of a slice from a DataFrame.\n",
      "Try using .loc[row_indexer,col_indexer] = value instead\n",
      "\n",
      "See the caveats in the documentation: http://pandas.pydata.org/pandas-docs/stable/indexing.html#indexing-view-versus-copy\n"
     ]
    },
    {
     "name": "stdout",
     "output_type": "stream",
     "text": [
      "Fold  2 AUC : 0.963817\n",
      "Training until validation scores don't improve for 100 rounds.\n",
      "[100]\ttrain's auc: 0.976039\tvalid's auc: 0.95382\n",
      "[200]\ttrain's auc: 0.986534\tvalid's auc: 0.960126\n",
      "[300]\ttrain's auc: 0.991601\tvalid's auc: 0.962432\n",
      "[400]\ttrain's auc: 0.99457\tvalid's auc: 0.963027\n",
      "[500]\ttrain's auc: 0.996443\tvalid's auc: 0.963676\n",
      "[600]\ttrain's auc: 0.997522\tvalid's auc: 0.963969\n",
      "[700]\ttrain's auc: 0.998207\tvalid's auc: 0.963741\n",
      "Early stopping, best iteration is:\n",
      "[601]\ttrain's auc: 0.997535\tvalid's auc: 0.964003\n"
     ]
    },
    {
     "name": "stderr",
     "output_type": "stream",
     "text": [
      "D:\\Programfiles2\\anaconda\\lib\\site-packages\\ipykernel\\__main__.py:60: SettingWithCopyWarning: \n",
      "A value is trying to be set on a copy of a slice from a DataFrame.\n",
      "Try using .loc[row_indexer,col_indexer] = value instead\n",
      "\n",
      "See the caveats in the documentation: http://pandas.pydata.org/pandas-docs/stable/indexing.html#indexing-view-versus-copy\n",
      "D:\\Programfiles2\\anaconda\\lib\\site-packages\\ipykernel\\__main__.py:61: SettingWithCopyWarning: \n",
      "A value is trying to be set on a copy of a slice from a DataFrame.\n",
      "Try using .loc[row_indexer,col_indexer] = value instead\n",
      "\n",
      "See the caveats in the documentation: http://pandas.pydata.org/pandas-docs/stable/indexing.html#indexing-view-versus-copy\n"
     ]
    },
    {
     "name": "stdout",
     "output_type": "stream",
     "text": [
      "Fold  3 AUC : 0.964003\n",
      "Training until validation scores don't improve for 100 rounds.\n",
      "[100]\ttrain's auc: 0.93744\tvalid's auc: 0.927273\n",
      "Early stopping, best iteration is:\n",
      "[51]\ttrain's auc: 0.964347\tvalid's auc: 0.948562\n"
     ]
    },
    {
     "name": "stderr",
     "output_type": "stream",
     "text": [
      "D:\\Programfiles2\\anaconda\\lib\\site-packages\\ipykernel\\__main__.py:60: SettingWithCopyWarning: \n",
      "A value is trying to be set on a copy of a slice from a DataFrame.\n",
      "Try using .loc[row_indexer,col_indexer] = value instead\n",
      "\n",
      "See the caveats in the documentation: http://pandas.pydata.org/pandas-docs/stable/indexing.html#indexing-view-versus-copy\n",
      "D:\\Programfiles2\\anaconda\\lib\\site-packages\\ipykernel\\__main__.py:61: SettingWithCopyWarning: \n",
      "A value is trying to be set on a copy of a slice from a DataFrame.\n",
      "Try using .loc[row_indexer,col_indexer] = value instead\n",
      "\n",
      "See the caveats in the documentation: http://pandas.pydata.org/pandas-docs/stable/indexing.html#indexing-view-versus-copy\n"
     ]
    },
    {
     "name": "stdout",
     "output_type": "stream",
     "text": [
      "Fold  4 AUC : 0.948562\n",
      "Training until validation scores don't improve for 100 rounds.\n",
      "[100]\ttrain's auc: 0.975714\tvalid's auc: 0.96314\n",
      "[200]\ttrain's auc: 0.986263\tvalid's auc: 0.967897\n",
      "[300]\ttrain's auc: 0.991365\tvalid's auc: 0.969677\n",
      "[400]\ttrain's auc: 0.994401\tvalid's auc: 0.970094\n",
      "Early stopping, best iteration is:\n",
      "[398]\ttrain's auc: 0.994364\tvalid's auc: 0.970115\n"
     ]
    },
    {
     "name": "stderr",
     "output_type": "stream",
     "text": [
      "D:\\Programfiles2\\anaconda\\lib\\site-packages\\ipykernel\\__main__.py:60: SettingWithCopyWarning: \n",
      "A value is trying to be set on a copy of a slice from a DataFrame.\n",
      "Try using .loc[row_indexer,col_indexer] = value instead\n",
      "\n",
      "See the caveats in the documentation: http://pandas.pydata.org/pandas-docs/stable/indexing.html#indexing-view-versus-copy\n",
      "D:\\Programfiles2\\anaconda\\lib\\site-packages\\ipykernel\\__main__.py:61: SettingWithCopyWarning: \n",
      "A value is trying to be set on a copy of a slice from a DataFrame.\n",
      "Try using .loc[row_indexer,col_indexer] = value instead\n",
      "\n",
      "See the caveats in the documentation: http://pandas.pydata.org/pandas-docs/stable/indexing.html#indexing-view-versus-copy\n"
     ]
    },
    {
     "name": "stdout",
     "output_type": "stream",
     "text": [
      "Fold  5 AUC : 0.970115\n"
     ]
    },
    {
     "name": "stderr",
     "output_type": "stream",
     "text": [
      "D:\\Programfiles2\\anaconda\\lib\\site-packages\\ipykernel\\__main__.py:70: SettingWithCopyWarning: \n",
      "A value is trying to be set on a copy of a slice from a DataFrame.\n",
      "Try using .loc[row_indexer,col_indexer] = value instead\n",
      "\n",
      "See the caveats in the documentation: http://pandas.pydata.org/pandas-docs/stable/indexing.html#indexing-view-versus-copy\n"
     ]
    },
    {
     "name": "stdout",
     "output_type": "stream",
     "text": [
      "Full AUC score 0.962154\n",
      "(24943, 503) (6236, 503) (31588, 503)\n",
      "Training until validation scores don't improve for 100 rounds.\n",
      "[100]\ttrain's auc: 0.931659\tvalid's auc: 0.920408\n",
      "Early stopping, best iteration is:\n",
      "[57]\ttrain's auc: 0.961349\tvalid's auc: 0.94665\n"
     ]
    },
    {
     "name": "stderr",
     "output_type": "stream",
     "text": [
      "D:\\Programfiles2\\anaconda\\lib\\site-packages\\ipykernel\\__main__.py:60: SettingWithCopyWarning: \n",
      "A value is trying to be set on a copy of a slice from a DataFrame.\n",
      "Try using .loc[row_indexer,col_indexer] = value instead\n",
      "\n",
      "See the caveats in the documentation: http://pandas.pydata.org/pandas-docs/stable/indexing.html#indexing-view-versus-copy\n",
      "D:\\Programfiles2\\anaconda\\lib\\site-packages\\ipykernel\\__main__.py:61: SettingWithCopyWarning: \n",
      "A value is trying to be set on a copy of a slice from a DataFrame.\n",
      "Try using .loc[row_indexer,col_indexer] = value instead\n",
      "\n",
      "See the caveats in the documentation: http://pandas.pydata.org/pandas-docs/stable/indexing.html#indexing-view-versus-copy\n"
     ]
    },
    {
     "name": "stdout",
     "output_type": "stream",
     "text": [
      "Fold  1 AUC : 0.946650\n",
      "Training until validation scores don't improve for 100 rounds.\n",
      "[100]\ttrain's auc: 0.970911\tvalid's auc: 0.956765\n",
      "[200]\ttrain's auc: 0.98224\tvalid's auc: 0.962678\n",
      "[300]\ttrain's auc: 0.988197\tvalid's auc: 0.96588\n",
      "[400]\ttrain's auc: 0.991925\tvalid's auc: 0.966432\n",
      "[500]\ttrain's auc: 0.994317\tvalid's auc: 0.96665\n",
      "[600]\ttrain's auc: 0.995987\tvalid's auc: 0.966953\n",
      "[700]\ttrain's auc: 0.997104\tvalid's auc: 0.967045\n",
      "Early stopping, best iteration is:\n",
      "[663]\ttrain's auc: 0.996751\tvalid's auc: 0.967249\n"
     ]
    },
    {
     "name": "stderr",
     "output_type": "stream",
     "text": [
      "D:\\Programfiles2\\anaconda\\lib\\site-packages\\ipykernel\\__main__.py:60: SettingWithCopyWarning: \n",
      "A value is trying to be set on a copy of a slice from a DataFrame.\n",
      "Try using .loc[row_indexer,col_indexer] = value instead\n",
      "\n",
      "See the caveats in the documentation: http://pandas.pydata.org/pandas-docs/stable/indexing.html#indexing-view-versus-copy\n",
      "D:\\Programfiles2\\anaconda\\lib\\site-packages\\ipykernel\\__main__.py:61: SettingWithCopyWarning: \n",
      "A value is trying to be set on a copy of a slice from a DataFrame.\n",
      "Try using .loc[row_indexer,col_indexer] = value instead\n",
      "\n",
      "See the caveats in the documentation: http://pandas.pydata.org/pandas-docs/stable/indexing.html#indexing-view-versus-copy\n"
     ]
    },
    {
     "name": "stdout",
     "output_type": "stream",
     "text": [
      "Fold  2 AUC : 0.967249\n",
      "Training until validation scores don't improve for 100 rounds.\n",
      "[100]\ttrain's auc: 0.971133\tvalid's auc: 0.958672\n",
      "[200]\ttrain's auc: 0.982442\tvalid's auc: 0.964714\n",
      "[300]\ttrain's auc: 0.98802\tvalid's auc: 0.966535\n",
      "[400]\ttrain's auc: 0.991754\tvalid's auc: 0.967496\n",
      "[500]\ttrain's auc: 0.994309\tvalid's auc: 0.968097\n",
      "[600]\ttrain's auc: 0.996014\tvalid's auc: 0.96854\n",
      "[700]\ttrain's auc: 0.997097\tvalid's auc: 0.968336\n",
      "Early stopping, best iteration is:\n",
      "[616]\ttrain's auc: 0.996199\tvalid's auc: 0.96861\n"
     ]
    },
    {
     "name": "stderr",
     "output_type": "stream",
     "text": [
      "D:\\Programfiles2\\anaconda\\lib\\site-packages\\ipykernel\\__main__.py:60: SettingWithCopyWarning: \n",
      "A value is trying to be set on a copy of a slice from a DataFrame.\n",
      "Try using .loc[row_indexer,col_indexer] = value instead\n",
      "\n",
      "See the caveats in the documentation: http://pandas.pydata.org/pandas-docs/stable/indexing.html#indexing-view-versus-copy\n",
      "D:\\Programfiles2\\anaconda\\lib\\site-packages\\ipykernel\\__main__.py:61: SettingWithCopyWarning: \n",
      "A value is trying to be set on a copy of a slice from a DataFrame.\n",
      "Try using .loc[row_indexer,col_indexer] = value instead\n",
      "\n",
      "See the caveats in the documentation: http://pandas.pydata.org/pandas-docs/stable/indexing.html#indexing-view-versus-copy\n"
     ]
    },
    {
     "name": "stdout",
     "output_type": "stream",
     "text": [
      "Fold  3 AUC : 0.968610\n",
      "Training until validation scores don't improve for 100 rounds.\n",
      "[100]\ttrain's auc: 0.970697\tvalid's auc: 0.946686\n",
      "[200]\ttrain's auc: 0.982651\tvalid's auc: 0.957715\n",
      "[300]\ttrain's auc: 0.988441\tvalid's auc: 0.960639\n",
      "[400]\ttrain's auc: 0.99215\tvalid's auc: 0.961698\n",
      "[500]\ttrain's auc: 0.99454\tvalid's auc: 0.961595\n",
      "Early stopping, best iteration is:\n",
      "[403]\ttrain's auc: 0.992255\tvalid's auc: 0.961784\n"
     ]
    },
    {
     "name": "stderr",
     "output_type": "stream",
     "text": [
      "D:\\Programfiles2\\anaconda\\lib\\site-packages\\ipykernel\\__main__.py:60: SettingWithCopyWarning: \n",
      "A value is trying to be set on a copy of a slice from a DataFrame.\n",
      "Try using .loc[row_indexer,col_indexer] = value instead\n",
      "\n",
      "See the caveats in the documentation: http://pandas.pydata.org/pandas-docs/stable/indexing.html#indexing-view-versus-copy\n",
      "D:\\Programfiles2\\anaconda\\lib\\site-packages\\ipykernel\\__main__.py:61: SettingWithCopyWarning: \n",
      "A value is trying to be set on a copy of a slice from a DataFrame.\n",
      "Try using .loc[row_indexer,col_indexer] = value instead\n",
      "\n",
      "See the caveats in the documentation: http://pandas.pydata.org/pandas-docs/stable/indexing.html#indexing-view-versus-copy\n"
     ]
    },
    {
     "name": "stdout",
     "output_type": "stream",
     "text": [
      "Fold  4 AUC : 0.961784\n",
      "Training until validation scores don't improve for 100 rounds.\n",
      "[100]\ttrain's auc: 0.97012\tvalid's auc: 0.953434\n",
      "[200]\ttrain's auc: 0.981706\tvalid's auc: 0.961386\n",
      "[300]\ttrain's auc: 0.987903\tvalid's auc: 0.964484\n",
      "[400]\ttrain's auc: 0.991712\tvalid's auc: 0.965493\n",
      "[500]\ttrain's auc: 0.994207\tvalid's auc: 0.965925\n",
      "[600]\ttrain's auc: 0.995906\tvalid's auc: 0.966044\n",
      "[700]\ttrain's auc: 0.997024\tvalid's auc: 0.966875\n",
      "[800]\ttrain's auc: 0.997834\tvalid's auc: 0.966853\n",
      "Early stopping, best iteration is:\n",
      "[770]\ttrain's auc: 0.997617\tvalid's auc: 0.967065\n"
     ]
    },
    {
     "name": "stderr",
     "output_type": "stream",
     "text": [
      "D:\\Programfiles2\\anaconda\\lib\\site-packages\\ipykernel\\__main__.py:60: SettingWithCopyWarning: \n",
      "A value is trying to be set on a copy of a slice from a DataFrame.\n",
      "Try using .loc[row_indexer,col_indexer] = value instead\n",
      "\n",
      "See the caveats in the documentation: http://pandas.pydata.org/pandas-docs/stable/indexing.html#indexing-view-versus-copy\n",
      "D:\\Programfiles2\\anaconda\\lib\\site-packages\\ipykernel\\__main__.py:61: SettingWithCopyWarning: \n",
      "A value is trying to be set on a copy of a slice from a DataFrame.\n",
      "Try using .loc[row_indexer,col_indexer] = value instead\n",
      "\n",
      "See the caveats in the documentation: http://pandas.pydata.org/pandas-docs/stable/indexing.html#indexing-view-versus-copy\n"
     ]
    },
    {
     "name": "stdout",
     "output_type": "stream",
     "text": [
      "Fold  5 AUC : 0.967065\n"
     ]
    },
    {
     "name": "stderr",
     "output_type": "stream",
     "text": [
      "D:\\Programfiles2\\anaconda\\lib\\site-packages\\ipykernel\\__main__.py:70: SettingWithCopyWarning: \n",
      "A value is trying to be set on a copy of a slice from a DataFrame.\n",
      "Try using .loc[row_indexer,col_indexer] = value instead\n",
      "\n",
      "See the caveats in the documentation: http://pandas.pydata.org/pandas-docs/stable/indexing.html#indexing-view-versus-copy\n"
     ]
    },
    {
     "name": "stdout",
     "output_type": "stream",
     "text": [
      "Full AUC score 0.959791\n",
      "(24943, 503) (6236, 503) (31588, 503)\n",
      "Training until validation scores don't improve for 100 rounds.\n",
      "[100]\ttrain's auc: 0.962197\tvalid's auc: 0.95116\n",
      "[200]\ttrain's auc: 0.973933\tvalid's auc: 0.963361\n",
      "[300]\ttrain's auc: 0.978652\tvalid's auc: 0.9667\n",
      "[400]\ttrain's auc: 0.982237\tvalid's auc: 0.968837\n",
      "[500]\ttrain's auc: 0.984833\tvalid's auc: 0.970016\n",
      "[600]\ttrain's auc: 0.986716\tvalid's auc: 0.970238\n",
      "[700]\ttrain's auc: 0.987881\tvalid's auc: 0.970622\n",
      "[800]\ttrain's auc: 0.988625\tvalid's auc: 0.970825\n",
      "[900]\ttrain's auc: 0.989076\tvalid's auc: 0.970893\n",
      "Early stopping, best iteration is:\n",
      "[857]\ttrain's auc: 0.988937\tvalid's auc: 0.970946\n"
     ]
    },
    {
     "name": "stderr",
     "output_type": "stream",
     "text": [
      "D:\\Programfiles2\\anaconda\\lib\\site-packages\\ipykernel\\__main__.py:60: SettingWithCopyWarning: \n",
      "A value is trying to be set on a copy of a slice from a DataFrame.\n",
      "Try using .loc[row_indexer,col_indexer] = value instead\n",
      "\n",
      "See the caveats in the documentation: http://pandas.pydata.org/pandas-docs/stable/indexing.html#indexing-view-versus-copy\n",
      "D:\\Programfiles2\\anaconda\\lib\\site-packages\\ipykernel\\__main__.py:61: SettingWithCopyWarning: \n",
      "A value is trying to be set on a copy of a slice from a DataFrame.\n",
      "Try using .loc[row_indexer,col_indexer] = value instead\n",
      "\n",
      "See the caveats in the documentation: http://pandas.pydata.org/pandas-docs/stable/indexing.html#indexing-view-versus-copy\n"
     ]
    },
    {
     "name": "stdout",
     "output_type": "stream",
     "text": [
      "Fold  1 AUC : 0.970946\n",
      "Training until validation scores don't improve for 100 rounds.\n",
      "[100]\ttrain's auc: 0.962506\tvalid's auc: 0.938744\n",
      "[200]\ttrain's auc: 0.975163\tvalid's auc: 0.950469\n",
      "[300]\ttrain's auc: 0.979891\tvalid's auc: 0.954354\n",
      "[400]\ttrain's auc: 0.982946\tvalid's auc: 0.955881\n",
      "[500]\ttrain's auc: 0.985445\tvalid's auc: 0.957027\n",
      "[600]\ttrain's auc: 0.9871\tvalid's auc: 0.957352\n",
      "[700]\ttrain's auc: 0.988101\tvalid's auc: 0.957772\n",
      "[800]\ttrain's auc: 0.988847\tvalid's auc: 0.958229\n",
      "Early stopping, best iteration is:\n",
      "[798]\ttrain's auc: 0.988848\tvalid's auc: 0.958231\n"
     ]
    },
    {
     "name": "stderr",
     "output_type": "stream",
     "text": [
      "D:\\Programfiles2\\anaconda\\lib\\site-packages\\ipykernel\\__main__.py:60: SettingWithCopyWarning: \n",
      "A value is trying to be set on a copy of a slice from a DataFrame.\n",
      "Try using .loc[row_indexer,col_indexer] = value instead\n",
      "\n",
      "See the caveats in the documentation: http://pandas.pydata.org/pandas-docs/stable/indexing.html#indexing-view-versus-copy\n",
      "D:\\Programfiles2\\anaconda\\lib\\site-packages\\ipykernel\\__main__.py:61: SettingWithCopyWarning: \n",
      "A value is trying to be set on a copy of a slice from a DataFrame.\n",
      "Try using .loc[row_indexer,col_indexer] = value instead\n",
      "\n",
      "See the caveats in the documentation: http://pandas.pydata.org/pandas-docs/stable/indexing.html#indexing-view-versus-copy\n"
     ]
    },
    {
     "name": "stdout",
     "output_type": "stream",
     "text": [
      "Fold  2 AUC : 0.958231\n",
      "Training until validation scores don't improve for 100 rounds.\n",
      "[100]\ttrain's auc: 0.921714\tvalid's auc: 0.910804\n",
      "Early stopping, best iteration is:\n",
      "[63]\ttrain's auc: 0.950813\tvalid's auc: 0.936091\n"
     ]
    },
    {
     "name": "stderr",
     "output_type": "stream",
     "text": [
      "D:\\Programfiles2\\anaconda\\lib\\site-packages\\ipykernel\\__main__.py:60: SettingWithCopyWarning: \n",
      "A value is trying to be set on a copy of a slice from a DataFrame.\n",
      "Try using .loc[row_indexer,col_indexer] = value instead\n",
      "\n",
      "See the caveats in the documentation: http://pandas.pydata.org/pandas-docs/stable/indexing.html#indexing-view-versus-copy\n",
      "D:\\Programfiles2\\anaconda\\lib\\site-packages\\ipykernel\\__main__.py:61: SettingWithCopyWarning: \n",
      "A value is trying to be set on a copy of a slice from a DataFrame.\n",
      "Try using .loc[row_indexer,col_indexer] = value instead\n",
      "\n",
      "See the caveats in the documentation: http://pandas.pydata.org/pandas-docs/stable/indexing.html#indexing-view-versus-copy\n"
     ]
    },
    {
     "name": "stdout",
     "output_type": "stream",
     "text": [
      "Fold  3 AUC : 0.936091\n",
      "Training until validation scores don't improve for 100 rounds.\n",
      "[100]\ttrain's auc: 0.962327\tvalid's auc: 0.952213\n",
      "[200]\ttrain's auc: 0.974666\tvalid's auc: 0.961958\n",
      "[300]\ttrain's auc: 0.978973\tvalid's auc: 0.964831\n",
      "[400]\ttrain's auc: 0.982189\tvalid's auc: 0.965805\n",
      "[500]\ttrain's auc: 0.984769\tvalid's auc: 0.966624\n",
      "[600]\ttrain's auc: 0.986621\tvalid's auc: 0.966669\n",
      "Early stopping, best iteration is:\n",
      "[586]\ttrain's auc: 0.98647\tvalid's auc: 0.966801\n"
     ]
    },
    {
     "name": "stderr",
     "output_type": "stream",
     "text": [
      "D:\\Programfiles2\\anaconda\\lib\\site-packages\\ipykernel\\__main__.py:60: SettingWithCopyWarning: \n",
      "A value is trying to be set on a copy of a slice from a DataFrame.\n",
      "Try using .loc[row_indexer,col_indexer] = value instead\n",
      "\n",
      "See the caveats in the documentation: http://pandas.pydata.org/pandas-docs/stable/indexing.html#indexing-view-versus-copy\n",
      "D:\\Programfiles2\\anaconda\\lib\\site-packages\\ipykernel\\__main__.py:61: SettingWithCopyWarning: \n",
      "A value is trying to be set on a copy of a slice from a DataFrame.\n",
      "Try using .loc[row_indexer,col_indexer] = value instead\n",
      "\n",
      "See the caveats in the documentation: http://pandas.pydata.org/pandas-docs/stable/indexing.html#indexing-view-versus-copy\n"
     ]
    },
    {
     "name": "stdout",
     "output_type": "stream",
     "text": [
      "Fold  4 AUC : 0.966801\n",
      "Training until validation scores don't improve for 100 rounds.\n",
      "[100]\ttrain's auc: 0.963004\tvalid's auc: 0.946655\n",
      "[200]\ttrain's auc: 0.974635\tvalid's auc: 0.953748\n",
      "[300]\ttrain's auc: 0.97895\tvalid's auc: 0.95615\n",
      "[400]\ttrain's auc: 0.982288\tvalid's auc: 0.958339\n",
      "[500]\ttrain's auc: 0.984663\tvalid's auc: 0.958783\n",
      "[600]\ttrain's auc: 0.986354\tvalid's auc: 0.959673\n",
      "[700]\ttrain's auc: 0.987542\tvalid's auc: 0.960332\n",
      "[800]\ttrain's auc: 0.98819\tvalid's auc: 0.960546\n",
      "[900]\ttrain's auc: 0.988527\tvalid's auc: 0.960582\n",
      "Early stopping, best iteration is:\n",
      "[842]\ttrain's auc: 0.988451\tvalid's auc: 0.960689\n"
     ]
    },
    {
     "name": "stderr",
     "output_type": "stream",
     "text": [
      "D:\\Programfiles2\\anaconda\\lib\\site-packages\\ipykernel\\__main__.py:60: SettingWithCopyWarning: \n",
      "A value is trying to be set on a copy of a slice from a DataFrame.\n",
      "Try using .loc[row_indexer,col_indexer] = value instead\n",
      "\n",
      "See the caveats in the documentation: http://pandas.pydata.org/pandas-docs/stable/indexing.html#indexing-view-versus-copy\n",
      "D:\\Programfiles2\\anaconda\\lib\\site-packages\\ipykernel\\__main__.py:61: SettingWithCopyWarning: \n",
      "A value is trying to be set on a copy of a slice from a DataFrame.\n",
      "Try using .loc[row_indexer,col_indexer] = value instead\n",
      "\n",
      "See the caveats in the documentation: http://pandas.pydata.org/pandas-docs/stable/indexing.html#indexing-view-versus-copy\n"
     ]
    },
    {
     "name": "stdout",
     "output_type": "stream",
     "text": [
      "Fold  5 AUC : 0.960676\n"
     ]
    },
    {
     "name": "stderr",
     "output_type": "stream",
     "text": [
      "D:\\Programfiles2\\anaconda\\lib\\site-packages\\ipykernel\\__main__.py:70: SettingWithCopyWarning: \n",
      "A value is trying to be set on a copy of a slice from a DataFrame.\n",
      "Try using .loc[row_indexer,col_indexer] = value instead\n",
      "\n",
      "See the caveats in the documentation: http://pandas.pydata.org/pandas-docs/stable/indexing.html#indexing-view-versus-copy\n"
     ]
    },
    {
     "name": "stdout",
     "output_type": "stream",
     "text": [
      "Full AUC score 0.956991\n",
      "(24943, 503) (6236, 503) (31588, 503)\n",
      "Training until validation scores don't improve for 100 rounds.\n",
      "[100]\ttrain's auc: 0.972229\tvalid's auc: 0.951561\n",
      "[200]\ttrain's auc: 0.983446\tvalid's auc: 0.958538\n",
      "[300]\ttrain's auc: 0.98896\tvalid's auc: 0.960179\n",
      "[400]\ttrain's auc: 0.992493\tvalid's auc: 0.962144\n",
      "[500]\ttrain's auc: 0.994827\tvalid's auc: 0.962766\n",
      "[600]\ttrain's auc: 0.996403\tvalid's auc: 0.963288\n",
      "[700]\ttrain's auc: 0.997404\tvalid's auc: 0.963495\n",
      "[800]\ttrain's auc: 0.998111\tvalid's auc: 0.963833\n",
      "Early stopping, best iteration is:\n",
      "[772]\ttrain's auc: 0.997952\tvalid's auc: 0.963946\n"
     ]
    },
    {
     "name": "stderr",
     "output_type": "stream",
     "text": [
      "D:\\Programfiles2\\anaconda\\lib\\site-packages\\ipykernel\\__main__.py:60: SettingWithCopyWarning: \n",
      "A value is trying to be set on a copy of a slice from a DataFrame.\n",
      "Try using .loc[row_indexer,col_indexer] = value instead\n",
      "\n",
      "See the caveats in the documentation: http://pandas.pydata.org/pandas-docs/stable/indexing.html#indexing-view-versus-copy\n",
      "D:\\Programfiles2\\anaconda\\lib\\site-packages\\ipykernel\\__main__.py:61: SettingWithCopyWarning: \n",
      "A value is trying to be set on a copy of a slice from a DataFrame.\n",
      "Try using .loc[row_indexer,col_indexer] = value instead\n",
      "\n",
      "See the caveats in the documentation: http://pandas.pydata.org/pandas-docs/stable/indexing.html#indexing-view-versus-copy\n"
     ]
    },
    {
     "name": "stdout",
     "output_type": "stream",
     "text": [
      "Fold  1 AUC : 0.963946\n",
      "Training until validation scores don't improve for 100 rounds.\n",
      "[100]\ttrain's auc: 0.971148\tvalid's auc: 0.9544\n",
      "[200]\ttrain's auc: 0.982465\tvalid's auc: 0.96234\n",
      "[300]\ttrain's auc: 0.988608\tvalid's auc: 0.965513\n",
      "[400]\ttrain's auc: 0.992387\tvalid's auc: 0.967032\n",
      "[500]\ttrain's auc: 0.994786\tvalid's auc: 0.968353\n",
      "[600]\ttrain's auc: 0.996401\tvalid's auc: 0.968816\n",
      "[700]\ttrain's auc: 0.997438\tvalid's auc: 0.969562\n",
      "[800]\ttrain's auc: 0.998149\tvalid's auc: 0.969704\n",
      "Early stopping, best iteration is:\n",
      "[747]\ttrain's auc: 0.997823\tvalid's auc: 0.969824\n"
     ]
    },
    {
     "name": "stderr",
     "output_type": "stream",
     "text": [
      "D:\\Programfiles2\\anaconda\\lib\\site-packages\\ipykernel\\__main__.py:60: SettingWithCopyWarning: \n",
      "A value is trying to be set on a copy of a slice from a DataFrame.\n",
      "Try using .loc[row_indexer,col_indexer] = value instead\n",
      "\n",
      "See the caveats in the documentation: http://pandas.pydata.org/pandas-docs/stable/indexing.html#indexing-view-versus-copy\n",
      "D:\\Programfiles2\\anaconda\\lib\\site-packages\\ipykernel\\__main__.py:61: SettingWithCopyWarning: \n",
      "A value is trying to be set on a copy of a slice from a DataFrame.\n",
      "Try using .loc[row_indexer,col_indexer] = value instead\n",
      "\n",
      "See the caveats in the documentation: http://pandas.pydata.org/pandas-docs/stable/indexing.html#indexing-view-versus-copy\n"
     ]
    },
    {
     "name": "stdout",
     "output_type": "stream",
     "text": [
      "Fold  2 AUC : 0.969824\n",
      "Training until validation scores don't improve for 100 rounds.\n",
      "[100]\ttrain's auc: 0.970703\tvalid's auc: 0.961575\n",
      "[200]\ttrain's auc: 0.982305\tvalid's auc: 0.969304\n",
      "[300]\ttrain's auc: 0.988236\tvalid's auc: 0.97169\n",
      "[400]\ttrain's auc: 0.991986\tvalid's auc: 0.972775\n",
      "[500]\ttrain's auc: 0.994471\tvalid's auc: 0.973063\n",
      "[600]\ttrain's auc: 0.99613\tvalid's auc: 0.973512\n",
      "[700]\ttrain's auc: 0.997232\tvalid's auc: 0.973472\n",
      "[800]\ttrain's auc: 0.997994\tvalid's auc: 0.973669\n",
      "[900]\ttrain's auc: 0.998503\tvalid's auc: 0.974005\n",
      "[1000]\ttrain's auc: 0.998863\tvalid's auc: 0.974117\n",
      "Early stopping, best iteration is:\n",
      "[953]\ttrain's auc: 0.998704\tvalid's auc: 0.974231\n"
     ]
    },
    {
     "name": "stderr",
     "output_type": "stream",
     "text": [
      "D:\\Programfiles2\\anaconda\\lib\\site-packages\\ipykernel\\__main__.py:60: SettingWithCopyWarning: \n",
      "A value is trying to be set on a copy of a slice from a DataFrame.\n",
      "Try using .loc[row_indexer,col_indexer] = value instead\n",
      "\n",
      "See the caveats in the documentation: http://pandas.pydata.org/pandas-docs/stable/indexing.html#indexing-view-versus-copy\n",
      "D:\\Programfiles2\\anaconda\\lib\\site-packages\\ipykernel\\__main__.py:61: SettingWithCopyWarning: \n",
      "A value is trying to be set on a copy of a slice from a DataFrame.\n",
      "Try using .loc[row_indexer,col_indexer] = value instead\n",
      "\n",
      "See the caveats in the documentation: http://pandas.pydata.org/pandas-docs/stable/indexing.html#indexing-view-versus-copy\n"
     ]
    },
    {
     "name": "stdout",
     "output_type": "stream",
     "text": [
      "Fold  3 AUC : 0.974231\n",
      "Training until validation scores don't improve for 100 rounds.\n",
      "[100]\ttrain's auc: 0.93395\tvalid's auc: 0.911567\n",
      "Early stopping, best iteration is:\n",
      "[59]\ttrain's auc: 0.961471\tvalid's auc: 0.93964\n"
     ]
    },
    {
     "name": "stderr",
     "output_type": "stream",
     "text": [
      "D:\\Programfiles2\\anaconda\\lib\\site-packages\\ipykernel\\__main__.py:60: SettingWithCopyWarning: \n",
      "A value is trying to be set on a copy of a slice from a DataFrame.\n",
      "Try using .loc[row_indexer,col_indexer] = value instead\n",
      "\n",
      "See the caveats in the documentation: http://pandas.pydata.org/pandas-docs/stable/indexing.html#indexing-view-versus-copy\n",
      "D:\\Programfiles2\\anaconda\\lib\\site-packages\\ipykernel\\__main__.py:61: SettingWithCopyWarning: \n",
      "A value is trying to be set on a copy of a slice from a DataFrame.\n",
      "Try using .loc[row_indexer,col_indexer] = value instead\n",
      "\n",
      "See the caveats in the documentation: http://pandas.pydata.org/pandas-docs/stable/indexing.html#indexing-view-versus-copy\n"
     ]
    },
    {
     "name": "stdout",
     "output_type": "stream",
     "text": [
      "Fold  4 AUC : 0.939640\n",
      "Training until validation scores don't improve for 100 rounds.\n",
      "[100]\ttrain's auc: 0.97059\tvalid's auc: 0.95459\n",
      "[200]\ttrain's auc: 0.982329\tvalid's auc: 0.962098\n",
      "[300]\ttrain's auc: 0.988334\tvalid's auc: 0.965129\n",
      "[400]\ttrain's auc: 0.992121\tvalid's auc: 0.966648\n",
      "[500]\ttrain's auc: 0.994615\tvalid's auc: 0.967335\n",
      "[600]\ttrain's auc: 0.996241\tvalid's auc: 0.967284\n",
      "Early stopping, best iteration is:\n",
      "[522]\ttrain's auc: 0.995054\tvalid's auc: 0.967516\n"
     ]
    },
    {
     "name": "stderr",
     "output_type": "stream",
     "text": [
      "D:\\Programfiles2\\anaconda\\lib\\site-packages\\ipykernel\\__main__.py:60: SettingWithCopyWarning: \n",
      "A value is trying to be set on a copy of a slice from a DataFrame.\n",
      "Try using .loc[row_indexer,col_indexer] = value instead\n",
      "\n",
      "See the caveats in the documentation: http://pandas.pydata.org/pandas-docs/stable/indexing.html#indexing-view-versus-copy\n",
      "D:\\Programfiles2\\anaconda\\lib\\site-packages\\ipykernel\\__main__.py:61: SettingWithCopyWarning: \n",
      "A value is trying to be set on a copy of a slice from a DataFrame.\n",
      "Try using .loc[row_indexer,col_indexer] = value instead\n",
      "\n",
      "See the caveats in the documentation: http://pandas.pydata.org/pandas-docs/stable/indexing.html#indexing-view-versus-copy\n"
     ]
    },
    {
     "name": "stdout",
     "output_type": "stream",
     "text": [
      "Fold  5 AUC : 0.967516\n"
     ]
    },
    {
     "name": "stderr",
     "output_type": "stream",
     "text": [
      "D:\\Programfiles2\\anaconda\\lib\\site-packages\\ipykernel\\__main__.py:70: SettingWithCopyWarning: \n",
      "A value is trying to be set on a copy of a slice from a DataFrame.\n",
      "Try using .loc[row_indexer,col_indexer] = value instead\n",
      "\n",
      "See the caveats in the documentation: http://pandas.pydata.org/pandas-docs/stable/indexing.html#indexing-view-versus-copy\n"
     ]
    },
    {
     "name": "stdout",
     "output_type": "stream",
     "text": [
      "Full AUC score 0.961908\n",
      "(24943, 503) (6236, 503) (31588, 503)\n",
      "Training until validation scores don't improve for 100 rounds.\n",
      "[100]\ttrain's auc: 0.961772\tvalid's auc: 0.94558\n",
      "[200]\ttrain's auc: 0.976391\tvalid's auc: 0.958583\n",
      "[300]\ttrain's auc: 0.981878\tvalid's auc: 0.961823\n",
      "[400]\ttrain's auc: 0.985952\tvalid's auc: 0.964556\n",
      "[500]\ttrain's auc: 0.988958\tvalid's auc: 0.965849\n",
      "[600]\ttrain's auc: 0.991052\tvalid's auc: 0.96628\n",
      "[700]\ttrain's auc: 0.992756\tvalid's auc: 0.966406\n",
      "[800]\ttrain's auc: 0.994053\tvalid's auc: 0.96685\n",
      "[900]\ttrain's auc: 0.995015\tvalid's auc: 0.966724\n",
      "Early stopping, best iteration is:\n",
      "[808]\ttrain's auc: 0.99414\tvalid's auc: 0.966978\n"
     ]
    },
    {
     "name": "stderr",
     "output_type": "stream",
     "text": [
      "D:\\Programfiles2\\anaconda\\lib\\site-packages\\ipykernel\\__main__.py:60: SettingWithCopyWarning: \n",
      "A value is trying to be set on a copy of a slice from a DataFrame.\n",
      "Try using .loc[row_indexer,col_indexer] = value instead\n",
      "\n",
      "See the caveats in the documentation: http://pandas.pydata.org/pandas-docs/stable/indexing.html#indexing-view-versus-copy\n",
      "D:\\Programfiles2\\anaconda\\lib\\site-packages\\ipykernel\\__main__.py:61: SettingWithCopyWarning: \n",
      "A value is trying to be set on a copy of a slice from a DataFrame.\n",
      "Try using .loc[row_indexer,col_indexer] = value instead\n",
      "\n",
      "See the caveats in the documentation: http://pandas.pydata.org/pandas-docs/stable/indexing.html#indexing-view-versus-copy\n"
     ]
    },
    {
     "name": "stdout",
     "output_type": "stream",
     "text": [
      "Fold  1 AUC : 0.966978\n",
      "Training until validation scores don't improve for 100 rounds.\n",
      "[100]\ttrain's auc: 0.926088\tvalid's auc: 0.919006\n",
      "Early stopping, best iteration is:\n",
      "[61]\ttrain's auc: 0.953991\tvalid's auc: 0.940421\n"
     ]
    },
    {
     "name": "stderr",
     "output_type": "stream",
     "text": [
      "D:\\Programfiles2\\anaconda\\lib\\site-packages\\ipykernel\\__main__.py:60: SettingWithCopyWarning: \n",
      "A value is trying to be set on a copy of a slice from a DataFrame.\n",
      "Try using .loc[row_indexer,col_indexer] = value instead\n",
      "\n",
      "See the caveats in the documentation: http://pandas.pydata.org/pandas-docs/stable/indexing.html#indexing-view-versus-copy\n",
      "D:\\Programfiles2\\anaconda\\lib\\site-packages\\ipykernel\\__main__.py:61: SettingWithCopyWarning: \n",
      "A value is trying to be set on a copy of a slice from a DataFrame.\n",
      "Try using .loc[row_indexer,col_indexer] = value instead\n",
      "\n",
      "See the caveats in the documentation: http://pandas.pydata.org/pandas-docs/stable/indexing.html#indexing-view-versus-copy\n"
     ]
    },
    {
     "name": "stdout",
     "output_type": "stream",
     "text": [
      "Fold  2 AUC : 0.940421\n",
      "Training until validation scores don't improve for 100 rounds.\n",
      "[100]\ttrain's auc: 0.962831\tvalid's auc: 0.944735\n",
      "[200]\ttrain's auc: 0.97658\tvalid's auc: 0.959134\n",
      "[300]\ttrain's auc: 0.98226\tvalid's auc: 0.962793\n",
      "[400]\ttrain's auc: 0.986139\tvalid's auc: 0.965286\n",
      "[500]\ttrain's auc: 0.989001\tvalid's auc: 0.966632\n",
      "[600]\ttrain's auc: 0.990977\tvalid's auc: 0.967385\n",
      "[700]\ttrain's auc: 0.992648\tvalid's auc: 0.967984\n",
      "[800]\ttrain's auc: 0.993892\tvalid's auc: 0.968349\n",
      "[900]\ttrain's auc: 0.994828\tvalid's auc: 0.968669\n",
      "[1000]\ttrain's auc: 0.995554\tvalid's auc: 0.968825\n",
      "[1100]\ttrain's auc: 0.99618\tvalid's auc: 0.968738\n",
      "Early stopping, best iteration is:\n",
      "[1028]\ttrain's auc: 0.995757\tvalid's auc: 0.968929\n"
     ]
    },
    {
     "name": "stderr",
     "output_type": "stream",
     "text": [
      "D:\\Programfiles2\\anaconda\\lib\\site-packages\\ipykernel\\__main__.py:60: SettingWithCopyWarning: \n",
      "A value is trying to be set on a copy of a slice from a DataFrame.\n",
      "Try using .loc[row_indexer,col_indexer] = value instead\n",
      "\n",
      "See the caveats in the documentation: http://pandas.pydata.org/pandas-docs/stable/indexing.html#indexing-view-versus-copy\n",
      "D:\\Programfiles2\\anaconda\\lib\\site-packages\\ipykernel\\__main__.py:61: SettingWithCopyWarning: \n",
      "A value is trying to be set on a copy of a slice from a DataFrame.\n",
      "Try using .loc[row_indexer,col_indexer] = value instead\n",
      "\n",
      "See the caveats in the documentation: http://pandas.pydata.org/pandas-docs/stable/indexing.html#indexing-view-versus-copy\n"
     ]
    },
    {
     "name": "stdout",
     "output_type": "stream",
     "text": [
      "Fold  3 AUC : 0.968929\n",
      "Training until validation scores don't improve for 100 rounds.\n",
      "[100]\ttrain's auc: 0.962524\tvalid's auc: 0.953512\n",
      "[200]\ttrain's auc: 0.976172\tvalid's auc: 0.963462\n",
      "[300]\ttrain's auc: 0.982173\tvalid's auc: 0.966269\n",
      "[400]\ttrain's auc: 0.986214\tvalid's auc: 0.968077\n",
      "[500]\ttrain's auc: 0.989071\tvalid's auc: 0.969079\n",
      "[600]\ttrain's auc: 0.991141\tvalid's auc: 0.969621\n",
      "[700]\ttrain's auc: 0.992784\tvalid's auc: 0.97008\n",
      "[800]\ttrain's auc: 0.99402\tvalid's auc: 0.97043\n",
      "[900]\ttrain's auc: 0.99496\tvalid's auc: 0.970719\n",
      "[1000]\ttrain's auc: 0.995686\tvalid's auc: 0.970653\n",
      "[1100]\ttrain's auc: 0.996257\tvalid's auc: 0.970916\n",
      "[1200]\ttrain's auc: 0.996752\tvalid's auc: 0.970946\n",
      "[1300]\ttrain's auc: 0.997127\tvalid's auc: 0.970982\n",
      "[1400]\ttrain's auc: 0.997449\tvalid's auc: 0.970989\n",
      "[1500]\ttrain's auc: 0.997728\tvalid's auc: 0.971217\n",
      "Early stopping, best iteration is:\n",
      "[1495]\ttrain's auc: 0.997715\tvalid's auc: 0.971238\n"
     ]
    },
    {
     "name": "stderr",
     "output_type": "stream",
     "text": [
      "D:\\Programfiles2\\anaconda\\lib\\site-packages\\ipykernel\\__main__.py:60: SettingWithCopyWarning: \n",
      "A value is trying to be set on a copy of a slice from a DataFrame.\n",
      "Try using .loc[row_indexer,col_indexer] = value instead\n",
      "\n",
      "See the caveats in the documentation: http://pandas.pydata.org/pandas-docs/stable/indexing.html#indexing-view-versus-copy\n",
      "D:\\Programfiles2\\anaconda\\lib\\site-packages\\ipykernel\\__main__.py:61: SettingWithCopyWarning: \n",
      "A value is trying to be set on a copy of a slice from a DataFrame.\n",
      "Try using .loc[row_indexer,col_indexer] = value instead\n",
      "\n",
      "See the caveats in the documentation: http://pandas.pydata.org/pandas-docs/stable/indexing.html#indexing-view-versus-copy\n"
     ]
    },
    {
     "name": "stdout",
     "output_type": "stream",
     "text": [
      "Fold  4 AUC : 0.971238\n",
      "Training until validation scores don't improve for 100 rounds.\n",
      "[100]\ttrain's auc: 0.961962\tvalid's auc: 0.942031\n",
      "[200]\ttrain's auc: 0.975882\tvalid's auc: 0.953448\n",
      "[300]\ttrain's auc: 0.98202\tvalid's auc: 0.956704\n",
      "[400]\ttrain's auc: 0.985987\tvalid's auc: 0.959376\n",
      "[500]\ttrain's auc: 0.988821\tvalid's auc: 0.960932\n",
      "[600]\ttrain's auc: 0.990896\tvalid's auc: 0.96182\n",
      "[700]\ttrain's auc: 0.992577\tvalid's auc: 0.962705\n",
      "[800]\ttrain's auc: 0.993794\tvalid's auc: 0.962849\n",
      "[900]\ttrain's auc: 0.994763\tvalid's auc: 0.963394\n",
      "[1000]\ttrain's auc: 0.995528\tvalid's auc: 0.963691\n",
      "Early stopping, best iteration is:\n",
      "[999]\ttrain's auc: 0.995521\tvalid's auc: 0.963727\n"
     ]
    },
    {
     "name": "stderr",
     "output_type": "stream",
     "text": [
      "D:\\Programfiles2\\anaconda\\lib\\site-packages\\ipykernel\\__main__.py:60: SettingWithCopyWarning: \n",
      "A value is trying to be set on a copy of a slice from a DataFrame.\n",
      "Try using .loc[row_indexer,col_indexer] = value instead\n",
      "\n",
      "See the caveats in the documentation: http://pandas.pydata.org/pandas-docs/stable/indexing.html#indexing-view-versus-copy\n",
      "D:\\Programfiles2\\anaconda\\lib\\site-packages\\ipykernel\\__main__.py:61: SettingWithCopyWarning: \n",
      "A value is trying to be set on a copy of a slice from a DataFrame.\n",
      "Try using .loc[row_indexer,col_indexer] = value instead\n",
      "\n",
      "See the caveats in the documentation: http://pandas.pydata.org/pandas-docs/stable/indexing.html#indexing-view-versus-copy\n"
     ]
    },
    {
     "name": "stdout",
     "output_type": "stream",
     "text": [
      "Fold  5 AUC : 0.963727\n"
     ]
    },
    {
     "name": "stderr",
     "output_type": "stream",
     "text": [
      "D:\\Programfiles2\\anaconda\\lib\\site-packages\\ipykernel\\__main__.py:70: SettingWithCopyWarning: \n",
      "A value is trying to be set on a copy of a slice from a DataFrame.\n",
      "Try using .loc[row_indexer,col_indexer] = value instead\n",
      "\n",
      "See the caveats in the documentation: http://pandas.pydata.org/pandas-docs/stable/indexing.html#indexing-view-versus-copy\n"
     ]
    },
    {
     "name": "stdout",
     "output_type": "stream",
     "text": [
      "Full AUC score 0.960751\n",
      "(24943, 503) (6236, 503) (31588, 503)\n",
      "Training until validation scores don't improve for 100 rounds.\n",
      "[100]\ttrain's auc: 0.975321\tvalid's auc: 0.963926\n",
      "[200]\ttrain's auc: 0.985783\tvalid's auc: 0.970542\n",
      "[300]\ttrain's auc: 0.990826\tvalid's auc: 0.971812\n",
      "[400]\ttrain's auc: 0.993942\tvalid's auc: 0.972546\n",
      "[500]\ttrain's auc: 0.995797\tvalid's auc: 0.973054\n",
      "Early stopping, best iteration is:\n",
      "[482]\ttrain's auc: 0.995536\tvalid's auc: 0.973187\n"
     ]
    },
    {
     "name": "stderr",
     "output_type": "stream",
     "text": [
      "D:\\Programfiles2\\anaconda\\lib\\site-packages\\ipykernel\\__main__.py:60: SettingWithCopyWarning: \n",
      "A value is trying to be set on a copy of a slice from a DataFrame.\n",
      "Try using .loc[row_indexer,col_indexer] = value instead\n",
      "\n",
      "See the caveats in the documentation: http://pandas.pydata.org/pandas-docs/stable/indexing.html#indexing-view-versus-copy\n",
      "D:\\Programfiles2\\anaconda\\lib\\site-packages\\ipykernel\\__main__.py:61: SettingWithCopyWarning: \n",
      "A value is trying to be set on a copy of a slice from a DataFrame.\n",
      "Try using .loc[row_indexer,col_indexer] = value instead\n",
      "\n",
      "See the caveats in the documentation: http://pandas.pydata.org/pandas-docs/stable/indexing.html#indexing-view-versus-copy\n"
     ]
    },
    {
     "name": "stdout",
     "output_type": "stream",
     "text": [
      "Fold  1 AUC : 0.973187\n",
      "Training until validation scores don't improve for 100 rounds.\n",
      "[100]\ttrain's auc: 0.976807\tvalid's auc: 0.954413\n",
      "[200]\ttrain's auc: 0.98688\tvalid's auc: 0.960765\n",
      "[300]\ttrain's auc: 0.991676\tvalid's auc: 0.962786\n",
      "[400]\ttrain's auc: 0.994404\tvalid's auc: 0.963729\n",
      "Early stopping, best iteration is:\n",
      "[383]\ttrain's auc: 0.994048\tvalid's auc: 0.963976\n"
     ]
    },
    {
     "name": "stderr",
     "output_type": "stream",
     "text": [
      "D:\\Programfiles2\\anaconda\\lib\\site-packages\\ipykernel\\__main__.py:60: SettingWithCopyWarning: \n",
      "A value is trying to be set on a copy of a slice from a DataFrame.\n",
      "Try using .loc[row_indexer,col_indexer] = value instead\n",
      "\n",
      "See the caveats in the documentation: http://pandas.pydata.org/pandas-docs/stable/indexing.html#indexing-view-versus-copy\n",
      "D:\\Programfiles2\\anaconda\\lib\\site-packages\\ipykernel\\__main__.py:61: SettingWithCopyWarning: \n",
      "A value is trying to be set on a copy of a slice from a DataFrame.\n",
      "Try using .loc[row_indexer,col_indexer] = value instead\n",
      "\n",
      "See the caveats in the documentation: http://pandas.pydata.org/pandas-docs/stable/indexing.html#indexing-view-versus-copy\n"
     ]
    },
    {
     "name": "stdout",
     "output_type": "stream",
     "text": [
      "Fold  2 AUC : 0.963976\n",
      "Training until validation scores don't improve for 100 rounds.\n",
      "[100]\ttrain's auc: 0.976124\tvalid's auc: 0.954578\n",
      "[200]\ttrain's auc: 0.986517\tvalid's auc: 0.961137\n",
      "[300]\ttrain's auc: 0.991296\tvalid's auc: 0.964474\n",
      "[400]\ttrain's auc: 0.994241\tvalid's auc: 0.965844\n",
      "[500]\ttrain's auc: 0.995959\tvalid's auc: 0.966207\n",
      "[600]\ttrain's auc: 0.997148\tvalid's auc: 0.966986\n",
      "[700]\ttrain's auc: 0.997869\tvalid's auc: 0.966912\n",
      "Early stopping, best iteration is:\n",
      "[661]\ttrain's auc: 0.997624\tvalid's auc: 0.967135\n"
     ]
    },
    {
     "name": "stderr",
     "output_type": "stream",
     "text": [
      "D:\\Programfiles2\\anaconda\\lib\\site-packages\\ipykernel\\__main__.py:60: SettingWithCopyWarning: \n",
      "A value is trying to be set on a copy of a slice from a DataFrame.\n",
      "Try using .loc[row_indexer,col_indexer] = value instead\n",
      "\n",
      "See the caveats in the documentation: http://pandas.pydata.org/pandas-docs/stable/indexing.html#indexing-view-versus-copy\n",
      "D:\\Programfiles2\\anaconda\\lib\\site-packages\\ipykernel\\__main__.py:61: SettingWithCopyWarning: \n",
      "A value is trying to be set on a copy of a slice from a DataFrame.\n",
      "Try using .loc[row_indexer,col_indexer] = value instead\n",
      "\n",
      "See the caveats in the documentation: http://pandas.pydata.org/pandas-docs/stable/indexing.html#indexing-view-versus-copy\n"
     ]
    },
    {
     "name": "stdout",
     "output_type": "stream",
     "text": [
      "Fold  3 AUC : 0.967135\n",
      "Training until validation scores don't improve for 100 rounds.\n",
      "[100]\ttrain's auc: 0.937658\tvalid's auc: 0.926348\n",
      "Early stopping, best iteration is:\n",
      "[51]\ttrain's auc: 0.96438\tvalid's auc: 0.948629\n"
     ]
    },
    {
     "name": "stderr",
     "output_type": "stream",
     "text": [
      "D:\\Programfiles2\\anaconda\\lib\\site-packages\\ipykernel\\__main__.py:60: SettingWithCopyWarning: \n",
      "A value is trying to be set on a copy of a slice from a DataFrame.\n",
      "Try using .loc[row_indexer,col_indexer] = value instead\n",
      "\n",
      "See the caveats in the documentation: http://pandas.pydata.org/pandas-docs/stable/indexing.html#indexing-view-versus-copy\n",
      "D:\\Programfiles2\\anaconda\\lib\\site-packages\\ipykernel\\__main__.py:61: SettingWithCopyWarning: \n",
      "A value is trying to be set on a copy of a slice from a DataFrame.\n",
      "Try using .loc[row_indexer,col_indexer] = value instead\n",
      "\n",
      "See the caveats in the documentation: http://pandas.pydata.org/pandas-docs/stable/indexing.html#indexing-view-versus-copy\n"
     ]
    },
    {
     "name": "stdout",
     "output_type": "stream",
     "text": [
      "Fold  4 AUC : 0.948629\n",
      "Training until validation scores don't improve for 100 rounds.\n",
      "[100]\ttrain's auc: 0.975771\tvalid's auc: 0.964222\n",
      "[200]\ttrain's auc: 0.986211\tvalid's auc: 0.968184\n",
      "[300]\ttrain's auc: 0.991232\tvalid's auc: 0.969189\n",
      "[400]\ttrain's auc: 0.994298\tvalid's auc: 0.97012\n",
      "Early stopping, best iteration is:\n",
      "[380]\ttrain's auc: 0.993794\tvalid's auc: 0.970224\n"
     ]
    },
    {
     "name": "stderr",
     "output_type": "stream",
     "text": [
      "D:\\Programfiles2\\anaconda\\lib\\site-packages\\ipykernel\\__main__.py:60: SettingWithCopyWarning: \n",
      "A value is trying to be set on a copy of a slice from a DataFrame.\n",
      "Try using .loc[row_indexer,col_indexer] = value instead\n",
      "\n",
      "See the caveats in the documentation: http://pandas.pydata.org/pandas-docs/stable/indexing.html#indexing-view-versus-copy\n",
      "D:\\Programfiles2\\anaconda\\lib\\site-packages\\ipykernel\\__main__.py:61: SettingWithCopyWarning: \n",
      "A value is trying to be set on a copy of a slice from a DataFrame.\n",
      "Try using .loc[row_indexer,col_indexer] = value instead\n",
      "\n",
      "See the caveats in the documentation: http://pandas.pydata.org/pandas-docs/stable/indexing.html#indexing-view-versus-copy\n"
     ]
    },
    {
     "name": "stdout",
     "output_type": "stream",
     "text": [
      "Fold  5 AUC : 0.970224\n"
     ]
    },
    {
     "name": "stderr",
     "output_type": "stream",
     "text": [
      "D:\\Programfiles2\\anaconda\\lib\\site-packages\\ipykernel\\__main__.py:70: SettingWithCopyWarning: \n",
      "A value is trying to be set on a copy of a slice from a DataFrame.\n",
      "Try using .loc[row_indexer,col_indexer] = value instead\n",
      "\n",
      "See the caveats in the documentation: http://pandas.pydata.org/pandas-docs/stable/indexing.html#indexing-view-versus-copy\n"
     ]
    },
    {
     "name": "stdout",
     "output_type": "stream",
     "text": [
      "Full AUC score 0.962911\n",
      "(24943, 503) (6236, 503) (31588, 503)\n",
      "Training until validation scores don't improve for 100 rounds.\n",
      "[100]\ttrain's auc: 0.930722\tvalid's auc: 0.92082\n",
      "Early stopping, best iteration is:\n",
      "[59]\ttrain's auc: 0.961486\tvalid's auc: 0.94729\n"
     ]
    },
    {
     "name": "stderr",
     "output_type": "stream",
     "text": [
      "D:\\Programfiles2\\anaconda\\lib\\site-packages\\ipykernel\\__main__.py:60: SettingWithCopyWarning: \n",
      "A value is trying to be set on a copy of a slice from a DataFrame.\n",
      "Try using .loc[row_indexer,col_indexer] = value instead\n",
      "\n",
      "See the caveats in the documentation: http://pandas.pydata.org/pandas-docs/stable/indexing.html#indexing-view-versus-copy\n",
      "D:\\Programfiles2\\anaconda\\lib\\site-packages\\ipykernel\\__main__.py:61: SettingWithCopyWarning: \n",
      "A value is trying to be set on a copy of a slice from a DataFrame.\n",
      "Try using .loc[row_indexer,col_indexer] = value instead\n",
      "\n",
      "See the caveats in the documentation: http://pandas.pydata.org/pandas-docs/stable/indexing.html#indexing-view-versus-copy\n"
     ]
    },
    {
     "name": "stdout",
     "output_type": "stream",
     "text": [
      "Fold  1 AUC : 0.947290\n",
      "Training until validation scores don't improve for 100 rounds.\n",
      "[100]\ttrain's auc: 0.970943\tvalid's auc: 0.957473\n",
      "[200]\ttrain's auc: 0.982702\tvalid's auc: 0.962724\n",
      "[300]\ttrain's auc: 0.98827\tvalid's auc: 0.965266\n",
      "[400]\ttrain's auc: 0.991894\tvalid's auc: 0.966711\n",
      "[500]\ttrain's auc: 0.994219\tvalid's auc: 0.967465\n",
      "[600]\ttrain's auc: 0.995813\tvalid's auc: 0.967777\n",
      "[700]\ttrain's auc: 0.996956\tvalid's auc: 0.968437\n",
      "[800]\ttrain's auc: 0.997678\tvalid's auc: 0.968696\n",
      "[900]\ttrain's auc: 0.998211\tvalid's auc: 0.968548\n",
      "Early stopping, best iteration is:\n",
      "[876]\ttrain's auc: 0.998106\tvalid's auc: 0.968824\n"
     ]
    },
    {
     "name": "stderr",
     "output_type": "stream",
     "text": [
      "D:\\Programfiles2\\anaconda\\lib\\site-packages\\ipykernel\\__main__.py:60: SettingWithCopyWarning: \n",
      "A value is trying to be set on a copy of a slice from a DataFrame.\n",
      "Try using .loc[row_indexer,col_indexer] = value instead\n",
      "\n",
      "See the caveats in the documentation: http://pandas.pydata.org/pandas-docs/stable/indexing.html#indexing-view-versus-copy\n",
      "D:\\Programfiles2\\anaconda\\lib\\site-packages\\ipykernel\\__main__.py:61: SettingWithCopyWarning: \n",
      "A value is trying to be set on a copy of a slice from a DataFrame.\n",
      "Try using .loc[row_indexer,col_indexer] = value instead\n",
      "\n",
      "See the caveats in the documentation: http://pandas.pydata.org/pandas-docs/stable/indexing.html#indexing-view-versus-copy\n"
     ]
    },
    {
     "name": "stdout",
     "output_type": "stream",
     "text": [
      "Fold  2 AUC : 0.968824\n",
      "Training until validation scores don't improve for 100 rounds.\n",
      "[100]\ttrain's auc: 0.971004\tvalid's auc: 0.958594\n",
      "[200]\ttrain's auc: 0.982744\tvalid's auc: 0.965081\n",
      "[300]\ttrain's auc: 0.988275\tvalid's auc: 0.967222\n",
      "[400]\ttrain's auc: 0.991726\tvalid's auc: 0.968615\n",
      "[500]\ttrain's auc: 0.994172\tvalid's auc: 0.969576\n",
      "[600]\ttrain's auc: 0.995789\tvalid's auc: 0.969764\n",
      "Early stopping, best iteration is:\n",
      "[589]\ttrain's auc: 0.995631\tvalid's auc: 0.969838\n"
     ]
    },
    {
     "name": "stderr",
     "output_type": "stream",
     "text": [
      "D:\\Programfiles2\\anaconda\\lib\\site-packages\\ipykernel\\__main__.py:60: SettingWithCopyWarning: \n",
      "A value is trying to be set on a copy of a slice from a DataFrame.\n",
      "Try using .loc[row_indexer,col_indexer] = value instead\n",
      "\n",
      "See the caveats in the documentation: http://pandas.pydata.org/pandas-docs/stable/indexing.html#indexing-view-versus-copy\n",
      "D:\\Programfiles2\\anaconda\\lib\\site-packages\\ipykernel\\__main__.py:61: SettingWithCopyWarning: \n",
      "A value is trying to be set on a copy of a slice from a DataFrame.\n",
      "Try using .loc[row_indexer,col_indexer] = value instead\n",
      "\n",
      "See the caveats in the documentation: http://pandas.pydata.org/pandas-docs/stable/indexing.html#indexing-view-versus-copy\n"
     ]
    },
    {
     "name": "stdout",
     "output_type": "stream",
     "text": [
      "Fold  3 AUC : 0.969838\n",
      "Training until validation scores don't improve for 100 rounds.\n",
      "[100]\ttrain's auc: 0.969977\tvalid's auc: 0.947156\n",
      "[200]\ttrain's auc: 0.982609\tvalid's auc: 0.959365\n",
      "[300]\ttrain's auc: 0.988546\tvalid's auc: 0.961976\n",
      "[400]\ttrain's auc: 0.992032\tvalid's auc: 0.963203\n",
      "[500]\ttrain's auc: 0.994304\tvalid's auc: 0.963185\n",
      "Early stopping, best iteration is:\n",
      "[412]\ttrain's auc: 0.992371\tvalid's auc: 0.963441\n"
     ]
    },
    {
     "name": "stderr",
     "output_type": "stream",
     "text": [
      "D:\\Programfiles2\\anaconda\\lib\\site-packages\\ipykernel\\__main__.py:60: SettingWithCopyWarning: \n",
      "A value is trying to be set on a copy of a slice from a DataFrame.\n",
      "Try using .loc[row_indexer,col_indexer] = value instead\n",
      "\n",
      "See the caveats in the documentation: http://pandas.pydata.org/pandas-docs/stable/indexing.html#indexing-view-versus-copy\n",
      "D:\\Programfiles2\\anaconda\\lib\\site-packages\\ipykernel\\__main__.py:61: SettingWithCopyWarning: \n",
      "A value is trying to be set on a copy of a slice from a DataFrame.\n",
      "Try using .loc[row_indexer,col_indexer] = value instead\n",
      "\n",
      "See the caveats in the documentation: http://pandas.pydata.org/pandas-docs/stable/indexing.html#indexing-view-versus-copy\n"
     ]
    },
    {
     "name": "stdout",
     "output_type": "stream",
     "text": [
      "Fold  4 AUC : 0.963441\n",
      "Training until validation scores don't improve for 100 rounds.\n",
      "[100]\ttrain's auc: 0.970817\tvalid's auc: 0.955439\n",
      "[200]\ttrain's auc: 0.982254\tvalid's auc: 0.962272\n",
      "[300]\ttrain's auc: 0.988128\tvalid's auc: 0.964714\n",
      "[400]\ttrain's auc: 0.991602\tvalid's auc: 0.965951\n",
      "[500]\ttrain's auc: 0.994076\tvalid's auc: 0.966978\n",
      "[600]\ttrain's auc: 0.995716\tvalid's auc: 0.967175\n",
      "[700]\ttrain's auc: 0.996839\tvalid's auc: 0.96759\n",
      "[800]\ttrain's auc: 0.997621\tvalid's auc: 0.967858\n",
      "[900]\ttrain's auc: 0.998182\tvalid's auc: 0.967561\n",
      "Early stopping, best iteration is:\n",
      "[825]\ttrain's auc: 0.997788\tvalid's auc: 0.967972\n"
     ]
    },
    {
     "name": "stderr",
     "output_type": "stream",
     "text": [
      "D:\\Programfiles2\\anaconda\\lib\\site-packages\\ipykernel\\__main__.py:60: SettingWithCopyWarning: \n",
      "A value is trying to be set on a copy of a slice from a DataFrame.\n",
      "Try using .loc[row_indexer,col_indexer] = value instead\n",
      "\n",
      "See the caveats in the documentation: http://pandas.pydata.org/pandas-docs/stable/indexing.html#indexing-view-versus-copy\n",
      "D:\\Programfiles2\\anaconda\\lib\\site-packages\\ipykernel\\__main__.py:61: SettingWithCopyWarning: \n",
      "A value is trying to be set on a copy of a slice from a DataFrame.\n",
      "Try using .loc[row_indexer,col_indexer] = value instead\n",
      "\n",
      "See the caveats in the documentation: http://pandas.pydata.org/pandas-docs/stable/indexing.html#indexing-view-versus-copy\n"
     ]
    },
    {
     "name": "stdout",
     "output_type": "stream",
     "text": [
      "Fold  5 AUC : 0.967972\n"
     ]
    },
    {
     "name": "stderr",
     "output_type": "stream",
     "text": [
      "D:\\Programfiles2\\anaconda\\lib\\site-packages\\ipykernel\\__main__.py:70: SettingWithCopyWarning: \n",
      "A value is trying to be set on a copy of a slice from a DataFrame.\n",
      "Try using .loc[row_indexer,col_indexer] = value instead\n",
      "\n",
      "See the caveats in the documentation: http://pandas.pydata.org/pandas-docs/stable/indexing.html#indexing-view-versus-copy\n"
     ]
    },
    {
     "name": "stdout",
     "output_type": "stream",
     "text": [
      "Full AUC score 0.961520\n",
      "(24943, 503) (6236, 503) (31588, 503)\n",
      "Training until validation scores don't improve for 100 rounds.\n",
      "[100]\ttrain's auc: 0.961569\tvalid's auc: 0.951307\n",
      "[200]\ttrain's auc: 0.974069\tvalid's auc: 0.963734\n",
      "[300]\ttrain's auc: 0.978802\tvalid's auc: 0.967487\n",
      "[400]\ttrain's auc: 0.9821\tvalid's auc: 0.969284\n",
      "[500]\ttrain's auc: 0.984572\tvalid's auc: 0.970447\n",
      "[600]\ttrain's auc: 0.986159\tvalid's auc: 0.971182\n",
      "[700]\ttrain's auc: 0.987274\tvalid's auc: 0.971383\n",
      "[800]\ttrain's auc: 0.987652\tvalid's auc: 0.971641\n",
      "Early stopping, best iteration is:\n",
      "[734]\ttrain's auc: 0.987555\tvalid's auc: 0.971645\n"
     ]
    },
    {
     "name": "stderr",
     "output_type": "stream",
     "text": [
      "D:\\Programfiles2\\anaconda\\lib\\site-packages\\ipykernel\\__main__.py:60: SettingWithCopyWarning: \n",
      "A value is trying to be set on a copy of a slice from a DataFrame.\n",
      "Try using .loc[row_indexer,col_indexer] = value instead\n",
      "\n",
      "See the caveats in the documentation: http://pandas.pydata.org/pandas-docs/stable/indexing.html#indexing-view-versus-copy\n",
      "D:\\Programfiles2\\anaconda\\lib\\site-packages\\ipykernel\\__main__.py:61: SettingWithCopyWarning: \n",
      "A value is trying to be set on a copy of a slice from a DataFrame.\n",
      "Try using .loc[row_indexer,col_indexer] = value instead\n",
      "\n",
      "See the caveats in the documentation: http://pandas.pydata.org/pandas-docs/stable/indexing.html#indexing-view-versus-copy\n"
     ]
    },
    {
     "name": "stdout",
     "output_type": "stream",
     "text": [
      "Fold  1 AUC : 0.971645\n",
      "Training until validation scores don't improve for 100 rounds.\n",
      "[100]\ttrain's auc: 0.962441\tvalid's auc: 0.939567\n",
      "[200]\ttrain's auc: 0.975166\tvalid's auc: 0.951663\n",
      "[300]\ttrain's auc: 0.979751\tvalid's auc: 0.954968\n",
      "[400]\ttrain's auc: 0.983057\tvalid's auc: 0.957354\n",
      "[500]\ttrain's auc: 0.985312\tvalid's auc: 0.958759\n",
      "[600]\ttrain's auc: 0.986778\tvalid's auc: 0.959465\n",
      "[700]\ttrain's auc: 0.987699\tvalid's auc: 0.960117\n",
      "[800]\ttrain's auc: 0.988009\tvalid's auc: 0.960385\n",
      "Early stopping, best iteration is:\n",
      "[740]\ttrain's auc: 0.988009\tvalid's auc: 0.960391\n"
     ]
    },
    {
     "name": "stderr",
     "output_type": "stream",
     "text": [
      "D:\\Programfiles2\\anaconda\\lib\\site-packages\\ipykernel\\__main__.py:60: SettingWithCopyWarning: \n",
      "A value is trying to be set on a copy of a slice from a DataFrame.\n",
      "Try using .loc[row_indexer,col_indexer] = value instead\n",
      "\n",
      "See the caveats in the documentation: http://pandas.pydata.org/pandas-docs/stable/indexing.html#indexing-view-versus-copy\n",
      "D:\\Programfiles2\\anaconda\\lib\\site-packages\\ipykernel\\__main__.py:61: SettingWithCopyWarning: \n",
      "A value is trying to be set on a copy of a slice from a DataFrame.\n",
      "Try using .loc[row_indexer,col_indexer] = value instead\n",
      "\n",
      "See the caveats in the documentation: http://pandas.pydata.org/pandas-docs/stable/indexing.html#indexing-view-versus-copy\n"
     ]
    },
    {
     "name": "stdout",
     "output_type": "stream",
     "text": [
      "Fold  2 AUC : 0.960391\n",
      "Training until validation scores don't improve for 100 rounds.\n",
      "[100]\ttrain's auc: 0.922892\tvalid's auc: 0.912781\n",
      "Early stopping, best iteration is:\n",
      "[63]\ttrain's auc: 0.951706\tvalid's auc: 0.937217\n"
     ]
    },
    {
     "name": "stderr",
     "output_type": "stream",
     "text": [
      "D:\\Programfiles2\\anaconda\\lib\\site-packages\\ipykernel\\__main__.py:60: SettingWithCopyWarning: \n",
      "A value is trying to be set on a copy of a slice from a DataFrame.\n",
      "Try using .loc[row_indexer,col_indexer] = value instead\n",
      "\n",
      "See the caveats in the documentation: http://pandas.pydata.org/pandas-docs/stable/indexing.html#indexing-view-versus-copy\n",
      "D:\\Programfiles2\\anaconda\\lib\\site-packages\\ipykernel\\__main__.py:61: SettingWithCopyWarning: \n",
      "A value is trying to be set on a copy of a slice from a DataFrame.\n",
      "Try using .loc[row_indexer,col_indexer] = value instead\n",
      "\n",
      "See the caveats in the documentation: http://pandas.pydata.org/pandas-docs/stable/indexing.html#indexing-view-versus-copy\n"
     ]
    },
    {
     "name": "stdout",
     "output_type": "stream",
     "text": [
      "Fold  3 AUC : 0.937217\n",
      "Training until validation scores don't improve for 100 rounds.\n",
      "[100]\ttrain's auc: 0.961824\tvalid's auc: 0.952449\n",
      "[200]\ttrain's auc: 0.974024\tvalid's auc: 0.962488\n",
      "[300]\ttrain's auc: 0.97906\tvalid's auc: 0.964552\n",
      "[400]\ttrain's auc: 0.982257\tvalid's auc: 0.965844\n",
      "[500]\ttrain's auc: 0.98471\tvalid's auc: 0.966224\n",
      "[600]\ttrain's auc: 0.986327\tvalid's auc: 0.966466\n",
      "[700]\ttrain's auc: 0.987373\tvalid's auc: 0.966759\n",
      "[800]\ttrain's auc: 0.98769\tvalid's auc: 0.966871\n",
      "Early stopping, best iteration is:\n",
      "[732]\ttrain's auc: 0.987653\tvalid's auc: 0.966878\n"
     ]
    },
    {
     "name": "stderr",
     "output_type": "stream",
     "text": [
      "D:\\Programfiles2\\anaconda\\lib\\site-packages\\ipykernel\\__main__.py:60: SettingWithCopyWarning: \n",
      "A value is trying to be set on a copy of a slice from a DataFrame.\n",
      "Try using .loc[row_indexer,col_indexer] = value instead\n",
      "\n",
      "See the caveats in the documentation: http://pandas.pydata.org/pandas-docs/stable/indexing.html#indexing-view-versus-copy\n",
      "D:\\Programfiles2\\anaconda\\lib\\site-packages\\ipykernel\\__main__.py:61: SettingWithCopyWarning: \n",
      "A value is trying to be set on a copy of a slice from a DataFrame.\n",
      "Try using .loc[row_indexer,col_indexer] = value instead\n",
      "\n",
      "See the caveats in the documentation: http://pandas.pydata.org/pandas-docs/stable/indexing.html#indexing-view-versus-copy\n"
     ]
    },
    {
     "name": "stdout",
     "output_type": "stream",
     "text": [
      "Fold  4 AUC : 0.966878\n",
      "Training until validation scores don't improve for 100 rounds.\n",
      "[100]\ttrain's auc: 0.963342\tvalid's auc: 0.947168\n",
      "[200]\ttrain's auc: 0.975214\tvalid's auc: 0.955169\n",
      "[300]\ttrain's auc: 0.979778\tvalid's auc: 0.957903\n",
      "[400]\ttrain's auc: 0.982872\tvalid's auc: 0.959149\n",
      "[500]\ttrain's auc: 0.9852\tvalid's auc: 0.960057\n",
      "[600]\ttrain's auc: 0.986749\tvalid's auc: 0.960585\n",
      "[700]\ttrain's auc: 0.987786\tvalid's auc: 0.961041\n",
      "[800]\ttrain's auc: 0.988507\tvalid's auc: 0.961332\n",
      "Early stopping, best iteration is:\n",
      "[797]\ttrain's auc: 0.988489\tvalid's auc: 0.961334\n"
     ]
    },
    {
     "name": "stderr",
     "output_type": "stream",
     "text": [
      "D:\\Programfiles2\\anaconda\\lib\\site-packages\\ipykernel\\__main__.py:60: SettingWithCopyWarning: \n",
      "A value is trying to be set on a copy of a slice from a DataFrame.\n",
      "Try using .loc[row_indexer,col_indexer] = value instead\n",
      "\n",
      "See the caveats in the documentation: http://pandas.pydata.org/pandas-docs/stable/indexing.html#indexing-view-versus-copy\n",
      "D:\\Programfiles2\\anaconda\\lib\\site-packages\\ipykernel\\__main__.py:61: SettingWithCopyWarning: \n",
      "A value is trying to be set on a copy of a slice from a DataFrame.\n",
      "Try using .loc[row_indexer,col_indexer] = value instead\n",
      "\n",
      "See the caveats in the documentation: http://pandas.pydata.org/pandas-docs/stable/indexing.html#indexing-view-versus-copy\n"
     ]
    },
    {
     "name": "stdout",
     "output_type": "stream",
     "text": [
      "Fold  5 AUC : 0.961334\n"
     ]
    },
    {
     "name": "stderr",
     "output_type": "stream",
     "text": [
      "D:\\Programfiles2\\anaconda\\lib\\site-packages\\ipykernel\\__main__.py:70: SettingWithCopyWarning: \n",
      "A value is trying to be set on a copy of a slice from a DataFrame.\n",
      "Try using .loc[row_indexer,col_indexer] = value instead\n",
      "\n",
      "See the caveats in the documentation: http://pandas.pydata.org/pandas-docs/stable/indexing.html#indexing-view-versus-copy\n"
     ]
    },
    {
     "name": "stdout",
     "output_type": "stream",
     "text": [
      "Full AUC score 0.957885\n",
      "(24943, 503) (6236, 503) (31588, 503)\n",
      "Training until validation scores don't improve for 100 rounds.\n",
      "[100]\ttrain's auc: 0.971979\tvalid's auc: 0.95259\n",
      "[200]\ttrain's auc: 0.983522\tvalid's auc: 0.958548\n",
      "[300]\ttrain's auc: 0.989044\tvalid's auc: 0.961105\n",
      "[400]\ttrain's auc: 0.992474\tvalid's auc: 0.963034\n",
      "[500]\ttrain's auc: 0.994709\tvalid's auc: 0.963613\n",
      "[600]\ttrain's auc: 0.99626\tvalid's auc: 0.964052\n",
      "[700]\ttrain's auc: 0.997291\tvalid's auc: 0.964557\n",
      "[800]\ttrain's auc: 0.997977\tvalid's auc: 0.965228\n",
      "[900]\ttrain's auc: 0.998474\tvalid's auc: 0.964927\n",
      "Early stopping, best iteration is:\n",
      "[814]\ttrain's auc: 0.998065\tvalid's auc: 0.965262\n"
     ]
    },
    {
     "name": "stderr",
     "output_type": "stream",
     "text": [
      "D:\\Programfiles2\\anaconda\\lib\\site-packages\\ipykernel\\__main__.py:60: SettingWithCopyWarning: \n",
      "A value is trying to be set on a copy of a slice from a DataFrame.\n",
      "Try using .loc[row_indexer,col_indexer] = value instead\n",
      "\n",
      "See the caveats in the documentation: http://pandas.pydata.org/pandas-docs/stable/indexing.html#indexing-view-versus-copy\n",
      "D:\\Programfiles2\\anaconda\\lib\\site-packages\\ipykernel\\__main__.py:61: SettingWithCopyWarning: \n",
      "A value is trying to be set on a copy of a slice from a DataFrame.\n",
      "Try using .loc[row_indexer,col_indexer] = value instead\n",
      "\n",
      "See the caveats in the documentation: http://pandas.pydata.org/pandas-docs/stable/indexing.html#indexing-view-versus-copy\n"
     ]
    },
    {
     "name": "stdout",
     "output_type": "stream",
     "text": [
      "Fold  1 AUC : 0.965262\n",
      "Training until validation scores don't improve for 100 rounds.\n",
      "[100]\ttrain's auc: 0.970891\tvalid's auc: 0.954233\n",
      "[200]\ttrain's auc: 0.982908\tvalid's auc: 0.963548\n",
      "[300]\ttrain's auc: 0.988889\tvalid's auc: 0.966124\n",
      "[400]\ttrain's auc: 0.992367\tvalid's auc: 0.967372\n",
      "[500]\ttrain's auc: 0.994559\tvalid's auc: 0.96856\n",
      "[600]\ttrain's auc: 0.996162\tvalid's auc: 0.96928\n",
      "[700]\ttrain's auc: 0.997227\tvalid's auc: 0.969858\n",
      "[800]\ttrain's auc: 0.997932\tvalid's auc: 0.970214\n",
      "[900]\ttrain's auc: 0.998446\tvalid's auc: 0.970575\n",
      "Early stopping, best iteration is:\n",
      "[893]\ttrain's auc: 0.998413\tvalid's auc: 0.970602\n"
     ]
    },
    {
     "name": "stderr",
     "output_type": "stream",
     "text": [
      "D:\\Programfiles2\\anaconda\\lib\\site-packages\\ipykernel\\__main__.py:60: SettingWithCopyWarning: \n",
      "A value is trying to be set on a copy of a slice from a DataFrame.\n",
      "Try using .loc[row_indexer,col_indexer] = value instead\n",
      "\n",
      "See the caveats in the documentation: http://pandas.pydata.org/pandas-docs/stable/indexing.html#indexing-view-versus-copy\n",
      "D:\\Programfiles2\\anaconda\\lib\\site-packages\\ipykernel\\__main__.py:61: SettingWithCopyWarning: \n",
      "A value is trying to be set on a copy of a slice from a DataFrame.\n",
      "Try using .loc[row_indexer,col_indexer] = value instead\n",
      "\n",
      "See the caveats in the documentation: http://pandas.pydata.org/pandas-docs/stable/indexing.html#indexing-view-versus-copy\n"
     ]
    },
    {
     "name": "stdout",
     "output_type": "stream",
     "text": [
      "Fold  2 AUC : 0.970602\n",
      "Training until validation scores don't improve for 100 rounds.\n",
      "[100]\ttrain's auc: 0.970739\tvalid's auc: 0.962858\n",
      "[200]\ttrain's auc: 0.98247\tvalid's auc: 0.971047\n",
      "[300]\ttrain's auc: 0.988257\tvalid's auc: 0.973328\n",
      "[400]\ttrain's auc: 0.991886\tvalid's auc: 0.974771\n",
      "[500]\ttrain's auc: 0.994271\tvalid's auc: 0.975392\n",
      "[600]\ttrain's auc: 0.995873\tvalid's auc: 0.975965\n",
      "[700]\ttrain's auc: 0.996984\tvalid's auc: 0.976594\n",
      "[800]\ttrain's auc: 0.997781\tvalid's auc: 0.977279\n",
      "[900]\ttrain's auc: 0.998314\tvalid's auc: 0.977551\n",
      "[1000]\ttrain's auc: 0.998697\tvalid's auc: 0.97758\n",
      "[1100]\ttrain's auc: 0.998964\tvalid's auc: 0.977914\n",
      "Early stopping, best iteration is:\n",
      "[1084]\ttrain's auc: 0.998933\tvalid's auc: 0.977996\n"
     ]
    },
    {
     "name": "stderr",
     "output_type": "stream",
     "text": [
      "D:\\Programfiles2\\anaconda\\lib\\site-packages\\ipykernel\\__main__.py:60: SettingWithCopyWarning: \n",
      "A value is trying to be set on a copy of a slice from a DataFrame.\n",
      "Try using .loc[row_indexer,col_indexer] = value instead\n",
      "\n",
      "See the caveats in the documentation: http://pandas.pydata.org/pandas-docs/stable/indexing.html#indexing-view-versus-copy\n",
      "D:\\Programfiles2\\anaconda\\lib\\site-packages\\ipykernel\\__main__.py:61: SettingWithCopyWarning: \n",
      "A value is trying to be set on a copy of a slice from a DataFrame.\n",
      "Try using .loc[row_indexer,col_indexer] = value instead\n",
      "\n",
      "See the caveats in the documentation: http://pandas.pydata.org/pandas-docs/stable/indexing.html#indexing-view-versus-copy\n"
     ]
    },
    {
     "name": "stdout",
     "output_type": "stream",
     "text": [
      "Fold  3 AUC : 0.977996\n",
      "Training until validation scores don't improve for 100 rounds.\n",
      "[100]\ttrain's auc: 0.932412\tvalid's auc: 0.909671\n",
      "Early stopping, best iteration is:\n",
      "[59]\ttrain's auc: 0.961915\tvalid's auc: 0.942317\n"
     ]
    },
    {
     "name": "stderr",
     "output_type": "stream",
     "text": [
      "D:\\Programfiles2\\anaconda\\lib\\site-packages\\ipykernel\\__main__.py:60: SettingWithCopyWarning: \n",
      "A value is trying to be set on a copy of a slice from a DataFrame.\n",
      "Try using .loc[row_indexer,col_indexer] = value instead\n",
      "\n",
      "See the caveats in the documentation: http://pandas.pydata.org/pandas-docs/stable/indexing.html#indexing-view-versus-copy\n",
      "D:\\Programfiles2\\anaconda\\lib\\site-packages\\ipykernel\\__main__.py:61: SettingWithCopyWarning: \n",
      "A value is trying to be set on a copy of a slice from a DataFrame.\n",
      "Try using .loc[row_indexer,col_indexer] = value instead\n",
      "\n",
      "See the caveats in the documentation: http://pandas.pydata.org/pandas-docs/stable/indexing.html#indexing-view-versus-copy\n"
     ]
    },
    {
     "name": "stdout",
     "output_type": "stream",
     "text": [
      "Fold  4 AUC : 0.942317\n",
      "Training until validation scores don't improve for 100 rounds.\n",
      "[100]\ttrain's auc: 0.970582\tvalid's auc: 0.955219\n",
      "[200]\ttrain's auc: 0.982425\tvalid's auc: 0.964142\n",
      "[300]\ttrain's auc: 0.988321\tvalid's auc: 0.967624\n",
      "[400]\ttrain's auc: 0.991885\tvalid's auc: 0.968686\n",
      "[500]\ttrain's auc: 0.994331\tvalid's auc: 0.969633\n",
      "[600]\ttrain's auc: 0.995953\tvalid's auc: 0.96969\n",
      "Early stopping, best iteration is:\n",
      "[542]\ttrain's auc: 0.99512\tvalid's auc: 0.970001\n"
     ]
    },
    {
     "name": "stderr",
     "output_type": "stream",
     "text": [
      "D:\\Programfiles2\\anaconda\\lib\\site-packages\\ipykernel\\__main__.py:60: SettingWithCopyWarning: \n",
      "A value is trying to be set on a copy of a slice from a DataFrame.\n",
      "Try using .loc[row_indexer,col_indexer] = value instead\n",
      "\n",
      "See the caveats in the documentation: http://pandas.pydata.org/pandas-docs/stable/indexing.html#indexing-view-versus-copy\n",
      "D:\\Programfiles2\\anaconda\\lib\\site-packages\\ipykernel\\__main__.py:61: SettingWithCopyWarning: \n",
      "A value is trying to be set on a copy of a slice from a DataFrame.\n",
      "Try using .loc[row_indexer,col_indexer] = value instead\n",
      "\n",
      "See the caveats in the documentation: http://pandas.pydata.org/pandas-docs/stable/indexing.html#indexing-view-versus-copy\n"
     ]
    },
    {
     "name": "stdout",
     "output_type": "stream",
     "text": [
      "Fold  5 AUC : 0.970001\n"
     ]
    },
    {
     "name": "stderr",
     "output_type": "stream",
     "text": [
      "D:\\Programfiles2\\anaconda\\lib\\site-packages\\ipykernel\\__main__.py:70: SettingWithCopyWarning: \n",
      "A value is trying to be set on a copy of a slice from a DataFrame.\n",
      "Try using .loc[row_indexer,col_indexer] = value instead\n",
      "\n",
      "See the caveats in the documentation: http://pandas.pydata.org/pandas-docs/stable/indexing.html#indexing-view-versus-copy\n"
     ]
    },
    {
     "name": "stdout",
     "output_type": "stream",
     "text": [
      "Full AUC score 0.963908\n",
      "(24943, 531) (6236, 531) (31588, 531)\n",
      "Training until validation scores don't improve for 100 rounds.\n",
      "[100]\ttrain's auc: 0.964264\tvalid's auc: 0.944796\n",
      "[200]\ttrain's auc: 0.979228\tvalid's auc: 0.958582\n",
      "[300]\ttrain's auc: 0.984816\tvalid's auc: 0.962688\n",
      "[400]\ttrain's auc: 0.988369\tvalid's auc: 0.965059\n",
      "[500]\ttrain's auc: 0.990756\tvalid's auc: 0.966221\n",
      "[600]\ttrain's auc: 0.992575\tvalid's auc: 0.966865\n",
      "[700]\ttrain's auc: 0.993958\tvalid's auc: 0.967585\n",
      "[800]\ttrain's auc: 0.995012\tvalid's auc: 0.967775\n",
      "[900]\ttrain's auc: 0.995763\tvalid's auc: 0.968066\n",
      "[1000]\ttrain's auc: 0.996344\tvalid's auc: 0.968014\n",
      "Early stopping, best iteration is:\n",
      "[920]\ttrain's auc: 0.9959\tvalid's auc: 0.96816\n"
     ]
    },
    {
     "name": "stderr",
     "output_type": "stream",
     "text": [
      "D:\\Programfiles2\\anaconda\\lib\\site-packages\\ipykernel\\__main__.py:60: SettingWithCopyWarning: \n",
      "A value is trying to be set on a copy of a slice from a DataFrame.\n",
      "Try using .loc[row_indexer,col_indexer] = value instead\n",
      "\n",
      "See the caveats in the documentation: http://pandas.pydata.org/pandas-docs/stable/indexing.html#indexing-view-versus-copy\n",
      "D:\\Programfiles2\\anaconda\\lib\\site-packages\\ipykernel\\__main__.py:61: SettingWithCopyWarning: \n",
      "A value is trying to be set on a copy of a slice from a DataFrame.\n",
      "Try using .loc[row_indexer,col_indexer] = value instead\n",
      "\n",
      "See the caveats in the documentation: http://pandas.pydata.org/pandas-docs/stable/indexing.html#indexing-view-versus-copy\n"
     ]
    },
    {
     "name": "stdout",
     "output_type": "stream",
     "text": [
      "Fold  1 AUC : 0.968160\n",
      "Training until validation scores don't improve for 100 rounds.\n",
      "[100]\ttrain's auc: 0.926899\tvalid's auc: 0.919346\n",
      "Early stopping, best iteration is:\n",
      "[61]\ttrain's auc: 0.955862\tvalid's auc: 0.942156\n"
     ]
    },
    {
     "name": "stderr",
     "output_type": "stream",
     "text": [
      "D:\\Programfiles2\\anaconda\\lib\\site-packages\\ipykernel\\__main__.py:60: SettingWithCopyWarning: \n",
      "A value is trying to be set on a copy of a slice from a DataFrame.\n",
      "Try using .loc[row_indexer,col_indexer] = value instead\n",
      "\n",
      "See the caveats in the documentation: http://pandas.pydata.org/pandas-docs/stable/indexing.html#indexing-view-versus-copy\n",
      "D:\\Programfiles2\\anaconda\\lib\\site-packages\\ipykernel\\__main__.py:61: SettingWithCopyWarning: \n",
      "A value is trying to be set on a copy of a slice from a DataFrame.\n",
      "Try using .loc[row_indexer,col_indexer] = value instead\n",
      "\n",
      "See the caveats in the documentation: http://pandas.pydata.org/pandas-docs/stable/indexing.html#indexing-view-versus-copy\n"
     ]
    },
    {
     "name": "stdout",
     "output_type": "stream",
     "text": [
      "Fold  2 AUC : 0.942156\n",
      "Training until validation scores don't improve for 100 rounds.\n",
      "[100]\ttrain's auc: 0.964171\tvalid's auc: 0.942978\n",
      "[200]\ttrain's auc: 0.979466\tvalid's auc: 0.960711\n",
      "[300]\ttrain's auc: 0.985228\tvalid's auc: 0.964638\n",
      "[400]\ttrain's auc: 0.988855\tvalid's auc: 0.966185\n",
      "[500]\ttrain's auc: 0.991225\tvalid's auc: 0.966873\n",
      "[600]\ttrain's auc: 0.992948\tvalid's auc: 0.967364\n",
      "[700]\ttrain's auc: 0.994287\tvalid's auc: 0.968072\n",
      "[800]\ttrain's auc: 0.99525\tvalid's auc: 0.968249\n",
      "[900]\ttrain's auc: 0.995993\tvalid's auc: 0.968344\n",
      "[1000]\ttrain's auc: 0.996559\tvalid's auc: 0.968413\n",
      "[1100]\ttrain's auc: 0.997034\tvalid's auc: 0.968537\n",
      "[1200]\ttrain's auc: 0.997381\tvalid's auc: 0.968536\n",
      "Early stopping, best iteration is:\n",
      "[1149]\ttrain's auc: 0.997213\tvalid's auc: 0.968666\n"
     ]
    },
    {
     "name": "stderr",
     "output_type": "stream",
     "text": [
      "D:\\Programfiles2\\anaconda\\lib\\site-packages\\ipykernel\\__main__.py:60: SettingWithCopyWarning: \n",
      "A value is trying to be set on a copy of a slice from a DataFrame.\n",
      "Try using .loc[row_indexer,col_indexer] = value instead\n",
      "\n",
      "See the caveats in the documentation: http://pandas.pydata.org/pandas-docs/stable/indexing.html#indexing-view-versus-copy\n",
      "D:\\Programfiles2\\anaconda\\lib\\site-packages\\ipykernel\\__main__.py:61: SettingWithCopyWarning: \n",
      "A value is trying to be set on a copy of a slice from a DataFrame.\n",
      "Try using .loc[row_indexer,col_indexer] = value instead\n",
      "\n",
      "See the caveats in the documentation: http://pandas.pydata.org/pandas-docs/stable/indexing.html#indexing-view-versus-copy\n"
     ]
    },
    {
     "name": "stdout",
     "output_type": "stream",
     "text": [
      "Fold  3 AUC : 0.968666\n",
      "Training until validation scores don't improve for 100 rounds.\n",
      "[100]\ttrain's auc: 0.965292\tvalid's auc: 0.953473\n",
      "[200]\ttrain's auc: 0.979702\tvalid's auc: 0.965508\n",
      "[300]\ttrain's auc: 0.985342\tvalid's auc: 0.96884\n",
      "[400]\ttrain's auc: 0.988888\tvalid's auc: 0.970351\n",
      "[500]\ttrain's auc: 0.991299\tvalid's auc: 0.970991\n",
      "[600]\ttrain's auc: 0.993061\tvalid's auc: 0.971194\n",
      "[700]\ttrain's auc: 0.994379\tvalid's auc: 0.971487\n",
      "[800]\ttrain's auc: 0.995312\tvalid's auc: 0.971816\n",
      "[900]\ttrain's auc: 0.99604\tvalid's auc: 0.972037\n",
      "[1000]\ttrain's auc: 0.996608\tvalid's auc: 0.972114\n",
      "[1100]\ttrain's auc: 0.997048\tvalid's auc: 0.972145\n",
      "Early stopping, best iteration is:\n",
      "[1061]\ttrain's auc: 0.996896\tvalid's auc: 0.972273\n"
     ]
    },
    {
     "name": "stderr",
     "output_type": "stream",
     "text": [
      "D:\\Programfiles2\\anaconda\\lib\\site-packages\\ipykernel\\__main__.py:60: SettingWithCopyWarning: \n",
      "A value is trying to be set on a copy of a slice from a DataFrame.\n",
      "Try using .loc[row_indexer,col_indexer] = value instead\n",
      "\n",
      "See the caveats in the documentation: http://pandas.pydata.org/pandas-docs/stable/indexing.html#indexing-view-versus-copy\n",
      "D:\\Programfiles2\\anaconda\\lib\\site-packages\\ipykernel\\__main__.py:61: SettingWithCopyWarning: \n",
      "A value is trying to be set on a copy of a slice from a DataFrame.\n",
      "Try using .loc[row_indexer,col_indexer] = value instead\n",
      "\n",
      "See the caveats in the documentation: http://pandas.pydata.org/pandas-docs/stable/indexing.html#indexing-view-versus-copy\n"
     ]
    },
    {
     "name": "stdout",
     "output_type": "stream",
     "text": [
      "Fold  4 AUC : 0.972273\n",
      "Training until validation scores don't improve for 100 rounds.\n",
      "[100]\ttrain's auc: 0.963252\tvalid's auc: 0.942468\n",
      "[200]\ttrain's auc: 0.978924\tvalid's auc: 0.957107\n",
      "[300]\ttrain's auc: 0.984879\tvalid's auc: 0.960529\n",
      "[400]\ttrain's auc: 0.98858\tvalid's auc: 0.961931\n",
      "[500]\ttrain's auc: 0.991023\tvalid's auc: 0.962732\n",
      "[600]\ttrain's auc: 0.992835\tvalid's auc: 0.963079\n",
      "[700]\ttrain's auc: 0.994088\tvalid's auc: 0.963247\n",
      "[800]\ttrain's auc: 0.995078\tvalid's auc: 0.96344\n",
      "[900]\ttrain's auc: 0.995845\tvalid's auc: 0.963501\n",
      "[1000]\ttrain's auc: 0.996439\tvalid's auc: 0.963698\n",
      "Early stopping, best iteration is:\n",
      "[989]\ttrain's auc: 0.996397\tvalid's auc: 0.963959\n"
     ]
    },
    {
     "name": "stderr",
     "output_type": "stream",
     "text": [
      "D:\\Programfiles2\\anaconda\\lib\\site-packages\\ipykernel\\__main__.py:60: SettingWithCopyWarning: \n",
      "A value is trying to be set on a copy of a slice from a DataFrame.\n",
      "Try using .loc[row_indexer,col_indexer] = value instead\n",
      "\n",
      "See the caveats in the documentation: http://pandas.pydata.org/pandas-docs/stable/indexing.html#indexing-view-versus-copy\n",
      "D:\\Programfiles2\\anaconda\\lib\\site-packages\\ipykernel\\__main__.py:61: SettingWithCopyWarning: \n",
      "A value is trying to be set on a copy of a slice from a DataFrame.\n",
      "Try using .loc[row_indexer,col_indexer] = value instead\n",
      "\n",
      "See the caveats in the documentation: http://pandas.pydata.org/pandas-docs/stable/indexing.html#indexing-view-versus-copy\n"
     ]
    },
    {
     "name": "stdout",
     "output_type": "stream",
     "text": [
      "Fold  5 AUC : 0.963959\n"
     ]
    },
    {
     "name": "stderr",
     "output_type": "stream",
     "text": [
      "D:\\Programfiles2\\anaconda\\lib\\site-packages\\ipykernel\\__main__.py:70: SettingWithCopyWarning: \n",
      "A value is trying to be set on a copy of a slice from a DataFrame.\n",
      "Try using .loc[row_indexer,col_indexer] = value instead\n",
      "\n",
      "See the caveats in the documentation: http://pandas.pydata.org/pandas-docs/stable/indexing.html#indexing-view-versus-copy\n"
     ]
    },
    {
     "name": "stdout",
     "output_type": "stream",
     "text": [
      "Full AUC score 0.961606\n",
      "(24943, 531) (6236, 531) (31588, 531)\n",
      "Training until validation scores don't improve for 100 rounds.\n",
      "[100]\ttrain's auc: 0.977352\tvalid's auc: 0.963772\n",
      "[200]\ttrain's auc: 0.987755\tvalid's auc: 0.970209\n",
      "[300]\ttrain's auc: 0.992424\tvalid's auc: 0.97135\n",
      "[400]\ttrain's auc: 0.995049\tvalid's auc: 0.972616\n",
      "Early stopping, best iteration is:\n",
      "[390]\ttrain's auc: 0.994842\tvalid's auc: 0.972707\n"
     ]
    },
    {
     "name": "stderr",
     "output_type": "stream",
     "text": [
      "D:\\Programfiles2\\anaconda\\lib\\site-packages\\ipykernel\\__main__.py:60: SettingWithCopyWarning: \n",
      "A value is trying to be set on a copy of a slice from a DataFrame.\n",
      "Try using .loc[row_indexer,col_indexer] = value instead\n",
      "\n",
      "See the caveats in the documentation: http://pandas.pydata.org/pandas-docs/stable/indexing.html#indexing-view-versus-copy\n",
      "D:\\Programfiles2\\anaconda\\lib\\site-packages\\ipykernel\\__main__.py:61: SettingWithCopyWarning: \n",
      "A value is trying to be set on a copy of a slice from a DataFrame.\n",
      "Try using .loc[row_indexer,col_indexer] = value instead\n",
      "\n",
      "See the caveats in the documentation: http://pandas.pydata.org/pandas-docs/stable/indexing.html#indexing-view-versus-copy\n"
     ]
    },
    {
     "name": "stdout",
     "output_type": "stream",
     "text": [
      "Fold  1 AUC : 0.972707\n",
      "Training until validation scores don't improve for 100 rounds.\n",
      "[100]\ttrain's auc: 0.97886\tvalid's auc: 0.954671\n",
      "[200]\ttrain's auc: 0.988616\tvalid's auc: 0.962346\n",
      "[300]\ttrain's auc: 0.992887\tvalid's auc: 0.963929\n",
      "[400]\ttrain's auc: 0.995295\tvalid's auc: 0.964848\n",
      "[500]\ttrain's auc: 0.996719\tvalid's auc: 0.965058\n",
      "[600]\ttrain's auc: 0.997658\tvalid's auc: 0.965052\n",
      "[700]\ttrain's auc: 0.99823\tvalid's auc: 0.965074\n",
      "Early stopping, best iteration is:\n",
      "[624]\ttrain's auc: 0.997819\tvalid's auc: 0.965281\n"
     ]
    },
    {
     "name": "stderr",
     "output_type": "stream",
     "text": [
      "D:\\Programfiles2\\anaconda\\lib\\site-packages\\ipykernel\\__main__.py:60: SettingWithCopyWarning: \n",
      "A value is trying to be set on a copy of a slice from a DataFrame.\n",
      "Try using .loc[row_indexer,col_indexer] = value instead\n",
      "\n",
      "See the caveats in the documentation: http://pandas.pydata.org/pandas-docs/stable/indexing.html#indexing-view-versus-copy\n",
      "D:\\Programfiles2\\anaconda\\lib\\site-packages\\ipykernel\\__main__.py:61: SettingWithCopyWarning: \n",
      "A value is trying to be set on a copy of a slice from a DataFrame.\n",
      "Try using .loc[row_indexer,col_indexer] = value instead\n",
      "\n",
      "See the caveats in the documentation: http://pandas.pydata.org/pandas-docs/stable/indexing.html#indexing-view-versus-copy\n"
     ]
    },
    {
     "name": "stdout",
     "output_type": "stream",
     "text": [
      "Fold  2 AUC : 0.965281\n",
      "Training until validation scores don't improve for 100 rounds.\n",
      "[100]\ttrain's auc: 0.978738\tvalid's auc: 0.956029\n",
      "[200]\ttrain's auc: 0.98854\tvalid's auc: 0.961679\n",
      "[300]\ttrain's auc: 0.992967\tvalid's auc: 0.964535\n",
      "[400]\ttrain's auc: 0.995382\tvalid's auc: 0.965956\n",
      "[500]\ttrain's auc: 0.996797\tvalid's auc: 0.967177\n",
      "[600]\ttrain's auc: 0.997665\tvalid's auc: 0.96726\n",
      "[700]\ttrain's auc: 0.998223\tvalid's auc: 0.96767\n",
      "[800]\ttrain's auc: 0.998596\tvalid's auc: 0.967717\n",
      "Early stopping, best iteration is:\n",
      "[738]\ttrain's auc: 0.998387\tvalid's auc: 0.967875\n"
     ]
    },
    {
     "name": "stderr",
     "output_type": "stream",
     "text": [
      "D:\\Programfiles2\\anaconda\\lib\\site-packages\\ipykernel\\__main__.py:60: SettingWithCopyWarning: \n",
      "A value is trying to be set on a copy of a slice from a DataFrame.\n",
      "Try using .loc[row_indexer,col_indexer] = value instead\n",
      "\n",
      "See the caveats in the documentation: http://pandas.pydata.org/pandas-docs/stable/indexing.html#indexing-view-versus-copy\n",
      "D:\\Programfiles2\\anaconda\\lib\\site-packages\\ipykernel\\__main__.py:61: SettingWithCopyWarning: \n",
      "A value is trying to be set on a copy of a slice from a DataFrame.\n",
      "Try using .loc[row_indexer,col_indexer] = value instead\n",
      "\n",
      "See the caveats in the documentation: http://pandas.pydata.org/pandas-docs/stable/indexing.html#indexing-view-versus-copy\n"
     ]
    },
    {
     "name": "stdout",
     "output_type": "stream",
     "text": [
      "Fold  3 AUC : 0.967875\n",
      "Training until validation scores don't improve for 100 rounds.\n",
      "[100]\ttrain's auc: 0.939656\tvalid's auc: 0.928389\n",
      "Early stopping, best iteration is:\n",
      "[51]\ttrain's auc: 0.965579\tvalid's auc: 0.948754\n"
     ]
    },
    {
     "name": "stderr",
     "output_type": "stream",
     "text": [
      "D:\\Programfiles2\\anaconda\\lib\\site-packages\\ipykernel\\__main__.py:60: SettingWithCopyWarning: \n",
      "A value is trying to be set on a copy of a slice from a DataFrame.\n",
      "Try using .loc[row_indexer,col_indexer] = value instead\n",
      "\n",
      "See the caveats in the documentation: http://pandas.pydata.org/pandas-docs/stable/indexing.html#indexing-view-versus-copy\n",
      "D:\\Programfiles2\\anaconda\\lib\\site-packages\\ipykernel\\__main__.py:61: SettingWithCopyWarning: \n",
      "A value is trying to be set on a copy of a slice from a DataFrame.\n",
      "Try using .loc[row_indexer,col_indexer] = value instead\n",
      "\n",
      "See the caveats in the documentation: http://pandas.pydata.org/pandas-docs/stable/indexing.html#indexing-view-versus-copy\n"
     ]
    },
    {
     "name": "stdout",
     "output_type": "stream",
     "text": [
      "Fold  4 AUC : 0.948754\n",
      "Training until validation scores don't improve for 100 rounds.\n",
      "[100]\ttrain's auc: 0.978491\tvalid's auc: 0.964283\n",
      "[200]\ttrain's auc: 0.988359\tvalid's auc: 0.970753\n",
      "[300]\ttrain's auc: 0.992751\tvalid's auc: 0.973056\n",
      "[400]\ttrain's auc: 0.995181\tvalid's auc: 0.97363\n",
      "[500]\ttrain's auc: 0.99663\tvalid's auc: 0.974631\n",
      "[600]\ttrain's auc: 0.997538\tvalid's auc: 0.975021\n",
      "Early stopping, best iteration is:\n",
      "[562]\ttrain's auc: 0.997249\tvalid's auc: 0.975157\n"
     ]
    },
    {
     "name": "stderr",
     "output_type": "stream",
     "text": [
      "D:\\Programfiles2\\anaconda\\lib\\site-packages\\ipykernel\\__main__.py:60: SettingWithCopyWarning: \n",
      "A value is trying to be set on a copy of a slice from a DataFrame.\n",
      "Try using .loc[row_indexer,col_indexer] = value instead\n",
      "\n",
      "See the caveats in the documentation: http://pandas.pydata.org/pandas-docs/stable/indexing.html#indexing-view-versus-copy\n",
      "D:\\Programfiles2\\anaconda\\lib\\site-packages\\ipykernel\\__main__.py:61: SettingWithCopyWarning: \n",
      "A value is trying to be set on a copy of a slice from a DataFrame.\n",
      "Try using .loc[row_indexer,col_indexer] = value instead\n",
      "\n",
      "See the caveats in the documentation: http://pandas.pydata.org/pandas-docs/stable/indexing.html#indexing-view-versus-copy\n"
     ]
    },
    {
     "name": "stdout",
     "output_type": "stream",
     "text": [
      "Fold  5 AUC : 0.975157\n"
     ]
    },
    {
     "name": "stderr",
     "output_type": "stream",
     "text": [
      "D:\\Programfiles2\\anaconda\\lib\\site-packages\\ipykernel\\__main__.py:70: SettingWithCopyWarning: \n",
      "A value is trying to be set on a copy of a slice from a DataFrame.\n",
      "Try using .loc[row_indexer,col_indexer] = value instead\n",
      "\n",
      "See the caveats in the documentation: http://pandas.pydata.org/pandas-docs/stable/indexing.html#indexing-view-versus-copy\n"
     ]
    },
    {
     "name": "stdout",
     "output_type": "stream",
     "text": [
      "Full AUC score 0.964779\n",
      "(24943, 531) (6236, 531) (31588, 531)\n",
      "Training until validation scores don't improve for 100 rounds.\n",
      "[100]\ttrain's auc: 0.933837\tvalid's auc: 0.922426\n",
      "Early stopping, best iteration is:\n",
      "[59]\ttrain's auc: 0.963286\tvalid's auc: 0.947143\n"
     ]
    },
    {
     "name": "stderr",
     "output_type": "stream",
     "text": [
      "D:\\Programfiles2\\anaconda\\lib\\site-packages\\ipykernel\\__main__.py:60: SettingWithCopyWarning: \n",
      "A value is trying to be set on a copy of a slice from a DataFrame.\n",
      "Try using .loc[row_indexer,col_indexer] = value instead\n",
      "\n",
      "See the caveats in the documentation: http://pandas.pydata.org/pandas-docs/stable/indexing.html#indexing-view-versus-copy\n",
      "D:\\Programfiles2\\anaconda\\lib\\site-packages\\ipykernel\\__main__.py:61: SettingWithCopyWarning: \n",
      "A value is trying to be set on a copy of a slice from a DataFrame.\n",
      "Try using .loc[row_indexer,col_indexer] = value instead\n",
      "\n",
      "See the caveats in the documentation: http://pandas.pydata.org/pandas-docs/stable/indexing.html#indexing-view-versus-copy\n"
     ]
    },
    {
     "name": "stdout",
     "output_type": "stream",
     "text": [
      "Fold  1 AUC : 0.947143\n",
      "Training until validation scores don't improve for 100 rounds.\n",
      "[100]\ttrain's auc: 0.972758\tvalid's auc: 0.956385\n",
      "[200]\ttrain's auc: 0.984799\tvalid's auc: 0.962837\n",
      "[300]\ttrain's auc: 0.99014\tvalid's auc: 0.964909\n",
      "[400]\ttrain's auc: 0.993251\tvalid's auc: 0.965879\n",
      "[500]\ttrain's auc: 0.995216\tvalid's auc: 0.966951\n",
      "[600]\ttrain's auc: 0.996529\tvalid's auc: 0.967612\n",
      "[700]\ttrain's auc: 0.997401\tvalid's auc: 0.967918\n",
      "Early stopping, best iteration is:\n",
      "[663]\ttrain's auc: 0.997131\tvalid's auc: 0.967962\n"
     ]
    },
    {
     "name": "stderr",
     "output_type": "stream",
     "text": [
      "D:\\Programfiles2\\anaconda\\lib\\site-packages\\ipykernel\\__main__.py:60: SettingWithCopyWarning: \n",
      "A value is trying to be set on a copy of a slice from a DataFrame.\n",
      "Try using .loc[row_indexer,col_indexer] = value instead\n",
      "\n",
      "See the caveats in the documentation: http://pandas.pydata.org/pandas-docs/stable/indexing.html#indexing-view-versus-copy\n",
      "D:\\Programfiles2\\anaconda\\lib\\site-packages\\ipykernel\\__main__.py:61: SettingWithCopyWarning: \n",
      "A value is trying to be set on a copy of a slice from a DataFrame.\n",
      "Try using .loc[row_indexer,col_indexer] = value instead\n",
      "\n",
      "See the caveats in the documentation: http://pandas.pydata.org/pandas-docs/stable/indexing.html#indexing-view-versus-copy\n"
     ]
    },
    {
     "name": "stdout",
     "output_type": "stream",
     "text": [
      "Fold  2 AUC : 0.967962\n",
      "Training until validation scores don't improve for 100 rounds.\n",
      "[100]\ttrain's auc: 0.973398\tvalid's auc: 0.959491\n",
      "[200]\ttrain's auc: 0.985121\tvalid's auc: 0.966128\n",
      "[300]\ttrain's auc: 0.990375\tvalid's auc: 0.968168\n",
      "[400]\ttrain's auc: 0.993359\tvalid's auc: 0.968602\n",
      "[500]\ttrain's auc: 0.995326\tvalid's auc: 0.968654\n",
      "[600]\ttrain's auc: 0.996581\tvalid's auc: 0.969328\n",
      "[700]\ttrain's auc: 0.997461\tvalid's auc: 0.969205\n",
      "Early stopping, best iteration is:\n",
      "[602]\ttrain's auc: 0.996607\tvalid's auc: 0.969376\n"
     ]
    },
    {
     "name": "stderr",
     "output_type": "stream",
     "text": [
      "D:\\Programfiles2\\anaconda\\lib\\site-packages\\ipykernel\\__main__.py:60: SettingWithCopyWarning: \n",
      "A value is trying to be set on a copy of a slice from a DataFrame.\n",
      "Try using .loc[row_indexer,col_indexer] = value instead\n",
      "\n",
      "See the caveats in the documentation: http://pandas.pydata.org/pandas-docs/stable/indexing.html#indexing-view-versus-copy\n",
      "D:\\Programfiles2\\anaconda\\lib\\site-packages\\ipykernel\\__main__.py:61: SettingWithCopyWarning: \n",
      "A value is trying to be set on a copy of a slice from a DataFrame.\n",
      "Try using .loc[row_indexer,col_indexer] = value instead\n",
      "\n",
      "See the caveats in the documentation: http://pandas.pydata.org/pandas-docs/stable/indexing.html#indexing-view-versus-copy\n"
     ]
    },
    {
     "name": "stdout",
     "output_type": "stream",
     "text": [
      "Fold  3 AUC : 0.969376\n",
      "Training until validation scores don't improve for 100 rounds.\n",
      "[100]\ttrain's auc: 0.972281\tvalid's auc: 0.943537\n",
      "[200]\ttrain's auc: 0.985066\tvalid's auc: 0.958182\n",
      "[300]\ttrain's auc: 0.990327\tvalid's auc: 0.96193\n",
      "[400]\ttrain's auc: 0.993356\tvalid's auc: 0.962484\n",
      "[500]\ttrain's auc: 0.995351\tvalid's auc: 0.963318\n",
      "[600]\ttrain's auc: 0.996661\tvalid's auc: 0.963615\n",
      "[700]\ttrain's auc: 0.997482\tvalid's auc: 0.963677\n",
      "[800]\ttrain's auc: 0.998085\tvalid's auc: 0.963668\n",
      "Early stopping, best iteration is:\n",
      "[743]\ttrain's auc: 0.997774\tvalid's auc: 0.963906\n"
     ]
    },
    {
     "name": "stderr",
     "output_type": "stream",
     "text": [
      "D:\\Programfiles2\\anaconda\\lib\\site-packages\\ipykernel\\__main__.py:60: SettingWithCopyWarning: \n",
      "A value is trying to be set on a copy of a slice from a DataFrame.\n",
      "Try using .loc[row_indexer,col_indexer] = value instead\n",
      "\n",
      "See the caveats in the documentation: http://pandas.pydata.org/pandas-docs/stable/indexing.html#indexing-view-versus-copy\n",
      "D:\\Programfiles2\\anaconda\\lib\\site-packages\\ipykernel\\__main__.py:61: SettingWithCopyWarning: \n",
      "A value is trying to be set on a copy of a slice from a DataFrame.\n",
      "Try using .loc[row_indexer,col_indexer] = value instead\n",
      "\n",
      "See the caveats in the documentation: http://pandas.pydata.org/pandas-docs/stable/indexing.html#indexing-view-versus-copy\n"
     ]
    },
    {
     "name": "stdout",
     "output_type": "stream",
     "text": [
      "Fold  4 AUC : 0.963906\n",
      "Training until validation scores don't improve for 100 rounds.\n",
      "[100]\ttrain's auc: 0.972367\tvalid's auc: 0.953765\n",
      "[200]\ttrain's auc: 0.984564\tvalid's auc: 0.963011\n",
      "[300]\ttrain's auc: 0.989913\tvalid's auc: 0.965669\n",
      "[400]\ttrain's auc: 0.993087\tvalid's auc: 0.966819\n",
      "[500]\ttrain's auc: 0.995058\tvalid's auc: 0.967328\n",
      "Early stopping, best iteration is:\n",
      "[496]\ttrain's auc: 0.99501\tvalid's auc: 0.967474\n"
     ]
    },
    {
     "name": "stderr",
     "output_type": "stream",
     "text": [
      "D:\\Programfiles2\\anaconda\\lib\\site-packages\\ipykernel\\__main__.py:60: SettingWithCopyWarning: \n",
      "A value is trying to be set on a copy of a slice from a DataFrame.\n",
      "Try using .loc[row_indexer,col_indexer] = value instead\n",
      "\n",
      "See the caveats in the documentation: http://pandas.pydata.org/pandas-docs/stable/indexing.html#indexing-view-versus-copy\n",
      "D:\\Programfiles2\\anaconda\\lib\\site-packages\\ipykernel\\__main__.py:61: SettingWithCopyWarning: \n",
      "A value is trying to be set on a copy of a slice from a DataFrame.\n",
      "Try using .loc[row_indexer,col_indexer] = value instead\n",
      "\n",
      "See the caveats in the documentation: http://pandas.pydata.org/pandas-docs/stable/indexing.html#indexing-view-versus-copy\n"
     ]
    },
    {
     "name": "stdout",
     "output_type": "stream",
     "text": [
      "Fold  5 AUC : 0.967474\n"
     ]
    },
    {
     "name": "stderr",
     "output_type": "stream",
     "text": [
      "D:\\Programfiles2\\anaconda\\lib\\site-packages\\ipykernel\\__main__.py:70: SettingWithCopyWarning: \n",
      "A value is trying to be set on a copy of a slice from a DataFrame.\n",
      "Try using .loc[row_indexer,col_indexer] = value instead\n",
      "\n",
      "See the caveats in the documentation: http://pandas.pydata.org/pandas-docs/stable/indexing.html#indexing-view-versus-copy\n"
     ]
    },
    {
     "name": "stdout",
     "output_type": "stream",
     "text": [
      "Full AUC score 0.961284\n",
      "(24943, 531) (6236, 531) (31588, 531)\n",
      "Training until validation scores don't improve for 100 rounds.\n",
      "[100]\ttrain's auc: 0.964473\tvalid's auc: 0.950354\n",
      "[200]\ttrain's auc: 0.977897\tvalid's auc: 0.965106\n",
      "[300]\ttrain's auc: 0.982499\tvalid's auc: 0.968552\n",
      "[400]\ttrain's auc: 0.9859\tvalid's auc: 0.969894\n",
      "[500]\ttrain's auc: 0.988021\tvalid's auc: 0.970417\n",
      "[600]\ttrain's auc: 0.989404\tvalid's auc: 0.970646\n",
      "[700]\ttrain's auc: 0.990217\tvalid's auc: 0.970962\n",
      "Early stopping, best iteration is:\n",
      "[658]\ttrain's auc: 0.989924\tvalid's auc: 0.971017\n"
     ]
    },
    {
     "name": "stderr",
     "output_type": "stream",
     "text": [
      "D:\\Programfiles2\\anaconda\\lib\\site-packages\\ipykernel\\__main__.py:60: SettingWithCopyWarning: \n",
      "A value is trying to be set on a copy of a slice from a DataFrame.\n",
      "Try using .loc[row_indexer,col_indexer] = value instead\n",
      "\n",
      "See the caveats in the documentation: http://pandas.pydata.org/pandas-docs/stable/indexing.html#indexing-view-versus-copy\n",
      "D:\\Programfiles2\\anaconda\\lib\\site-packages\\ipykernel\\__main__.py:61: SettingWithCopyWarning: \n",
      "A value is trying to be set on a copy of a slice from a DataFrame.\n",
      "Try using .loc[row_indexer,col_indexer] = value instead\n",
      "\n",
      "See the caveats in the documentation: http://pandas.pydata.org/pandas-docs/stable/indexing.html#indexing-view-versus-copy\n"
     ]
    },
    {
     "name": "stdout",
     "output_type": "stream",
     "text": [
      "Fold  1 AUC : 0.970982\n",
      "Training until validation scores don't improve for 100 rounds.\n",
      "[100]\ttrain's auc: 0.964181\tvalid's auc: 0.937808\n",
      "[200]\ttrain's auc: 0.978382\tvalid's auc: 0.952908\n",
      "[300]\ttrain's auc: 0.983296\tvalid's auc: 0.957038\n",
      "[400]\ttrain's auc: 0.986253\tvalid's auc: 0.959047\n",
      "[500]\ttrain's auc: 0.98835\tvalid's auc: 0.959848\n",
      "[600]\ttrain's auc: 0.98967\tvalid's auc: 0.960874\n",
      "[700]\ttrain's auc: 0.990378\tvalid's auc: 0.961105\n",
      "[800]\ttrain's auc: 0.990756\tvalid's auc: 0.961369\n",
      "Early stopping, best iteration is:\n",
      "[762]\ttrain's auc: 0.990711\tvalid's auc: 0.961383\n"
     ]
    },
    {
     "name": "stderr",
     "output_type": "stream",
     "text": [
      "D:\\Programfiles2\\anaconda\\lib\\site-packages\\ipykernel\\__main__.py:60: SettingWithCopyWarning: \n",
      "A value is trying to be set on a copy of a slice from a DataFrame.\n",
      "Try using .loc[row_indexer,col_indexer] = value instead\n",
      "\n",
      "See the caveats in the documentation: http://pandas.pydata.org/pandas-docs/stable/indexing.html#indexing-view-versus-copy\n",
      "D:\\Programfiles2\\anaconda\\lib\\site-packages\\ipykernel\\__main__.py:61: SettingWithCopyWarning: \n",
      "A value is trying to be set on a copy of a slice from a DataFrame.\n",
      "Try using .loc[row_indexer,col_indexer] = value instead\n",
      "\n",
      "See the caveats in the documentation: http://pandas.pydata.org/pandas-docs/stable/indexing.html#indexing-view-versus-copy\n"
     ]
    },
    {
     "name": "stdout",
     "output_type": "stream",
     "text": [
      "Fold  2 AUC : 0.961373\n",
      "Training until validation scores don't improve for 100 rounds.\n",
      "[100]\ttrain's auc: 0.924694\tvalid's auc: 0.91353\n",
      "Early stopping, best iteration is:\n",
      "[63]\ttrain's auc: 0.9534\tvalid's auc: 0.939627\n"
     ]
    },
    {
     "name": "stderr",
     "output_type": "stream",
     "text": [
      "D:\\Programfiles2\\anaconda\\lib\\site-packages\\ipykernel\\__main__.py:60: SettingWithCopyWarning: \n",
      "A value is trying to be set on a copy of a slice from a DataFrame.\n",
      "Try using .loc[row_indexer,col_indexer] = value instead\n",
      "\n",
      "See the caveats in the documentation: http://pandas.pydata.org/pandas-docs/stable/indexing.html#indexing-view-versus-copy\n",
      "D:\\Programfiles2\\anaconda\\lib\\site-packages\\ipykernel\\__main__.py:61: SettingWithCopyWarning: \n",
      "A value is trying to be set on a copy of a slice from a DataFrame.\n",
      "Try using .loc[row_indexer,col_indexer] = value instead\n",
      "\n",
      "See the caveats in the documentation: http://pandas.pydata.org/pandas-docs/stable/indexing.html#indexing-view-versus-copy\n"
     ]
    },
    {
     "name": "stdout",
     "output_type": "stream",
     "text": [
      "Fold  3 AUC : 0.939627\n",
      "Training until validation scores don't improve for 100 rounds.\n",
      "[100]\ttrain's auc: 0.963183\tvalid's auc: 0.952305\n",
      "[200]\ttrain's auc: 0.976865\tvalid's auc: 0.962086\n",
      "[300]\ttrain's auc: 0.982055\tvalid's auc: 0.965359\n",
      "[400]\ttrain's auc: 0.985562\tvalid's auc: 0.966441\n",
      "[500]\ttrain's auc: 0.98749\tvalid's auc: 0.966985\n",
      "[600]\ttrain's auc: 0.988907\tvalid's auc: 0.967286\n",
      "[700]\ttrain's auc: 0.989494\tvalid's auc: 0.967427\n",
      "Early stopping, best iteration is:\n",
      "[674]\ttrain's auc: 0.989451\tvalid's auc: 0.967452\n"
     ]
    },
    {
     "name": "stderr",
     "output_type": "stream",
     "text": [
      "D:\\Programfiles2\\anaconda\\lib\\site-packages\\ipykernel\\__main__.py:60: SettingWithCopyWarning: \n",
      "A value is trying to be set on a copy of a slice from a DataFrame.\n",
      "Try using .loc[row_indexer,col_indexer] = value instead\n",
      "\n",
      "See the caveats in the documentation: http://pandas.pydata.org/pandas-docs/stable/indexing.html#indexing-view-versus-copy\n",
      "D:\\Programfiles2\\anaconda\\lib\\site-packages\\ipykernel\\__main__.py:61: SettingWithCopyWarning: \n",
      "A value is trying to be set on a copy of a slice from a DataFrame.\n",
      "Try using .loc[row_indexer,col_indexer] = value instead\n",
      "\n",
      "See the caveats in the documentation: http://pandas.pydata.org/pandas-docs/stable/indexing.html#indexing-view-versus-copy\n"
     ]
    },
    {
     "name": "stdout",
     "output_type": "stream",
     "text": [
      "Fold  4 AUC : 0.967452\n",
      "Training until validation scores don't improve for 100 rounds.\n",
      "[100]\ttrain's auc: 0.96473\tvalid's auc: 0.947974\n",
      "[200]\ttrain's auc: 0.978102\tvalid's auc: 0.95604\n",
      "[300]\ttrain's auc: 0.982992\tvalid's auc: 0.959701\n",
      "[400]\ttrain's auc: 0.985963\tvalid's auc: 0.961385\n",
      "[500]\ttrain's auc: 0.988028\tvalid's auc: 0.962203\n",
      "[600]\ttrain's auc: 0.989338\tvalid's auc: 0.962723\n",
      "[700]\ttrain's auc: 0.990065\tvalid's auc: 0.963028\n",
      "[800]\ttrain's auc: 0.99048\tvalid's auc: 0.963209\n",
      "[900]\ttrain's auc: 0.990589\tvalid's auc: 0.963319\n",
      "Early stopping, best iteration is:\n",
      "[816]\ttrain's auc: 0.990582\tvalid's auc: 0.96333\n"
     ]
    },
    {
     "name": "stderr",
     "output_type": "stream",
     "text": [
      "D:\\Programfiles2\\anaconda\\lib\\site-packages\\ipykernel\\__main__.py:60: SettingWithCopyWarning: \n",
      "A value is trying to be set on a copy of a slice from a DataFrame.\n",
      "Try using .loc[row_indexer,col_indexer] = value instead\n",
      "\n",
      "See the caveats in the documentation: http://pandas.pydata.org/pandas-docs/stable/indexing.html#indexing-view-versus-copy\n",
      "D:\\Programfiles2\\anaconda\\lib\\site-packages\\ipykernel\\__main__.py:61: SettingWithCopyWarning: \n",
      "A value is trying to be set on a copy of a slice from a DataFrame.\n",
      "Try using .loc[row_indexer,col_indexer] = value instead\n",
      "\n",
      "See the caveats in the documentation: http://pandas.pydata.org/pandas-docs/stable/indexing.html#indexing-view-versus-copy\n"
     ]
    },
    {
     "name": "stdout",
     "output_type": "stream",
     "text": [
      "Fold  5 AUC : 0.963330\n"
     ]
    },
    {
     "name": "stderr",
     "output_type": "stream",
     "text": [
      "D:\\Programfiles2\\anaconda\\lib\\site-packages\\ipykernel\\__main__.py:70: SettingWithCopyWarning: \n",
      "A value is trying to be set on a copy of a slice from a DataFrame.\n",
      "Try using .loc[row_indexer,col_indexer] = value instead\n",
      "\n",
      "See the caveats in the documentation: http://pandas.pydata.org/pandas-docs/stable/indexing.html#indexing-view-versus-copy\n"
     ]
    },
    {
     "name": "stdout",
     "output_type": "stream",
     "text": [
      "Full AUC score 0.959105\n",
      "(24943, 531) (6236, 531) (31588, 531)\n",
      "Training until validation scores don't improve for 100 rounds.\n",
      "[100]\ttrain's auc: 0.974034\tvalid's auc: 0.953615\n",
      "[200]\ttrain's auc: 0.985703\tvalid's auc: 0.961346\n",
      "[300]\ttrain's auc: 0.990828\tvalid's auc: 0.963847\n",
      "[400]\ttrain's auc: 0.9937\tvalid's auc: 0.964981\n",
      "[500]\ttrain's auc: 0.99557\tvalid's auc: 0.965552\n",
      "[600]\ttrain's auc: 0.996816\tvalid's auc: 0.966217\n",
      "[700]\ttrain's auc: 0.997636\tvalid's auc: 0.966874\n",
      "[800]\ttrain's auc: 0.998229\tvalid's auc: 0.967221\n",
      "[900]\ttrain's auc: 0.998616\tvalid's auc: 0.967565\n",
      "[1000]\ttrain's auc: 0.998913\tvalid's auc: 0.967543\n",
      "Early stopping, best iteration is:\n",
      "[919]\ttrain's auc: 0.998684\tvalid's auc: 0.967626\n"
     ]
    },
    {
     "name": "stderr",
     "output_type": "stream",
     "text": [
      "D:\\Programfiles2\\anaconda\\lib\\site-packages\\ipykernel\\__main__.py:60: SettingWithCopyWarning: \n",
      "A value is trying to be set on a copy of a slice from a DataFrame.\n",
      "Try using .loc[row_indexer,col_indexer] = value instead\n",
      "\n",
      "See the caveats in the documentation: http://pandas.pydata.org/pandas-docs/stable/indexing.html#indexing-view-versus-copy\n",
      "D:\\Programfiles2\\anaconda\\lib\\site-packages\\ipykernel\\__main__.py:61: SettingWithCopyWarning: \n",
      "A value is trying to be set on a copy of a slice from a DataFrame.\n",
      "Try using .loc[row_indexer,col_indexer] = value instead\n",
      "\n",
      "See the caveats in the documentation: http://pandas.pydata.org/pandas-docs/stable/indexing.html#indexing-view-versus-copy\n"
     ]
    },
    {
     "name": "stdout",
     "output_type": "stream",
     "text": [
      "Fold  1 AUC : 0.967626\n",
      "Training until validation scores don't improve for 100 rounds.\n",
      "[100]\ttrain's auc: 0.972806\tvalid's auc: 0.955767\n",
      "[200]\ttrain's auc: 0.985285\tvalid's auc: 0.966092\n",
      "[300]\ttrain's auc: 0.99054\tvalid's auc: 0.968887\n",
      "[400]\ttrain's auc: 0.993704\tvalid's auc: 0.970333\n",
      "[500]\ttrain's auc: 0.995648\tvalid's auc: 0.97095\n",
      "[600]\ttrain's auc: 0.996944\tvalid's auc: 0.971311\n",
      "[700]\ttrain's auc: 0.997775\tvalid's auc: 0.971753\n",
      "[800]\ttrain's auc: 0.998343\tvalid's auc: 0.97196\n",
      "Early stopping, best iteration is:\n",
      "[774]\ttrain's auc: 0.998214\tvalid's auc: 0.971972\n"
     ]
    },
    {
     "name": "stderr",
     "output_type": "stream",
     "text": [
      "D:\\Programfiles2\\anaconda\\lib\\site-packages\\ipykernel\\__main__.py:60: SettingWithCopyWarning: \n",
      "A value is trying to be set on a copy of a slice from a DataFrame.\n",
      "Try using .loc[row_indexer,col_indexer] = value instead\n",
      "\n",
      "See the caveats in the documentation: http://pandas.pydata.org/pandas-docs/stable/indexing.html#indexing-view-versus-copy\n",
      "D:\\Programfiles2\\anaconda\\lib\\site-packages\\ipykernel\\__main__.py:61: SettingWithCopyWarning: \n",
      "A value is trying to be set on a copy of a slice from a DataFrame.\n",
      "Try using .loc[row_indexer,col_indexer] = value instead\n",
      "\n",
      "See the caveats in the documentation: http://pandas.pydata.org/pandas-docs/stable/indexing.html#indexing-view-versus-copy\n"
     ]
    },
    {
     "name": "stdout",
     "output_type": "stream",
     "text": [
      "Fold  2 AUC : 0.971972\n",
      "Training until validation scores don't improve for 100 rounds.\n",
      "[100]\ttrain's auc: 0.973463\tvalid's auc: 0.961998\n",
      "[200]\ttrain's auc: 0.985165\tvalid's auc: 0.969664\n",
      "[300]\ttrain's auc: 0.99047\tvalid's auc: 0.972125\n",
      "[400]\ttrain's auc: 0.993489\tvalid's auc: 0.973148\n",
      "[500]\ttrain's auc: 0.995436\tvalid's auc: 0.973892\n",
      "[600]\ttrain's auc: 0.996754\tvalid's auc: 0.974209\n",
      "[700]\ttrain's auc: 0.997602\tvalid's auc: 0.974782\n",
      "[800]\ttrain's auc: 0.998186\tvalid's auc: 0.974814\n",
      "[900]\ttrain's auc: 0.998594\tvalid's auc: 0.974978\n",
      "[1000]\ttrain's auc: 0.998888\tvalid's auc: 0.975247\n",
      "[1100]\ttrain's auc: 0.999111\tvalid's auc: 0.975567\n",
      "[1200]\ttrain's auc: 0.999286\tvalid's auc: 0.975688\n",
      "[1300]\ttrain's auc: 0.999418\tvalid's auc: 0.976025\n",
      "[1400]\ttrain's auc: 0.999524\tvalid's auc: 0.976353\n",
      "[1500]\ttrain's auc: 0.999603\tvalid's auc: 0.976489\n",
      "[1600]\ttrain's auc: 0.999672\tvalid's auc: 0.976663\n",
      "[1700]\ttrain's auc: 0.999726\tvalid's auc: 0.97686\n",
      "[1800]\ttrain's auc: 0.99977\tvalid's auc: 0.977042\n",
      "[1900]\ttrain's auc: 0.999804\tvalid's auc: 0.977158\n",
      "[2000]\ttrain's auc: 0.999832\tvalid's auc: 0.977117\n",
      "Early stopping, best iteration is:\n",
      "[1909]\ttrain's auc: 0.999807\tvalid's auc: 0.977203\n"
     ]
    },
    {
     "name": "stderr",
     "output_type": "stream",
     "text": [
      "D:\\Programfiles2\\anaconda\\lib\\site-packages\\ipykernel\\__main__.py:60: SettingWithCopyWarning: \n",
      "A value is trying to be set on a copy of a slice from a DataFrame.\n",
      "Try using .loc[row_indexer,col_indexer] = value instead\n",
      "\n",
      "See the caveats in the documentation: http://pandas.pydata.org/pandas-docs/stable/indexing.html#indexing-view-versus-copy\n",
      "D:\\Programfiles2\\anaconda\\lib\\site-packages\\ipykernel\\__main__.py:61: SettingWithCopyWarning: \n",
      "A value is trying to be set on a copy of a slice from a DataFrame.\n",
      "Try using .loc[row_indexer,col_indexer] = value instead\n",
      "\n",
      "See the caveats in the documentation: http://pandas.pydata.org/pandas-docs/stable/indexing.html#indexing-view-versus-copy\n"
     ]
    },
    {
     "name": "stdout",
     "output_type": "stream",
     "text": [
      "Fold  3 AUC : 0.977203\n",
      "Training until validation scores don't improve for 100 rounds.\n",
      "[100]\ttrain's auc: 0.934976\tvalid's auc: 0.911138\n",
      "Early stopping, best iteration is:\n",
      "[60]\ttrain's auc: 0.964106\tvalid's auc: 0.942505\n"
     ]
    },
    {
     "name": "stderr",
     "output_type": "stream",
     "text": [
      "D:\\Programfiles2\\anaconda\\lib\\site-packages\\ipykernel\\__main__.py:60: SettingWithCopyWarning: \n",
      "A value is trying to be set on a copy of a slice from a DataFrame.\n",
      "Try using .loc[row_indexer,col_indexer] = value instead\n",
      "\n",
      "See the caveats in the documentation: http://pandas.pydata.org/pandas-docs/stable/indexing.html#indexing-view-versus-copy\n",
      "D:\\Programfiles2\\anaconda\\lib\\site-packages\\ipykernel\\__main__.py:61: SettingWithCopyWarning: \n",
      "A value is trying to be set on a copy of a slice from a DataFrame.\n",
      "Try using .loc[row_indexer,col_indexer] = value instead\n",
      "\n",
      "See the caveats in the documentation: http://pandas.pydata.org/pandas-docs/stable/indexing.html#indexing-view-versus-copy\n"
     ]
    },
    {
     "name": "stdout",
     "output_type": "stream",
     "text": [
      "Fold  4 AUC : 0.942505\n",
      "Training until validation scores don't improve for 100 rounds.\n",
      "[100]\ttrain's auc: 0.973021\tvalid's auc: 0.955368\n",
      "[200]\ttrain's auc: 0.98498\tvalid's auc: 0.964476\n",
      "[300]\ttrain's auc: 0.990407\tvalid's auc: 0.967595\n",
      "[400]\ttrain's auc: 0.993485\tvalid's auc: 0.968872\n",
      "[500]\ttrain's auc: 0.995461\tvalid's auc: 0.969752\n",
      "[600]\ttrain's auc: 0.996737\tvalid's auc: 0.970152\n",
      "Early stopping, best iteration is:\n",
      "[575]\ttrain's auc: 0.996472\tvalid's auc: 0.970272\n"
     ]
    },
    {
     "name": "stderr",
     "output_type": "stream",
     "text": [
      "D:\\Programfiles2\\anaconda\\lib\\site-packages\\ipykernel\\__main__.py:60: SettingWithCopyWarning: \n",
      "A value is trying to be set on a copy of a slice from a DataFrame.\n",
      "Try using .loc[row_indexer,col_indexer] = value instead\n",
      "\n",
      "See the caveats in the documentation: http://pandas.pydata.org/pandas-docs/stable/indexing.html#indexing-view-versus-copy\n",
      "D:\\Programfiles2\\anaconda\\lib\\site-packages\\ipykernel\\__main__.py:61: SettingWithCopyWarning: \n",
      "A value is trying to be set on a copy of a slice from a DataFrame.\n",
      "Try using .loc[row_indexer,col_indexer] = value instead\n",
      "\n",
      "See the caveats in the documentation: http://pandas.pydata.org/pandas-docs/stable/indexing.html#indexing-view-versus-copy\n"
     ]
    },
    {
     "name": "stdout",
     "output_type": "stream",
     "text": [
      "Fold  5 AUC : 0.970272\n"
     ]
    },
    {
     "name": "stderr",
     "output_type": "stream",
     "text": [
      "D:\\Programfiles2\\anaconda\\lib\\site-packages\\ipykernel\\__main__.py:70: SettingWithCopyWarning: \n",
      "A value is trying to be set on a copy of a slice from a DataFrame.\n",
      "Try using .loc[row_indexer,col_indexer] = value instead\n",
      "\n",
      "See the caveats in the documentation: http://pandas.pydata.org/pandas-docs/stable/indexing.html#indexing-view-versus-copy\n"
     ]
    },
    {
     "name": "stdout",
     "output_type": "stream",
     "text": [
      "Full AUC score 0.965060\n",
      "(24943, 503) (6236, 503) (31588, 503)\n",
      "Training until validation scores don't improve for 100 rounds.\n",
      "[100]\ttrain's auc: 0.962453\tvalid's auc: 0.943457\n",
      "[200]\ttrain's auc: 0.976057\tvalid's auc: 0.957061\n",
      "[300]\ttrain's auc: 0.982002\tvalid's auc: 0.96063\n",
      "[400]\ttrain's auc: 0.986114\tvalid's auc: 0.9626\n",
      "[500]\ttrain's auc: 0.988953\tvalid's auc: 0.96281\n",
      "[600]\ttrain's auc: 0.991352\tvalid's auc: 0.963413\n",
      "[700]\ttrain's auc: 0.993042\tvalid's auc: 0.963477\n",
      "[800]\ttrain's auc: 0.994309\tvalid's auc: 0.963286\n",
      "Early stopping, best iteration is:\n",
      "[745]\ttrain's auc: 0.993692\tvalid's auc: 0.963699\n"
     ]
    },
    {
     "name": "stderr",
     "output_type": "stream",
     "text": [
      "D:\\Programfiles2\\anaconda\\lib\\site-packages\\ipykernel\\__main__.py:60: SettingWithCopyWarning: \n",
      "A value is trying to be set on a copy of a slice from a DataFrame.\n",
      "Try using .loc[row_indexer,col_indexer] = value instead\n",
      "\n",
      "See the caveats in the documentation: http://pandas.pydata.org/pandas-docs/stable/indexing.html#indexing-view-versus-copy\n",
      "D:\\Programfiles2\\anaconda\\lib\\site-packages\\ipykernel\\__main__.py:61: SettingWithCopyWarning: \n",
      "A value is trying to be set on a copy of a slice from a DataFrame.\n",
      "Try using .loc[row_indexer,col_indexer] = value instead\n",
      "\n",
      "See the caveats in the documentation: http://pandas.pydata.org/pandas-docs/stable/indexing.html#indexing-view-versus-copy\n"
     ]
    },
    {
     "name": "stdout",
     "output_type": "stream",
     "text": [
      "Fold  1 AUC : 0.963699\n",
      "Training until validation scores don't improve for 100 rounds.\n",
      "[100]\ttrain's auc: 0.924394\tvalid's auc: 0.917334\n",
      "Early stopping, best iteration is:\n",
      "[61]\ttrain's auc: 0.954445\tvalid's auc: 0.94073\n"
     ]
    },
    {
     "name": "stderr",
     "output_type": "stream",
     "text": [
      "D:\\Programfiles2\\anaconda\\lib\\site-packages\\ipykernel\\__main__.py:60: SettingWithCopyWarning: \n",
      "A value is trying to be set on a copy of a slice from a DataFrame.\n",
      "Try using .loc[row_indexer,col_indexer] = value instead\n",
      "\n",
      "See the caveats in the documentation: http://pandas.pydata.org/pandas-docs/stable/indexing.html#indexing-view-versus-copy\n",
      "D:\\Programfiles2\\anaconda\\lib\\site-packages\\ipykernel\\__main__.py:61: SettingWithCopyWarning: \n",
      "A value is trying to be set on a copy of a slice from a DataFrame.\n",
      "Try using .loc[row_indexer,col_indexer] = value instead\n",
      "\n",
      "See the caveats in the documentation: http://pandas.pydata.org/pandas-docs/stable/indexing.html#indexing-view-versus-copy\n"
     ]
    },
    {
     "name": "stdout",
     "output_type": "stream",
     "text": [
      "Fold  2 AUC : 0.940730\n",
      "Training until validation scores don't improve for 100 rounds.\n",
      "[100]\ttrain's auc: 0.962784\tvalid's auc: 0.944444\n",
      "[200]\ttrain's auc: 0.976375\tvalid's auc: 0.958519\n",
      "[300]\ttrain's auc: 0.98224\tvalid's auc: 0.961933\n",
      "[400]\ttrain's auc: 0.986291\tvalid's auc: 0.964398\n",
      "[500]\ttrain's auc: 0.989069\tvalid's auc: 0.965226\n",
      "[600]\ttrain's auc: 0.991258\tvalid's auc: 0.96564\n",
      "[700]\ttrain's auc: 0.993057\tvalid's auc: 0.966009\n",
      "[800]\ttrain's auc: 0.994387\tvalid's auc: 0.966283\n",
      "[900]\ttrain's auc: 0.995369\tvalid's auc: 0.96681\n",
      "[1000]\ttrain's auc: 0.996128\tvalid's auc: 0.966966\n",
      "[1100]\ttrain's auc: 0.996687\tvalid's auc: 0.967043\n",
      "Early stopping, best iteration is:\n",
      "[1075]\ttrain's auc: 0.996541\tvalid's auc: 0.967156\n"
     ]
    },
    {
     "name": "stderr",
     "output_type": "stream",
     "text": [
      "D:\\Programfiles2\\anaconda\\lib\\site-packages\\ipykernel\\__main__.py:60: SettingWithCopyWarning: \n",
      "A value is trying to be set on a copy of a slice from a DataFrame.\n",
      "Try using .loc[row_indexer,col_indexer] = value instead\n",
      "\n",
      "See the caveats in the documentation: http://pandas.pydata.org/pandas-docs/stable/indexing.html#indexing-view-versus-copy\n",
      "D:\\Programfiles2\\anaconda\\lib\\site-packages\\ipykernel\\__main__.py:61: SettingWithCopyWarning: \n",
      "A value is trying to be set on a copy of a slice from a DataFrame.\n",
      "Try using .loc[row_indexer,col_indexer] = value instead\n",
      "\n",
      "See the caveats in the documentation: http://pandas.pydata.org/pandas-docs/stable/indexing.html#indexing-view-versus-copy\n"
     ]
    },
    {
     "name": "stdout",
     "output_type": "stream",
     "text": [
      "Fold  3 AUC : 0.967156\n",
      "Training until validation scores don't improve for 100 rounds.\n",
      "[100]\ttrain's auc: 0.963373\tvalid's auc: 0.953629\n",
      "[200]\ttrain's auc: 0.976503\tvalid's auc: 0.962927\n",
      "[300]\ttrain's auc: 0.982366\tvalid's auc: 0.965088\n",
      "[400]\ttrain's auc: 0.986491\tvalid's auc: 0.966671\n",
      "[500]\ttrain's auc: 0.989392\tvalid's auc: 0.967434\n",
      "[600]\ttrain's auc: 0.991603\tvalid's auc: 0.967664\n",
      "[700]\ttrain's auc: 0.993193\tvalid's auc: 0.967639\n",
      "Early stopping, best iteration is:\n",
      "[636]\ttrain's auc: 0.992204\tvalid's auc: 0.967973\n"
     ]
    },
    {
     "name": "stderr",
     "output_type": "stream",
     "text": [
      "D:\\Programfiles2\\anaconda\\lib\\site-packages\\ipykernel\\__main__.py:60: SettingWithCopyWarning: \n",
      "A value is trying to be set on a copy of a slice from a DataFrame.\n",
      "Try using .loc[row_indexer,col_indexer] = value instead\n",
      "\n",
      "See the caveats in the documentation: http://pandas.pydata.org/pandas-docs/stable/indexing.html#indexing-view-versus-copy\n",
      "D:\\Programfiles2\\anaconda\\lib\\site-packages\\ipykernel\\__main__.py:61: SettingWithCopyWarning: \n",
      "A value is trying to be set on a copy of a slice from a DataFrame.\n",
      "Try using .loc[row_indexer,col_indexer] = value instead\n",
      "\n",
      "See the caveats in the documentation: http://pandas.pydata.org/pandas-docs/stable/indexing.html#indexing-view-versus-copy\n"
     ]
    },
    {
     "name": "stdout",
     "output_type": "stream",
     "text": [
      "Fold  4 AUC : 0.967973\n",
      "Training until validation scores don't improve for 100 rounds.\n",
      "[100]\ttrain's auc: 0.96265\tvalid's auc: 0.941881\n",
      "[200]\ttrain's auc: 0.976207\tvalid's auc: 0.954396\n",
      "[300]\ttrain's auc: 0.982396\tvalid's auc: 0.95769\n",
      "[400]\ttrain's auc: 0.986306\tvalid's auc: 0.959096\n",
      "[500]\ttrain's auc: 0.989248\tvalid's auc: 0.960117\n",
      "[600]\ttrain's auc: 0.991343\tvalid's auc: 0.960845\n",
      "[700]\ttrain's auc: 0.992974\tvalid's auc: 0.961369\n",
      "[800]\ttrain's auc: 0.994216\tvalid's auc: 0.961756\n",
      "[900]\ttrain's auc: 0.995205\tvalid's auc: 0.961892\n",
      "[1000]\ttrain's auc: 0.995915\tvalid's auc: 0.961951\n",
      "[1100]\ttrain's auc: 0.996486\tvalid's auc: 0.962043\n",
      "[1200]\ttrain's auc: 0.996952\tvalid's auc: 0.962123\n",
      "Early stopping, best iteration is:\n",
      "[1121]\ttrain's auc: 0.996587\tvalid's auc: 0.962246\n"
     ]
    },
    {
     "name": "stderr",
     "output_type": "stream",
     "text": [
      "D:\\Programfiles2\\anaconda\\lib\\site-packages\\ipykernel\\__main__.py:60: SettingWithCopyWarning: \n",
      "A value is trying to be set on a copy of a slice from a DataFrame.\n",
      "Try using .loc[row_indexer,col_indexer] = value instead\n",
      "\n",
      "See the caveats in the documentation: http://pandas.pydata.org/pandas-docs/stable/indexing.html#indexing-view-versus-copy\n",
      "D:\\Programfiles2\\anaconda\\lib\\site-packages\\ipykernel\\__main__.py:61: SettingWithCopyWarning: \n",
      "A value is trying to be set on a copy of a slice from a DataFrame.\n",
      "Try using .loc[row_indexer,col_indexer] = value instead\n",
      "\n",
      "See the caveats in the documentation: http://pandas.pydata.org/pandas-docs/stable/indexing.html#indexing-view-versus-copy\n"
     ]
    },
    {
     "name": "stdout",
     "output_type": "stream",
     "text": [
      "Fold  5 AUC : 0.962246\n"
     ]
    },
    {
     "name": "stderr",
     "output_type": "stream",
     "text": [
      "D:\\Programfiles2\\anaconda\\lib\\site-packages\\ipykernel\\__main__.py:70: SettingWithCopyWarning: \n",
      "A value is trying to be set on a copy of a slice from a DataFrame.\n",
      "Try using .loc[row_indexer,col_indexer] = value instead\n",
      "\n",
      "See the caveats in the documentation: http://pandas.pydata.org/pandas-docs/stable/indexing.html#indexing-view-versus-copy\n"
     ]
    },
    {
     "name": "stdout",
     "output_type": "stream",
     "text": [
      "Full AUC score 0.958492\n",
      "(24943, 503) (6236, 503) (31588, 503)\n",
      "Training until validation scores don't improve for 100 rounds.\n",
      "[100]\ttrain's auc: 0.975088\tvalid's auc: 0.962538\n",
      "[200]\ttrain's auc: 0.985584\tvalid's auc: 0.968449\n",
      "[300]\ttrain's auc: 0.991125\tvalid's auc: 0.970003\n",
      "[400]\ttrain's auc: 0.994172\tvalid's auc: 0.970645\n",
      "[500]\ttrain's auc: 0.996071\tvalid's auc: 0.971069\n",
      "[600]\ttrain's auc: 0.997245\tvalid's auc: 0.97132\n",
      "Early stopping, best iteration is:\n",
      "[573]\ttrain's auc: 0.996981\tvalid's auc: 0.971644\n"
     ]
    },
    {
     "name": "stderr",
     "output_type": "stream",
     "text": [
      "D:\\Programfiles2\\anaconda\\lib\\site-packages\\ipykernel\\__main__.py:60: SettingWithCopyWarning: \n",
      "A value is trying to be set on a copy of a slice from a DataFrame.\n",
      "Try using .loc[row_indexer,col_indexer] = value instead\n",
      "\n",
      "See the caveats in the documentation: http://pandas.pydata.org/pandas-docs/stable/indexing.html#indexing-view-versus-copy\n",
      "D:\\Programfiles2\\anaconda\\lib\\site-packages\\ipykernel\\__main__.py:61: SettingWithCopyWarning: \n",
      "A value is trying to be set on a copy of a slice from a DataFrame.\n",
      "Try using .loc[row_indexer,col_indexer] = value instead\n",
      "\n",
      "See the caveats in the documentation: http://pandas.pydata.org/pandas-docs/stable/indexing.html#indexing-view-versus-copy\n"
     ]
    },
    {
     "name": "stdout",
     "output_type": "stream",
     "text": [
      "Fold  1 AUC : 0.971644\n",
      "Training until validation scores don't improve for 100 rounds.\n",
      "[100]\ttrain's auc: 0.977151\tvalid's auc: 0.95262\n",
      "[200]\ttrain's auc: 0.986795\tvalid's auc: 0.958238\n",
      "[300]\ttrain's auc: 0.991699\tvalid's auc: 0.960036\n",
      "[400]\ttrain's auc: 0.99448\tvalid's auc: 0.960558\n",
      "Early stopping, best iteration is:\n",
      "[392]\ttrain's auc: 0.9943\tvalid's auc: 0.960636\n"
     ]
    },
    {
     "name": "stderr",
     "output_type": "stream",
     "text": [
      "D:\\Programfiles2\\anaconda\\lib\\site-packages\\ipykernel\\__main__.py:60: SettingWithCopyWarning: \n",
      "A value is trying to be set on a copy of a slice from a DataFrame.\n",
      "Try using .loc[row_indexer,col_indexer] = value instead\n",
      "\n",
      "See the caveats in the documentation: http://pandas.pydata.org/pandas-docs/stable/indexing.html#indexing-view-versus-copy\n",
      "D:\\Programfiles2\\anaconda\\lib\\site-packages\\ipykernel\\__main__.py:61: SettingWithCopyWarning: \n",
      "A value is trying to be set on a copy of a slice from a DataFrame.\n",
      "Try using .loc[row_indexer,col_indexer] = value instead\n",
      "\n",
      "See the caveats in the documentation: http://pandas.pydata.org/pandas-docs/stable/indexing.html#indexing-view-versus-copy\n"
     ]
    },
    {
     "name": "stdout",
     "output_type": "stream",
     "text": [
      "Fold  2 AUC : 0.960636\n",
      "Training until validation scores don't improve for 100 rounds.\n",
      "[100]\ttrain's auc: 0.975875\tvalid's auc: 0.954866\n",
      "[200]\ttrain's auc: 0.986419\tvalid's auc: 0.96055\n",
      "[300]\ttrain's auc: 0.991501\tvalid's auc: 0.96361\n",
      "[400]\ttrain's auc: 0.994465\tvalid's auc: 0.964654\n",
      "[500]\ttrain's auc: 0.99623\tvalid's auc: 0.964989\n",
      "[600]\ttrain's auc: 0.997371\tvalid's auc: 0.965324\n",
      "Early stopping, best iteration is:\n",
      "[578]\ttrain's auc: 0.997178\tvalid's auc: 0.96554\n"
     ]
    },
    {
     "name": "stderr",
     "output_type": "stream",
     "text": [
      "D:\\Programfiles2\\anaconda\\lib\\site-packages\\ipykernel\\__main__.py:60: SettingWithCopyWarning: \n",
      "A value is trying to be set on a copy of a slice from a DataFrame.\n",
      "Try using .loc[row_indexer,col_indexer] = value instead\n",
      "\n",
      "See the caveats in the documentation: http://pandas.pydata.org/pandas-docs/stable/indexing.html#indexing-view-versus-copy\n",
      "D:\\Programfiles2\\anaconda\\lib\\site-packages\\ipykernel\\__main__.py:61: SettingWithCopyWarning: \n",
      "A value is trying to be set on a copy of a slice from a DataFrame.\n",
      "Try using .loc[row_indexer,col_indexer] = value instead\n",
      "\n",
      "See the caveats in the documentation: http://pandas.pydata.org/pandas-docs/stable/indexing.html#indexing-view-versus-copy\n"
     ]
    },
    {
     "name": "stdout",
     "output_type": "stream",
     "text": [
      "Fold  3 AUC : 0.965540\n",
      "Training until validation scores don't improve for 100 rounds.\n",
      "[100]\ttrain's auc: 0.937112\tvalid's auc: 0.926018\n",
      "Early stopping, best iteration is:\n",
      "[51]\ttrain's auc: 0.964169\tvalid's auc: 0.948924\n"
     ]
    },
    {
     "name": "stderr",
     "output_type": "stream",
     "text": [
      "D:\\Programfiles2\\anaconda\\lib\\site-packages\\ipykernel\\__main__.py:60: SettingWithCopyWarning: \n",
      "A value is trying to be set on a copy of a slice from a DataFrame.\n",
      "Try using .loc[row_indexer,col_indexer] = value instead\n",
      "\n",
      "See the caveats in the documentation: http://pandas.pydata.org/pandas-docs/stable/indexing.html#indexing-view-versus-copy\n",
      "D:\\Programfiles2\\anaconda\\lib\\site-packages\\ipykernel\\__main__.py:61: SettingWithCopyWarning: \n",
      "A value is trying to be set on a copy of a slice from a DataFrame.\n",
      "Try using .loc[row_indexer,col_indexer] = value instead\n",
      "\n",
      "See the caveats in the documentation: http://pandas.pydata.org/pandas-docs/stable/indexing.html#indexing-view-versus-copy\n"
     ]
    },
    {
     "name": "stdout",
     "output_type": "stream",
     "text": [
      "Fold  4 AUC : 0.948924\n",
      "Training until validation scores don't improve for 100 rounds.\n",
      "[100]\ttrain's auc: 0.975194\tvalid's auc: 0.96292\n",
      "[200]\ttrain's auc: 0.986022\tvalid's auc: 0.967259\n",
      "[300]\ttrain's auc: 0.991233\tvalid's auc: 0.969221\n",
      "[400]\ttrain's auc: 0.994257\tvalid's auc: 0.969276\n",
      "[500]\ttrain's auc: 0.996148\tvalid's auc: 0.969531\n",
      "[600]\ttrain's auc: 0.997329\tvalid's auc: 0.969656\n",
      "Early stopping, best iteration is:\n",
      "[567]\ttrain's auc: 0.996988\tvalid's auc: 0.969801\n"
     ]
    },
    {
     "name": "stderr",
     "output_type": "stream",
     "text": [
      "D:\\Programfiles2\\anaconda\\lib\\site-packages\\ipykernel\\__main__.py:60: SettingWithCopyWarning: \n",
      "A value is trying to be set on a copy of a slice from a DataFrame.\n",
      "Try using .loc[row_indexer,col_indexer] = value instead\n",
      "\n",
      "See the caveats in the documentation: http://pandas.pydata.org/pandas-docs/stable/indexing.html#indexing-view-versus-copy\n",
      "D:\\Programfiles2\\anaconda\\lib\\site-packages\\ipykernel\\__main__.py:61: SettingWithCopyWarning: \n",
      "A value is trying to be set on a copy of a slice from a DataFrame.\n",
      "Try using .loc[row_indexer,col_indexer] = value instead\n",
      "\n",
      "See the caveats in the documentation: http://pandas.pydata.org/pandas-docs/stable/indexing.html#indexing-view-versus-copy\n"
     ]
    },
    {
     "name": "stdout",
     "output_type": "stream",
     "text": [
      "Fold  5 AUC : 0.969801\n"
     ]
    },
    {
     "name": "stderr",
     "output_type": "stream",
     "text": [
      "D:\\Programfiles2\\anaconda\\lib\\site-packages\\ipykernel\\__main__.py:70: SettingWithCopyWarning: \n",
      "A value is trying to be set on a copy of a slice from a DataFrame.\n",
      "Try using .loc[row_indexer,col_indexer] = value instead\n",
      "\n",
      "See the caveats in the documentation: http://pandas.pydata.org/pandas-docs/stable/indexing.html#indexing-view-versus-copy\n"
     ]
    },
    {
     "name": "stdout",
     "output_type": "stream",
     "text": [
      "Full AUC score 0.961466\n",
      "(24943, 503) (6236, 503) (31588, 503)\n",
      "Training until validation scores don't improve for 100 rounds.\n",
      "[100]\ttrain's auc: 0.932468\tvalid's auc: 0.922313\n",
      "Early stopping, best iteration is:\n",
      "[59]\ttrain's auc: 0.961519\tvalid's auc: 0.946741\n"
     ]
    },
    {
     "name": "stderr",
     "output_type": "stream",
     "text": [
      "D:\\Programfiles2\\anaconda\\lib\\site-packages\\ipykernel\\__main__.py:60: SettingWithCopyWarning: \n",
      "A value is trying to be set on a copy of a slice from a DataFrame.\n",
      "Try using .loc[row_indexer,col_indexer] = value instead\n",
      "\n",
      "See the caveats in the documentation: http://pandas.pydata.org/pandas-docs/stable/indexing.html#indexing-view-versus-copy\n",
      "D:\\Programfiles2\\anaconda\\lib\\site-packages\\ipykernel\\__main__.py:61: SettingWithCopyWarning: \n",
      "A value is trying to be set on a copy of a slice from a DataFrame.\n",
      "Try using .loc[row_indexer,col_indexer] = value instead\n",
      "\n",
      "See the caveats in the documentation: http://pandas.pydata.org/pandas-docs/stable/indexing.html#indexing-view-versus-copy\n"
     ]
    },
    {
     "name": "stdout",
     "output_type": "stream",
     "text": [
      "Fold  1 AUC : 0.946741\n",
      "Training until validation scores don't improve for 100 rounds.\n",
      "[100]\ttrain's auc: 0.971041\tvalid's auc: 0.957106\n",
      "[200]\ttrain's auc: 0.982422\tvalid's auc: 0.962308\n",
      "[300]\ttrain's auc: 0.98829\tvalid's auc: 0.965253\n",
      "[400]\ttrain's auc: 0.992011\tvalid's auc: 0.966265\n",
      "[500]\ttrain's auc: 0.994365\tvalid's auc: 0.966856\n",
      "Early stopping, best iteration is:\n",
      "[475]\ttrain's auc: 0.993896\tvalid's auc: 0.966978\n"
     ]
    },
    {
     "name": "stderr",
     "output_type": "stream",
     "text": [
      "D:\\Programfiles2\\anaconda\\lib\\site-packages\\ipykernel\\__main__.py:60: SettingWithCopyWarning: \n",
      "A value is trying to be set on a copy of a slice from a DataFrame.\n",
      "Try using .loc[row_indexer,col_indexer] = value instead\n",
      "\n",
      "See the caveats in the documentation: http://pandas.pydata.org/pandas-docs/stable/indexing.html#indexing-view-versus-copy\n",
      "D:\\Programfiles2\\anaconda\\lib\\site-packages\\ipykernel\\__main__.py:61: SettingWithCopyWarning: \n",
      "A value is trying to be set on a copy of a slice from a DataFrame.\n",
      "Try using .loc[row_indexer,col_indexer] = value instead\n",
      "\n",
      "See the caveats in the documentation: http://pandas.pydata.org/pandas-docs/stable/indexing.html#indexing-view-versus-copy\n"
     ]
    },
    {
     "name": "stdout",
     "output_type": "stream",
     "text": [
      "Fold  2 AUC : 0.966978\n",
      "Training until validation scores don't improve for 100 rounds.\n",
      "[100]\ttrain's auc: 0.971269\tvalid's auc: 0.957911\n",
      "[200]\ttrain's auc: 0.982746\tvalid's auc: 0.965461\n",
      "[300]\ttrain's auc: 0.988264\tvalid's auc: 0.967103\n",
      "[400]\ttrain's auc: 0.99183\tvalid's auc: 0.967809\n",
      "[500]\ttrain's auc: 0.994355\tvalid's auc: 0.968529\n",
      "[600]\ttrain's auc: 0.995975\tvalid's auc: 0.969201\n",
      "[700]\ttrain's auc: 0.997034\tvalid's auc: 0.969249\n",
      "Early stopping, best iteration is:\n",
      "[628]\ttrain's auc: 0.996328\tvalid's auc: 0.969429\n"
     ]
    },
    {
     "name": "stderr",
     "output_type": "stream",
     "text": [
      "D:\\Programfiles2\\anaconda\\lib\\site-packages\\ipykernel\\__main__.py:60: SettingWithCopyWarning: \n",
      "A value is trying to be set on a copy of a slice from a DataFrame.\n",
      "Try using .loc[row_indexer,col_indexer] = value instead\n",
      "\n",
      "See the caveats in the documentation: http://pandas.pydata.org/pandas-docs/stable/indexing.html#indexing-view-versus-copy\n",
      "D:\\Programfiles2\\anaconda\\lib\\site-packages\\ipykernel\\__main__.py:61: SettingWithCopyWarning: \n",
      "A value is trying to be set on a copy of a slice from a DataFrame.\n",
      "Try using .loc[row_indexer,col_indexer] = value instead\n",
      "\n",
      "See the caveats in the documentation: http://pandas.pydata.org/pandas-docs/stable/indexing.html#indexing-view-versus-copy\n"
     ]
    },
    {
     "name": "stdout",
     "output_type": "stream",
     "text": [
      "Fold  3 AUC : 0.969429\n",
      "Training until validation scores don't improve for 100 rounds.\n",
      "[100]\ttrain's auc: 0.970218\tvalid's auc: 0.946116\n",
      "[200]\ttrain's auc: 0.982536\tvalid's auc: 0.957905\n",
      "[300]\ttrain's auc: 0.988492\tvalid's auc: 0.960435\n",
      "[400]\ttrain's auc: 0.992158\tvalid's auc: 0.961822\n",
      "[500]\ttrain's auc: 0.994514\tvalid's auc: 0.96171\n",
      "Early stopping, best iteration is:\n",
      "[418]\ttrain's auc: 0.992693\tvalid's auc: 0.961921\n"
     ]
    },
    {
     "name": "stderr",
     "output_type": "stream",
     "text": [
      "D:\\Programfiles2\\anaconda\\lib\\site-packages\\ipykernel\\__main__.py:60: SettingWithCopyWarning: \n",
      "A value is trying to be set on a copy of a slice from a DataFrame.\n",
      "Try using .loc[row_indexer,col_indexer] = value instead\n",
      "\n",
      "See the caveats in the documentation: http://pandas.pydata.org/pandas-docs/stable/indexing.html#indexing-view-versus-copy\n",
      "D:\\Programfiles2\\anaconda\\lib\\site-packages\\ipykernel\\__main__.py:61: SettingWithCopyWarning: \n",
      "A value is trying to be set on a copy of a slice from a DataFrame.\n",
      "Try using .loc[row_indexer,col_indexer] = value instead\n",
      "\n",
      "See the caveats in the documentation: http://pandas.pydata.org/pandas-docs/stable/indexing.html#indexing-view-versus-copy\n"
     ]
    },
    {
     "name": "stdout",
     "output_type": "stream",
     "text": [
      "Fold  4 AUC : 0.961921\n",
      "Training until validation scores don't improve for 100 rounds.\n",
      "[100]\ttrain's auc: 0.970638\tvalid's auc: 0.954085\n",
      "[200]\ttrain's auc: 0.982155\tvalid's auc: 0.96108\n",
      "[300]\ttrain's auc: 0.988022\tvalid's auc: 0.964436\n",
      "[400]\ttrain's auc: 0.991759\tvalid's auc: 0.966133\n",
      "[500]\ttrain's auc: 0.99416\tvalid's auc: 0.966199\n",
      "[600]\ttrain's auc: 0.995889\tvalid's auc: 0.96628\n",
      "[700]\ttrain's auc: 0.997006\tvalid's auc: 0.96632\n",
      "[800]\ttrain's auc: 0.997765\tvalid's auc: 0.966653\n",
      "[900]\ttrain's auc: 0.998302\tvalid's auc: 0.966796\n",
      "[1000]\ttrain's auc: 0.998687\tvalid's auc: 0.966785\n",
      "Early stopping, best iteration is:\n",
      "[923]\ttrain's auc: 0.998405\tvalid's auc: 0.967066\n"
     ]
    },
    {
     "name": "stderr",
     "output_type": "stream",
     "text": [
      "D:\\Programfiles2\\anaconda\\lib\\site-packages\\ipykernel\\__main__.py:60: SettingWithCopyWarning: \n",
      "A value is trying to be set on a copy of a slice from a DataFrame.\n",
      "Try using .loc[row_indexer,col_indexer] = value instead\n",
      "\n",
      "See the caveats in the documentation: http://pandas.pydata.org/pandas-docs/stable/indexing.html#indexing-view-versus-copy\n",
      "D:\\Programfiles2\\anaconda\\lib\\site-packages\\ipykernel\\__main__.py:61: SettingWithCopyWarning: \n",
      "A value is trying to be set on a copy of a slice from a DataFrame.\n",
      "Try using .loc[row_indexer,col_indexer] = value instead\n",
      "\n",
      "See the caveats in the documentation: http://pandas.pydata.org/pandas-docs/stable/indexing.html#indexing-view-versus-copy\n"
     ]
    },
    {
     "name": "stdout",
     "output_type": "stream",
     "text": [
      "Fold  5 AUC : 0.967066\n"
     ]
    },
    {
     "name": "stderr",
     "output_type": "stream",
     "text": [
      "D:\\Programfiles2\\anaconda\\lib\\site-packages\\ipykernel\\__main__.py:70: SettingWithCopyWarning: \n",
      "A value is trying to be set on a copy of a slice from a DataFrame.\n",
      "Try using .loc[row_indexer,col_indexer] = value instead\n",
      "\n",
      "See the caveats in the documentation: http://pandas.pydata.org/pandas-docs/stable/indexing.html#indexing-view-versus-copy\n"
     ]
    },
    {
     "name": "stdout",
     "output_type": "stream",
     "text": [
      "Full AUC score 0.960226\n",
      "(24943, 503) (6236, 503) (31588, 503)\n",
      "Training until validation scores don't improve for 100 rounds.\n",
      "[100]\ttrain's auc: 0.961682\tvalid's auc: 0.950074\n",
      "[200]\ttrain's auc: 0.974532\tvalid's auc: 0.96386\n",
      "[300]\ttrain's auc: 0.97914\tvalid's auc: 0.966874\n",
      "[400]\ttrain's auc: 0.982746\tvalid's auc: 0.96911\n",
      "[500]\ttrain's auc: 0.985203\tvalid's auc: 0.9698\n",
      "[600]\ttrain's auc: 0.987033\tvalid's auc: 0.970159\n",
      "[700]\ttrain's auc: 0.988097\tvalid's auc: 0.970258\n",
      "[800]\ttrain's auc: 0.988852\tvalid's auc: 0.970391\n",
      "Early stopping, best iteration is:\n",
      "[772]\ttrain's auc: 0.98869\tvalid's auc: 0.970467\n"
     ]
    },
    {
     "name": "stderr",
     "output_type": "stream",
     "text": [
      "D:\\Programfiles2\\anaconda\\lib\\site-packages\\ipykernel\\__main__.py:60: SettingWithCopyWarning: \n",
      "A value is trying to be set on a copy of a slice from a DataFrame.\n",
      "Try using .loc[row_indexer,col_indexer] = value instead\n",
      "\n",
      "See the caveats in the documentation: http://pandas.pydata.org/pandas-docs/stable/indexing.html#indexing-view-versus-copy\n",
      "D:\\Programfiles2\\anaconda\\lib\\site-packages\\ipykernel\\__main__.py:61: SettingWithCopyWarning: \n",
      "A value is trying to be set on a copy of a slice from a DataFrame.\n",
      "Try using .loc[row_indexer,col_indexer] = value instead\n",
      "\n",
      "See the caveats in the documentation: http://pandas.pydata.org/pandas-docs/stable/indexing.html#indexing-view-versus-copy\n"
     ]
    },
    {
     "name": "stdout",
     "output_type": "stream",
     "text": [
      "Fold  1 AUC : 0.970467\n",
      "Training until validation scores don't improve for 100 rounds.\n",
      "[100]\ttrain's auc: 0.963553\tvalid's auc: 0.937638\n",
      "[200]\ttrain's auc: 0.975945\tvalid's auc: 0.950389\n",
      "[300]\ttrain's auc: 0.980508\tvalid's auc: 0.953725\n",
      "[400]\ttrain's auc: 0.983598\tvalid's auc: 0.955823\n",
      "[500]\ttrain's auc: 0.985912\tvalid's auc: 0.957168\n",
      "[600]\ttrain's auc: 0.987545\tvalid's auc: 0.957453\n",
      "[700]\ttrain's auc: 0.988563\tvalid's auc: 0.957566\n",
      "Early stopping, best iteration is:\n",
      "[662]\ttrain's auc: 0.988315\tvalid's auc: 0.957752\n"
     ]
    },
    {
     "name": "stderr",
     "output_type": "stream",
     "text": [
      "D:\\Programfiles2\\anaconda\\lib\\site-packages\\ipykernel\\__main__.py:60: SettingWithCopyWarning: \n",
      "A value is trying to be set on a copy of a slice from a DataFrame.\n",
      "Try using .loc[row_indexer,col_indexer] = value instead\n",
      "\n",
      "See the caveats in the documentation: http://pandas.pydata.org/pandas-docs/stable/indexing.html#indexing-view-versus-copy\n",
      "D:\\Programfiles2\\anaconda\\lib\\site-packages\\ipykernel\\__main__.py:61: SettingWithCopyWarning: \n",
      "A value is trying to be set on a copy of a slice from a DataFrame.\n",
      "Try using .loc[row_indexer,col_indexer] = value instead\n",
      "\n",
      "See the caveats in the documentation: http://pandas.pydata.org/pandas-docs/stable/indexing.html#indexing-view-versus-copy\n"
     ]
    },
    {
     "name": "stdout",
     "output_type": "stream",
     "text": [
      "Fold  2 AUC : 0.957752\n",
      "Training until validation scores don't improve for 100 rounds.\n",
      "[100]\ttrain's auc: 0.925206\tvalid's auc: 0.915023\n",
      "Early stopping, best iteration is:\n",
      "[63]\ttrain's auc: 0.951659\tvalid's auc: 0.93555\n"
     ]
    },
    {
     "name": "stderr",
     "output_type": "stream",
     "text": [
      "D:\\Programfiles2\\anaconda\\lib\\site-packages\\ipykernel\\__main__.py:60: SettingWithCopyWarning: \n",
      "A value is trying to be set on a copy of a slice from a DataFrame.\n",
      "Try using .loc[row_indexer,col_indexer] = value instead\n",
      "\n",
      "See the caveats in the documentation: http://pandas.pydata.org/pandas-docs/stable/indexing.html#indexing-view-versus-copy\n",
      "D:\\Programfiles2\\anaconda\\lib\\site-packages\\ipykernel\\__main__.py:61: SettingWithCopyWarning: \n",
      "A value is trying to be set on a copy of a slice from a DataFrame.\n",
      "Try using .loc[row_indexer,col_indexer] = value instead\n",
      "\n",
      "See the caveats in the documentation: http://pandas.pydata.org/pandas-docs/stable/indexing.html#indexing-view-versus-copy\n"
     ]
    },
    {
     "name": "stdout",
     "output_type": "stream",
     "text": [
      "Fold  3 AUC : 0.935550\n",
      "Training until validation scores don't improve for 100 rounds.\n",
      "[100]\ttrain's auc: 0.961787\tvalid's auc: 0.951341\n",
      "[200]\ttrain's auc: 0.974551\tvalid's auc: 0.961033\n",
      "[300]\ttrain's auc: 0.979529\tvalid's auc: 0.963758\n",
      "[400]\ttrain's auc: 0.982663\tvalid's auc: 0.964633\n",
      "[500]\ttrain's auc: 0.985185\tvalid's auc: 0.965535\n",
      "[600]\ttrain's auc: 0.986602\tvalid's auc: 0.965659\n",
      "[700]\ttrain's auc: 0.987728\tvalid's auc: 0.966146\n",
      "[800]\ttrain's auc: 0.988364\tvalid's auc: 0.966259\n",
      "Early stopping, best iteration is:\n",
      "[766]\ttrain's auc: 0.988246\tvalid's auc: 0.966372\n"
     ]
    },
    {
     "name": "stderr",
     "output_type": "stream",
     "text": [
      "D:\\Programfiles2\\anaconda\\lib\\site-packages\\ipykernel\\__main__.py:60: SettingWithCopyWarning: \n",
      "A value is trying to be set on a copy of a slice from a DataFrame.\n",
      "Try using .loc[row_indexer,col_indexer] = value instead\n",
      "\n",
      "See the caveats in the documentation: http://pandas.pydata.org/pandas-docs/stable/indexing.html#indexing-view-versus-copy\n",
      "D:\\Programfiles2\\anaconda\\lib\\site-packages\\ipykernel\\__main__.py:61: SettingWithCopyWarning: \n",
      "A value is trying to be set on a copy of a slice from a DataFrame.\n",
      "Try using .loc[row_indexer,col_indexer] = value instead\n",
      "\n",
      "See the caveats in the documentation: http://pandas.pydata.org/pandas-docs/stable/indexing.html#indexing-view-versus-copy\n"
     ]
    },
    {
     "name": "stdout",
     "output_type": "stream",
     "text": [
      "Fold  4 AUC : 0.966372\n",
      "Training until validation scores don't improve for 100 rounds.\n",
      "[100]\ttrain's auc: 0.963227\tvalid's auc: 0.945446\n",
      "[200]\ttrain's auc: 0.975211\tvalid's auc: 0.952797\n",
      "[300]\ttrain's auc: 0.979874\tvalid's auc: 0.955386\n",
      "[400]\ttrain's auc: 0.982858\tvalid's auc: 0.956856\n",
      "[500]\ttrain's auc: 0.985104\tvalid's auc: 0.958067\n",
      "[600]\ttrain's auc: 0.986713\tvalid's auc: 0.95902\n",
      "[700]\ttrain's auc: 0.987684\tvalid's auc: 0.959245\n",
      "[800]\ttrain's auc: 0.988582\tvalid's auc: 0.959894\n",
      "Early stopping, best iteration is:\n",
      "[792]\ttrain's auc: 0.988535\tvalid's auc: 0.959962\n"
     ]
    },
    {
     "name": "stderr",
     "output_type": "stream",
     "text": [
      "D:\\Programfiles2\\anaconda\\lib\\site-packages\\ipykernel\\__main__.py:60: SettingWithCopyWarning: \n",
      "A value is trying to be set on a copy of a slice from a DataFrame.\n",
      "Try using .loc[row_indexer,col_indexer] = value instead\n",
      "\n",
      "See the caveats in the documentation: http://pandas.pydata.org/pandas-docs/stable/indexing.html#indexing-view-versus-copy\n",
      "D:\\Programfiles2\\anaconda\\lib\\site-packages\\ipykernel\\__main__.py:61: SettingWithCopyWarning: \n",
      "A value is trying to be set on a copy of a slice from a DataFrame.\n",
      "Try using .loc[row_indexer,col_indexer] = value instead\n",
      "\n",
      "See the caveats in the documentation: http://pandas.pydata.org/pandas-docs/stable/indexing.html#indexing-view-versus-copy\n"
     ]
    },
    {
     "name": "stdout",
     "output_type": "stream",
     "text": [
      "Fold  5 AUC : 0.959962\n"
     ]
    },
    {
     "name": "stderr",
     "output_type": "stream",
     "text": [
      "D:\\Programfiles2\\anaconda\\lib\\site-packages\\ipykernel\\__main__.py:70: SettingWithCopyWarning: \n",
      "A value is trying to be set on a copy of a slice from a DataFrame.\n",
      "Try using .loc[row_indexer,col_indexer] = value instead\n",
      "\n",
      "See the caveats in the documentation: http://pandas.pydata.org/pandas-docs/stable/indexing.html#indexing-view-versus-copy\n"
     ]
    },
    {
     "name": "stdout",
     "output_type": "stream",
     "text": [
      "Full AUC score 0.956460\n",
      "(24943, 503) (6236, 503) (31588, 503)\n",
      "Training until validation scores don't improve for 100 rounds.\n",
      "[100]\ttrain's auc: 0.971551\tvalid's auc: 0.952135\n",
      "[200]\ttrain's auc: 0.983329\tvalid's auc: 0.958649\n",
      "[300]\ttrain's auc: 0.988807\tvalid's auc: 0.960897\n",
      "[400]\ttrain's auc: 0.992467\tvalid's auc: 0.962227\n",
      "[500]\ttrain's auc: 0.994764\tvalid's auc: 0.962794\n",
      "Early stopping, best iteration is:\n",
      "[491]\ttrain's auc: 0.994601\tvalid's auc: 0.962921\n"
     ]
    },
    {
     "name": "stderr",
     "output_type": "stream",
     "text": [
      "D:\\Programfiles2\\anaconda\\lib\\site-packages\\ipykernel\\__main__.py:60: SettingWithCopyWarning: \n",
      "A value is trying to be set on a copy of a slice from a DataFrame.\n",
      "Try using .loc[row_indexer,col_indexer] = value instead\n",
      "\n",
      "See the caveats in the documentation: http://pandas.pydata.org/pandas-docs/stable/indexing.html#indexing-view-versus-copy\n",
      "D:\\Programfiles2\\anaconda\\lib\\site-packages\\ipykernel\\__main__.py:61: SettingWithCopyWarning: \n",
      "A value is trying to be set on a copy of a slice from a DataFrame.\n",
      "Try using .loc[row_indexer,col_indexer] = value instead\n",
      "\n",
      "See the caveats in the documentation: http://pandas.pydata.org/pandas-docs/stable/indexing.html#indexing-view-versus-copy\n"
     ]
    },
    {
     "name": "stdout",
     "output_type": "stream",
     "text": [
      "Fold  1 AUC : 0.962921\n",
      "Training until validation scores don't improve for 100 rounds.\n",
      "[100]\ttrain's auc: 0.971108\tvalid's auc: 0.954981\n",
      "[200]\ttrain's auc: 0.983338\tvalid's auc: 0.962826\n",
      "[300]\ttrain's auc: 0.989016\tvalid's auc: 0.965472\n",
      "[400]\ttrain's auc: 0.992653\tvalid's auc: 0.967142\n",
      "[500]\ttrain's auc: 0.994901\tvalid's auc: 0.967668\n",
      "[600]\ttrain's auc: 0.996421\tvalid's auc: 0.968478\n",
      "[700]\ttrain's auc: 0.997422\tvalid's auc: 0.968618\n",
      "[800]\ttrain's auc: 0.998117\tvalid's auc: 0.968213\n",
      "Early stopping, best iteration is:\n",
      "[711]\ttrain's auc: 0.997511\tvalid's auc: 0.968651\n"
     ]
    },
    {
     "name": "stderr",
     "output_type": "stream",
     "text": [
      "D:\\Programfiles2\\anaconda\\lib\\site-packages\\ipykernel\\__main__.py:60: SettingWithCopyWarning: \n",
      "A value is trying to be set on a copy of a slice from a DataFrame.\n",
      "Try using .loc[row_indexer,col_indexer] = value instead\n",
      "\n",
      "See the caveats in the documentation: http://pandas.pydata.org/pandas-docs/stable/indexing.html#indexing-view-versus-copy\n",
      "D:\\Programfiles2\\anaconda\\lib\\site-packages\\ipykernel\\__main__.py:61: SettingWithCopyWarning: \n",
      "A value is trying to be set on a copy of a slice from a DataFrame.\n",
      "Try using .loc[row_indexer,col_indexer] = value instead\n",
      "\n",
      "See the caveats in the documentation: http://pandas.pydata.org/pandas-docs/stable/indexing.html#indexing-view-versus-copy\n"
     ]
    },
    {
     "name": "stdout",
     "output_type": "stream",
     "text": [
      "Fold  2 AUC : 0.968651\n",
      "Training until validation scores don't improve for 100 rounds.\n",
      "[100]\ttrain's auc: 0.970912\tvalid's auc: 0.961995\n",
      "[200]\ttrain's auc: 0.982508\tvalid's auc: 0.969266\n",
      "[300]\ttrain's auc: 0.988335\tvalid's auc: 0.971793\n",
      "[400]\ttrain's auc: 0.992055\tvalid's auc: 0.973112\n",
      "[500]\ttrain's auc: 0.994505\tvalid's auc: 0.973908\n",
      "[600]\ttrain's auc: 0.9961\tvalid's auc: 0.974254\n",
      "[700]\ttrain's auc: 0.997168\tvalid's auc: 0.97436\n",
      "[800]\ttrain's auc: 0.997904\tvalid's auc: 0.974391\n",
      "[900]\ttrain's auc: 0.998433\tvalid's auc: 0.974502\n",
      "[1000]\ttrain's auc: 0.998797\tvalid's auc: 0.974295\n",
      "Early stopping, best iteration is:\n",
      "[918]\ttrain's auc: 0.998509\tvalid's auc: 0.974715\n"
     ]
    },
    {
     "name": "stderr",
     "output_type": "stream",
     "text": [
      "D:\\Programfiles2\\anaconda\\lib\\site-packages\\ipykernel\\__main__.py:60: SettingWithCopyWarning: \n",
      "A value is trying to be set on a copy of a slice from a DataFrame.\n",
      "Try using .loc[row_indexer,col_indexer] = value instead\n",
      "\n",
      "See the caveats in the documentation: http://pandas.pydata.org/pandas-docs/stable/indexing.html#indexing-view-versus-copy\n",
      "D:\\Programfiles2\\anaconda\\lib\\site-packages\\ipykernel\\__main__.py:61: SettingWithCopyWarning: \n",
      "A value is trying to be set on a copy of a slice from a DataFrame.\n",
      "Try using .loc[row_indexer,col_indexer] = value instead\n",
      "\n",
      "See the caveats in the documentation: http://pandas.pydata.org/pandas-docs/stable/indexing.html#indexing-view-versus-copy\n"
     ]
    },
    {
     "name": "stdout",
     "output_type": "stream",
     "text": [
      "Fold  3 AUC : 0.974715\n",
      "Training until validation scores don't improve for 100 rounds.\n",
      "[100]\ttrain's auc: 0.931659\tvalid's auc: 0.908486\n",
      "Early stopping, best iteration is:\n",
      "[59]\ttrain's auc: 0.960922\tvalid's auc: 0.93968\n"
     ]
    },
    {
     "name": "stderr",
     "output_type": "stream",
     "text": [
      "D:\\Programfiles2\\anaconda\\lib\\site-packages\\ipykernel\\__main__.py:60: SettingWithCopyWarning: \n",
      "A value is trying to be set on a copy of a slice from a DataFrame.\n",
      "Try using .loc[row_indexer,col_indexer] = value instead\n",
      "\n",
      "See the caveats in the documentation: http://pandas.pydata.org/pandas-docs/stable/indexing.html#indexing-view-versus-copy\n",
      "D:\\Programfiles2\\anaconda\\lib\\site-packages\\ipykernel\\__main__.py:61: SettingWithCopyWarning: \n",
      "A value is trying to be set on a copy of a slice from a DataFrame.\n",
      "Try using .loc[row_indexer,col_indexer] = value instead\n",
      "\n",
      "See the caveats in the documentation: http://pandas.pydata.org/pandas-docs/stable/indexing.html#indexing-view-versus-copy\n"
     ]
    },
    {
     "name": "stdout",
     "output_type": "stream",
     "text": [
      "Fold  4 AUC : 0.939680\n",
      "Training until validation scores don't improve for 100 rounds.\n",
      "[100]\ttrain's auc: 0.971326\tvalid's auc: 0.954843\n",
      "[200]\ttrain's auc: 0.98275\tvalid's auc: 0.962099\n",
      "[300]\ttrain's auc: 0.988676\tvalid's auc: 0.964883\n",
      "[400]\ttrain's auc: 0.992327\tvalid's auc: 0.965904\n",
      "[500]\ttrain's auc: 0.994683\tvalid's auc: 0.966274\n",
      "[600]\ttrain's auc: 0.996262\tvalid's auc: 0.966398\n",
      "[700]\ttrain's auc: 0.9973\tvalid's auc: 0.966635\n",
      "[800]\ttrain's auc: 0.99802\tvalid's auc: 0.966831\n",
      "Early stopping, best iteration is:\n",
      "[795]\ttrain's auc: 0.997992\tvalid's auc: 0.96692\n"
     ]
    },
    {
     "name": "stderr",
     "output_type": "stream",
     "text": [
      "D:\\Programfiles2\\anaconda\\lib\\site-packages\\ipykernel\\__main__.py:60: SettingWithCopyWarning: \n",
      "A value is trying to be set on a copy of a slice from a DataFrame.\n",
      "Try using .loc[row_indexer,col_indexer] = value instead\n",
      "\n",
      "See the caveats in the documentation: http://pandas.pydata.org/pandas-docs/stable/indexing.html#indexing-view-versus-copy\n",
      "D:\\Programfiles2\\anaconda\\lib\\site-packages\\ipykernel\\__main__.py:61: SettingWithCopyWarning: \n",
      "A value is trying to be set on a copy of a slice from a DataFrame.\n",
      "Try using .loc[row_indexer,col_indexer] = value instead\n",
      "\n",
      "See the caveats in the documentation: http://pandas.pydata.org/pandas-docs/stable/indexing.html#indexing-view-versus-copy\n"
     ]
    },
    {
     "name": "stdout",
     "output_type": "stream",
     "text": [
      "Fold  5 AUC : 0.966920\n"
     ]
    },
    {
     "name": "stderr",
     "output_type": "stream",
     "text": [
      "D:\\Programfiles2\\anaconda\\lib\\site-packages\\ipykernel\\__main__.py:70: SettingWithCopyWarning: \n",
      "A value is trying to be set on a copy of a slice from a DataFrame.\n",
      "Try using .loc[row_indexer,col_indexer] = value instead\n",
      "\n",
      "See the caveats in the documentation: http://pandas.pydata.org/pandas-docs/stable/indexing.html#indexing-view-versus-copy\n"
     ]
    },
    {
     "name": "stdout",
     "output_type": "stream",
     "text": [
      "Full AUC score 0.961211\n",
      "(24943, 531) (6236, 531) (31588, 531)\n",
      "Training until validation scores don't improve for 100 rounds.\n",
      "[100]\ttrain's auc: 0.962897\tvalid's auc: 0.944025\n",
      "[200]\ttrain's auc: 0.977204\tvalid's auc: 0.957749\n",
      "[300]\ttrain's auc: 0.983327\tvalid's auc: 0.961404\n",
      "[400]\ttrain's auc: 0.987534\tvalid's auc: 0.963608\n",
      "[500]\ttrain's auc: 0.990513\tvalid's auc: 0.965016\n",
      "[600]\ttrain's auc: 0.992641\tvalid's auc: 0.96614\n",
      "[700]\ttrain's auc: 0.994184\tvalid's auc: 0.966982\n",
      "[800]\ttrain's auc: 0.995339\tvalid's auc: 0.967202\n",
      "Early stopping, best iteration is:\n",
      "[787]\ttrain's auc: 0.995208\tvalid's auc: 0.967354\n"
     ]
    },
    {
     "name": "stderr",
     "output_type": "stream",
     "text": [
      "D:\\Programfiles2\\anaconda\\lib\\site-packages\\ipykernel\\__main__.py:60: SettingWithCopyWarning: \n",
      "A value is trying to be set on a copy of a slice from a DataFrame.\n",
      "Try using .loc[row_indexer,col_indexer] = value instead\n",
      "\n",
      "See the caveats in the documentation: http://pandas.pydata.org/pandas-docs/stable/indexing.html#indexing-view-versus-copy\n",
      "D:\\Programfiles2\\anaconda\\lib\\site-packages\\ipykernel\\__main__.py:61: SettingWithCopyWarning: \n",
      "A value is trying to be set on a copy of a slice from a DataFrame.\n",
      "Try using .loc[row_indexer,col_indexer] = value instead\n",
      "\n",
      "See the caveats in the documentation: http://pandas.pydata.org/pandas-docs/stable/indexing.html#indexing-view-versus-copy\n"
     ]
    },
    {
     "name": "stdout",
     "output_type": "stream",
     "text": [
      "Fold  1 AUC : 0.967354\n",
      "Training until validation scores don't improve for 100 rounds.\n",
      "[100]\ttrain's auc: 0.926259\tvalid's auc: 0.917435\n",
      "Early stopping, best iteration is:\n",
      "[60]\ttrain's auc: 0.955401\tvalid's auc: 0.941998\n"
     ]
    },
    {
     "name": "stderr",
     "output_type": "stream",
     "text": [
      "D:\\Programfiles2\\anaconda\\lib\\site-packages\\ipykernel\\__main__.py:60: SettingWithCopyWarning: \n",
      "A value is trying to be set on a copy of a slice from a DataFrame.\n",
      "Try using .loc[row_indexer,col_indexer] = value instead\n",
      "\n",
      "See the caveats in the documentation: http://pandas.pydata.org/pandas-docs/stable/indexing.html#indexing-view-versus-copy\n",
      "D:\\Programfiles2\\anaconda\\lib\\site-packages\\ipykernel\\__main__.py:61: SettingWithCopyWarning: \n",
      "A value is trying to be set on a copy of a slice from a DataFrame.\n",
      "Try using .loc[row_indexer,col_indexer] = value instead\n",
      "\n",
      "See the caveats in the documentation: http://pandas.pydata.org/pandas-docs/stable/indexing.html#indexing-view-versus-copy\n"
     ]
    },
    {
     "name": "stdout",
     "output_type": "stream",
     "text": [
      "Fold  2 AUC : 0.941998\n",
      "Training until validation scores don't improve for 100 rounds.\n",
      "[100]\ttrain's auc: 0.965253\tvalid's auc: 0.944828\n",
      "[200]\ttrain's auc: 0.977989\tvalid's auc: 0.958216\n",
      "[300]\ttrain's auc: 0.983888\tvalid's auc: 0.961959\n",
      "[400]\ttrain's auc: 0.987934\tvalid's auc: 0.963708\n",
      "[500]\ttrain's auc: 0.99064\tvalid's auc: 0.964816\n",
      "[600]\ttrain's auc: 0.992687\tvalid's auc: 0.966132\n",
      "[700]\ttrain's auc: 0.994251\tvalid's auc: 0.9666\n",
      "[800]\ttrain's auc: 0.995374\tvalid's auc: 0.966732\n",
      "[900]\ttrain's auc: 0.996245\tvalid's auc: 0.966727\n",
      "Early stopping, best iteration is:\n",
      "[817]\ttrain's auc: 0.995551\tvalid's auc: 0.966929\n"
     ]
    },
    {
     "name": "stderr",
     "output_type": "stream",
     "text": [
      "D:\\Programfiles2\\anaconda\\lib\\site-packages\\ipykernel\\__main__.py:60: SettingWithCopyWarning: \n",
      "A value is trying to be set on a copy of a slice from a DataFrame.\n",
      "Try using .loc[row_indexer,col_indexer] = value instead\n",
      "\n",
      "See the caveats in the documentation: http://pandas.pydata.org/pandas-docs/stable/indexing.html#indexing-view-versus-copy\n",
      "D:\\Programfiles2\\anaconda\\lib\\site-packages\\ipykernel\\__main__.py:61: SettingWithCopyWarning: \n",
      "A value is trying to be set on a copy of a slice from a DataFrame.\n",
      "Try using .loc[row_indexer,col_indexer] = value instead\n",
      "\n",
      "See the caveats in the documentation: http://pandas.pydata.org/pandas-docs/stable/indexing.html#indexing-view-versus-copy\n"
     ]
    },
    {
     "name": "stdout",
     "output_type": "stream",
     "text": [
      "Fold  3 AUC : 0.966929\n",
      "Training until validation scores don't improve for 100 rounds.\n",
      "[100]\ttrain's auc: 0.96475\tvalid's auc: 0.951912\n",
      "[200]\ttrain's auc: 0.977992\tvalid's auc: 0.962433\n",
      "[300]\ttrain's auc: 0.98396\tvalid's auc: 0.96544\n",
      "[400]\ttrain's auc: 0.988086\tvalid's auc: 0.966912\n",
      "[500]\ttrain's auc: 0.990938\tvalid's auc: 0.967471\n",
      "[600]\ttrain's auc: 0.993018\tvalid's auc: 0.968021\n",
      "[700]\ttrain's auc: 0.994552\tvalid's auc: 0.968175\n",
      "[800]\ttrain's auc: 0.995666\tvalid's auc: 0.968547\n",
      "[900]\ttrain's auc: 0.996509\tvalid's auc: 0.968707\n",
      "Early stopping, best iteration is:\n",
      "[868]\ttrain's auc: 0.99625\tvalid's auc: 0.968772\n"
     ]
    },
    {
     "name": "stderr",
     "output_type": "stream",
     "text": [
      "D:\\Programfiles2\\anaconda\\lib\\site-packages\\ipykernel\\__main__.py:60: SettingWithCopyWarning: \n",
      "A value is trying to be set on a copy of a slice from a DataFrame.\n",
      "Try using .loc[row_indexer,col_indexer] = value instead\n",
      "\n",
      "See the caveats in the documentation: http://pandas.pydata.org/pandas-docs/stable/indexing.html#indexing-view-versus-copy\n",
      "D:\\Programfiles2\\anaconda\\lib\\site-packages\\ipykernel\\__main__.py:61: SettingWithCopyWarning: \n",
      "A value is trying to be set on a copy of a slice from a DataFrame.\n",
      "Try using .loc[row_indexer,col_indexer] = value instead\n",
      "\n",
      "See the caveats in the documentation: http://pandas.pydata.org/pandas-docs/stable/indexing.html#indexing-view-versus-copy\n"
     ]
    },
    {
     "name": "stdout",
     "output_type": "stream",
     "text": [
      "Fold  4 AUC : 0.968772\n",
      "Training until validation scores don't improve for 100 rounds.\n",
      "[100]\ttrain's auc: 0.963839\tvalid's auc: 0.941202\n",
      "[200]\ttrain's auc: 0.977463\tvalid's auc: 0.95352\n",
      "[300]\ttrain's auc: 0.983487\tvalid's auc: 0.957533\n",
      "[400]\ttrain's auc: 0.987639\tvalid's auc: 0.959389\n",
      "[500]\ttrain's auc: 0.990563\tvalid's auc: 0.961076\n",
      "[600]\ttrain's auc: 0.992599\tvalid's auc: 0.961906\n",
      "[700]\ttrain's auc: 0.994146\tvalid's auc: 0.962621\n",
      "[800]\ttrain's auc: 0.995302\tvalid's auc: 0.963309\n",
      "[900]\ttrain's auc: 0.996196\tvalid's auc: 0.96366\n",
      "[1000]\ttrain's auc: 0.996859\tvalid's auc: 0.963733\n",
      "[1100]\ttrain's auc: 0.997357\tvalid's auc: 0.963705\n",
      "Early stopping, best iteration is:\n",
      "[1057]\ttrain's auc: 0.997175\tvalid's auc: 0.963877\n"
     ]
    },
    {
     "name": "stderr",
     "output_type": "stream",
     "text": [
      "D:\\Programfiles2\\anaconda\\lib\\site-packages\\ipykernel\\__main__.py:60: SettingWithCopyWarning: \n",
      "A value is trying to be set on a copy of a slice from a DataFrame.\n",
      "Try using .loc[row_indexer,col_indexer] = value instead\n",
      "\n",
      "See the caveats in the documentation: http://pandas.pydata.org/pandas-docs/stable/indexing.html#indexing-view-versus-copy\n",
      "D:\\Programfiles2\\anaconda\\lib\\site-packages\\ipykernel\\__main__.py:61: SettingWithCopyWarning: \n",
      "A value is trying to be set on a copy of a slice from a DataFrame.\n",
      "Try using .loc[row_indexer,col_indexer] = value instead\n",
      "\n",
      "See the caveats in the documentation: http://pandas.pydata.org/pandas-docs/stable/indexing.html#indexing-view-versus-copy\n"
     ]
    },
    {
     "name": "stdout",
     "output_type": "stream",
     "text": [
      "Fold  5 AUC : 0.963877\n"
     ]
    },
    {
     "name": "stderr",
     "output_type": "stream",
     "text": [
      "D:\\Programfiles2\\anaconda\\lib\\site-packages\\ipykernel\\__main__.py:70: SettingWithCopyWarning: \n",
      "A value is trying to be set on a copy of a slice from a DataFrame.\n",
      "Try using .loc[row_indexer,col_indexer] = value instead\n",
      "\n",
      "See the caveats in the documentation: http://pandas.pydata.org/pandas-docs/stable/indexing.html#indexing-view-versus-copy\n"
     ]
    },
    {
     "name": "stdout",
     "output_type": "stream",
     "text": [
      "Full AUC score 0.959994\n",
      "(24943, 531) (6236, 531) (31588, 531)\n",
      "Training until validation scores don't improve for 100 rounds.\n",
      "[100]\ttrain's auc: 0.976109\tvalid's auc: 0.9622\n",
      "[200]\ttrain's auc: 0.986852\tvalid's auc: 0.968347\n",
      "[300]\ttrain's auc: 0.992024\tvalid's auc: 0.969673\n",
      "[400]\ttrain's auc: 0.995241\tvalid's auc: 0.97048\n",
      "[500]\ttrain's auc: 0.996889\tvalid's auc: 0.971099\n",
      "Early stopping, best iteration is:\n",
      "[496]\ttrain's auc: 0.996838\tvalid's auc: 0.971133\n"
     ]
    },
    {
     "name": "stderr",
     "output_type": "stream",
     "text": [
      "D:\\Programfiles2\\anaconda\\lib\\site-packages\\ipykernel\\__main__.py:60: SettingWithCopyWarning: \n",
      "A value is trying to be set on a copy of a slice from a DataFrame.\n",
      "Try using .loc[row_indexer,col_indexer] = value instead\n",
      "\n",
      "See the caveats in the documentation: http://pandas.pydata.org/pandas-docs/stable/indexing.html#indexing-view-versus-copy\n",
      "D:\\Programfiles2\\anaconda\\lib\\site-packages\\ipykernel\\__main__.py:61: SettingWithCopyWarning: \n",
      "A value is trying to be set on a copy of a slice from a DataFrame.\n",
      "Try using .loc[row_indexer,col_indexer] = value instead\n",
      "\n",
      "See the caveats in the documentation: http://pandas.pydata.org/pandas-docs/stable/indexing.html#indexing-view-versus-copy\n"
     ]
    },
    {
     "name": "stdout",
     "output_type": "stream",
     "text": [
      "Fold  1 AUC : 0.971133\n",
      "Training until validation scores don't improve for 100 rounds.\n",
      "[100]\ttrain's auc: 0.977592\tvalid's auc: 0.95374\n",
      "[200]\ttrain's auc: 0.987633\tvalid's auc: 0.960175\n",
      "[300]\ttrain's auc: 0.992645\tvalid's auc: 0.96177\n",
      "[400]\ttrain's auc: 0.995492\tvalid's auc: 0.962574\n",
      "[500]\ttrain's auc: 0.997128\tvalid's auc: 0.963457\n",
      "[600]\ttrain's auc: 0.998047\tvalid's auc: 0.963725\n",
      "Early stopping, best iteration is:\n",
      "[581]\ttrain's auc: 0.99789\tvalid's auc: 0.963905\n"
     ]
    },
    {
     "name": "stderr",
     "output_type": "stream",
     "text": [
      "D:\\Programfiles2\\anaconda\\lib\\site-packages\\ipykernel\\__main__.py:60: SettingWithCopyWarning: \n",
      "A value is trying to be set on a copy of a slice from a DataFrame.\n",
      "Try using .loc[row_indexer,col_indexer] = value instead\n",
      "\n",
      "See the caveats in the documentation: http://pandas.pydata.org/pandas-docs/stable/indexing.html#indexing-view-versus-copy\n",
      "D:\\Programfiles2\\anaconda\\lib\\site-packages\\ipykernel\\__main__.py:61: SettingWithCopyWarning: \n",
      "A value is trying to be set on a copy of a slice from a DataFrame.\n",
      "Try using .loc[row_indexer,col_indexer] = value instead\n",
      "\n",
      "See the caveats in the documentation: http://pandas.pydata.org/pandas-docs/stable/indexing.html#indexing-view-versus-copy\n"
     ]
    },
    {
     "name": "stdout",
     "output_type": "stream",
     "text": [
      "Fold  2 AUC : 0.963905\n",
      "Training until validation scores don't improve for 100 rounds.\n",
      "[100]\ttrain's auc: 0.97738\tvalid's auc: 0.954998\n",
      "[200]\ttrain's auc: 0.987591\tvalid's auc: 0.961108\n",
      "[300]\ttrain's auc: 0.992754\tvalid's auc: 0.963968\n",
      "[400]\ttrain's auc: 0.995648\tvalid's auc: 0.965136\n",
      "[500]\ttrain's auc: 0.997259\tvalid's auc: 0.965594\n",
      "[600]\ttrain's auc: 0.998187\tvalid's auc: 0.965866\n",
      "[700]\ttrain's auc: 0.998733\tvalid's auc: 0.966358\n",
      "[800]\ttrain's auc: 0.999074\tvalid's auc: 0.966326\n",
      "Early stopping, best iteration is:\n",
      "[737]\ttrain's auc: 0.998875\tvalid's auc: 0.966621\n"
     ]
    },
    {
     "name": "stderr",
     "output_type": "stream",
     "text": [
      "D:\\Programfiles2\\anaconda\\lib\\site-packages\\ipykernel\\__main__.py:60: SettingWithCopyWarning: \n",
      "A value is trying to be set on a copy of a slice from a DataFrame.\n",
      "Try using .loc[row_indexer,col_indexer] = value instead\n",
      "\n",
      "See the caveats in the documentation: http://pandas.pydata.org/pandas-docs/stable/indexing.html#indexing-view-versus-copy\n",
      "D:\\Programfiles2\\anaconda\\lib\\site-packages\\ipykernel\\__main__.py:61: SettingWithCopyWarning: \n",
      "A value is trying to be set on a copy of a slice from a DataFrame.\n",
      "Try using .loc[row_indexer,col_indexer] = value instead\n",
      "\n",
      "See the caveats in the documentation: http://pandas.pydata.org/pandas-docs/stable/indexing.html#indexing-view-versus-copy\n"
     ]
    },
    {
     "name": "stdout",
     "output_type": "stream",
     "text": [
      "Fold  3 AUC : 0.966621\n",
      "Training until validation scores don't improve for 100 rounds.\n",
      "[100]\ttrain's auc: 0.939542\tvalid's auc: 0.927015\n",
      "Early stopping, best iteration is:\n",
      "[50]\ttrain's auc: 0.965286\tvalid's auc: 0.94823\n"
     ]
    },
    {
     "name": "stderr",
     "output_type": "stream",
     "text": [
      "D:\\Programfiles2\\anaconda\\lib\\site-packages\\ipykernel\\__main__.py:60: SettingWithCopyWarning: \n",
      "A value is trying to be set on a copy of a slice from a DataFrame.\n",
      "Try using .loc[row_indexer,col_indexer] = value instead\n",
      "\n",
      "See the caveats in the documentation: http://pandas.pydata.org/pandas-docs/stable/indexing.html#indexing-view-versus-copy\n",
      "D:\\Programfiles2\\anaconda\\lib\\site-packages\\ipykernel\\__main__.py:61: SettingWithCopyWarning: \n",
      "A value is trying to be set on a copy of a slice from a DataFrame.\n",
      "Try using .loc[row_indexer,col_indexer] = value instead\n",
      "\n",
      "See the caveats in the documentation: http://pandas.pydata.org/pandas-docs/stable/indexing.html#indexing-view-versus-copy\n"
     ]
    },
    {
     "name": "stdout",
     "output_type": "stream",
     "text": [
      "Fold  4 AUC : 0.948230\n",
      "Training until validation scores don't improve for 100 rounds.\n",
      "[100]\ttrain's auc: 0.976733\tvalid's auc: 0.962863\n",
      "[200]\ttrain's auc: 0.987377\tvalid's auc: 0.968428\n",
      "[300]\ttrain's auc: 0.992555\tvalid's auc: 0.969695\n",
      "[400]\ttrain's auc: 0.995483\tvalid's auc: 0.970573\n",
      "[500]\ttrain's auc: 0.997103\tvalid's auc: 0.971406\n",
      "[600]\ttrain's auc: 0.998036\tvalid's auc: 0.971791\n",
      "Early stopping, best iteration is:\n",
      "[542]\ttrain's auc: 0.997557\tvalid's auc: 0.972016\n"
     ]
    },
    {
     "name": "stderr",
     "output_type": "stream",
     "text": [
      "D:\\Programfiles2\\anaconda\\lib\\site-packages\\ipykernel\\__main__.py:60: SettingWithCopyWarning: \n",
      "A value is trying to be set on a copy of a slice from a DataFrame.\n",
      "Try using .loc[row_indexer,col_indexer] = value instead\n",
      "\n",
      "See the caveats in the documentation: http://pandas.pydata.org/pandas-docs/stable/indexing.html#indexing-view-versus-copy\n",
      "D:\\Programfiles2\\anaconda\\lib\\site-packages\\ipykernel\\__main__.py:61: SettingWithCopyWarning: \n",
      "A value is trying to be set on a copy of a slice from a DataFrame.\n",
      "Try using .loc[row_indexer,col_indexer] = value instead\n",
      "\n",
      "See the caveats in the documentation: http://pandas.pydata.org/pandas-docs/stable/indexing.html#indexing-view-versus-copy\n"
     ]
    },
    {
     "name": "stdout",
     "output_type": "stream",
     "text": [
      "Fold  5 AUC : 0.972016\n"
     ]
    },
    {
     "name": "stderr",
     "output_type": "stream",
     "text": [
      "D:\\Programfiles2\\anaconda\\lib\\site-packages\\ipykernel\\__main__.py:70: SettingWithCopyWarning: \n",
      "A value is trying to be set on a copy of a slice from a DataFrame.\n",
      "Try using .loc[row_indexer,col_indexer] = value instead\n",
      "\n",
      "See the caveats in the documentation: http://pandas.pydata.org/pandas-docs/stable/indexing.html#indexing-view-versus-copy\n"
     ]
    },
    {
     "name": "stdout",
     "output_type": "stream",
     "text": [
      "Full AUC score 0.962953\n",
      "(24943, 531) (6236, 531) (31588, 531)\n",
      "Training until validation scores don't improve for 100 rounds.\n",
      "[100]\ttrain's auc: 0.932853\tvalid's auc: 0.921221\n",
      "Early stopping, best iteration is:\n",
      "[58]\ttrain's auc: 0.963338\tvalid's auc: 0.947394\n"
     ]
    },
    {
     "name": "stderr",
     "output_type": "stream",
     "text": [
      "D:\\Programfiles2\\anaconda\\lib\\site-packages\\ipykernel\\__main__.py:60: SettingWithCopyWarning: \n",
      "A value is trying to be set on a copy of a slice from a DataFrame.\n",
      "Try using .loc[row_indexer,col_indexer] = value instead\n",
      "\n",
      "See the caveats in the documentation: http://pandas.pydata.org/pandas-docs/stable/indexing.html#indexing-view-versus-copy\n",
      "D:\\Programfiles2\\anaconda\\lib\\site-packages\\ipykernel\\__main__.py:61: SettingWithCopyWarning: \n",
      "A value is trying to be set on a copy of a slice from a DataFrame.\n",
      "Try using .loc[row_indexer,col_indexer] = value instead\n",
      "\n",
      "See the caveats in the documentation: http://pandas.pydata.org/pandas-docs/stable/indexing.html#indexing-view-versus-copy\n"
     ]
    },
    {
     "name": "stdout",
     "output_type": "stream",
     "text": [
      "Fold  1 AUC : 0.947394\n",
      "Training until validation scores don't improve for 100 rounds.\n",
      "[100]\ttrain's auc: 0.972073\tvalid's auc: 0.956477\n",
      "[200]\ttrain's auc: 0.983929\tvalid's auc: 0.961923\n",
      "[300]\ttrain's auc: 0.989833\tvalid's auc: 0.96479\n",
      "[400]\ttrain's auc: 0.993428\tvalid's auc: 0.966117\n",
      "[500]\ttrain's auc: 0.995502\tvalid's auc: 0.966655\n",
      "[600]\ttrain's auc: 0.996943\tvalid's auc: 0.966742\n",
      "[700]\ttrain's auc: 0.997867\tvalid's auc: 0.967222\n",
      "[800]\ttrain's auc: 0.998473\tvalid's auc: 0.967456\n",
      "[900]\ttrain's auc: 0.998882\tvalid's auc: 0.967749\n",
      "[1000]\ttrain's auc: 0.999155\tvalid's auc: 0.967655\n",
      "Early stopping, best iteration is:\n",
      "[914]\ttrain's auc: 0.998932\tvalid's auc: 0.967847\n"
     ]
    },
    {
     "name": "stderr",
     "output_type": "stream",
     "text": [
      "D:\\Programfiles2\\anaconda\\lib\\site-packages\\ipykernel\\__main__.py:60: SettingWithCopyWarning: \n",
      "A value is trying to be set on a copy of a slice from a DataFrame.\n",
      "Try using .loc[row_indexer,col_indexer] = value instead\n",
      "\n",
      "See the caveats in the documentation: http://pandas.pydata.org/pandas-docs/stable/indexing.html#indexing-view-versus-copy\n",
      "D:\\Programfiles2\\anaconda\\lib\\site-packages\\ipykernel\\__main__.py:61: SettingWithCopyWarning: \n",
      "A value is trying to be set on a copy of a slice from a DataFrame.\n",
      "Try using .loc[row_indexer,col_indexer] = value instead\n",
      "\n",
      "See the caveats in the documentation: http://pandas.pydata.org/pandas-docs/stable/indexing.html#indexing-view-versus-copy\n"
     ]
    },
    {
     "name": "stdout",
     "output_type": "stream",
     "text": [
      "Fold  2 AUC : 0.967847\n",
      "Training until validation scores don't improve for 100 rounds.\n",
      "[100]\ttrain's auc: 0.972069\tvalid's auc: 0.95881\n",
      "[200]\ttrain's auc: 0.98367\tvalid's auc: 0.965367\n",
      "[300]\ttrain's auc: 0.98935\tvalid's auc: 0.967504\n",
      "[400]\ttrain's auc: 0.992937\tvalid's auc: 0.96876\n",
      "[500]\ttrain's auc: 0.995252\tvalid's auc: 0.9691\n",
      "[600]\ttrain's auc: 0.996718\tvalid's auc: 0.969252\n",
      "[700]\ttrain's auc: 0.997742\tvalid's auc: 0.969358\n",
      "[800]\ttrain's auc: 0.998386\tvalid's auc: 0.969422\n",
      "[900]\ttrain's auc: 0.998835\tvalid's auc: 0.969525\n",
      "[1000]\ttrain's auc: 0.999134\tvalid's auc: 0.969844\n",
      "[1100]\ttrain's auc: 0.999347\tvalid's auc: 0.970218\n",
      "Early stopping, best iteration is:\n",
      "[1084]\ttrain's auc: 0.999321\tvalid's auc: 0.970321\n"
     ]
    },
    {
     "name": "stderr",
     "output_type": "stream",
     "text": [
      "D:\\Programfiles2\\anaconda\\lib\\site-packages\\ipykernel\\__main__.py:60: SettingWithCopyWarning: \n",
      "A value is trying to be set on a copy of a slice from a DataFrame.\n",
      "Try using .loc[row_indexer,col_indexer] = value instead\n",
      "\n",
      "See the caveats in the documentation: http://pandas.pydata.org/pandas-docs/stable/indexing.html#indexing-view-versus-copy\n",
      "D:\\Programfiles2\\anaconda\\lib\\site-packages\\ipykernel\\__main__.py:61: SettingWithCopyWarning: \n",
      "A value is trying to be set on a copy of a slice from a DataFrame.\n",
      "Try using .loc[row_indexer,col_indexer] = value instead\n",
      "\n",
      "See the caveats in the documentation: http://pandas.pydata.org/pandas-docs/stable/indexing.html#indexing-view-versus-copy\n"
     ]
    },
    {
     "name": "stdout",
     "output_type": "stream",
     "text": [
      "Fold  3 AUC : 0.970321\n",
      "Training until validation scores don't improve for 100 rounds.\n",
      "[100]\ttrain's auc: 0.970737\tvalid's auc: 0.944555\n",
      "[200]\ttrain's auc: 0.983453\tvalid's auc: 0.957337\n",
      "[300]\ttrain's auc: 0.989499\tvalid's auc: 0.960881\n",
      "[400]\ttrain's auc: 0.993039\tvalid's auc: 0.962245\n",
      "[500]\ttrain's auc: 0.995343\tvalid's auc: 0.963052\n",
      "[600]\ttrain's auc: 0.996797\tvalid's auc: 0.963485\n",
      "[700]\ttrain's auc: 0.99777\tvalid's auc: 0.96343\n",
      "Early stopping, best iteration is:\n",
      "[683]\ttrain's auc: 0.997635\tvalid's auc: 0.963609\n"
     ]
    },
    {
     "name": "stderr",
     "output_type": "stream",
     "text": [
      "D:\\Programfiles2\\anaconda\\lib\\site-packages\\ipykernel\\__main__.py:60: SettingWithCopyWarning: \n",
      "A value is trying to be set on a copy of a slice from a DataFrame.\n",
      "Try using .loc[row_indexer,col_indexer] = value instead\n",
      "\n",
      "See the caveats in the documentation: http://pandas.pydata.org/pandas-docs/stable/indexing.html#indexing-view-versus-copy\n",
      "D:\\Programfiles2\\anaconda\\lib\\site-packages\\ipykernel\\__main__.py:61: SettingWithCopyWarning: \n",
      "A value is trying to be set on a copy of a slice from a DataFrame.\n",
      "Try using .loc[row_indexer,col_indexer] = value instead\n",
      "\n",
      "See the caveats in the documentation: http://pandas.pydata.org/pandas-docs/stable/indexing.html#indexing-view-versus-copy\n"
     ]
    },
    {
     "name": "stdout",
     "output_type": "stream",
     "text": [
      "Fold  4 AUC : 0.963609\n",
      "Training until validation scores don't improve for 100 rounds.\n",
      "[100]\ttrain's auc: 0.970213\tvalid's auc: 0.952653\n",
      "[200]\ttrain's auc: 0.982907\tvalid's auc: 0.961641\n",
      "[300]\ttrain's auc: 0.989106\tvalid's auc: 0.964484\n",
      "[400]\ttrain's auc: 0.992679\tvalid's auc: 0.96598\n",
      "[500]\ttrain's auc: 0.995078\tvalid's auc: 0.966894\n",
      "[600]\ttrain's auc: 0.996581\tvalid's auc: 0.967156\n",
      "Early stopping, best iteration is:\n",
      "[596]\ttrain's auc: 0.996536\tvalid's auc: 0.967265\n"
     ]
    },
    {
     "name": "stderr",
     "output_type": "stream",
     "text": [
      "D:\\Programfiles2\\anaconda\\lib\\site-packages\\ipykernel\\__main__.py:60: SettingWithCopyWarning: \n",
      "A value is trying to be set on a copy of a slice from a DataFrame.\n",
      "Try using .loc[row_indexer,col_indexer] = value instead\n",
      "\n",
      "See the caveats in the documentation: http://pandas.pydata.org/pandas-docs/stable/indexing.html#indexing-view-versus-copy\n",
      "D:\\Programfiles2\\anaconda\\lib\\site-packages\\ipykernel\\__main__.py:61: SettingWithCopyWarning: \n",
      "A value is trying to be set on a copy of a slice from a DataFrame.\n",
      "Try using .loc[row_indexer,col_indexer] = value instead\n",
      "\n",
      "See the caveats in the documentation: http://pandas.pydata.org/pandas-docs/stable/indexing.html#indexing-view-versus-copy\n"
     ]
    },
    {
     "name": "stdout",
     "output_type": "stream",
     "text": [
      "Fold  5 AUC : 0.967265\n"
     ]
    },
    {
     "name": "stderr",
     "output_type": "stream",
     "text": [
      "D:\\Programfiles2\\anaconda\\lib\\site-packages\\ipykernel\\__main__.py:70: SettingWithCopyWarning: \n",
      "A value is trying to be set on a copy of a slice from a DataFrame.\n",
      "Try using .loc[row_indexer,col_indexer] = value instead\n",
      "\n",
      "See the caveats in the documentation: http://pandas.pydata.org/pandas-docs/stable/indexing.html#indexing-view-versus-copy\n"
     ]
    },
    {
     "name": "stdout",
     "output_type": "stream",
     "text": [
      "Full AUC score 0.961197\n",
      "(24943, 531) (6236, 531) (31588, 531)\n",
      "Training until validation scores don't improve for 100 rounds.\n",
      "[100]\ttrain's auc: 0.962672\tvalid's auc: 0.949102\n",
      "[200]\ttrain's auc: 0.976258\tvalid's auc: 0.962242\n",
      "[300]\ttrain's auc: 0.981152\tvalid's auc: 0.96591\n",
      "[400]\ttrain's auc: 0.984662\tvalid's auc: 0.967591\n",
      "[500]\ttrain's auc: 0.98729\tvalid's auc: 0.968794\n",
      "[600]\ttrain's auc: 0.989163\tvalid's auc: 0.96946\n",
      "[700]\ttrain's auc: 0.990388\tvalid's auc: 0.969836\n",
      "[800]\ttrain's auc: 0.991189\tvalid's auc: 0.970216\n",
      "[900]\ttrain's auc: 0.991726\tvalid's auc: 0.970338\n",
      "Early stopping, best iteration is:\n",
      "[871]\ttrain's auc: 0.991608\tvalid's auc: 0.970443\n"
     ]
    },
    {
     "name": "stderr",
     "output_type": "stream",
     "text": [
      "D:\\Programfiles2\\anaconda\\lib\\site-packages\\ipykernel\\__main__.py:60: SettingWithCopyWarning: \n",
      "A value is trying to be set on a copy of a slice from a DataFrame.\n",
      "Try using .loc[row_indexer,col_indexer] = value instead\n",
      "\n",
      "See the caveats in the documentation: http://pandas.pydata.org/pandas-docs/stable/indexing.html#indexing-view-versus-copy\n",
      "D:\\Programfiles2\\anaconda\\lib\\site-packages\\ipykernel\\__main__.py:61: SettingWithCopyWarning: \n",
      "A value is trying to be set on a copy of a slice from a DataFrame.\n",
      "Try using .loc[row_indexer,col_indexer] = value instead\n",
      "\n",
      "See the caveats in the documentation: http://pandas.pydata.org/pandas-docs/stable/indexing.html#indexing-view-versus-copy\n"
     ]
    },
    {
     "name": "stdout",
     "output_type": "stream",
     "text": [
      "Fold  1 AUC : 0.970443\n",
      "Training until validation scores don't improve for 100 rounds.\n",
      "[100]\ttrain's auc: 0.963618\tvalid's auc: 0.937624\n",
      "[200]\ttrain's auc: 0.976855\tvalid's auc: 0.950804\n",
      "[300]\ttrain's auc: 0.981556\tvalid's auc: 0.95451\n",
      "[400]\ttrain's auc: 0.985027\tvalid's auc: 0.956287\n",
      "[500]\ttrain's auc: 0.987556\tvalid's auc: 0.957467\n",
      "[600]\ttrain's auc: 0.989327\tvalid's auc: 0.95846\n",
      "[700]\ttrain's auc: 0.990346\tvalid's auc: 0.959151\n",
      "[800]\ttrain's auc: 0.991021\tvalid's auc: 0.959486\n",
      "Early stopping, best iteration is:\n",
      "[798]\ttrain's auc: 0.991016\tvalid's auc: 0.959517\n"
     ]
    },
    {
     "name": "stderr",
     "output_type": "stream",
     "text": [
      "D:\\Programfiles2\\anaconda\\lib\\site-packages\\ipykernel\\__main__.py:60: SettingWithCopyWarning: \n",
      "A value is trying to be set on a copy of a slice from a DataFrame.\n",
      "Try using .loc[row_indexer,col_indexer] = value instead\n",
      "\n",
      "See the caveats in the documentation: http://pandas.pydata.org/pandas-docs/stable/indexing.html#indexing-view-versus-copy\n",
      "D:\\Programfiles2\\anaconda\\lib\\site-packages\\ipykernel\\__main__.py:61: SettingWithCopyWarning: \n",
      "A value is trying to be set on a copy of a slice from a DataFrame.\n",
      "Try using .loc[row_indexer,col_indexer] = value instead\n",
      "\n",
      "See the caveats in the documentation: http://pandas.pydata.org/pandas-docs/stable/indexing.html#indexing-view-versus-copy\n"
     ]
    },
    {
     "name": "stdout",
     "output_type": "stream",
     "text": [
      "Fold  2 AUC : 0.959486\n",
      "Training until validation scores don't improve for 100 rounds.\n",
      "[100]\ttrain's auc: 0.92311\tvalid's auc: 0.912278\n",
      "Early stopping, best iteration is:\n",
      "[63]\ttrain's auc: 0.953057\tvalid's auc: 0.938171\n"
     ]
    },
    {
     "name": "stderr",
     "output_type": "stream",
     "text": [
      "D:\\Programfiles2\\anaconda\\lib\\site-packages\\ipykernel\\__main__.py:60: SettingWithCopyWarning: \n",
      "A value is trying to be set on a copy of a slice from a DataFrame.\n",
      "Try using .loc[row_indexer,col_indexer] = value instead\n",
      "\n",
      "See the caveats in the documentation: http://pandas.pydata.org/pandas-docs/stable/indexing.html#indexing-view-versus-copy\n",
      "D:\\Programfiles2\\anaconda\\lib\\site-packages\\ipykernel\\__main__.py:61: SettingWithCopyWarning: \n",
      "A value is trying to be set on a copy of a slice from a DataFrame.\n",
      "Try using .loc[row_indexer,col_indexer] = value instead\n",
      "\n",
      "See the caveats in the documentation: http://pandas.pydata.org/pandas-docs/stable/indexing.html#indexing-view-versus-copy\n"
     ]
    },
    {
     "name": "stdout",
     "output_type": "stream",
     "text": [
      "Fold  3 AUC : 0.938171\n",
      "Training until validation scores don't improve for 100 rounds.\n",
      "[100]\ttrain's auc: 0.962496\tvalid's auc: 0.952681\n",
      "[200]\ttrain's auc: 0.975655\tvalid's auc: 0.962614\n",
      "[300]\ttrain's auc: 0.980815\tvalid's auc: 0.964801\n",
      "[400]\ttrain's auc: 0.984402\tvalid's auc: 0.966041\n",
      "[500]\ttrain's auc: 0.987157\tvalid's auc: 0.966836\n",
      "[600]\ttrain's auc: 0.988979\tvalid's auc: 0.966885\n",
      "Early stopping, best iteration is:\n",
      "[538]\ttrain's auc: 0.987954\tvalid's auc: 0.967033\n"
     ]
    },
    {
     "name": "stderr",
     "output_type": "stream",
     "text": [
      "D:\\Programfiles2\\anaconda\\lib\\site-packages\\ipykernel\\__main__.py:60: SettingWithCopyWarning: \n",
      "A value is trying to be set on a copy of a slice from a DataFrame.\n",
      "Try using .loc[row_indexer,col_indexer] = value instead\n",
      "\n",
      "See the caveats in the documentation: http://pandas.pydata.org/pandas-docs/stable/indexing.html#indexing-view-versus-copy\n",
      "D:\\Programfiles2\\anaconda\\lib\\site-packages\\ipykernel\\__main__.py:61: SettingWithCopyWarning: \n",
      "A value is trying to be set on a copy of a slice from a DataFrame.\n",
      "Try using .loc[row_indexer,col_indexer] = value instead\n",
      "\n",
      "See the caveats in the documentation: http://pandas.pydata.org/pandas-docs/stable/indexing.html#indexing-view-versus-copy\n"
     ]
    },
    {
     "name": "stdout",
     "output_type": "stream",
     "text": [
      "Fold  4 AUC : 0.967033\n",
      "Training until validation scores don't improve for 100 rounds.\n",
      "[100]\ttrain's auc: 0.964237\tvalid's auc: 0.943938\n",
      "[200]\ttrain's auc: 0.976508\tvalid's auc: 0.952844\n",
      "[300]\ttrain's auc: 0.981132\tvalid's auc: 0.955988\n",
      "[400]\ttrain's auc: 0.984481\tvalid's auc: 0.957467\n",
      "[500]\ttrain's auc: 0.987172\tvalid's auc: 0.958656\n",
      "[600]\ttrain's auc: 0.988789\tvalid's auc: 0.959238\n",
      "[700]\ttrain's auc: 0.989803\tvalid's auc: 0.959722\n",
      "[800]\ttrain's auc: 0.990565\tvalid's auc: 0.960155\n",
      "[900]\ttrain's auc: 0.990766\tvalid's auc: 0.960116\n",
      "Early stopping, best iteration is:\n",
      "[802]\ttrain's auc: 0.990571\tvalid's auc: 0.960172\n"
     ]
    },
    {
     "name": "stderr",
     "output_type": "stream",
     "text": [
      "D:\\Programfiles2\\anaconda\\lib\\site-packages\\ipykernel\\__main__.py:60: SettingWithCopyWarning: \n",
      "A value is trying to be set on a copy of a slice from a DataFrame.\n",
      "Try using .loc[row_indexer,col_indexer] = value instead\n",
      "\n",
      "See the caveats in the documentation: http://pandas.pydata.org/pandas-docs/stable/indexing.html#indexing-view-versus-copy\n",
      "D:\\Programfiles2\\anaconda\\lib\\site-packages\\ipykernel\\__main__.py:61: SettingWithCopyWarning: \n",
      "A value is trying to be set on a copy of a slice from a DataFrame.\n",
      "Try using .loc[row_indexer,col_indexer] = value instead\n",
      "\n",
      "See the caveats in the documentation: http://pandas.pydata.org/pandas-docs/stable/indexing.html#indexing-view-versus-copy\n"
     ]
    },
    {
     "name": "stdout",
     "output_type": "stream",
     "text": [
      "Fold  5 AUC : 0.960172\n"
     ]
    },
    {
     "name": "stderr",
     "output_type": "stream",
     "text": [
      "D:\\Programfiles2\\anaconda\\lib\\site-packages\\ipykernel\\__main__.py:70: SettingWithCopyWarning: \n",
      "A value is trying to be set on a copy of a slice from a DataFrame.\n",
      "Try using .loc[row_indexer,col_indexer] = value instead\n",
      "\n",
      "See the caveats in the documentation: http://pandas.pydata.org/pandas-docs/stable/indexing.html#indexing-view-versus-copy\n"
     ]
    },
    {
     "name": "stdout",
     "output_type": "stream",
     "text": [
      "Full AUC score 0.957452\n",
      "(24943, 531) (6236, 531) (31588, 531)\n",
      "Training until validation scores don't improve for 100 rounds.\n",
      "[100]\ttrain's auc: 0.972843\tvalid's auc: 0.951838\n",
      "[200]\ttrain's auc: 0.984361\tvalid's auc: 0.958739\n",
      "[300]\ttrain's auc: 0.990113\tvalid's auc: 0.961858\n",
      "[400]\ttrain's auc: 0.993589\tvalid's auc: 0.963507\n",
      "[500]\ttrain's auc: 0.995802\tvalid's auc: 0.964575\n",
      "[600]\ttrain's auc: 0.997123\tvalid's auc: 0.965229\n",
      "[700]\ttrain's auc: 0.998024\tvalid's auc: 0.965453\n",
      "Early stopping, best iteration is:\n",
      "[669]\ttrain's auc: 0.997796\tvalid's auc: 0.965558\n"
     ]
    },
    {
     "name": "stderr",
     "output_type": "stream",
     "text": [
      "D:\\Programfiles2\\anaconda\\lib\\site-packages\\ipykernel\\__main__.py:60: SettingWithCopyWarning: \n",
      "A value is trying to be set on a copy of a slice from a DataFrame.\n",
      "Try using .loc[row_indexer,col_indexer] = value instead\n",
      "\n",
      "See the caveats in the documentation: http://pandas.pydata.org/pandas-docs/stable/indexing.html#indexing-view-versus-copy\n",
      "D:\\Programfiles2\\anaconda\\lib\\site-packages\\ipykernel\\__main__.py:61: SettingWithCopyWarning: \n",
      "A value is trying to be set on a copy of a slice from a DataFrame.\n",
      "Try using .loc[row_indexer,col_indexer] = value instead\n",
      "\n",
      "See the caveats in the documentation: http://pandas.pydata.org/pandas-docs/stable/indexing.html#indexing-view-versus-copy\n"
     ]
    },
    {
     "name": "stdout",
     "output_type": "stream",
     "text": [
      "Fold  1 AUC : 0.965558\n",
      "Training until validation scores don't improve for 100 rounds.\n",
      "[100]\ttrain's auc: 0.971592\tvalid's auc: 0.951807\n",
      "[200]\ttrain's auc: 0.983938\tvalid's auc: 0.962665\n",
      "[300]\ttrain's auc: 0.989999\tvalid's auc: 0.96527\n",
      "[400]\ttrain's auc: 0.993501\tvalid's auc: 0.966691\n",
      "[500]\ttrain's auc: 0.995703\tvalid's auc: 0.967639\n",
      "[600]\ttrain's auc: 0.997109\tvalid's auc: 0.967817\n",
      "Early stopping, best iteration is:\n",
      "[532]\ttrain's auc: 0.996236\tvalid's auc: 0.96803\n"
     ]
    },
    {
     "name": "stderr",
     "output_type": "stream",
     "text": [
      "D:\\Programfiles2\\anaconda\\lib\\site-packages\\ipykernel\\__main__.py:60: SettingWithCopyWarning: \n",
      "A value is trying to be set on a copy of a slice from a DataFrame.\n",
      "Try using .loc[row_indexer,col_indexer] = value instead\n",
      "\n",
      "See the caveats in the documentation: http://pandas.pydata.org/pandas-docs/stable/indexing.html#indexing-view-versus-copy\n",
      "D:\\Programfiles2\\anaconda\\lib\\site-packages\\ipykernel\\__main__.py:61: SettingWithCopyWarning: \n",
      "A value is trying to be set on a copy of a slice from a DataFrame.\n",
      "Try using .loc[row_indexer,col_indexer] = value instead\n",
      "\n",
      "See the caveats in the documentation: http://pandas.pydata.org/pandas-docs/stable/indexing.html#indexing-view-versus-copy\n"
     ]
    },
    {
     "name": "stdout",
     "output_type": "stream",
     "text": [
      "Fold  2 AUC : 0.968030\n",
      "Training until validation scores don't improve for 100 rounds.\n",
      "[100]\ttrain's auc: 0.971708\tvalid's auc: 0.959919\n",
      "[200]\ttrain's auc: 0.983581\tvalid's auc: 0.968468\n",
      "[300]\ttrain's auc: 0.989689\tvalid's auc: 0.971806\n",
      "[400]\ttrain's auc: 0.993303\tvalid's auc: 0.973031\n",
      "[500]\ttrain's auc: 0.995629\tvalid's auc: 0.973389\n",
      "Early stopping, best iteration is:\n",
      "[489]\ttrain's auc: 0.995446\tvalid's auc: 0.973549\n"
     ]
    },
    {
     "name": "stderr",
     "output_type": "stream",
     "text": [
      "D:\\Programfiles2\\anaconda\\lib\\site-packages\\ipykernel\\__main__.py:60: SettingWithCopyWarning: \n",
      "A value is trying to be set on a copy of a slice from a DataFrame.\n",
      "Try using .loc[row_indexer,col_indexer] = value instead\n",
      "\n",
      "See the caveats in the documentation: http://pandas.pydata.org/pandas-docs/stable/indexing.html#indexing-view-versus-copy\n",
      "D:\\Programfiles2\\anaconda\\lib\\site-packages\\ipykernel\\__main__.py:61: SettingWithCopyWarning: \n",
      "A value is trying to be set on a copy of a slice from a DataFrame.\n",
      "Try using .loc[row_indexer,col_indexer] = value instead\n",
      "\n",
      "See the caveats in the documentation: http://pandas.pydata.org/pandas-docs/stable/indexing.html#indexing-view-versus-copy\n"
     ]
    },
    {
     "name": "stdout",
     "output_type": "stream",
     "text": [
      "Fold  3 AUC : 0.973549\n",
      "Training until validation scores don't improve for 100 rounds.\n",
      "[100]\ttrain's auc: 0.934952\tvalid's auc: 0.909906\n",
      "Early stopping, best iteration is:\n",
      "[60]\ttrain's auc: 0.963818\tvalid's auc: 0.940786\n"
     ]
    },
    {
     "name": "stderr",
     "output_type": "stream",
     "text": [
      "D:\\Programfiles2\\anaconda\\lib\\site-packages\\ipykernel\\__main__.py:60: SettingWithCopyWarning: \n",
      "A value is trying to be set on a copy of a slice from a DataFrame.\n",
      "Try using .loc[row_indexer,col_indexer] = value instead\n",
      "\n",
      "See the caveats in the documentation: http://pandas.pydata.org/pandas-docs/stable/indexing.html#indexing-view-versus-copy\n",
      "D:\\Programfiles2\\anaconda\\lib\\site-packages\\ipykernel\\__main__.py:61: SettingWithCopyWarning: \n",
      "A value is trying to be set on a copy of a slice from a DataFrame.\n",
      "Try using .loc[row_indexer,col_indexer] = value instead\n",
      "\n",
      "See the caveats in the documentation: http://pandas.pydata.org/pandas-docs/stable/indexing.html#indexing-view-versus-copy\n"
     ]
    },
    {
     "name": "stdout",
     "output_type": "stream",
     "text": [
      "Fold  4 AUC : 0.940786\n",
      "Training until validation scores don't improve for 100 rounds.\n",
      "[100]\ttrain's auc: 0.971036\tvalid's auc: 0.952981\n",
      "[200]\ttrain's auc: 0.983665\tvalid's auc: 0.963588\n",
      "[300]\ttrain's auc: 0.989846\tvalid's auc: 0.966665\n",
      "[400]\ttrain's auc: 0.993324\tvalid's auc: 0.967891\n",
      "[500]\ttrain's auc: 0.995582\tvalid's auc: 0.968711\n",
      "Early stopping, best iteration is:\n",
      "[499]\ttrain's auc: 0.995574\tvalid's auc: 0.968793\n"
     ]
    },
    {
     "name": "stderr",
     "output_type": "stream",
     "text": [
      "D:\\Programfiles2\\anaconda\\lib\\site-packages\\ipykernel\\__main__.py:60: SettingWithCopyWarning: \n",
      "A value is trying to be set on a copy of a slice from a DataFrame.\n",
      "Try using .loc[row_indexer,col_indexer] = value instead\n",
      "\n",
      "See the caveats in the documentation: http://pandas.pydata.org/pandas-docs/stable/indexing.html#indexing-view-versus-copy\n",
      "D:\\Programfiles2\\anaconda\\lib\\site-packages\\ipykernel\\__main__.py:61: SettingWithCopyWarning: \n",
      "A value is trying to be set on a copy of a slice from a DataFrame.\n",
      "Try using .loc[row_indexer,col_indexer] = value instead\n",
      "\n",
      "See the caveats in the documentation: http://pandas.pydata.org/pandas-docs/stable/indexing.html#indexing-view-versus-copy\n"
     ]
    },
    {
     "name": "stdout",
     "output_type": "stream",
     "text": [
      "Fold  5 AUC : 0.968793\n"
     ]
    },
    {
     "name": "stderr",
     "output_type": "stream",
     "text": [
      "D:\\Programfiles2\\anaconda\\lib\\site-packages\\ipykernel\\__main__.py:70: SettingWithCopyWarning: \n",
      "A value is trying to be set on a copy of a slice from a DataFrame.\n",
      "Try using .loc[row_indexer,col_indexer] = value instead\n",
      "\n",
      "See the caveats in the documentation: http://pandas.pydata.org/pandas-docs/stable/indexing.html#indexing-view-versus-copy\n"
     ]
    },
    {
     "name": "stdout",
     "output_type": "stream",
     "text": [
      "Full AUC score 0.962094\n",
      "(24943, 503) (6236, 503) (31588, 503)\n",
      "Training until validation scores don't improve for 100 rounds.\n",
      "[100]\ttrain's auc: 0.960607\tvalid's auc: 0.94364\n",
      "[200]\ttrain's auc: 0.975174\tvalid's auc: 0.957397\n",
      "[300]\ttrain's auc: 0.980996\tvalid's auc: 0.960975\n",
      "[400]\ttrain's auc: 0.985165\tvalid's auc: 0.962902\n",
      "[500]\ttrain's auc: 0.988032\tvalid's auc: 0.964239\n",
      "[600]\ttrain's auc: 0.990299\tvalid's auc: 0.964784\n",
      "[700]\ttrain's auc: 0.992028\tvalid's auc: 0.965297\n",
      "[800]\ttrain's auc: 0.993351\tvalid's auc: 0.965512\n",
      "[900]\ttrain's auc: 0.994369\tvalid's auc: 0.965557\n",
      "[1000]\ttrain's auc: 0.995147\tvalid's auc: 0.965748\n",
      "[1100]\ttrain's auc: 0.99581\tvalid's auc: 0.96581\n",
      "Early stopping, best iteration is:\n",
      "[1082]\ttrain's auc: 0.995695\tvalid's auc: 0.966004\n"
     ]
    },
    {
     "name": "stderr",
     "output_type": "stream",
     "text": [
      "D:\\Programfiles2\\anaconda\\lib\\site-packages\\ipykernel\\__main__.py:60: SettingWithCopyWarning: \n",
      "A value is trying to be set on a copy of a slice from a DataFrame.\n",
      "Try using .loc[row_indexer,col_indexer] = value instead\n",
      "\n",
      "See the caveats in the documentation: http://pandas.pydata.org/pandas-docs/stable/indexing.html#indexing-view-versus-copy\n",
      "D:\\Programfiles2\\anaconda\\lib\\site-packages\\ipykernel\\__main__.py:61: SettingWithCopyWarning: \n",
      "A value is trying to be set on a copy of a slice from a DataFrame.\n",
      "Try using .loc[row_indexer,col_indexer] = value instead\n",
      "\n",
      "See the caveats in the documentation: http://pandas.pydata.org/pandas-docs/stable/indexing.html#indexing-view-versus-copy\n"
     ]
    },
    {
     "name": "stdout",
     "output_type": "stream",
     "text": [
      "Fold  1 AUC : 0.966004\n",
      "Training until validation scores don't improve for 100 rounds.\n",
      "[100]\ttrain's auc: 0.924942\tvalid's auc: 0.918306\n",
      "Early stopping, best iteration is:\n",
      "[60]\ttrain's auc: 0.953929\tvalid's auc: 0.941037\n"
     ]
    },
    {
     "name": "stderr",
     "output_type": "stream",
     "text": [
      "D:\\Programfiles2\\anaconda\\lib\\site-packages\\ipykernel\\__main__.py:60: SettingWithCopyWarning: \n",
      "A value is trying to be set on a copy of a slice from a DataFrame.\n",
      "Try using .loc[row_indexer,col_indexer] = value instead\n",
      "\n",
      "See the caveats in the documentation: http://pandas.pydata.org/pandas-docs/stable/indexing.html#indexing-view-versus-copy\n",
      "D:\\Programfiles2\\anaconda\\lib\\site-packages\\ipykernel\\__main__.py:61: SettingWithCopyWarning: \n",
      "A value is trying to be set on a copy of a slice from a DataFrame.\n",
      "Try using .loc[row_indexer,col_indexer] = value instead\n",
      "\n",
      "See the caveats in the documentation: http://pandas.pydata.org/pandas-docs/stable/indexing.html#indexing-view-versus-copy\n"
     ]
    },
    {
     "name": "stdout",
     "output_type": "stream",
     "text": [
      "Fold  2 AUC : 0.941037\n",
      "Training until validation scores don't improve for 100 rounds.\n",
      "[100]\ttrain's auc: 0.963428\tvalid's auc: 0.945112\n",
      "[200]\ttrain's auc: 0.976125\tvalid's auc: 0.958778\n",
      "[300]\ttrain's auc: 0.981598\tvalid's auc: 0.962491\n",
      "[400]\ttrain's auc: 0.985583\tvalid's auc: 0.964568\n",
      "[500]\ttrain's auc: 0.988276\tvalid's auc: 0.965556\n",
      "[600]\ttrain's auc: 0.990488\tvalid's auc: 0.966234\n",
      "[700]\ttrain's auc: 0.992202\tvalid's auc: 0.967199\n",
      "[800]\ttrain's auc: 0.993533\tvalid's auc: 0.967347\n",
      "[900]\ttrain's auc: 0.994539\tvalid's auc: 0.967964\n",
      "[1000]\ttrain's auc: 0.995352\tvalid's auc: 0.96823\n",
      "[1100]\ttrain's auc: 0.995967\tvalid's auc: 0.968232\n",
      "Early stopping, best iteration is:\n",
      "[1025]\ttrain's auc: 0.995529\tvalid's auc: 0.968298\n"
     ]
    },
    {
     "name": "stderr",
     "output_type": "stream",
     "text": [
      "D:\\Programfiles2\\anaconda\\lib\\site-packages\\ipykernel\\__main__.py:60: SettingWithCopyWarning: \n",
      "A value is trying to be set on a copy of a slice from a DataFrame.\n",
      "Try using .loc[row_indexer,col_indexer] = value instead\n",
      "\n",
      "See the caveats in the documentation: http://pandas.pydata.org/pandas-docs/stable/indexing.html#indexing-view-versus-copy\n",
      "D:\\Programfiles2\\anaconda\\lib\\site-packages\\ipykernel\\__main__.py:61: SettingWithCopyWarning: \n",
      "A value is trying to be set on a copy of a slice from a DataFrame.\n",
      "Try using .loc[row_indexer,col_indexer] = value instead\n",
      "\n",
      "See the caveats in the documentation: http://pandas.pydata.org/pandas-docs/stable/indexing.html#indexing-view-versus-copy\n"
     ]
    },
    {
     "name": "stdout",
     "output_type": "stream",
     "text": [
      "Fold  3 AUC : 0.968298\n",
      "Training until validation scores don't improve for 100 rounds.\n",
      "[100]\ttrain's auc: 0.962853\tvalid's auc: 0.952739\n",
      "[200]\ttrain's auc: 0.975805\tvalid's auc: 0.962066\n",
      "[300]\ttrain's auc: 0.98166\tvalid's auc: 0.965206\n",
      "[400]\ttrain's auc: 0.985717\tvalid's auc: 0.966455\n",
      "[500]\ttrain's auc: 0.988565\tvalid's auc: 0.967333\n",
      "[600]\ttrain's auc: 0.990761\tvalid's auc: 0.968384\n",
      "[700]\ttrain's auc: 0.992462\tvalid's auc: 0.969169\n",
      "[800]\ttrain's auc: 0.993781\tvalid's auc: 0.969693\n",
      "[900]\ttrain's auc: 0.994755\tvalid's auc: 0.969923\n",
      "[1000]\ttrain's auc: 0.995521\tvalid's auc: 0.970282\n",
      "[1100]\ttrain's auc: 0.99611\tvalid's auc: 0.970536\n",
      "[1200]\ttrain's auc: 0.996627\tvalid's auc: 0.970693\n",
      "[1300]\ttrain's auc: 0.997011\tvalid's auc: 0.970722\n",
      "[1400]\ttrain's auc: 0.997323\tvalid's auc: 0.97068\n",
      "Early stopping, best iteration is:\n",
      "[1323]\ttrain's auc: 0.997079\tvalid's auc: 0.970772\n"
     ]
    },
    {
     "name": "stderr",
     "output_type": "stream",
     "text": [
      "D:\\Programfiles2\\anaconda\\lib\\site-packages\\ipykernel\\__main__.py:60: SettingWithCopyWarning: \n",
      "A value is trying to be set on a copy of a slice from a DataFrame.\n",
      "Try using .loc[row_indexer,col_indexer] = value instead\n",
      "\n",
      "See the caveats in the documentation: http://pandas.pydata.org/pandas-docs/stable/indexing.html#indexing-view-versus-copy\n",
      "D:\\Programfiles2\\anaconda\\lib\\site-packages\\ipykernel\\__main__.py:61: SettingWithCopyWarning: \n",
      "A value is trying to be set on a copy of a slice from a DataFrame.\n",
      "Try using .loc[row_indexer,col_indexer] = value instead\n",
      "\n",
      "See the caveats in the documentation: http://pandas.pydata.org/pandas-docs/stable/indexing.html#indexing-view-versus-copy\n"
     ]
    },
    {
     "name": "stdout",
     "output_type": "stream",
     "text": [
      "Fold  4 AUC : 0.970772\n",
      "Training until validation scores don't improve for 100 rounds.\n",
      "[100]\ttrain's auc: 0.961361\tvalid's auc: 0.941299\n",
      "[200]\ttrain's auc: 0.975709\tvalid's auc: 0.953648\n",
      "[300]\ttrain's auc: 0.981556\tvalid's auc: 0.95645\n",
      "[400]\ttrain's auc: 0.98571\tvalid's auc: 0.958672\n",
      "[500]\ttrain's auc: 0.988561\tvalid's auc: 0.959785\n",
      "[600]\ttrain's auc: 0.99064\tvalid's auc: 0.960065\n",
      "[700]\ttrain's auc: 0.992253\tvalid's auc: 0.960512\n",
      "[800]\ttrain's auc: 0.993526\tvalid's auc: 0.960709\n",
      "[900]\ttrain's auc: 0.994508\tvalid's auc: 0.960556\n",
      "Early stopping, best iteration is:\n",
      "[813]\ttrain's auc: 0.993663\tvalid's auc: 0.960752\n"
     ]
    },
    {
     "name": "stderr",
     "output_type": "stream",
     "text": [
      "D:\\Programfiles2\\anaconda\\lib\\site-packages\\ipykernel\\__main__.py:60: SettingWithCopyWarning: \n",
      "A value is trying to be set on a copy of a slice from a DataFrame.\n",
      "Try using .loc[row_indexer,col_indexer] = value instead\n",
      "\n",
      "See the caveats in the documentation: http://pandas.pydata.org/pandas-docs/stable/indexing.html#indexing-view-versus-copy\n",
      "D:\\Programfiles2\\anaconda\\lib\\site-packages\\ipykernel\\__main__.py:61: SettingWithCopyWarning: \n",
      "A value is trying to be set on a copy of a slice from a DataFrame.\n",
      "Try using .loc[row_indexer,col_indexer] = value instead\n",
      "\n",
      "See the caveats in the documentation: http://pandas.pydata.org/pandas-docs/stable/indexing.html#indexing-view-versus-copy\n"
     ]
    },
    {
     "name": "stdout",
     "output_type": "stream",
     "text": [
      "Fold  5 AUC : 0.960752\n"
     ]
    },
    {
     "name": "stderr",
     "output_type": "stream",
     "text": [
      "D:\\Programfiles2\\anaconda\\lib\\site-packages\\ipykernel\\__main__.py:70: SettingWithCopyWarning: \n",
      "A value is trying to be set on a copy of a slice from a DataFrame.\n",
      "Try using .loc[row_indexer,col_indexer] = value instead\n",
      "\n",
      "See the caveats in the documentation: http://pandas.pydata.org/pandas-docs/stable/indexing.html#indexing-view-versus-copy\n"
     ]
    },
    {
     "name": "stdout",
     "output_type": "stream",
     "text": [
      "Full AUC score 0.959311\n",
      "(24943, 503) (6236, 503) (31588, 503)\n",
      "Training until validation scores don't improve for 100 rounds.\n",
      "[100]\ttrain's auc: 0.974423\tvalid's auc: 0.963184\n",
      "[200]\ttrain's auc: 0.985003\tvalid's auc: 0.969813\n",
      "[300]\ttrain's auc: 0.990321\tvalid's auc: 0.970605\n",
      "Early stopping, best iteration is:\n",
      "[258]\ttrain's auc: 0.988478\tvalid's auc: 0.970771\n"
     ]
    },
    {
     "name": "stderr",
     "output_type": "stream",
     "text": [
      "D:\\Programfiles2\\anaconda\\lib\\site-packages\\ipykernel\\__main__.py:60: SettingWithCopyWarning: \n",
      "A value is trying to be set on a copy of a slice from a DataFrame.\n",
      "Try using .loc[row_indexer,col_indexer] = value instead\n",
      "\n",
      "See the caveats in the documentation: http://pandas.pydata.org/pandas-docs/stable/indexing.html#indexing-view-versus-copy\n",
      "D:\\Programfiles2\\anaconda\\lib\\site-packages\\ipykernel\\__main__.py:61: SettingWithCopyWarning: \n",
      "A value is trying to be set on a copy of a slice from a DataFrame.\n",
      "Try using .loc[row_indexer,col_indexer] = value instead\n",
      "\n",
      "See the caveats in the documentation: http://pandas.pydata.org/pandas-docs/stable/indexing.html#indexing-view-versus-copy\n"
     ]
    },
    {
     "name": "stdout",
     "output_type": "stream",
     "text": [
      "Fold  1 AUC : 0.970771\n",
      "Training until validation scores don't improve for 100 rounds.\n",
      "[100]\ttrain's auc: 0.976354\tvalid's auc: 0.954234\n",
      "[200]\ttrain's auc: 0.986274\tvalid's auc: 0.959707\n",
      "[300]\ttrain's auc: 0.990996\tvalid's auc: 0.963032\n",
      "[400]\ttrain's auc: 0.993944\tvalid's auc: 0.963883\n",
      "[500]\ttrain's auc: 0.995764\tvalid's auc: 0.964632\n",
      "[600]\ttrain's auc: 0.996929\tvalid's auc: 0.964994\n",
      "[700]\ttrain's auc: 0.997723\tvalid's auc: 0.965341\n",
      "[800]\ttrain's auc: 0.998245\tvalid's auc: 0.966033\n",
      "[900]\ttrain's auc: 0.998603\tvalid's auc: 0.965788\n",
      "Early stopping, best iteration is:\n",
      "[802]\ttrain's auc: 0.998252\tvalid's auc: 0.966064\n"
     ]
    },
    {
     "name": "stderr",
     "output_type": "stream",
     "text": [
      "D:\\Programfiles2\\anaconda\\lib\\site-packages\\ipykernel\\__main__.py:60: SettingWithCopyWarning: \n",
      "A value is trying to be set on a copy of a slice from a DataFrame.\n",
      "Try using .loc[row_indexer,col_indexer] = value instead\n",
      "\n",
      "See the caveats in the documentation: http://pandas.pydata.org/pandas-docs/stable/indexing.html#indexing-view-versus-copy\n",
      "D:\\Programfiles2\\anaconda\\lib\\site-packages\\ipykernel\\__main__.py:61: SettingWithCopyWarning: \n",
      "A value is trying to be set on a copy of a slice from a DataFrame.\n",
      "Try using .loc[row_indexer,col_indexer] = value instead\n",
      "\n",
      "See the caveats in the documentation: http://pandas.pydata.org/pandas-docs/stable/indexing.html#indexing-view-versus-copy\n"
     ]
    },
    {
     "name": "stdout",
     "output_type": "stream",
     "text": [
      "Fold  2 AUC : 0.966064\n",
      "Training until validation scores don't improve for 100 rounds.\n",
      "[100]\ttrain's auc: 0.97567\tvalid's auc: 0.95333\n",
      "[200]\ttrain's auc: 0.985873\tvalid's auc: 0.960153\n",
      "[300]\ttrain's auc: 0.990996\tvalid's auc: 0.962844\n",
      "[400]\ttrain's auc: 0.993952\tvalid's auc: 0.964571\n",
      "[500]\ttrain's auc: 0.995787\tvalid's auc: 0.96515\n",
      "[600]\ttrain's auc: 0.99694\tvalid's auc: 0.964877\n",
      "Early stopping, best iteration is:\n",
      "[502]\ttrain's auc: 0.995823\tvalid's auc: 0.965166\n"
     ]
    },
    {
     "name": "stderr",
     "output_type": "stream",
     "text": [
      "D:\\Programfiles2\\anaconda\\lib\\site-packages\\ipykernel\\__main__.py:60: SettingWithCopyWarning: \n",
      "A value is trying to be set on a copy of a slice from a DataFrame.\n",
      "Try using .loc[row_indexer,col_indexer] = value instead\n",
      "\n",
      "See the caveats in the documentation: http://pandas.pydata.org/pandas-docs/stable/indexing.html#indexing-view-versus-copy\n",
      "D:\\Programfiles2\\anaconda\\lib\\site-packages\\ipykernel\\__main__.py:61: SettingWithCopyWarning: \n",
      "A value is trying to be set on a copy of a slice from a DataFrame.\n",
      "Try using .loc[row_indexer,col_indexer] = value instead\n",
      "\n",
      "See the caveats in the documentation: http://pandas.pydata.org/pandas-docs/stable/indexing.html#indexing-view-versus-copy\n"
     ]
    },
    {
     "name": "stdout",
     "output_type": "stream",
     "text": [
      "Fold  3 AUC : 0.965166\n",
      "Training until validation scores don't improve for 100 rounds.\n",
      "[100]\ttrain's auc: 0.93831\tvalid's auc: 0.925572\n",
      "Early stopping, best iteration is:\n",
      "[51]\ttrain's auc: 0.965493\tvalid's auc: 0.947681\n"
     ]
    },
    {
     "name": "stderr",
     "output_type": "stream",
     "text": [
      "D:\\Programfiles2\\anaconda\\lib\\site-packages\\ipykernel\\__main__.py:60: SettingWithCopyWarning: \n",
      "A value is trying to be set on a copy of a slice from a DataFrame.\n",
      "Try using .loc[row_indexer,col_indexer] = value instead\n",
      "\n",
      "See the caveats in the documentation: http://pandas.pydata.org/pandas-docs/stable/indexing.html#indexing-view-versus-copy\n",
      "D:\\Programfiles2\\anaconda\\lib\\site-packages\\ipykernel\\__main__.py:61: SettingWithCopyWarning: \n",
      "A value is trying to be set on a copy of a slice from a DataFrame.\n",
      "Try using .loc[row_indexer,col_indexer] = value instead\n",
      "\n",
      "See the caveats in the documentation: http://pandas.pydata.org/pandas-docs/stable/indexing.html#indexing-view-versus-copy\n"
     ]
    },
    {
     "name": "stdout",
     "output_type": "stream",
     "text": [
      "Fold  4 AUC : 0.947681\n",
      "Training until validation scores don't improve for 100 rounds.\n",
      "[100]\ttrain's auc: 0.976095\tvalid's auc: 0.963198\n",
      "[200]\ttrain's auc: 0.985891\tvalid's auc: 0.968114\n",
      "[300]\ttrain's auc: 0.990768\tvalid's auc: 0.969625\n",
      "[400]\ttrain's auc: 0.993866\tvalid's auc: 0.970117\n",
      "[500]\ttrain's auc: 0.99573\tvalid's auc: 0.970189\n",
      "[600]\ttrain's auc: 0.996957\tvalid's auc: 0.970759\n",
      "[700]\ttrain's auc: 0.997722\tvalid's auc: 0.971068\n",
      "[800]\ttrain's auc: 0.998246\tvalid's auc: 0.9714\n",
      "[900]\ttrain's auc: 0.998607\tvalid's auc: 0.971413\n",
      "Early stopping, best iteration is:\n",
      "[859]\ttrain's auc: 0.998477\tvalid's auc: 0.971695\n"
     ]
    },
    {
     "name": "stderr",
     "output_type": "stream",
     "text": [
      "D:\\Programfiles2\\anaconda\\lib\\site-packages\\ipykernel\\__main__.py:60: SettingWithCopyWarning: \n",
      "A value is trying to be set on a copy of a slice from a DataFrame.\n",
      "Try using .loc[row_indexer,col_indexer] = value instead\n",
      "\n",
      "See the caveats in the documentation: http://pandas.pydata.org/pandas-docs/stable/indexing.html#indexing-view-versus-copy\n",
      "D:\\Programfiles2\\anaconda\\lib\\site-packages\\ipykernel\\__main__.py:61: SettingWithCopyWarning: \n",
      "A value is trying to be set on a copy of a slice from a DataFrame.\n",
      "Try using .loc[row_indexer,col_indexer] = value instead\n",
      "\n",
      "See the caveats in the documentation: http://pandas.pydata.org/pandas-docs/stable/indexing.html#indexing-view-versus-copy\n"
     ]
    },
    {
     "name": "stdout",
     "output_type": "stream",
     "text": [
      "Fold  5 AUC : 0.971695\n"
     ]
    },
    {
     "name": "stderr",
     "output_type": "stream",
     "text": [
      "D:\\Programfiles2\\anaconda\\lib\\site-packages\\ipykernel\\__main__.py:70: SettingWithCopyWarning: \n",
      "A value is trying to be set on a copy of a slice from a DataFrame.\n",
      "Try using .loc[row_indexer,col_indexer] = value instead\n",
      "\n",
      "See the caveats in the documentation: http://pandas.pydata.org/pandas-docs/stable/indexing.html#indexing-view-versus-copy\n"
     ]
    },
    {
     "name": "stdout",
     "output_type": "stream",
     "text": [
      "Full AUC score 0.962431\n",
      "(24943, 503) (6236, 503) (31588, 503)\n",
      "Training until validation scores don't improve for 100 rounds.\n",
      "[100]\ttrain's auc: 0.932217\tvalid's auc: 0.92031\n",
      "Early stopping, best iteration is:\n",
      "[59]\ttrain's auc: 0.961459\tvalid's auc: 0.945901\n"
     ]
    },
    {
     "name": "stderr",
     "output_type": "stream",
     "text": [
      "D:\\Programfiles2\\anaconda\\lib\\site-packages\\ipykernel\\__main__.py:60: SettingWithCopyWarning: \n",
      "A value is trying to be set on a copy of a slice from a DataFrame.\n",
      "Try using .loc[row_indexer,col_indexer] = value instead\n",
      "\n",
      "See the caveats in the documentation: http://pandas.pydata.org/pandas-docs/stable/indexing.html#indexing-view-versus-copy\n",
      "D:\\Programfiles2\\anaconda\\lib\\site-packages\\ipykernel\\__main__.py:61: SettingWithCopyWarning: \n",
      "A value is trying to be set on a copy of a slice from a DataFrame.\n",
      "Try using .loc[row_indexer,col_indexer] = value instead\n",
      "\n",
      "See the caveats in the documentation: http://pandas.pydata.org/pandas-docs/stable/indexing.html#indexing-view-versus-copy\n"
     ]
    },
    {
     "name": "stdout",
     "output_type": "stream",
     "text": [
      "Fold  1 AUC : 0.945901\n",
      "Training until validation scores don't improve for 100 rounds.\n",
      "[100]\ttrain's auc: 0.971002\tvalid's auc: 0.957763\n",
      "[200]\ttrain's auc: 0.982145\tvalid's auc: 0.963483\n",
      "[300]\ttrain's auc: 0.988017\tvalid's auc: 0.966317\n",
      "[400]\ttrain's auc: 0.991628\tvalid's auc: 0.967463\n",
      "[500]\ttrain's auc: 0.994008\tvalid's auc: 0.967946\n",
      "[600]\ttrain's auc: 0.995629\tvalid's auc: 0.9678\n",
      "Early stopping, best iteration is:\n",
      "[543]\ttrain's auc: 0.994768\tvalid's auc: 0.968115\n"
     ]
    },
    {
     "name": "stderr",
     "output_type": "stream",
     "text": [
      "D:\\Programfiles2\\anaconda\\lib\\site-packages\\ipykernel\\__main__.py:60: SettingWithCopyWarning: \n",
      "A value is trying to be set on a copy of a slice from a DataFrame.\n",
      "Try using .loc[row_indexer,col_indexer] = value instead\n",
      "\n",
      "See the caveats in the documentation: http://pandas.pydata.org/pandas-docs/stable/indexing.html#indexing-view-versus-copy\n",
      "D:\\Programfiles2\\anaconda\\lib\\site-packages\\ipykernel\\__main__.py:61: SettingWithCopyWarning: \n",
      "A value is trying to be set on a copy of a slice from a DataFrame.\n",
      "Try using .loc[row_indexer,col_indexer] = value instead\n",
      "\n",
      "See the caveats in the documentation: http://pandas.pydata.org/pandas-docs/stable/indexing.html#indexing-view-versus-copy\n"
     ]
    },
    {
     "name": "stdout",
     "output_type": "stream",
     "text": [
      "Fold  2 AUC : 0.968115\n",
      "Training until validation scores don't improve for 100 rounds.\n",
      "[100]\ttrain's auc: 0.971187\tvalid's auc: 0.957991\n",
      "[200]\ttrain's auc: 0.982452\tvalid's auc: 0.964467\n",
      "[300]\ttrain's auc: 0.988077\tvalid's auc: 0.965997\n",
      "[400]\ttrain's auc: 0.991543\tvalid's auc: 0.96712\n",
      "[500]\ttrain's auc: 0.99397\tvalid's auc: 0.967394\n",
      "[600]\ttrain's auc: 0.995563\tvalid's auc: 0.967786\n",
      "[700]\ttrain's auc: 0.996698\tvalid's auc: 0.968045\n",
      "[800]\ttrain's auc: 0.997533\tvalid's auc: 0.968448\n",
      "[900]\ttrain's auc: 0.998113\tvalid's auc: 0.968826\n",
      "[1000]\ttrain's auc: 0.998524\tvalid's auc: 0.968879\n",
      "[1100]\ttrain's auc: 0.998833\tvalid's auc: 0.969026\n",
      "Early stopping, best iteration is:\n",
      "[1079]\ttrain's auc: 0.99878\tvalid's auc: 0.969122\n"
     ]
    },
    {
     "name": "stderr",
     "output_type": "stream",
     "text": [
      "D:\\Programfiles2\\anaconda\\lib\\site-packages\\ipykernel\\__main__.py:60: SettingWithCopyWarning: \n",
      "A value is trying to be set on a copy of a slice from a DataFrame.\n",
      "Try using .loc[row_indexer,col_indexer] = value instead\n",
      "\n",
      "See the caveats in the documentation: http://pandas.pydata.org/pandas-docs/stable/indexing.html#indexing-view-versus-copy\n",
      "D:\\Programfiles2\\anaconda\\lib\\site-packages\\ipykernel\\__main__.py:61: SettingWithCopyWarning: \n",
      "A value is trying to be set on a copy of a slice from a DataFrame.\n",
      "Try using .loc[row_indexer,col_indexer] = value instead\n",
      "\n",
      "See the caveats in the documentation: http://pandas.pydata.org/pandas-docs/stable/indexing.html#indexing-view-versus-copy\n"
     ]
    },
    {
     "name": "stdout",
     "output_type": "stream",
     "text": [
      "Fold  3 AUC : 0.969122\n",
      "Training until validation scores don't improve for 100 rounds.\n",
      "[100]\ttrain's auc: 0.970255\tvalid's auc: 0.946213\n",
      "[200]\ttrain's auc: 0.981923\tvalid's auc: 0.957258\n",
      "[300]\ttrain's auc: 0.987902\tvalid's auc: 0.960352\n",
      "[400]\ttrain's auc: 0.991489\tvalid's auc: 0.961678\n",
      "[500]\ttrain's auc: 0.993832\tvalid's auc: 0.961895\n",
      "[600]\ttrain's auc: 0.99549\tvalid's auc: 0.962292\n",
      "[700]\ttrain's auc: 0.996685\tvalid's auc: 0.962952\n",
      "[800]\ttrain's auc: 0.997503\tvalid's auc: 0.963418\n",
      "[900]\ttrain's auc: 0.998073\tvalid's auc: 0.96329\n",
      "Early stopping, best iteration is:\n",
      "[805]\ttrain's auc: 0.997529\tvalid's auc: 0.963501\n"
     ]
    },
    {
     "name": "stderr",
     "output_type": "stream",
     "text": [
      "D:\\Programfiles2\\anaconda\\lib\\site-packages\\ipykernel\\__main__.py:60: SettingWithCopyWarning: \n",
      "A value is trying to be set on a copy of a slice from a DataFrame.\n",
      "Try using .loc[row_indexer,col_indexer] = value instead\n",
      "\n",
      "See the caveats in the documentation: http://pandas.pydata.org/pandas-docs/stable/indexing.html#indexing-view-versus-copy\n",
      "D:\\Programfiles2\\anaconda\\lib\\site-packages\\ipykernel\\__main__.py:61: SettingWithCopyWarning: \n",
      "A value is trying to be set on a copy of a slice from a DataFrame.\n",
      "Try using .loc[row_indexer,col_indexer] = value instead\n",
      "\n",
      "See the caveats in the documentation: http://pandas.pydata.org/pandas-docs/stable/indexing.html#indexing-view-versus-copy\n"
     ]
    },
    {
     "name": "stdout",
     "output_type": "stream",
     "text": [
      "Fold  4 AUC : 0.963501\n",
      "Training until validation scores don't improve for 100 rounds.\n",
      "[100]\ttrain's auc: 0.970512\tvalid's auc: 0.955056\n",
      "[200]\ttrain's auc: 0.981567\tvalid's auc: 0.962512\n",
      "[300]\ttrain's auc: 0.987504\tvalid's auc: 0.965247\n",
      "[400]\ttrain's auc: 0.991116\tvalid's auc: 0.966385\n",
      "[500]\ttrain's auc: 0.993631\tvalid's auc: 0.967207\n",
      "[600]\ttrain's auc: 0.995364\tvalid's auc: 0.967312\n",
      "Early stopping, best iteration is:\n",
      "[578]\ttrain's auc: 0.995026\tvalid's auc: 0.967402\n"
     ]
    },
    {
     "name": "stderr",
     "output_type": "stream",
     "text": [
      "D:\\Programfiles2\\anaconda\\lib\\site-packages\\ipykernel\\__main__.py:60: SettingWithCopyWarning: \n",
      "A value is trying to be set on a copy of a slice from a DataFrame.\n",
      "Try using .loc[row_indexer,col_indexer] = value instead\n",
      "\n",
      "See the caveats in the documentation: http://pandas.pydata.org/pandas-docs/stable/indexing.html#indexing-view-versus-copy\n",
      "D:\\Programfiles2\\anaconda\\lib\\site-packages\\ipykernel\\__main__.py:61: SettingWithCopyWarning: \n",
      "A value is trying to be set on a copy of a slice from a DataFrame.\n",
      "Try using .loc[row_indexer,col_indexer] = value instead\n",
      "\n",
      "See the caveats in the documentation: http://pandas.pydata.org/pandas-docs/stable/indexing.html#indexing-view-versus-copy\n"
     ]
    },
    {
     "name": "stdout",
     "output_type": "stream",
     "text": [
      "Fold  5 AUC : 0.967402\n"
     ]
    },
    {
     "name": "stderr",
     "output_type": "stream",
     "text": [
      "D:\\Programfiles2\\anaconda\\lib\\site-packages\\ipykernel\\__main__.py:70: SettingWithCopyWarning: \n",
      "A value is trying to be set on a copy of a slice from a DataFrame.\n",
      "Try using .loc[row_indexer,col_indexer] = value instead\n",
      "\n",
      "See the caveats in the documentation: http://pandas.pydata.org/pandas-docs/stable/indexing.html#indexing-view-versus-copy\n"
     ]
    },
    {
     "name": "stdout",
     "output_type": "stream",
     "text": [
      "Full AUC score 0.960455\n",
      "(24943, 503) (6236, 503) (31588, 503)\n",
      "Training until validation scores don't improve for 100 rounds.\n",
      "[100]\ttrain's auc: 0.960976\tvalid's auc: 0.950082\n",
      "[200]\ttrain's auc: 0.973759\tvalid's auc: 0.963989\n",
      "[300]\ttrain's auc: 0.978133\tvalid's auc: 0.96692\n",
      "[400]\ttrain's auc: 0.981611\tvalid's auc: 0.96908\n",
      "[500]\ttrain's auc: 0.984181\tvalid's auc: 0.970188\n",
      "[600]\ttrain's auc: 0.985842\tvalid's auc: 0.970942\n",
      "[700]\ttrain's auc: 0.986818\tvalid's auc: 0.971243\n",
      "[800]\ttrain's auc: 0.987002\tvalid's auc: 0.971319\n",
      "Early stopping, best iteration is:\n",
      "[719]\ttrain's auc: 0.987002\tvalid's auc: 0.971319\n"
     ]
    },
    {
     "name": "stderr",
     "output_type": "stream",
     "text": [
      "D:\\Programfiles2\\anaconda\\lib\\site-packages\\ipykernel\\__main__.py:60: SettingWithCopyWarning: \n",
      "A value is trying to be set on a copy of a slice from a DataFrame.\n",
      "Try using .loc[row_indexer,col_indexer] = value instead\n",
      "\n",
      "See the caveats in the documentation: http://pandas.pydata.org/pandas-docs/stable/indexing.html#indexing-view-versus-copy\n",
      "D:\\Programfiles2\\anaconda\\lib\\site-packages\\ipykernel\\__main__.py:61: SettingWithCopyWarning: \n",
      "A value is trying to be set on a copy of a slice from a DataFrame.\n",
      "Try using .loc[row_indexer,col_indexer] = value instead\n",
      "\n",
      "See the caveats in the documentation: http://pandas.pydata.org/pandas-docs/stable/indexing.html#indexing-view-versus-copy\n"
     ]
    },
    {
     "name": "stdout",
     "output_type": "stream",
     "text": [
      "Fold  1 AUC : 0.971319\n",
      "Training until validation scores don't improve for 100 rounds.\n",
      "[100]\ttrain's auc: 0.962541\tvalid's auc: 0.937001\n",
      "[200]\ttrain's auc: 0.975138\tvalid's auc: 0.951069\n",
      "[300]\ttrain's auc: 0.979523\tvalid's auc: 0.954361\n",
      "[400]\ttrain's auc: 0.982741\tvalid's auc: 0.956874\n",
      "[500]\ttrain's auc: 0.984852\tvalid's auc: 0.958005\n",
      "[600]\ttrain's auc: 0.986419\tvalid's auc: 0.959326\n",
      "[700]\ttrain's auc: 0.987231\tvalid's auc: 0.959751\n",
      "[800]\ttrain's auc: 0.987685\tvalid's auc: 0.960074\n",
      "Early stopping, best iteration is:\n",
      "[753]\ttrain's auc: 0.98764\tvalid's auc: 0.960136\n"
     ]
    },
    {
     "name": "stderr",
     "output_type": "stream",
     "text": [
      "D:\\Programfiles2\\anaconda\\lib\\site-packages\\ipykernel\\__main__.py:60: SettingWithCopyWarning: \n",
      "A value is trying to be set on a copy of a slice from a DataFrame.\n",
      "Try using .loc[row_indexer,col_indexer] = value instead\n",
      "\n",
      "See the caveats in the documentation: http://pandas.pydata.org/pandas-docs/stable/indexing.html#indexing-view-versus-copy\n",
      "D:\\Programfiles2\\anaconda\\lib\\site-packages\\ipykernel\\__main__.py:61: SettingWithCopyWarning: \n",
      "A value is trying to be set on a copy of a slice from a DataFrame.\n",
      "Try using .loc[row_indexer,col_indexer] = value instead\n",
      "\n",
      "See the caveats in the documentation: http://pandas.pydata.org/pandas-docs/stable/indexing.html#indexing-view-versus-copy\n"
     ]
    },
    {
     "name": "stdout",
     "output_type": "stream",
     "text": [
      "Fold  2 AUC : 0.960136\n",
      "Training until validation scores don't improve for 100 rounds.\n",
      "[100]\ttrain's auc: 0.923758\tvalid's auc: 0.913014\n",
      "Early stopping, best iteration is:\n",
      "[63]\ttrain's auc: 0.95139\tvalid's auc: 0.936628\n"
     ]
    },
    {
     "name": "stderr",
     "output_type": "stream",
     "text": [
      "D:\\Programfiles2\\anaconda\\lib\\site-packages\\ipykernel\\__main__.py:60: SettingWithCopyWarning: \n",
      "A value is trying to be set on a copy of a slice from a DataFrame.\n",
      "Try using .loc[row_indexer,col_indexer] = value instead\n",
      "\n",
      "See the caveats in the documentation: http://pandas.pydata.org/pandas-docs/stable/indexing.html#indexing-view-versus-copy\n",
      "D:\\Programfiles2\\anaconda\\lib\\site-packages\\ipykernel\\__main__.py:61: SettingWithCopyWarning: \n",
      "A value is trying to be set on a copy of a slice from a DataFrame.\n",
      "Try using .loc[row_indexer,col_indexer] = value instead\n",
      "\n",
      "See the caveats in the documentation: http://pandas.pydata.org/pandas-docs/stable/indexing.html#indexing-view-versus-copy\n"
     ]
    },
    {
     "name": "stdout",
     "output_type": "stream",
     "text": [
      "Fold  3 AUC : 0.936628\n",
      "Training until validation scores don't improve for 100 rounds.\n",
      "[100]\ttrain's auc: 0.961519\tvalid's auc: 0.952021\n",
      "[200]\ttrain's auc: 0.973841\tvalid's auc: 0.962022\n",
      "[300]\ttrain's auc: 0.978898\tvalid's auc: 0.964913\n",
      "[400]\ttrain's auc: 0.982277\tvalid's auc: 0.966238\n",
      "[500]\ttrain's auc: 0.984398\tvalid's auc: 0.966456\n",
      "[600]\ttrain's auc: 0.985905\tvalid's auc: 0.966478\n",
      "Early stopping, best iteration is:\n",
      "[586]\ttrain's auc: 0.985791\tvalid's auc: 0.966635\n"
     ]
    },
    {
     "name": "stderr",
     "output_type": "stream",
     "text": [
      "D:\\Programfiles2\\anaconda\\lib\\site-packages\\ipykernel\\__main__.py:60: SettingWithCopyWarning: \n",
      "A value is trying to be set on a copy of a slice from a DataFrame.\n",
      "Try using .loc[row_indexer,col_indexer] = value instead\n",
      "\n",
      "See the caveats in the documentation: http://pandas.pydata.org/pandas-docs/stable/indexing.html#indexing-view-versus-copy\n",
      "D:\\Programfiles2\\anaconda\\lib\\site-packages\\ipykernel\\__main__.py:61: SettingWithCopyWarning: \n",
      "A value is trying to be set on a copy of a slice from a DataFrame.\n",
      "Try using .loc[row_indexer,col_indexer] = value instead\n",
      "\n",
      "See the caveats in the documentation: http://pandas.pydata.org/pandas-docs/stable/indexing.html#indexing-view-versus-copy\n"
     ]
    },
    {
     "name": "stdout",
     "output_type": "stream",
     "text": [
      "Fold  4 AUC : 0.966635\n",
      "Training until validation scores don't improve for 100 rounds.\n",
      "[100]\ttrain's auc: 0.963057\tvalid's auc: 0.94694\n",
      "[200]\ttrain's auc: 0.974723\tvalid's auc: 0.953751\n",
      "[300]\ttrain's auc: 0.979065\tvalid's auc: 0.956441\n",
      "[400]\ttrain's auc: 0.982269\tvalid's auc: 0.957892\n",
      "[500]\ttrain's auc: 0.984503\tvalid's auc: 0.958814\n",
      "[600]\ttrain's auc: 0.986047\tvalid's auc: 0.959329\n",
      "[700]\ttrain's auc: 0.986989\tvalid's auc: 0.959794\n",
      "[800]\ttrain's auc: 0.987592\tvalid's auc: 0.959855\n",
      "Early stopping, best iteration is:\n",
      "[774]\ttrain's auc: 0.987498\tvalid's auc: 0.959974\n"
     ]
    },
    {
     "name": "stderr",
     "output_type": "stream",
     "text": [
      "D:\\Programfiles2\\anaconda\\lib\\site-packages\\ipykernel\\__main__.py:60: SettingWithCopyWarning: \n",
      "A value is trying to be set on a copy of a slice from a DataFrame.\n",
      "Try using .loc[row_indexer,col_indexer] = value instead\n",
      "\n",
      "See the caveats in the documentation: http://pandas.pydata.org/pandas-docs/stable/indexing.html#indexing-view-versus-copy\n",
      "D:\\Programfiles2\\anaconda\\lib\\site-packages\\ipykernel\\__main__.py:61: SettingWithCopyWarning: \n",
      "A value is trying to be set on a copy of a slice from a DataFrame.\n",
      "Try using .loc[row_indexer,col_indexer] = value instead\n",
      "\n",
      "See the caveats in the documentation: http://pandas.pydata.org/pandas-docs/stable/indexing.html#indexing-view-versus-copy\n"
     ]
    },
    {
     "name": "stdout",
     "output_type": "stream",
     "text": [
      "Fold  5 AUC : 0.959947\n"
     ]
    },
    {
     "name": "stderr",
     "output_type": "stream",
     "text": [
      "D:\\Programfiles2\\anaconda\\lib\\site-packages\\ipykernel\\__main__.py:70: SettingWithCopyWarning: \n",
      "A value is trying to be set on a copy of a slice from a DataFrame.\n",
      "Try using .loc[row_indexer,col_indexer] = value instead\n",
      "\n",
      "See the caveats in the documentation: http://pandas.pydata.org/pandas-docs/stable/indexing.html#indexing-view-versus-copy\n"
     ]
    },
    {
     "name": "stdout",
     "output_type": "stream",
     "text": [
      "Full AUC score 0.957086\n",
      "(24943, 503) (6236, 503) (31588, 503)\n",
      "Training until validation scores don't improve for 100 rounds.\n",
      "[100]\ttrain's auc: 0.971029\tvalid's auc: 0.950946\n",
      "[200]\ttrain's auc: 0.982736\tvalid's auc: 0.957466\n",
      "[300]\ttrain's auc: 0.988381\tvalid's auc: 0.959858\n",
      "[400]\ttrain's auc: 0.991893\tvalid's auc: 0.96211\n",
      "[500]\ttrain's auc: 0.994241\tvalid's auc: 0.963361\n",
      "[600]\ttrain's auc: 0.995867\tvalid's auc: 0.963972\n",
      "[700]\ttrain's auc: 0.996969\tvalid's auc: 0.964572\n",
      "[800]\ttrain's auc: 0.997721\tvalid's auc: 0.964743\n",
      "Early stopping, best iteration is:\n",
      "[762]\ttrain's auc: 0.997464\tvalid's auc: 0.964961\n"
     ]
    },
    {
     "name": "stderr",
     "output_type": "stream",
     "text": [
      "D:\\Programfiles2\\anaconda\\lib\\site-packages\\ipykernel\\__main__.py:60: SettingWithCopyWarning: \n",
      "A value is trying to be set on a copy of a slice from a DataFrame.\n",
      "Try using .loc[row_indexer,col_indexer] = value instead\n",
      "\n",
      "See the caveats in the documentation: http://pandas.pydata.org/pandas-docs/stable/indexing.html#indexing-view-versus-copy\n",
      "D:\\Programfiles2\\anaconda\\lib\\site-packages\\ipykernel\\__main__.py:61: SettingWithCopyWarning: \n",
      "A value is trying to be set on a copy of a slice from a DataFrame.\n",
      "Try using .loc[row_indexer,col_indexer] = value instead\n",
      "\n",
      "See the caveats in the documentation: http://pandas.pydata.org/pandas-docs/stable/indexing.html#indexing-view-versus-copy\n"
     ]
    },
    {
     "name": "stdout",
     "output_type": "stream",
     "text": [
      "Fold  1 AUC : 0.964961\n",
      "Training until validation scores don't improve for 100 rounds.\n",
      "[100]\ttrain's auc: 0.970978\tvalid's auc: 0.95537\n",
      "[200]\ttrain's auc: 0.982496\tvalid's auc: 0.962848\n",
      "[300]\ttrain's auc: 0.988383\tvalid's auc: 0.965956\n",
      "[400]\ttrain's auc: 0.991959\tvalid's auc: 0.967631\n",
      "[500]\ttrain's auc: 0.994293\tvalid's auc: 0.969093\n",
      "[600]\ttrain's auc: 0.995881\tvalid's auc: 0.9693\n",
      "[700]\ttrain's auc: 0.996996\tvalid's auc: 0.969862\n",
      "[800]\ttrain's auc: 0.997795\tvalid's auc: 0.970023\n",
      "[900]\ttrain's auc: 0.998332\tvalid's auc: 0.970024\n",
      "Early stopping, best iteration is:\n",
      "[814]\ttrain's auc: 0.997897\tvalid's auc: 0.970199\n"
     ]
    },
    {
     "name": "stderr",
     "output_type": "stream",
     "text": [
      "D:\\Programfiles2\\anaconda\\lib\\site-packages\\ipykernel\\__main__.py:60: SettingWithCopyWarning: \n",
      "A value is trying to be set on a copy of a slice from a DataFrame.\n",
      "Try using .loc[row_indexer,col_indexer] = value instead\n",
      "\n",
      "See the caveats in the documentation: http://pandas.pydata.org/pandas-docs/stable/indexing.html#indexing-view-versus-copy\n",
      "D:\\Programfiles2\\anaconda\\lib\\site-packages\\ipykernel\\__main__.py:61: SettingWithCopyWarning: \n",
      "A value is trying to be set on a copy of a slice from a DataFrame.\n",
      "Try using .loc[row_indexer,col_indexer] = value instead\n",
      "\n",
      "See the caveats in the documentation: http://pandas.pydata.org/pandas-docs/stable/indexing.html#indexing-view-versus-copy\n"
     ]
    },
    {
     "name": "stdout",
     "output_type": "stream",
     "text": [
      "Fold  2 AUC : 0.970199\n",
      "Training until validation scores don't improve for 100 rounds.\n",
      "[100]\ttrain's auc: 0.970585\tvalid's auc: 0.961491\n",
      "[200]\ttrain's auc: 0.98217\tvalid's auc: 0.969047\n",
      "[300]\ttrain's auc: 0.987875\tvalid's auc: 0.971457\n",
      "[400]\ttrain's auc: 0.991608\tvalid's auc: 0.972787\n",
      "[500]\ttrain's auc: 0.994032\tvalid's auc: 0.973368\n",
      "[600]\ttrain's auc: 0.995719\tvalid's auc: 0.973727\n",
      "[700]\ttrain's auc: 0.996857\tvalid's auc: 0.974095\n",
      "[800]\ttrain's auc: 0.997638\tvalid's auc: 0.974294\n",
      "Early stopping, best iteration is:\n",
      "[775]\ttrain's auc: 0.997463\tvalid's auc: 0.974534\n"
     ]
    },
    {
     "name": "stderr",
     "output_type": "stream",
     "text": [
      "D:\\Programfiles2\\anaconda\\lib\\site-packages\\ipykernel\\__main__.py:60: SettingWithCopyWarning: \n",
      "A value is trying to be set on a copy of a slice from a DataFrame.\n",
      "Try using .loc[row_indexer,col_indexer] = value instead\n",
      "\n",
      "See the caveats in the documentation: http://pandas.pydata.org/pandas-docs/stable/indexing.html#indexing-view-versus-copy\n",
      "D:\\Programfiles2\\anaconda\\lib\\site-packages\\ipykernel\\__main__.py:61: SettingWithCopyWarning: \n",
      "A value is trying to be set on a copy of a slice from a DataFrame.\n",
      "Try using .loc[row_indexer,col_indexer] = value instead\n",
      "\n",
      "See the caveats in the documentation: http://pandas.pydata.org/pandas-docs/stable/indexing.html#indexing-view-versus-copy\n"
     ]
    },
    {
     "name": "stdout",
     "output_type": "stream",
     "text": [
      "Fold  3 AUC : 0.974534\n",
      "Training until validation scores don't improve for 100 rounds.\n",
      "[100]\ttrain's auc: 0.931953\tvalid's auc: 0.908421\n",
      "Early stopping, best iteration is:\n",
      "[59]\ttrain's auc: 0.961314\tvalid's auc: 0.93957\n"
     ]
    },
    {
     "name": "stderr",
     "output_type": "stream",
     "text": [
      "D:\\Programfiles2\\anaconda\\lib\\site-packages\\ipykernel\\__main__.py:60: SettingWithCopyWarning: \n",
      "A value is trying to be set on a copy of a slice from a DataFrame.\n",
      "Try using .loc[row_indexer,col_indexer] = value instead\n",
      "\n",
      "See the caveats in the documentation: http://pandas.pydata.org/pandas-docs/stable/indexing.html#indexing-view-versus-copy\n",
      "D:\\Programfiles2\\anaconda\\lib\\site-packages\\ipykernel\\__main__.py:61: SettingWithCopyWarning: \n",
      "A value is trying to be set on a copy of a slice from a DataFrame.\n",
      "Try using .loc[row_indexer,col_indexer] = value instead\n",
      "\n",
      "See the caveats in the documentation: http://pandas.pydata.org/pandas-docs/stable/indexing.html#indexing-view-versus-copy\n"
     ]
    },
    {
     "name": "stdout",
     "output_type": "stream",
     "text": [
      "Fold  4 AUC : 0.939570\n",
      "Training until validation scores don't improve for 100 rounds.\n",
      "[100]\ttrain's auc: 0.970663\tvalid's auc: 0.95507\n",
      "[200]\ttrain's auc: 0.982277\tvalid's auc: 0.962883\n",
      "[300]\ttrain's auc: 0.988147\tvalid's auc: 0.965745\n",
      "[400]\ttrain's auc: 0.991803\tvalid's auc: 0.966958\n",
      "[500]\ttrain's auc: 0.994114\tvalid's auc: 0.967167\n",
      "[600]\ttrain's auc: 0.99582\tvalid's auc: 0.967622\n",
      "[700]\ttrain's auc: 0.996905\tvalid's auc: 0.967733\n",
      "[800]\ttrain's auc: 0.997672\tvalid's auc: 0.967558\n",
      "Early stopping, best iteration is:\n",
      "[739]\ttrain's auc: 0.997258\tvalid's auc: 0.967883\n"
     ]
    },
    {
     "name": "stderr",
     "output_type": "stream",
     "text": [
      "D:\\Programfiles2\\anaconda\\lib\\site-packages\\ipykernel\\__main__.py:60: SettingWithCopyWarning: \n",
      "A value is trying to be set on a copy of a slice from a DataFrame.\n",
      "Try using .loc[row_indexer,col_indexer] = value instead\n",
      "\n",
      "See the caveats in the documentation: http://pandas.pydata.org/pandas-docs/stable/indexing.html#indexing-view-versus-copy\n",
      "D:\\Programfiles2\\anaconda\\lib\\site-packages\\ipykernel\\__main__.py:61: SettingWithCopyWarning: \n",
      "A value is trying to be set on a copy of a slice from a DataFrame.\n",
      "Try using .loc[row_indexer,col_indexer] = value instead\n",
      "\n",
      "See the caveats in the documentation: http://pandas.pydata.org/pandas-docs/stable/indexing.html#indexing-view-versus-copy\n"
     ]
    },
    {
     "name": "stdout",
     "output_type": "stream",
     "text": [
      "Fold  5 AUC : 0.967883\n"
     ]
    },
    {
     "name": "stderr",
     "output_type": "stream",
     "text": [
      "D:\\Programfiles2\\anaconda\\lib\\site-packages\\ipykernel\\__main__.py:70: SettingWithCopyWarning: \n",
      "A value is trying to be set on a copy of a slice from a DataFrame.\n",
      "Try using .loc[row_indexer,col_indexer] = value instead\n",
      "\n",
      "See the caveats in the documentation: http://pandas.pydata.org/pandas-docs/stable/indexing.html#indexing-view-versus-copy\n"
     ]
    },
    {
     "name": "stdout",
     "output_type": "stream",
     "text": [
      "Full AUC score 0.962107\n",
      "(24943, 503) (6236, 503) (31588, 503)\n",
      "Training until validation scores don't improve for 100 rounds.\n",
      "[100]\ttrain's auc: 0.962098\tvalid's auc: 0.945092\n",
      "[200]\ttrain's auc: 0.975989\tvalid's auc: 0.957085\n",
      "[300]\ttrain's auc: 0.981645\tvalid's auc: 0.96098\n",
      "[400]\ttrain's auc: 0.985586\tvalid's auc: 0.963247\n",
      "[500]\ttrain's auc: 0.988356\tvalid's auc: 0.964578\n",
      "[600]\ttrain's auc: 0.990676\tvalid's auc: 0.965069\n",
      "[700]\ttrain's auc: 0.992416\tvalid's auc: 0.965589\n",
      "[800]\ttrain's auc: 0.993796\tvalid's auc: 0.965851\n",
      "[900]\ttrain's auc: 0.994855\tvalid's auc: 0.966186\n",
      "[1000]\ttrain's auc: 0.995627\tvalid's auc: 0.966274\n",
      "[1100]\ttrain's auc: 0.996285\tvalid's auc: 0.966456\n",
      "[1200]\ttrain's auc: 0.996806\tvalid's auc: 0.966446\n",
      "[1300]\ttrain's auc: 0.997246\tvalid's auc: 0.966465\n",
      "Early stopping, best iteration is:\n",
      "[1239]\ttrain's auc: 0.997005\tvalid's auc: 0.966658\n"
     ]
    },
    {
     "name": "stderr",
     "output_type": "stream",
     "text": [
      "D:\\Programfiles2\\anaconda\\lib\\site-packages\\ipykernel\\__main__.py:60: SettingWithCopyWarning: \n",
      "A value is trying to be set on a copy of a slice from a DataFrame.\n",
      "Try using .loc[row_indexer,col_indexer] = value instead\n",
      "\n",
      "See the caveats in the documentation: http://pandas.pydata.org/pandas-docs/stable/indexing.html#indexing-view-versus-copy\n",
      "D:\\Programfiles2\\anaconda\\lib\\site-packages\\ipykernel\\__main__.py:61: SettingWithCopyWarning: \n",
      "A value is trying to be set on a copy of a slice from a DataFrame.\n",
      "Try using .loc[row_indexer,col_indexer] = value instead\n",
      "\n",
      "See the caveats in the documentation: http://pandas.pydata.org/pandas-docs/stable/indexing.html#indexing-view-versus-copy\n"
     ]
    },
    {
     "name": "stdout",
     "output_type": "stream",
     "text": [
      "Fold  1 AUC : 0.966658\n",
      "Training until validation scores don't improve for 100 rounds.\n",
      "[100]\ttrain's auc: 0.924921\tvalid's auc: 0.917154\n",
      "Early stopping, best iteration is:\n",
      "[61]\ttrain's auc: 0.953499\tvalid's auc: 0.941385\n"
     ]
    },
    {
     "name": "stderr",
     "output_type": "stream",
     "text": [
      "D:\\Programfiles2\\anaconda\\lib\\site-packages\\ipykernel\\__main__.py:60: SettingWithCopyWarning: \n",
      "A value is trying to be set on a copy of a slice from a DataFrame.\n",
      "Try using .loc[row_indexer,col_indexer] = value instead\n",
      "\n",
      "See the caveats in the documentation: http://pandas.pydata.org/pandas-docs/stable/indexing.html#indexing-view-versus-copy\n",
      "D:\\Programfiles2\\anaconda\\lib\\site-packages\\ipykernel\\__main__.py:61: SettingWithCopyWarning: \n",
      "A value is trying to be set on a copy of a slice from a DataFrame.\n",
      "Try using .loc[row_indexer,col_indexer] = value instead\n",
      "\n",
      "See the caveats in the documentation: http://pandas.pydata.org/pandas-docs/stable/indexing.html#indexing-view-versus-copy\n"
     ]
    },
    {
     "name": "stdout",
     "output_type": "stream",
     "text": [
      "Fold  2 AUC : 0.941385\n",
      "Training until validation scores don't improve for 100 rounds.\n",
      "[100]\ttrain's auc: 0.963224\tvalid's auc: 0.944575\n",
      "[200]\ttrain's auc: 0.976496\tvalid's auc: 0.958841\n",
      "[300]\ttrain's auc: 0.98197\tvalid's auc: 0.962298\n",
      "[400]\ttrain's auc: 0.985795\tvalid's auc: 0.963841\n",
      "[500]\ttrain's auc: 0.988643\tvalid's auc: 0.964928\n",
      "[600]\ttrain's auc: 0.990819\tvalid's auc: 0.965646\n",
      "[700]\ttrain's auc: 0.992491\tvalid's auc: 0.966369\n",
      "[800]\ttrain's auc: 0.993769\tvalid's auc: 0.966544\n",
      "[900]\ttrain's auc: 0.994788\tvalid's auc: 0.966756\n",
      "Early stopping, best iteration is:\n",
      "[891]\ttrain's auc: 0.994698\tvalid's auc: 0.966795\n"
     ]
    },
    {
     "name": "stderr",
     "output_type": "stream",
     "text": [
      "D:\\Programfiles2\\anaconda\\lib\\site-packages\\ipykernel\\__main__.py:60: SettingWithCopyWarning: \n",
      "A value is trying to be set on a copy of a slice from a DataFrame.\n",
      "Try using .loc[row_indexer,col_indexer] = value instead\n",
      "\n",
      "See the caveats in the documentation: http://pandas.pydata.org/pandas-docs/stable/indexing.html#indexing-view-versus-copy\n",
      "D:\\Programfiles2\\anaconda\\lib\\site-packages\\ipykernel\\__main__.py:61: SettingWithCopyWarning: \n",
      "A value is trying to be set on a copy of a slice from a DataFrame.\n",
      "Try using .loc[row_indexer,col_indexer] = value instead\n",
      "\n",
      "See the caveats in the documentation: http://pandas.pydata.org/pandas-docs/stable/indexing.html#indexing-view-versus-copy\n"
     ]
    },
    {
     "name": "stdout",
     "output_type": "stream",
     "text": [
      "Fold  3 AUC : 0.966795\n",
      "Training until validation scores don't improve for 100 rounds.\n",
      "[100]\ttrain's auc: 0.963155\tvalid's auc: 0.95468\n",
      "[200]\ttrain's auc: 0.976071\tvalid's auc: 0.963411\n",
      "[300]\ttrain's auc: 0.981684\tvalid's auc: 0.965996\n",
      "[400]\ttrain's auc: 0.985794\tvalid's auc: 0.967456\n",
      "[500]\ttrain's auc: 0.988742\tvalid's auc: 0.968178\n",
      "[600]\ttrain's auc: 0.990994\tvalid's auc: 0.968518\n",
      "[700]\ttrain's auc: 0.992687\tvalid's auc: 0.969018\n",
      "[800]\ttrain's auc: 0.994015\tvalid's auc: 0.969212\n",
      "[900]\ttrain's auc: 0.994987\tvalid's auc: 0.969441\n",
      "[1000]\ttrain's auc: 0.995732\tvalid's auc: 0.969731\n",
      "[1100]\ttrain's auc: 0.99632\tvalid's auc: 0.969869\n",
      "[1200]\ttrain's auc: 0.996793\tvalid's auc: 0.969947\n",
      "[1300]\ttrain's auc: 0.997177\tvalid's auc: 0.970054\n",
      "Early stopping, best iteration is:\n",
      "[1219]\ttrain's auc: 0.996863\tvalid's auc: 0.970119\n"
     ]
    },
    {
     "name": "stderr",
     "output_type": "stream",
     "text": [
      "D:\\Programfiles2\\anaconda\\lib\\site-packages\\ipykernel\\__main__.py:60: SettingWithCopyWarning: \n",
      "A value is trying to be set on a copy of a slice from a DataFrame.\n",
      "Try using .loc[row_indexer,col_indexer] = value instead\n",
      "\n",
      "See the caveats in the documentation: http://pandas.pydata.org/pandas-docs/stable/indexing.html#indexing-view-versus-copy\n",
      "D:\\Programfiles2\\anaconda\\lib\\site-packages\\ipykernel\\__main__.py:61: SettingWithCopyWarning: \n",
      "A value is trying to be set on a copy of a slice from a DataFrame.\n",
      "Try using .loc[row_indexer,col_indexer] = value instead\n",
      "\n",
      "See the caveats in the documentation: http://pandas.pydata.org/pandas-docs/stable/indexing.html#indexing-view-versus-copy\n"
     ]
    },
    {
     "name": "stdout",
     "output_type": "stream",
     "text": [
      "Fold  4 AUC : 0.970119\n",
      "Training until validation scores don't improve for 100 rounds.\n",
      "[100]\ttrain's auc: 0.960859\tvalid's auc: 0.940065\n",
      "[200]\ttrain's auc: 0.975812\tvalid's auc: 0.953431\n",
      "[300]\ttrain's auc: 0.981843\tvalid's auc: 0.956999\n",
      "[400]\ttrain's auc: 0.985947\tvalid's auc: 0.958395\n",
      "[500]\ttrain's auc: 0.988757\tvalid's auc: 0.95941\n",
      "[600]\ttrain's auc: 0.990835\tvalid's auc: 0.960524\n",
      "[700]\ttrain's auc: 0.992556\tvalid's auc: 0.961206\n",
      "[800]\ttrain's auc: 0.993839\tvalid's auc: 0.961655\n",
      "[900]\ttrain's auc: 0.994775\tvalid's auc: 0.961639\n",
      "Early stopping, best iteration is:\n",
      "[857]\ttrain's auc: 0.994416\tvalid's auc: 0.961911\n"
     ]
    },
    {
     "name": "stderr",
     "output_type": "stream",
     "text": [
      "D:\\Programfiles2\\anaconda\\lib\\site-packages\\ipykernel\\__main__.py:60: SettingWithCopyWarning: \n",
      "A value is trying to be set on a copy of a slice from a DataFrame.\n",
      "Try using .loc[row_indexer,col_indexer] = value instead\n",
      "\n",
      "See the caveats in the documentation: http://pandas.pydata.org/pandas-docs/stable/indexing.html#indexing-view-versus-copy\n",
      "D:\\Programfiles2\\anaconda\\lib\\site-packages\\ipykernel\\__main__.py:61: SettingWithCopyWarning: \n",
      "A value is trying to be set on a copy of a slice from a DataFrame.\n",
      "Try using .loc[row_indexer,col_indexer] = value instead\n",
      "\n",
      "See the caveats in the documentation: http://pandas.pydata.org/pandas-docs/stable/indexing.html#indexing-view-versus-copy\n"
     ]
    },
    {
     "name": "stdout",
     "output_type": "stream",
     "text": [
      "Fold  5 AUC : 0.961911\n"
     ]
    },
    {
     "name": "stderr",
     "output_type": "stream",
     "text": [
      "D:\\Programfiles2\\anaconda\\lib\\site-packages\\ipykernel\\__main__.py:70: SettingWithCopyWarning: \n",
      "A value is trying to be set on a copy of a slice from a DataFrame.\n",
      "Try using .loc[row_indexer,col_indexer] = value instead\n",
      "\n",
      "See the caveats in the documentation: http://pandas.pydata.org/pandas-docs/stable/indexing.html#indexing-view-versus-copy\n"
     ]
    },
    {
     "name": "stdout",
     "output_type": "stream",
     "text": [
      "Full AUC score 0.959488\n",
      "(24943, 503) (6236, 503) (31588, 503)\n",
      "Training until validation scores don't improve for 100 rounds.\n",
      "[100]\ttrain's auc: 0.975\tvalid's auc: 0.961616\n",
      "[200]\ttrain's auc: 0.98552\tvalid's auc: 0.967908\n",
      "[300]\ttrain's auc: 0.990825\tvalid's auc: 0.968897\n",
      "[400]\ttrain's auc: 0.994008\tvalid's auc: 0.96907\n",
      "Early stopping, best iteration is:\n",
      "[309]\ttrain's auc: 0.991227\tvalid's auc: 0.96937\n"
     ]
    },
    {
     "name": "stderr",
     "output_type": "stream",
     "text": [
      "D:\\Programfiles2\\anaconda\\lib\\site-packages\\ipykernel\\__main__.py:60: SettingWithCopyWarning: \n",
      "A value is trying to be set on a copy of a slice from a DataFrame.\n",
      "Try using .loc[row_indexer,col_indexer] = value instead\n",
      "\n",
      "See the caveats in the documentation: http://pandas.pydata.org/pandas-docs/stable/indexing.html#indexing-view-versus-copy\n",
      "D:\\Programfiles2\\anaconda\\lib\\site-packages\\ipykernel\\__main__.py:61: SettingWithCopyWarning: \n",
      "A value is trying to be set on a copy of a slice from a DataFrame.\n",
      "Try using .loc[row_indexer,col_indexer] = value instead\n",
      "\n",
      "See the caveats in the documentation: http://pandas.pydata.org/pandas-docs/stable/indexing.html#indexing-view-versus-copy\n"
     ]
    },
    {
     "name": "stdout",
     "output_type": "stream",
     "text": [
      "Fold  1 AUC : 0.969370\n",
      "Training until validation scores don't improve for 100 rounds.\n",
      "[100]\ttrain's auc: 0.97644\tvalid's auc: 0.953759\n",
      "[200]\ttrain's auc: 0.986263\tvalid's auc: 0.958969\n",
      "[300]\ttrain's auc: 0.991188\tvalid's auc: 0.960541\n",
      "[400]\ttrain's auc: 0.994112\tvalid's auc: 0.961598\n",
      "[500]\ttrain's auc: 0.995986\tvalid's auc: 0.961948\n",
      "Early stopping, best iteration is:\n",
      "[494]\ttrain's auc: 0.995908\tvalid's auc: 0.962062\n"
     ]
    },
    {
     "name": "stderr",
     "output_type": "stream",
     "text": [
      "D:\\Programfiles2\\anaconda\\lib\\site-packages\\ipykernel\\__main__.py:60: SettingWithCopyWarning: \n",
      "A value is trying to be set on a copy of a slice from a DataFrame.\n",
      "Try using .loc[row_indexer,col_indexer] = value instead\n",
      "\n",
      "See the caveats in the documentation: http://pandas.pydata.org/pandas-docs/stable/indexing.html#indexing-view-versus-copy\n",
      "D:\\Programfiles2\\anaconda\\lib\\site-packages\\ipykernel\\__main__.py:61: SettingWithCopyWarning: \n",
      "A value is trying to be set on a copy of a slice from a DataFrame.\n",
      "Try using .loc[row_indexer,col_indexer] = value instead\n",
      "\n",
      "See the caveats in the documentation: http://pandas.pydata.org/pandas-docs/stable/indexing.html#indexing-view-versus-copy\n"
     ]
    },
    {
     "name": "stdout",
     "output_type": "stream",
     "text": [
      "Fold  2 AUC : 0.962062\n",
      "Training until validation scores don't improve for 100 rounds.\n",
      "[100]\ttrain's auc: 0.97599\tvalid's auc: 0.952974\n",
      "[200]\ttrain's auc: 0.986132\tvalid's auc: 0.958785\n",
      "[300]\ttrain's auc: 0.991022\tvalid's auc: 0.961629\n",
      "[400]\ttrain's auc: 0.994092\tvalid's auc: 0.962878\n",
      "[500]\ttrain's auc: 0.996063\tvalid's auc: 0.963673\n",
      "[600]\ttrain's auc: 0.997175\tvalid's auc: 0.963625\n",
      "[700]\ttrain's auc: 0.997844\tvalid's auc: 0.963865\n",
      "Early stopping, best iteration is:\n",
      "[690]\ttrain's auc: 0.997804\tvalid's auc: 0.964018\n"
     ]
    },
    {
     "name": "stderr",
     "output_type": "stream",
     "text": [
      "D:\\Programfiles2\\anaconda\\lib\\site-packages\\ipykernel\\__main__.py:60: SettingWithCopyWarning: \n",
      "A value is trying to be set on a copy of a slice from a DataFrame.\n",
      "Try using .loc[row_indexer,col_indexer] = value instead\n",
      "\n",
      "See the caveats in the documentation: http://pandas.pydata.org/pandas-docs/stable/indexing.html#indexing-view-versus-copy\n",
      "D:\\Programfiles2\\anaconda\\lib\\site-packages\\ipykernel\\__main__.py:61: SettingWithCopyWarning: \n",
      "A value is trying to be set on a copy of a slice from a DataFrame.\n",
      "Try using .loc[row_indexer,col_indexer] = value instead\n",
      "\n",
      "See the caveats in the documentation: http://pandas.pydata.org/pandas-docs/stable/indexing.html#indexing-view-versus-copy\n"
     ]
    },
    {
     "name": "stdout",
     "output_type": "stream",
     "text": [
      "Fold  3 AUC : 0.964018\n",
      "Training until validation scores don't improve for 100 rounds.\n",
      "[100]\ttrain's auc: 0.938449\tvalid's auc: 0.928024\n",
      "Early stopping, best iteration is:\n",
      "[50]\ttrain's auc: 0.964076\tvalid's auc: 0.947916\n"
     ]
    },
    {
     "name": "stderr",
     "output_type": "stream",
     "text": [
      "D:\\Programfiles2\\anaconda\\lib\\site-packages\\ipykernel\\__main__.py:60: SettingWithCopyWarning: \n",
      "A value is trying to be set on a copy of a slice from a DataFrame.\n",
      "Try using .loc[row_indexer,col_indexer] = value instead\n",
      "\n",
      "See the caveats in the documentation: http://pandas.pydata.org/pandas-docs/stable/indexing.html#indexing-view-versus-copy\n",
      "D:\\Programfiles2\\anaconda\\lib\\site-packages\\ipykernel\\__main__.py:61: SettingWithCopyWarning: \n",
      "A value is trying to be set on a copy of a slice from a DataFrame.\n",
      "Try using .loc[row_indexer,col_indexer] = value instead\n",
      "\n",
      "See the caveats in the documentation: http://pandas.pydata.org/pandas-docs/stable/indexing.html#indexing-view-versus-copy\n"
     ]
    },
    {
     "name": "stdout",
     "output_type": "stream",
     "text": [
      "Fold  4 AUC : 0.947916\n",
      "Training until validation scores don't improve for 100 rounds.\n",
      "[100]\ttrain's auc: 0.975209\tvalid's auc: 0.963429\n",
      "[200]\ttrain's auc: 0.9859\tvalid's auc: 0.968534\n",
      "[300]\ttrain's auc: 0.990952\tvalid's auc: 0.969645\n",
      "[400]\ttrain's auc: 0.994034\tvalid's auc: 0.970468\n",
      "[500]\ttrain's auc: 0.995946\tvalid's auc: 0.97068\n",
      "[600]\ttrain's auc: 0.99713\tvalid's auc: 0.970696\n",
      "Early stopping, best iteration is:\n",
      "[505]\ttrain's auc: 0.996043\tvalid's auc: 0.970793\n"
     ]
    },
    {
     "name": "stderr",
     "output_type": "stream",
     "text": [
      "D:\\Programfiles2\\anaconda\\lib\\site-packages\\ipykernel\\__main__.py:60: SettingWithCopyWarning: \n",
      "A value is trying to be set on a copy of a slice from a DataFrame.\n",
      "Try using .loc[row_indexer,col_indexer] = value instead\n",
      "\n",
      "See the caveats in the documentation: http://pandas.pydata.org/pandas-docs/stable/indexing.html#indexing-view-versus-copy\n",
      "D:\\Programfiles2\\anaconda\\lib\\site-packages\\ipykernel\\__main__.py:61: SettingWithCopyWarning: \n",
      "A value is trying to be set on a copy of a slice from a DataFrame.\n",
      "Try using .loc[row_indexer,col_indexer] = value instead\n",
      "\n",
      "See the caveats in the documentation: http://pandas.pydata.org/pandas-docs/stable/indexing.html#indexing-view-versus-copy\n"
     ]
    },
    {
     "name": "stdout",
     "output_type": "stream",
     "text": [
      "Fold  5 AUC : 0.970793\n"
     ]
    },
    {
     "name": "stderr",
     "output_type": "stream",
     "text": [
      "D:\\Programfiles2\\anaconda\\lib\\site-packages\\ipykernel\\__main__.py:70: SettingWithCopyWarning: \n",
      "A value is trying to be set on a copy of a slice from a DataFrame.\n",
      "Try using .loc[row_indexer,col_indexer] = value instead\n",
      "\n",
      "See the caveats in the documentation: http://pandas.pydata.org/pandas-docs/stable/indexing.html#indexing-view-versus-copy\n"
     ]
    },
    {
     "name": "stdout",
     "output_type": "stream",
     "text": [
      "Full AUC score 0.961143\n",
      "(24943, 503) (6236, 503) (31588, 503)\n",
      "Training until validation scores don't improve for 100 rounds.\n",
      "[100]\ttrain's auc: 0.932139\tvalid's auc: 0.922215\n",
      "Early stopping, best iteration is:\n",
      "[59]\ttrain's auc: 0.961277\tvalid's auc: 0.946711\n"
     ]
    },
    {
     "name": "stderr",
     "output_type": "stream",
     "text": [
      "D:\\Programfiles2\\anaconda\\lib\\site-packages\\ipykernel\\__main__.py:60: SettingWithCopyWarning: \n",
      "A value is trying to be set on a copy of a slice from a DataFrame.\n",
      "Try using .loc[row_indexer,col_indexer] = value instead\n",
      "\n",
      "See the caveats in the documentation: http://pandas.pydata.org/pandas-docs/stable/indexing.html#indexing-view-versus-copy\n",
      "D:\\Programfiles2\\anaconda\\lib\\site-packages\\ipykernel\\__main__.py:61: SettingWithCopyWarning: \n",
      "A value is trying to be set on a copy of a slice from a DataFrame.\n",
      "Try using .loc[row_indexer,col_indexer] = value instead\n",
      "\n",
      "See the caveats in the documentation: http://pandas.pydata.org/pandas-docs/stable/indexing.html#indexing-view-versus-copy\n"
     ]
    },
    {
     "name": "stdout",
     "output_type": "stream",
     "text": [
      "Fold  1 AUC : 0.946711\n",
      "Training until validation scores don't improve for 100 rounds.\n",
      "[100]\ttrain's auc: 0.97082\tvalid's auc: 0.957839\n",
      "[200]\ttrain's auc: 0.982143\tvalid's auc: 0.963625\n",
      "[300]\ttrain's auc: 0.987792\tvalid's auc: 0.965754\n",
      "[400]\ttrain's auc: 0.991491\tvalid's auc: 0.966776\n",
      "[500]\ttrain's auc: 0.99396\tvalid's auc: 0.967586\n",
      "[600]\ttrain's auc: 0.995657\tvalid's auc: 0.967872\n",
      "[700]\ttrain's auc: 0.99684\tvalid's auc: 0.968291\n",
      "[800]\ttrain's auc: 0.997609\tvalid's auc: 0.967993\n",
      "Early stopping, best iteration is:\n",
      "[739]\ttrain's auc: 0.997165\tvalid's auc: 0.968347\n"
     ]
    },
    {
     "name": "stderr",
     "output_type": "stream",
     "text": [
      "D:\\Programfiles2\\anaconda\\lib\\site-packages\\ipykernel\\__main__.py:60: SettingWithCopyWarning: \n",
      "A value is trying to be set on a copy of a slice from a DataFrame.\n",
      "Try using .loc[row_indexer,col_indexer] = value instead\n",
      "\n",
      "See the caveats in the documentation: http://pandas.pydata.org/pandas-docs/stable/indexing.html#indexing-view-versus-copy\n",
      "D:\\Programfiles2\\anaconda\\lib\\site-packages\\ipykernel\\__main__.py:61: SettingWithCopyWarning: \n",
      "A value is trying to be set on a copy of a slice from a DataFrame.\n",
      "Try using .loc[row_indexer,col_indexer] = value instead\n",
      "\n",
      "See the caveats in the documentation: http://pandas.pydata.org/pandas-docs/stable/indexing.html#indexing-view-versus-copy\n"
     ]
    },
    {
     "name": "stdout",
     "output_type": "stream",
     "text": [
      "Fold  2 AUC : 0.968347\n",
      "Training until validation scores don't improve for 100 rounds.\n",
      "[100]\ttrain's auc: 0.970529\tvalid's auc: 0.958883\n",
      "[200]\ttrain's auc: 0.982412\tvalid's auc: 0.965389\n",
      "[300]\ttrain's auc: 0.988116\tvalid's auc: 0.966958\n",
      "[400]\ttrain's auc: 0.991685\tvalid's auc: 0.9675\n",
      "[500]\ttrain's auc: 0.994096\tvalid's auc: 0.968139\n",
      "[600]\ttrain's auc: 0.995736\tvalid's auc: 0.968784\n",
      "[700]\ttrain's auc: 0.996826\tvalid's auc: 0.969131\n",
      "[800]\ttrain's auc: 0.997637\tvalid's auc: 0.96956\n",
      "[900]\ttrain's auc: 0.998171\tvalid's auc: 0.969606\n",
      "Early stopping, best iteration is:\n",
      "[845]\ttrain's auc: 0.997895\tvalid's auc: 0.969675\n"
     ]
    },
    {
     "name": "stderr",
     "output_type": "stream",
     "text": [
      "D:\\Programfiles2\\anaconda\\lib\\site-packages\\ipykernel\\__main__.py:60: SettingWithCopyWarning: \n",
      "A value is trying to be set on a copy of a slice from a DataFrame.\n",
      "Try using .loc[row_indexer,col_indexer] = value instead\n",
      "\n",
      "See the caveats in the documentation: http://pandas.pydata.org/pandas-docs/stable/indexing.html#indexing-view-versus-copy\n",
      "D:\\Programfiles2\\anaconda\\lib\\site-packages\\ipykernel\\__main__.py:61: SettingWithCopyWarning: \n",
      "A value is trying to be set on a copy of a slice from a DataFrame.\n",
      "Try using .loc[row_indexer,col_indexer] = value instead\n",
      "\n",
      "See the caveats in the documentation: http://pandas.pydata.org/pandas-docs/stable/indexing.html#indexing-view-versus-copy\n"
     ]
    },
    {
     "name": "stdout",
     "output_type": "stream",
     "text": [
      "Fold  3 AUC : 0.969675\n",
      "Training until validation scores don't improve for 100 rounds.\n",
      "[100]\ttrain's auc: 0.970935\tvalid's auc: 0.94726\n",
      "[200]\ttrain's auc: 0.98226\tvalid's auc: 0.957724\n",
      "[300]\ttrain's auc: 0.988094\tvalid's auc: 0.960132\n",
      "[400]\ttrain's auc: 0.991698\tvalid's auc: 0.961557\n",
      "[500]\ttrain's auc: 0.994085\tvalid's auc: 0.961922\n",
      "Early stopping, best iteration is:\n",
      "[493]\ttrain's auc: 0.993954\tvalid's auc: 0.962145\n"
     ]
    },
    {
     "name": "stderr",
     "output_type": "stream",
     "text": [
      "D:\\Programfiles2\\anaconda\\lib\\site-packages\\ipykernel\\__main__.py:60: SettingWithCopyWarning: \n",
      "A value is trying to be set on a copy of a slice from a DataFrame.\n",
      "Try using .loc[row_indexer,col_indexer] = value instead\n",
      "\n",
      "See the caveats in the documentation: http://pandas.pydata.org/pandas-docs/stable/indexing.html#indexing-view-versus-copy\n",
      "D:\\Programfiles2\\anaconda\\lib\\site-packages\\ipykernel\\__main__.py:61: SettingWithCopyWarning: \n",
      "A value is trying to be set on a copy of a slice from a DataFrame.\n",
      "Try using .loc[row_indexer,col_indexer] = value instead\n",
      "\n",
      "See the caveats in the documentation: http://pandas.pydata.org/pandas-docs/stable/indexing.html#indexing-view-versus-copy\n"
     ]
    },
    {
     "name": "stdout",
     "output_type": "stream",
     "text": [
      "Fold  4 AUC : 0.962145\n",
      "Training until validation scores don't improve for 100 rounds.\n",
      "[100]\ttrain's auc: 0.970412\tvalid's auc: 0.954096\n",
      "[200]\ttrain's auc: 0.981963\tvalid's auc: 0.960265\n",
      "[300]\ttrain's auc: 0.987749\tvalid's auc: 0.963015\n",
      "[400]\ttrain's auc: 0.991393\tvalid's auc: 0.963652\n",
      "[500]\ttrain's auc: 0.993881\tvalid's auc: 0.964069\n",
      "[600]\ttrain's auc: 0.995627\tvalid's auc: 0.9649\n",
      "[700]\ttrain's auc: 0.996785\tvalid's auc: 0.965155\n",
      "Early stopping, best iteration is:\n",
      "[690]\ttrain's auc: 0.996704\tvalid's auc: 0.965278\n"
     ]
    },
    {
     "name": "stderr",
     "output_type": "stream",
     "text": [
      "D:\\Programfiles2\\anaconda\\lib\\site-packages\\ipykernel\\__main__.py:60: SettingWithCopyWarning: \n",
      "A value is trying to be set on a copy of a slice from a DataFrame.\n",
      "Try using .loc[row_indexer,col_indexer] = value instead\n",
      "\n",
      "See the caveats in the documentation: http://pandas.pydata.org/pandas-docs/stable/indexing.html#indexing-view-versus-copy\n",
      "D:\\Programfiles2\\anaconda\\lib\\site-packages\\ipykernel\\__main__.py:61: SettingWithCopyWarning: \n",
      "A value is trying to be set on a copy of a slice from a DataFrame.\n",
      "Try using .loc[row_indexer,col_indexer] = value instead\n",
      "\n",
      "See the caveats in the documentation: http://pandas.pydata.org/pandas-docs/stable/indexing.html#indexing-view-versus-copy\n"
     ]
    },
    {
     "name": "stdout",
     "output_type": "stream",
     "text": [
      "Fold  5 AUC : 0.965278\n"
     ]
    },
    {
     "name": "stderr",
     "output_type": "stream",
     "text": [
      "D:\\Programfiles2\\anaconda\\lib\\site-packages\\ipykernel\\__main__.py:70: SettingWithCopyWarning: \n",
      "A value is trying to be set on a copy of a slice from a DataFrame.\n",
      "Try using .loc[row_indexer,col_indexer] = value instead\n",
      "\n",
      "See the caveats in the documentation: http://pandas.pydata.org/pandas-docs/stable/indexing.html#indexing-view-versus-copy\n"
     ]
    },
    {
     "name": "stdout",
     "output_type": "stream",
     "text": [
      "Full AUC score 0.960004\n",
      "(24943, 503) (6236, 503) (31588, 503)\n",
      "Training until validation scores don't improve for 100 rounds.\n",
      "[100]\ttrain's auc: 0.962795\tvalid's auc: 0.952243\n",
      "[200]\ttrain's auc: 0.974043\tvalid's auc: 0.963605\n",
      "[300]\ttrain's auc: 0.978613\tvalid's auc: 0.966862\n",
      "[400]\ttrain's auc: 0.981928\tvalid's auc: 0.969008\n",
      "[500]\ttrain's auc: 0.984302\tvalid's auc: 0.970113\n",
      "[600]\ttrain's auc: 0.986243\tvalid's auc: 0.970561\n",
      "[700]\ttrain's auc: 0.987457\tvalid's auc: 0.971067\n",
      "[800]\ttrain's auc: 0.988162\tvalid's auc: 0.971308\n",
      "[900]\ttrain's auc: 0.988338\tvalid's auc: 0.971418\n",
      "Early stopping, best iteration is:\n",
      "[816]\ttrain's auc: 0.988338\tvalid's auc: 0.971418\n"
     ]
    },
    {
     "name": "stderr",
     "output_type": "stream",
     "text": [
      "D:\\Programfiles2\\anaconda\\lib\\site-packages\\ipykernel\\__main__.py:60: SettingWithCopyWarning: \n",
      "A value is trying to be set on a copy of a slice from a DataFrame.\n",
      "Try using .loc[row_indexer,col_indexer] = value instead\n",
      "\n",
      "See the caveats in the documentation: http://pandas.pydata.org/pandas-docs/stable/indexing.html#indexing-view-versus-copy\n",
      "D:\\Programfiles2\\anaconda\\lib\\site-packages\\ipykernel\\__main__.py:61: SettingWithCopyWarning: \n",
      "A value is trying to be set on a copy of a slice from a DataFrame.\n",
      "Try using .loc[row_indexer,col_indexer] = value instead\n",
      "\n",
      "See the caveats in the documentation: http://pandas.pydata.org/pandas-docs/stable/indexing.html#indexing-view-versus-copy\n"
     ]
    },
    {
     "name": "stdout",
     "output_type": "stream",
     "text": [
      "Fold  1 AUC : 0.971418\n",
      "Training until validation scores don't improve for 100 rounds.\n",
      "[100]\ttrain's auc: 0.961847\tvalid's auc: 0.937028\n",
      "[200]\ttrain's auc: 0.975153\tvalid's auc: 0.950948\n",
      "[300]\ttrain's auc: 0.979689\tvalid's auc: 0.954706\n",
      "[400]\ttrain's auc: 0.982743\tvalid's auc: 0.956761\n",
      "[500]\ttrain's auc: 0.985032\tvalid's auc: 0.958101\n",
      "[600]\ttrain's auc: 0.986665\tvalid's auc: 0.958572\n",
      "[700]\ttrain's auc: 0.987636\tvalid's auc: 0.95902\n",
      "[800]\ttrain's auc: 0.988419\tvalid's auc: 0.959472\n",
      "[900]\ttrain's auc: 0.98866\tvalid's auc: 0.959557\n",
      "Early stopping, best iteration is:\n",
      "[806]\ttrain's auc: 0.988494\tvalid's auc: 0.959567\n"
     ]
    },
    {
     "name": "stderr",
     "output_type": "stream",
     "text": [
      "D:\\Programfiles2\\anaconda\\lib\\site-packages\\ipykernel\\__main__.py:60: SettingWithCopyWarning: \n",
      "A value is trying to be set on a copy of a slice from a DataFrame.\n",
      "Try using .loc[row_indexer,col_indexer] = value instead\n",
      "\n",
      "See the caveats in the documentation: http://pandas.pydata.org/pandas-docs/stable/indexing.html#indexing-view-versus-copy\n",
      "D:\\Programfiles2\\anaconda\\lib\\site-packages\\ipykernel\\__main__.py:61: SettingWithCopyWarning: \n",
      "A value is trying to be set on a copy of a slice from a DataFrame.\n",
      "Try using .loc[row_indexer,col_indexer] = value instead\n",
      "\n",
      "See the caveats in the documentation: http://pandas.pydata.org/pandas-docs/stable/indexing.html#indexing-view-versus-copy\n"
     ]
    },
    {
     "name": "stdout",
     "output_type": "stream",
     "text": [
      "Fold  2 AUC : 0.959549\n",
      "Training until validation scores don't improve for 100 rounds.\n",
      "[100]\ttrain's auc: 0.922378\tvalid's auc: 0.912116\n",
      "Early stopping, best iteration is:\n",
      "[63]\ttrain's auc: 0.950969\tvalid's auc: 0.936784\n"
     ]
    },
    {
     "name": "stderr",
     "output_type": "stream",
     "text": [
      "D:\\Programfiles2\\anaconda\\lib\\site-packages\\ipykernel\\__main__.py:60: SettingWithCopyWarning: \n",
      "A value is trying to be set on a copy of a slice from a DataFrame.\n",
      "Try using .loc[row_indexer,col_indexer] = value instead\n",
      "\n",
      "See the caveats in the documentation: http://pandas.pydata.org/pandas-docs/stable/indexing.html#indexing-view-versus-copy\n",
      "D:\\Programfiles2\\anaconda\\lib\\site-packages\\ipykernel\\__main__.py:61: SettingWithCopyWarning: \n",
      "A value is trying to be set on a copy of a slice from a DataFrame.\n",
      "Try using .loc[row_indexer,col_indexer] = value instead\n",
      "\n",
      "See the caveats in the documentation: http://pandas.pydata.org/pandas-docs/stable/indexing.html#indexing-view-versus-copy\n"
     ]
    },
    {
     "name": "stdout",
     "output_type": "stream",
     "text": [
      "Fold  3 AUC : 0.936784\n",
      "Training until validation scores don't improve for 100 rounds.\n",
      "[100]\ttrain's auc: 0.960908\tvalid's auc: 0.951021\n",
      "[200]\ttrain's auc: 0.974216\tvalid's auc: 0.961821\n",
      "[300]\ttrain's auc: 0.978964\tvalid's auc: 0.964132\n",
      "[400]\ttrain's auc: 0.982156\tvalid's auc: 0.96514\n",
      "[500]\ttrain's auc: 0.984542\tvalid's auc: 0.965717\n",
      "[600]\ttrain's auc: 0.986294\tvalid's auc: 0.965861\n",
      "[700]\ttrain's auc: 0.987426\tvalid's auc: 0.965821\n",
      "Early stopping, best iteration is:\n",
      "[613]\ttrain's auc: 0.986478\tvalid's auc: 0.96594\n"
     ]
    },
    {
     "name": "stderr",
     "output_type": "stream",
     "text": [
      "D:\\Programfiles2\\anaconda\\lib\\site-packages\\ipykernel\\__main__.py:60: SettingWithCopyWarning: \n",
      "A value is trying to be set on a copy of a slice from a DataFrame.\n",
      "Try using .loc[row_indexer,col_indexer] = value instead\n",
      "\n",
      "See the caveats in the documentation: http://pandas.pydata.org/pandas-docs/stable/indexing.html#indexing-view-versus-copy\n",
      "D:\\Programfiles2\\anaconda\\lib\\site-packages\\ipykernel\\__main__.py:61: SettingWithCopyWarning: \n",
      "A value is trying to be set on a copy of a slice from a DataFrame.\n",
      "Try using .loc[row_indexer,col_indexer] = value instead\n",
      "\n",
      "See the caveats in the documentation: http://pandas.pydata.org/pandas-docs/stable/indexing.html#indexing-view-versus-copy\n"
     ]
    },
    {
     "name": "stdout",
     "output_type": "stream",
     "text": [
      "Fold  4 AUC : 0.965940\n",
      "Training until validation scores don't improve for 100 rounds.\n",
      "[100]\ttrain's auc: 0.96386\tvalid's auc: 0.946486\n",
      "[200]\ttrain's auc: 0.975156\tvalid's auc: 0.953024\n",
      "[300]\ttrain's auc: 0.979411\tvalid's auc: 0.955454\n",
      "[400]\ttrain's auc: 0.982501\tvalid's auc: 0.956763\n",
      "[500]\ttrain's auc: 0.98466\tvalid's auc: 0.957393\n",
      "[600]\ttrain's auc: 0.98641\tvalid's auc: 0.957799\n",
      "[700]\ttrain's auc: 0.987404\tvalid's auc: 0.958171\n",
      "Early stopping, best iteration is:\n",
      "[666]\ttrain's auc: 0.987112\tvalid's auc: 0.958266\n"
     ]
    },
    {
     "name": "stderr",
     "output_type": "stream",
     "text": [
      "D:\\Programfiles2\\anaconda\\lib\\site-packages\\ipykernel\\__main__.py:60: SettingWithCopyWarning: \n",
      "A value is trying to be set on a copy of a slice from a DataFrame.\n",
      "Try using .loc[row_indexer,col_indexer] = value instead\n",
      "\n",
      "See the caveats in the documentation: http://pandas.pydata.org/pandas-docs/stable/indexing.html#indexing-view-versus-copy\n",
      "D:\\Programfiles2\\anaconda\\lib\\site-packages\\ipykernel\\__main__.py:61: SettingWithCopyWarning: \n",
      "A value is trying to be set on a copy of a slice from a DataFrame.\n",
      "Try using .loc[row_indexer,col_indexer] = value instead\n",
      "\n",
      "See the caveats in the documentation: http://pandas.pydata.org/pandas-docs/stable/indexing.html#indexing-view-versus-copy\n"
     ]
    },
    {
     "name": "stdout",
     "output_type": "stream",
     "text": [
      "Fold  5 AUC : 0.958266\n"
     ]
    },
    {
     "name": "stderr",
     "output_type": "stream",
     "text": [
      "D:\\Programfiles2\\anaconda\\lib\\site-packages\\ipykernel\\__main__.py:70: SettingWithCopyWarning: \n",
      "A value is trying to be set on a copy of a slice from a DataFrame.\n",
      "Try using .loc[row_indexer,col_indexer] = value instead\n",
      "\n",
      "See the caveats in the documentation: http://pandas.pydata.org/pandas-docs/stable/indexing.html#indexing-view-versus-copy\n"
     ]
    },
    {
     "name": "stdout",
     "output_type": "stream",
     "text": [
      "Full AUC score 0.956625\n",
      "(24943, 503) (6236, 503) (31588, 503)\n",
      "Training until validation scores don't improve for 100 rounds.\n",
      "[100]\ttrain's auc: 0.971901\tvalid's auc: 0.952165\n",
      "[200]\ttrain's auc: 0.983264\tvalid's auc: 0.958096\n",
      "[300]\ttrain's auc: 0.988629\tvalid's auc: 0.960488\n",
      "[400]\ttrain's auc: 0.992147\tvalid's auc: 0.96227\n",
      "[500]\ttrain's auc: 0.994501\tvalid's auc: 0.962976\n",
      "[600]\ttrain's auc: 0.996054\tvalid's auc: 0.963369\n",
      "[700]\ttrain's auc: 0.997153\tvalid's auc: 0.96371\n",
      "[800]\ttrain's auc: 0.99793\tvalid's auc: 0.963911\n",
      "[900]\ttrain's auc: 0.998429\tvalid's auc: 0.964144\n",
      "Early stopping, best iteration is:\n",
      "[859]\ttrain's auc: 0.998243\tvalid's auc: 0.964245\n"
     ]
    },
    {
     "name": "stderr",
     "output_type": "stream",
     "text": [
      "D:\\Programfiles2\\anaconda\\lib\\site-packages\\ipykernel\\__main__.py:60: SettingWithCopyWarning: \n",
      "A value is trying to be set on a copy of a slice from a DataFrame.\n",
      "Try using .loc[row_indexer,col_indexer] = value instead\n",
      "\n",
      "See the caveats in the documentation: http://pandas.pydata.org/pandas-docs/stable/indexing.html#indexing-view-versus-copy\n",
      "D:\\Programfiles2\\anaconda\\lib\\site-packages\\ipykernel\\__main__.py:61: SettingWithCopyWarning: \n",
      "A value is trying to be set on a copy of a slice from a DataFrame.\n",
      "Try using .loc[row_indexer,col_indexer] = value instead\n",
      "\n",
      "See the caveats in the documentation: http://pandas.pydata.org/pandas-docs/stable/indexing.html#indexing-view-versus-copy\n"
     ]
    },
    {
     "name": "stdout",
     "output_type": "stream",
     "text": [
      "Fold  1 AUC : 0.964245\n",
      "Training until validation scores don't improve for 100 rounds.\n",
      "[100]\ttrain's auc: 0.97097\tvalid's auc: 0.954866\n",
      "[200]\ttrain's auc: 0.98291\tvalid's auc: 0.962178\n",
      "[300]\ttrain's auc: 0.988648\tvalid's auc: 0.964527\n",
      "[400]\ttrain's auc: 0.992244\tvalid's auc: 0.965779\n",
      "[500]\ttrain's auc: 0.994585\tvalid's auc: 0.966967\n",
      "[600]\ttrain's auc: 0.996153\tvalid's auc: 0.967676\n",
      "[700]\ttrain's auc: 0.997244\tvalid's auc: 0.968583\n",
      "[800]\ttrain's auc: 0.997949\tvalid's auc: 0.968973\n",
      "[900]\ttrain's auc: 0.998437\tvalid's auc: 0.969256\n",
      "[1000]\ttrain's auc: 0.998787\tvalid's auc: 0.968905\n",
      "Early stopping, best iteration is:\n",
      "[957]\ttrain's auc: 0.998658\tvalid's auc: 0.96933\n"
     ]
    },
    {
     "name": "stderr",
     "output_type": "stream",
     "text": [
      "D:\\Programfiles2\\anaconda\\lib\\site-packages\\ipykernel\\__main__.py:60: SettingWithCopyWarning: \n",
      "A value is trying to be set on a copy of a slice from a DataFrame.\n",
      "Try using .loc[row_indexer,col_indexer] = value instead\n",
      "\n",
      "See the caveats in the documentation: http://pandas.pydata.org/pandas-docs/stable/indexing.html#indexing-view-versus-copy\n",
      "D:\\Programfiles2\\anaconda\\lib\\site-packages\\ipykernel\\__main__.py:61: SettingWithCopyWarning: \n",
      "A value is trying to be set on a copy of a slice from a DataFrame.\n",
      "Try using .loc[row_indexer,col_indexer] = value instead\n",
      "\n",
      "See the caveats in the documentation: http://pandas.pydata.org/pandas-docs/stable/indexing.html#indexing-view-versus-copy\n"
     ]
    },
    {
     "name": "stdout",
     "output_type": "stream",
     "text": [
      "Fold  2 AUC : 0.969330\n",
      "Training until validation scores don't improve for 100 rounds.\n",
      "[100]\ttrain's auc: 0.971242\tvalid's auc: 0.960682\n",
      "[200]\ttrain's auc: 0.98213\tvalid's auc: 0.969138\n",
      "[300]\ttrain's auc: 0.987862\tvalid's auc: 0.972045\n",
      "[400]\ttrain's auc: 0.991718\tvalid's auc: 0.973437\n",
      "[500]\ttrain's auc: 0.994186\tvalid's auc: 0.974097\n",
      "[600]\ttrain's auc: 0.995845\tvalid's auc: 0.974502\n",
      "[700]\ttrain's auc: 0.996936\tvalid's auc: 0.974825\n",
      "[800]\ttrain's auc: 0.99771\tvalid's auc: 0.975426\n",
      "[900]\ttrain's auc: 0.998227\tvalid's auc: 0.975807\n",
      "[1000]\ttrain's auc: 0.998607\tvalid's auc: 0.97609\n",
      "[1100]\ttrain's auc: 0.998865\tvalid's auc: 0.976086\n",
      "Early stopping, best iteration is:\n",
      "[1036]\ttrain's auc: 0.998712\tvalid's auc: 0.97629\n"
     ]
    },
    {
     "name": "stderr",
     "output_type": "stream",
     "text": [
      "D:\\Programfiles2\\anaconda\\lib\\site-packages\\ipykernel\\__main__.py:60: SettingWithCopyWarning: \n",
      "A value is trying to be set on a copy of a slice from a DataFrame.\n",
      "Try using .loc[row_indexer,col_indexer] = value instead\n",
      "\n",
      "See the caveats in the documentation: http://pandas.pydata.org/pandas-docs/stable/indexing.html#indexing-view-versus-copy\n",
      "D:\\Programfiles2\\anaconda\\lib\\site-packages\\ipykernel\\__main__.py:61: SettingWithCopyWarning: \n",
      "A value is trying to be set on a copy of a slice from a DataFrame.\n",
      "Try using .loc[row_indexer,col_indexer] = value instead\n",
      "\n",
      "See the caveats in the documentation: http://pandas.pydata.org/pandas-docs/stable/indexing.html#indexing-view-versus-copy\n"
     ]
    },
    {
     "name": "stdout",
     "output_type": "stream",
     "text": [
      "Fold  3 AUC : 0.976290\n",
      "Training until validation scores don't improve for 100 rounds.\n",
      "[100]\ttrain's auc: 0.933458\tvalid's auc: 0.908933\n",
      "Early stopping, best iteration is:\n",
      "[59]\ttrain's auc: 0.961252\tvalid's auc: 0.940072\n"
     ]
    },
    {
     "name": "stderr",
     "output_type": "stream",
     "text": [
      "D:\\Programfiles2\\anaconda\\lib\\site-packages\\ipykernel\\__main__.py:60: SettingWithCopyWarning: \n",
      "A value is trying to be set on a copy of a slice from a DataFrame.\n",
      "Try using .loc[row_indexer,col_indexer] = value instead\n",
      "\n",
      "See the caveats in the documentation: http://pandas.pydata.org/pandas-docs/stable/indexing.html#indexing-view-versus-copy\n",
      "D:\\Programfiles2\\anaconda\\lib\\site-packages\\ipykernel\\__main__.py:61: SettingWithCopyWarning: \n",
      "A value is trying to be set on a copy of a slice from a DataFrame.\n",
      "Try using .loc[row_indexer,col_indexer] = value instead\n",
      "\n",
      "See the caveats in the documentation: http://pandas.pydata.org/pandas-docs/stable/indexing.html#indexing-view-versus-copy\n"
     ]
    },
    {
     "name": "stdout",
     "output_type": "stream",
     "text": [
      "Fold  4 AUC : 0.940072\n",
      "Training until validation scores don't improve for 100 rounds.\n",
      "[100]\ttrain's auc: 0.970353\tvalid's auc: 0.955229\n",
      "[200]\ttrain's auc: 0.9822\tvalid's auc: 0.963633\n",
      "[300]\ttrain's auc: 0.988174\tvalid's auc: 0.966164\n",
      "[400]\ttrain's auc: 0.99188\tvalid's auc: 0.967327\n",
      "[500]\ttrain's auc: 0.994276\tvalid's auc: 0.967752\n",
      "[600]\ttrain's auc: 0.995946\tvalid's auc: 0.96786\n",
      "Early stopping, best iteration is:\n",
      "[523]\ttrain's auc: 0.994772\tvalid's auc: 0.967955\n"
     ]
    },
    {
     "name": "stderr",
     "output_type": "stream",
     "text": [
      "D:\\Programfiles2\\anaconda\\lib\\site-packages\\ipykernel\\__main__.py:60: SettingWithCopyWarning: \n",
      "A value is trying to be set on a copy of a slice from a DataFrame.\n",
      "Try using .loc[row_indexer,col_indexer] = value instead\n",
      "\n",
      "See the caveats in the documentation: http://pandas.pydata.org/pandas-docs/stable/indexing.html#indexing-view-versus-copy\n",
      "D:\\Programfiles2\\anaconda\\lib\\site-packages\\ipykernel\\__main__.py:61: SettingWithCopyWarning: \n",
      "A value is trying to be set on a copy of a slice from a DataFrame.\n",
      "Try using .loc[row_indexer,col_indexer] = value instead\n",
      "\n",
      "See the caveats in the documentation: http://pandas.pydata.org/pandas-docs/stable/indexing.html#indexing-view-versus-copy\n"
     ]
    },
    {
     "name": "stdout",
     "output_type": "stream",
     "text": [
      "Fold  5 AUC : 0.967955\n"
     ]
    },
    {
     "name": "stderr",
     "output_type": "stream",
     "text": [
      "D:\\Programfiles2\\anaconda\\lib\\site-packages\\ipykernel\\__main__.py:70: SettingWithCopyWarning: \n",
      "A value is trying to be set on a copy of a slice from a DataFrame.\n",
      "Try using .loc[row_indexer,col_indexer] = value instead\n",
      "\n",
      "See the caveats in the documentation: http://pandas.pydata.org/pandas-docs/stable/indexing.html#indexing-view-versus-copy\n"
     ]
    },
    {
     "name": "stdout",
     "output_type": "stream",
     "text": [
      "Full AUC score 0.962000\n",
      "(24943, 503) (6236, 503) (31588, 503)\n",
      "Training until validation scores don't improve for 100 rounds.\n",
      "[100]\ttrain's auc: 0.962652\tvalid's auc: 0.943242\n",
      "[200]\ttrain's auc: 0.976685\tvalid's auc: 0.957425\n",
      "[300]\ttrain's auc: 0.9824\tvalid's auc: 0.961147\n",
      "[400]\ttrain's auc: 0.98594\tvalid's auc: 0.962629\n",
      "[500]\ttrain's auc: 0.988802\tvalid's auc: 0.963715\n",
      "[600]\ttrain's auc: 0.990985\tvalid's auc: 0.964597\n",
      "[700]\ttrain's auc: 0.99268\tvalid's auc: 0.964785\n",
      "[800]\ttrain's auc: 0.993992\tvalid's auc: 0.965286\n",
      "[900]\ttrain's auc: 0.994979\tvalid's auc: 0.965419\n",
      "Early stopping, best iteration is:\n",
      "[853]\ttrain's auc: 0.994579\tvalid's auc: 0.96556\n"
     ]
    },
    {
     "name": "stderr",
     "output_type": "stream",
     "text": [
      "D:\\Programfiles2\\anaconda\\lib\\site-packages\\ipykernel\\__main__.py:60: SettingWithCopyWarning: \n",
      "A value is trying to be set on a copy of a slice from a DataFrame.\n",
      "Try using .loc[row_indexer,col_indexer] = value instead\n",
      "\n",
      "See the caveats in the documentation: http://pandas.pydata.org/pandas-docs/stable/indexing.html#indexing-view-versus-copy\n",
      "D:\\Programfiles2\\anaconda\\lib\\site-packages\\ipykernel\\__main__.py:61: SettingWithCopyWarning: \n",
      "A value is trying to be set on a copy of a slice from a DataFrame.\n",
      "Try using .loc[row_indexer,col_indexer] = value instead\n",
      "\n",
      "See the caveats in the documentation: http://pandas.pydata.org/pandas-docs/stable/indexing.html#indexing-view-versus-copy\n"
     ]
    },
    {
     "name": "stdout",
     "output_type": "stream",
     "text": [
      "Fold  1 AUC : 0.965560\n",
      "Training until validation scores don't improve for 100 rounds.\n",
      "[100]\ttrain's auc: 0.925467\tvalid's auc: 0.9181\n",
      "Early stopping, best iteration is:\n",
      "[61]\ttrain's auc: 0.95491\tvalid's auc: 0.941388\n"
     ]
    },
    {
     "name": "stderr",
     "output_type": "stream",
     "text": [
      "D:\\Programfiles2\\anaconda\\lib\\site-packages\\ipykernel\\__main__.py:60: SettingWithCopyWarning: \n",
      "A value is trying to be set on a copy of a slice from a DataFrame.\n",
      "Try using .loc[row_indexer,col_indexer] = value instead\n",
      "\n",
      "See the caveats in the documentation: http://pandas.pydata.org/pandas-docs/stable/indexing.html#indexing-view-versus-copy\n",
      "D:\\Programfiles2\\anaconda\\lib\\site-packages\\ipykernel\\__main__.py:61: SettingWithCopyWarning: \n",
      "A value is trying to be set on a copy of a slice from a DataFrame.\n",
      "Try using .loc[row_indexer,col_indexer] = value instead\n",
      "\n",
      "See the caveats in the documentation: http://pandas.pydata.org/pandas-docs/stable/indexing.html#indexing-view-versus-copy\n"
     ]
    },
    {
     "name": "stdout",
     "output_type": "stream",
     "text": [
      "Fold  2 AUC : 0.941388\n",
      "Training until validation scores don't improve for 100 rounds.\n",
      "[100]\ttrain's auc: 0.963958\tvalid's auc: 0.945843\n",
      "[200]\ttrain's auc: 0.976858\tvalid's auc: 0.9593\n",
      "[300]\ttrain's auc: 0.982534\tvalid's auc: 0.963017\n",
      "[400]\ttrain's auc: 0.986291\tvalid's auc: 0.964635\n",
      "[500]\ttrain's auc: 0.989089\tvalid's auc: 0.965676\n",
      "[600]\ttrain's auc: 0.991174\tvalid's auc: 0.966178\n",
      "[700]\ttrain's auc: 0.992775\tvalid's auc: 0.966487\n",
      "[800]\ttrain's auc: 0.993977\tvalid's auc: 0.966807\n",
      "[900]\ttrain's auc: 0.994942\tvalid's auc: 0.96699\n",
      "[1000]\ttrain's auc: 0.995659\tvalid's auc: 0.966855\n",
      "Early stopping, best iteration is:\n",
      "[973]\ttrain's auc: 0.995507\tvalid's auc: 0.967222\n"
     ]
    },
    {
     "name": "stderr",
     "output_type": "stream",
     "text": [
      "D:\\Programfiles2\\anaconda\\lib\\site-packages\\ipykernel\\__main__.py:60: SettingWithCopyWarning: \n",
      "A value is trying to be set on a copy of a slice from a DataFrame.\n",
      "Try using .loc[row_indexer,col_indexer] = value instead\n",
      "\n",
      "See the caveats in the documentation: http://pandas.pydata.org/pandas-docs/stable/indexing.html#indexing-view-versus-copy\n",
      "D:\\Programfiles2\\anaconda\\lib\\site-packages\\ipykernel\\__main__.py:61: SettingWithCopyWarning: \n",
      "A value is trying to be set on a copy of a slice from a DataFrame.\n",
      "Try using .loc[row_indexer,col_indexer] = value instead\n",
      "\n",
      "See the caveats in the documentation: http://pandas.pydata.org/pandas-docs/stable/indexing.html#indexing-view-versus-copy\n"
     ]
    },
    {
     "name": "stdout",
     "output_type": "stream",
     "text": [
      "Fold  3 AUC : 0.967222\n",
      "Training until validation scores don't improve for 100 rounds.\n",
      "[100]\ttrain's auc: 0.964032\tvalid's auc: 0.952365\n",
      "[200]\ttrain's auc: 0.977208\tvalid's auc: 0.962708\n",
      "[300]\ttrain's auc: 0.982633\tvalid's auc: 0.964565\n",
      "[400]\ttrain's auc: 0.986548\tvalid's auc: 0.965748\n",
      "[500]\ttrain's auc: 0.989359\tvalid's auc: 0.966627\n",
      "[600]\ttrain's auc: 0.991508\tvalid's auc: 0.96683\n",
      "[700]\ttrain's auc: 0.993025\tvalid's auc: 0.966921\n",
      "[800]\ttrain's auc: 0.994208\tvalid's auc: 0.967095\n",
      "[900]\ttrain's auc: 0.995094\tvalid's auc: 0.967304\n",
      "[1000]\ttrain's auc: 0.995851\tvalid's auc: 0.967585\n",
      "[1100]\ttrain's auc: 0.996436\tvalid's auc: 0.967485\n",
      "Early stopping, best iteration is:\n",
      "[1028]\ttrain's auc: 0.996042\tvalid's auc: 0.967665\n"
     ]
    },
    {
     "name": "stderr",
     "output_type": "stream",
     "text": [
      "D:\\Programfiles2\\anaconda\\lib\\site-packages\\ipykernel\\__main__.py:60: SettingWithCopyWarning: \n",
      "A value is trying to be set on a copy of a slice from a DataFrame.\n",
      "Try using .loc[row_indexer,col_indexer] = value instead\n",
      "\n",
      "See the caveats in the documentation: http://pandas.pydata.org/pandas-docs/stable/indexing.html#indexing-view-versus-copy\n",
      "D:\\Programfiles2\\anaconda\\lib\\site-packages\\ipykernel\\__main__.py:61: SettingWithCopyWarning: \n",
      "A value is trying to be set on a copy of a slice from a DataFrame.\n",
      "Try using .loc[row_indexer,col_indexer] = value instead\n",
      "\n",
      "See the caveats in the documentation: http://pandas.pydata.org/pandas-docs/stable/indexing.html#indexing-view-versus-copy\n"
     ]
    },
    {
     "name": "stdout",
     "output_type": "stream",
     "text": [
      "Fold  4 AUC : 0.967665\n",
      "Training until validation scores don't improve for 100 rounds.\n",
      "[100]\ttrain's auc: 0.96307\tvalid's auc: 0.941259\n",
      "[200]\ttrain's auc: 0.976868\tvalid's auc: 0.953936\n",
      "[300]\ttrain's auc: 0.982607\tvalid's auc: 0.956701\n",
      "[400]\ttrain's auc: 0.986377\tvalid's auc: 0.958345\n",
      "[500]\ttrain's auc: 0.989123\tvalid's auc: 0.959561\n",
      "[600]\ttrain's auc: 0.991171\tvalid's auc: 0.960353\n",
      "[700]\ttrain's auc: 0.992782\tvalid's auc: 0.960537\n",
      "Early stopping, best iteration is:\n",
      "[661]\ttrain's auc: 0.99226\tvalid's auc: 0.960882\n"
     ]
    },
    {
     "name": "stderr",
     "output_type": "stream",
     "text": [
      "D:\\Programfiles2\\anaconda\\lib\\site-packages\\ipykernel\\__main__.py:60: SettingWithCopyWarning: \n",
      "A value is trying to be set on a copy of a slice from a DataFrame.\n",
      "Try using .loc[row_indexer,col_indexer] = value instead\n",
      "\n",
      "See the caveats in the documentation: http://pandas.pydata.org/pandas-docs/stable/indexing.html#indexing-view-versus-copy\n",
      "D:\\Programfiles2\\anaconda\\lib\\site-packages\\ipykernel\\__main__.py:61: SettingWithCopyWarning: \n",
      "A value is trying to be set on a copy of a slice from a DataFrame.\n",
      "Try using .loc[row_indexer,col_indexer] = value instead\n",
      "\n",
      "See the caveats in the documentation: http://pandas.pydata.org/pandas-docs/stable/indexing.html#indexing-view-versus-copy\n"
     ]
    },
    {
     "name": "stdout",
     "output_type": "stream",
     "text": [
      "Fold  5 AUC : 0.960882\n"
     ]
    },
    {
     "name": "stderr",
     "output_type": "stream",
     "text": [
      "D:\\Programfiles2\\anaconda\\lib\\site-packages\\ipykernel\\__main__.py:70: SettingWithCopyWarning: \n",
      "A value is trying to be set on a copy of a slice from a DataFrame.\n",
      "Try using .loc[row_indexer,col_indexer] = value instead\n",
      "\n",
      "See the caveats in the documentation: http://pandas.pydata.org/pandas-docs/stable/indexing.html#indexing-view-versus-copy\n"
     ]
    },
    {
     "name": "stdout",
     "output_type": "stream",
     "text": [
      "Full AUC score 0.958703\n",
      "(24943, 503) (6236, 503) (31588, 503)\n",
      "Training until validation scores don't improve for 100 rounds.\n",
      "[100]\ttrain's auc: 0.975637\tvalid's auc: 0.962956\n",
      "[200]\ttrain's auc: 0.985991\tvalid's auc: 0.969156\n",
      "[300]\ttrain's auc: 0.991096\tvalid's auc: 0.971041\n",
      "[400]\ttrain's auc: 0.994052\tvalid's auc: 0.97187\n",
      "Early stopping, best iteration is:\n",
      "[358]\ttrain's auc: 0.992991\tvalid's auc: 0.972077\n"
     ]
    },
    {
     "name": "stderr",
     "output_type": "stream",
     "text": [
      "D:\\Programfiles2\\anaconda\\lib\\site-packages\\ipykernel\\__main__.py:60: SettingWithCopyWarning: \n",
      "A value is trying to be set on a copy of a slice from a DataFrame.\n",
      "Try using .loc[row_indexer,col_indexer] = value instead\n",
      "\n",
      "See the caveats in the documentation: http://pandas.pydata.org/pandas-docs/stable/indexing.html#indexing-view-versus-copy\n",
      "D:\\Programfiles2\\anaconda\\lib\\site-packages\\ipykernel\\__main__.py:61: SettingWithCopyWarning: \n",
      "A value is trying to be set on a copy of a slice from a DataFrame.\n",
      "Try using .loc[row_indexer,col_indexer] = value instead\n",
      "\n",
      "See the caveats in the documentation: http://pandas.pydata.org/pandas-docs/stable/indexing.html#indexing-view-versus-copy\n"
     ]
    },
    {
     "name": "stdout",
     "output_type": "stream",
     "text": [
      "Fold  1 AUC : 0.972077\n",
      "Training until validation scores don't improve for 100 rounds.\n",
      "[100]\ttrain's auc: 0.977335\tvalid's auc: 0.953524\n",
      "[200]\ttrain's auc: 0.98668\tvalid's auc: 0.959602\n",
      "[300]\ttrain's auc: 0.991405\tvalid's auc: 0.962041\n",
      "[400]\ttrain's auc: 0.99427\tvalid's auc: 0.962855\n",
      "[500]\ttrain's auc: 0.996085\tvalid's auc: 0.963447\n",
      "[600]\ttrain's auc: 0.997176\tvalid's auc: 0.964003\n",
      "[700]\ttrain's auc: 0.997852\tvalid's auc: 0.964386\n",
      "[800]\ttrain's auc: 0.998303\tvalid's auc: 0.964403\n",
      "Early stopping, best iteration is:\n",
      "[751]\ttrain's auc: 0.9981\tvalid's auc: 0.964621\n"
     ]
    },
    {
     "name": "stderr",
     "output_type": "stream",
     "text": [
      "D:\\Programfiles2\\anaconda\\lib\\site-packages\\ipykernel\\__main__.py:60: SettingWithCopyWarning: \n",
      "A value is trying to be set on a copy of a slice from a DataFrame.\n",
      "Try using .loc[row_indexer,col_indexer] = value instead\n",
      "\n",
      "See the caveats in the documentation: http://pandas.pydata.org/pandas-docs/stable/indexing.html#indexing-view-versus-copy\n",
      "D:\\Programfiles2\\anaconda\\lib\\site-packages\\ipykernel\\__main__.py:61: SettingWithCopyWarning: \n",
      "A value is trying to be set on a copy of a slice from a DataFrame.\n",
      "Try using .loc[row_indexer,col_indexer] = value instead\n",
      "\n",
      "See the caveats in the documentation: http://pandas.pydata.org/pandas-docs/stable/indexing.html#indexing-view-versus-copy\n"
     ]
    },
    {
     "name": "stdout",
     "output_type": "stream",
     "text": [
      "Fold  2 AUC : 0.964621\n",
      "Training until validation scores don't improve for 100 rounds.\n",
      "[100]\ttrain's auc: 0.976851\tvalid's auc: 0.954279\n",
      "[200]\ttrain's auc: 0.986641\tvalid's auc: 0.960217\n",
      "[300]\ttrain's auc: 0.991466\tvalid's auc: 0.962599\n",
      "[400]\ttrain's auc: 0.994325\tvalid's auc: 0.963579\n",
      "[500]\ttrain's auc: 0.99603\tvalid's auc: 0.964534\n",
      "[600]\ttrain's auc: 0.997138\tvalid's auc: 0.9647\n",
      "Early stopping, best iteration is:\n",
      "[559]\ttrain's auc: 0.996758\tvalid's auc: 0.964908\n"
     ]
    },
    {
     "name": "stderr",
     "output_type": "stream",
     "text": [
      "D:\\Programfiles2\\anaconda\\lib\\site-packages\\ipykernel\\__main__.py:60: SettingWithCopyWarning: \n",
      "A value is trying to be set on a copy of a slice from a DataFrame.\n",
      "Try using .loc[row_indexer,col_indexer] = value instead\n",
      "\n",
      "See the caveats in the documentation: http://pandas.pydata.org/pandas-docs/stable/indexing.html#indexing-view-versus-copy\n",
      "D:\\Programfiles2\\anaconda\\lib\\site-packages\\ipykernel\\__main__.py:61: SettingWithCopyWarning: \n",
      "A value is trying to be set on a copy of a slice from a DataFrame.\n",
      "Try using .loc[row_indexer,col_indexer] = value instead\n",
      "\n",
      "See the caveats in the documentation: http://pandas.pydata.org/pandas-docs/stable/indexing.html#indexing-view-versus-copy\n"
     ]
    },
    {
     "name": "stdout",
     "output_type": "stream",
     "text": [
      "Fold  3 AUC : 0.964908\n",
      "Training until validation scores don't improve for 100 rounds.\n",
      "[100]\ttrain's auc: 0.939045\tvalid's auc: 0.926912\n",
      "Early stopping, best iteration is:\n",
      "[51]\ttrain's auc: 0.965513\tvalid's auc: 0.946892\n"
     ]
    },
    {
     "name": "stderr",
     "output_type": "stream",
     "text": [
      "D:\\Programfiles2\\anaconda\\lib\\site-packages\\ipykernel\\__main__.py:60: SettingWithCopyWarning: \n",
      "A value is trying to be set on a copy of a slice from a DataFrame.\n",
      "Try using .loc[row_indexer,col_indexer] = value instead\n",
      "\n",
      "See the caveats in the documentation: http://pandas.pydata.org/pandas-docs/stable/indexing.html#indexing-view-versus-copy\n",
      "D:\\Programfiles2\\anaconda\\lib\\site-packages\\ipykernel\\__main__.py:61: SettingWithCopyWarning: \n",
      "A value is trying to be set on a copy of a slice from a DataFrame.\n",
      "Try using .loc[row_indexer,col_indexer] = value instead\n",
      "\n",
      "See the caveats in the documentation: http://pandas.pydata.org/pandas-docs/stable/indexing.html#indexing-view-versus-copy\n"
     ]
    },
    {
     "name": "stdout",
     "output_type": "stream",
     "text": [
      "Fold  4 AUC : 0.946892\n",
      "Training until validation scores don't improve for 100 rounds.\n",
      "[100]\ttrain's auc: 0.97659\tvalid's auc: 0.963685\n",
      "[200]\ttrain's auc: 0.986582\tvalid's auc: 0.967758\n",
      "[300]\ttrain's auc: 0.991422\tvalid's auc: 0.968491\n",
      "[400]\ttrain's auc: 0.994202\tvalid's auc: 0.96873\n",
      "[500]\ttrain's auc: 0.996016\tvalid's auc: 0.968775\n",
      "Early stopping, best iteration is:\n",
      "[466]\ttrain's auc: 0.995477\tvalid's auc: 0.969072\n"
     ]
    },
    {
     "name": "stderr",
     "output_type": "stream",
     "text": [
      "D:\\Programfiles2\\anaconda\\lib\\site-packages\\ipykernel\\__main__.py:60: SettingWithCopyWarning: \n",
      "A value is trying to be set on a copy of a slice from a DataFrame.\n",
      "Try using .loc[row_indexer,col_indexer] = value instead\n",
      "\n",
      "See the caveats in the documentation: http://pandas.pydata.org/pandas-docs/stable/indexing.html#indexing-view-versus-copy\n",
      "D:\\Programfiles2\\anaconda\\lib\\site-packages\\ipykernel\\__main__.py:61: SettingWithCopyWarning: \n",
      "A value is trying to be set on a copy of a slice from a DataFrame.\n",
      "Try using .loc[row_indexer,col_indexer] = value instead\n",
      "\n",
      "See the caveats in the documentation: http://pandas.pydata.org/pandas-docs/stable/indexing.html#indexing-view-versus-copy\n"
     ]
    },
    {
     "name": "stdout",
     "output_type": "stream",
     "text": [
      "Fold  5 AUC : 0.969072\n"
     ]
    },
    {
     "name": "stderr",
     "output_type": "stream",
     "text": [
      "D:\\Programfiles2\\anaconda\\lib\\site-packages\\ipykernel\\__main__.py:70: SettingWithCopyWarning: \n",
      "A value is trying to be set on a copy of a slice from a DataFrame.\n",
      "Try using .loc[row_indexer,col_indexer] = value instead\n",
      "\n",
      "See the caveats in the documentation: http://pandas.pydata.org/pandas-docs/stable/indexing.html#indexing-view-versus-copy\n"
     ]
    },
    {
     "name": "stdout",
     "output_type": "stream",
     "text": [
      "Full AUC score 0.961964\n",
      "(24943, 503) (6236, 503) (31588, 503)\n",
      "Training until validation scores don't improve for 100 rounds.\n",
      "[100]\ttrain's auc: 0.933455\tvalid's auc: 0.921961\n",
      "Early stopping, best iteration is:\n",
      "[59]\ttrain's auc: 0.962182\tvalid's auc: 0.947718\n"
     ]
    },
    {
     "name": "stderr",
     "output_type": "stream",
     "text": [
      "D:\\Programfiles2\\anaconda\\lib\\site-packages\\ipykernel\\__main__.py:60: SettingWithCopyWarning: \n",
      "A value is trying to be set on a copy of a slice from a DataFrame.\n",
      "Try using .loc[row_indexer,col_indexer] = value instead\n",
      "\n",
      "See the caveats in the documentation: http://pandas.pydata.org/pandas-docs/stable/indexing.html#indexing-view-versus-copy\n",
      "D:\\Programfiles2\\anaconda\\lib\\site-packages\\ipykernel\\__main__.py:61: SettingWithCopyWarning: \n",
      "A value is trying to be set on a copy of a slice from a DataFrame.\n",
      "Try using .loc[row_indexer,col_indexer] = value instead\n",
      "\n",
      "See the caveats in the documentation: http://pandas.pydata.org/pandas-docs/stable/indexing.html#indexing-view-versus-copy\n"
     ]
    },
    {
     "name": "stdout",
     "output_type": "stream",
     "text": [
      "Fold  1 AUC : 0.947718\n",
      "Training until validation scores don't improve for 100 rounds.\n",
      "[100]\ttrain's auc: 0.971926\tvalid's auc: 0.956789\n",
      "[200]\ttrain's auc: 0.982957\tvalid's auc: 0.963523\n",
      "[300]\ttrain's auc: 0.98843\tvalid's auc: 0.965649\n",
      "[400]\ttrain's auc: 0.991809\tvalid's auc: 0.966694\n",
      "[500]\ttrain's auc: 0.994176\tvalid's auc: 0.967711\n",
      "[600]\ttrain's auc: 0.995791\tvalid's auc: 0.968156\n",
      "[700]\ttrain's auc: 0.99686\tvalid's auc: 0.968559\n",
      "[800]\ttrain's auc: 0.997586\tvalid's auc: 0.968472\n",
      "[900]\ttrain's auc: 0.998127\tvalid's auc: 0.968913\n",
      "Early stopping, best iteration is:\n",
      "[843]\ttrain's auc: 0.997842\tvalid's auc: 0.96898\n"
     ]
    },
    {
     "name": "stderr",
     "output_type": "stream",
     "text": [
      "D:\\Programfiles2\\anaconda\\lib\\site-packages\\ipykernel\\__main__.py:60: SettingWithCopyWarning: \n",
      "A value is trying to be set on a copy of a slice from a DataFrame.\n",
      "Try using .loc[row_indexer,col_indexer] = value instead\n",
      "\n",
      "See the caveats in the documentation: http://pandas.pydata.org/pandas-docs/stable/indexing.html#indexing-view-versus-copy\n",
      "D:\\Programfiles2\\anaconda\\lib\\site-packages\\ipykernel\\__main__.py:61: SettingWithCopyWarning: \n",
      "A value is trying to be set on a copy of a slice from a DataFrame.\n",
      "Try using .loc[row_indexer,col_indexer] = value instead\n",
      "\n",
      "See the caveats in the documentation: http://pandas.pydata.org/pandas-docs/stable/indexing.html#indexing-view-versus-copy\n"
     ]
    },
    {
     "name": "stdout",
     "output_type": "stream",
     "text": [
      "Fold  2 AUC : 0.968980\n",
      "Training until validation scores don't improve for 100 rounds.\n",
      "[100]\ttrain's auc: 0.971814\tvalid's auc: 0.957362\n",
      "[200]\ttrain's auc: 0.983093\tvalid's auc: 0.964338\n",
      "[300]\ttrain's auc: 0.988377\tvalid's auc: 0.966381\n",
      "[400]\ttrain's auc: 0.991815\tvalid's auc: 0.96724\n",
      "[500]\ttrain's auc: 0.994232\tvalid's auc: 0.967752\n",
      "[600]\ttrain's auc: 0.995824\tvalid's auc: 0.967792\n",
      "[700]\ttrain's auc: 0.99692\tvalid's auc: 0.968439\n",
      "[800]\ttrain's auc: 0.99764\tvalid's auc: 0.968446\n",
      "[900]\ttrain's auc: 0.998178\tvalid's auc: 0.968639\n",
      "[1000]\ttrain's auc: 0.998566\tvalid's auc: 0.96834\n",
      "Early stopping, best iteration is:\n",
      "[918]\ttrain's auc: 0.998263\tvalid's auc: 0.968643\n"
     ]
    },
    {
     "name": "stderr",
     "output_type": "stream",
     "text": [
      "D:\\Programfiles2\\anaconda\\lib\\site-packages\\ipykernel\\__main__.py:60: SettingWithCopyWarning: \n",
      "A value is trying to be set on a copy of a slice from a DataFrame.\n",
      "Try using .loc[row_indexer,col_indexer] = value instead\n",
      "\n",
      "See the caveats in the documentation: http://pandas.pydata.org/pandas-docs/stable/indexing.html#indexing-view-versus-copy\n",
      "D:\\Programfiles2\\anaconda\\lib\\site-packages\\ipykernel\\__main__.py:61: SettingWithCopyWarning: \n",
      "A value is trying to be set on a copy of a slice from a DataFrame.\n",
      "Try using .loc[row_indexer,col_indexer] = value instead\n",
      "\n",
      "See the caveats in the documentation: http://pandas.pydata.org/pandas-docs/stable/indexing.html#indexing-view-versus-copy\n"
     ]
    },
    {
     "name": "stdout",
     "output_type": "stream",
     "text": [
      "Fold  3 AUC : 0.968643\n",
      "Training until validation scores don't improve for 100 rounds.\n",
      "[100]\ttrain's auc: 0.971098\tvalid's auc: 0.945722\n",
      "[200]\ttrain's auc: 0.98284\tvalid's auc: 0.956622\n",
      "[300]\ttrain's auc: 0.988409\tvalid's auc: 0.959129\n",
      "[400]\ttrain's auc: 0.991966\tvalid's auc: 0.95974\n",
      "[500]\ttrain's auc: 0.994303\tvalid's auc: 0.959764\n",
      "Early stopping, best iteration is:\n",
      "[464]\ttrain's auc: 0.993557\tvalid's auc: 0.96006\n"
     ]
    },
    {
     "name": "stderr",
     "output_type": "stream",
     "text": [
      "D:\\Programfiles2\\anaconda\\lib\\site-packages\\ipykernel\\__main__.py:60: SettingWithCopyWarning: \n",
      "A value is trying to be set on a copy of a slice from a DataFrame.\n",
      "Try using .loc[row_indexer,col_indexer] = value instead\n",
      "\n",
      "See the caveats in the documentation: http://pandas.pydata.org/pandas-docs/stable/indexing.html#indexing-view-versus-copy\n",
      "D:\\Programfiles2\\anaconda\\lib\\site-packages\\ipykernel\\__main__.py:61: SettingWithCopyWarning: \n",
      "A value is trying to be set on a copy of a slice from a DataFrame.\n",
      "Try using .loc[row_indexer,col_indexer] = value instead\n",
      "\n",
      "See the caveats in the documentation: http://pandas.pydata.org/pandas-docs/stable/indexing.html#indexing-view-versus-copy\n"
     ]
    },
    {
     "name": "stdout",
     "output_type": "stream",
     "text": [
      "Fold  4 AUC : 0.960060\n",
      "Training until validation scores don't improve for 100 rounds.\n",
      "[100]\ttrain's auc: 0.971153\tvalid's auc: 0.956074\n",
      "[200]\ttrain's auc: 0.982299\tvalid's auc: 0.963158\n",
      "[300]\ttrain's auc: 0.988155\tvalid's auc: 0.965301\n",
      "[400]\ttrain's auc: 0.991746\tvalid's auc: 0.966662\n",
      "[500]\ttrain's auc: 0.994133\tvalid's auc: 0.966931\n",
      "[600]\ttrain's auc: 0.995735\tvalid's auc: 0.967554\n",
      "[700]\ttrain's auc: 0.996809\tvalid's auc: 0.967922\n",
      "[800]\ttrain's auc: 0.997583\tvalid's auc: 0.968044\n",
      "Early stopping, best iteration is:\n",
      "[775]\ttrain's auc: 0.997419\tvalid's auc: 0.968256\n"
     ]
    },
    {
     "name": "stderr",
     "output_type": "stream",
     "text": [
      "D:\\Programfiles2\\anaconda\\lib\\site-packages\\ipykernel\\__main__.py:60: SettingWithCopyWarning: \n",
      "A value is trying to be set on a copy of a slice from a DataFrame.\n",
      "Try using .loc[row_indexer,col_indexer] = value instead\n",
      "\n",
      "See the caveats in the documentation: http://pandas.pydata.org/pandas-docs/stable/indexing.html#indexing-view-versus-copy\n",
      "D:\\Programfiles2\\anaconda\\lib\\site-packages\\ipykernel\\__main__.py:61: SettingWithCopyWarning: \n",
      "A value is trying to be set on a copy of a slice from a DataFrame.\n",
      "Try using .loc[row_indexer,col_indexer] = value instead\n",
      "\n",
      "See the caveats in the documentation: http://pandas.pydata.org/pandas-docs/stable/indexing.html#indexing-view-versus-copy\n"
     ]
    },
    {
     "name": "stdout",
     "output_type": "stream",
     "text": [
      "Fold  5 AUC : 0.968256\n"
     ]
    },
    {
     "name": "stderr",
     "output_type": "stream",
     "text": [
      "D:\\Programfiles2\\anaconda\\lib\\site-packages\\ipykernel\\__main__.py:70: SettingWithCopyWarning: \n",
      "A value is trying to be set on a copy of a slice from a DataFrame.\n",
      "Try using .loc[row_indexer,col_indexer] = value instead\n",
      "\n",
      "See the caveats in the documentation: http://pandas.pydata.org/pandas-docs/stable/indexing.html#indexing-view-versus-copy\n"
     ]
    },
    {
     "name": "stdout",
     "output_type": "stream",
     "text": [
      "Full AUC score 0.960302\n",
      "(24943, 503) (6236, 503) (31588, 503)\n",
      "Training until validation scores don't improve for 100 rounds.\n",
      "[100]\ttrain's auc: 0.961955\tvalid's auc: 0.950795\n",
      "[200]\ttrain's auc: 0.974617\tvalid's auc: 0.964226\n",
      "[300]\ttrain's auc: 0.979163\tvalid's auc: 0.967425\n",
      "[400]\ttrain's auc: 0.982553\tvalid's auc: 0.969376\n",
      "[500]\ttrain's auc: 0.984936\tvalid's auc: 0.970138\n",
      "[600]\ttrain's auc: 0.986732\tvalid's auc: 0.970563\n",
      "[700]\ttrain's auc: 0.987715\tvalid's auc: 0.970771\n",
      "[800]\ttrain's auc: 0.988387\tvalid's auc: 0.970814\n",
      "Early stopping, best iteration is:\n",
      "[722]\ttrain's auc: 0.98794\tvalid's auc: 0.97093\n"
     ]
    },
    {
     "name": "stderr",
     "output_type": "stream",
     "text": [
      "D:\\Programfiles2\\anaconda\\lib\\site-packages\\ipykernel\\__main__.py:60: SettingWithCopyWarning: \n",
      "A value is trying to be set on a copy of a slice from a DataFrame.\n",
      "Try using .loc[row_indexer,col_indexer] = value instead\n",
      "\n",
      "See the caveats in the documentation: http://pandas.pydata.org/pandas-docs/stable/indexing.html#indexing-view-versus-copy\n",
      "D:\\Programfiles2\\anaconda\\lib\\site-packages\\ipykernel\\__main__.py:61: SettingWithCopyWarning: \n",
      "A value is trying to be set on a copy of a slice from a DataFrame.\n",
      "Try using .loc[row_indexer,col_indexer] = value instead\n",
      "\n",
      "See the caveats in the documentation: http://pandas.pydata.org/pandas-docs/stable/indexing.html#indexing-view-versus-copy\n"
     ]
    },
    {
     "name": "stdout",
     "output_type": "stream",
     "text": [
      "Fold  1 AUC : 0.970930\n",
      "Training until validation scores don't improve for 100 rounds.\n",
      "[100]\ttrain's auc: 0.962646\tvalid's auc: 0.936509\n",
      "[200]\ttrain's auc: 0.976123\tvalid's auc: 0.950597\n",
      "[300]\ttrain's auc: 0.980323\tvalid's auc: 0.953864\n",
      "[400]\ttrain's auc: 0.983327\tvalid's auc: 0.95459\n",
      "[500]\ttrain's auc: 0.985743\tvalid's auc: 0.955721\n",
      "[600]\ttrain's auc: 0.987275\tvalid's auc: 0.956302\n",
      "[700]\ttrain's auc: 0.988321\tvalid's auc: 0.956744\n",
      "[800]\ttrain's auc: 0.989037\tvalid's auc: 0.956855\n",
      "[900]\ttrain's auc: 0.98945\tvalid's auc: 0.957023\n",
      "Early stopping, best iteration is:\n",
      "[861]\ttrain's auc: 0.989393\tvalid's auc: 0.957065\n"
     ]
    },
    {
     "name": "stderr",
     "output_type": "stream",
     "text": [
      "D:\\Programfiles2\\anaconda\\lib\\site-packages\\ipykernel\\__main__.py:60: SettingWithCopyWarning: \n",
      "A value is trying to be set on a copy of a slice from a DataFrame.\n",
      "Try using .loc[row_indexer,col_indexer] = value instead\n",
      "\n",
      "See the caveats in the documentation: http://pandas.pydata.org/pandas-docs/stable/indexing.html#indexing-view-versus-copy\n",
      "D:\\Programfiles2\\anaconda\\lib\\site-packages\\ipykernel\\__main__.py:61: SettingWithCopyWarning: \n",
      "A value is trying to be set on a copy of a slice from a DataFrame.\n",
      "Try using .loc[row_indexer,col_indexer] = value instead\n",
      "\n",
      "See the caveats in the documentation: http://pandas.pydata.org/pandas-docs/stable/indexing.html#indexing-view-versus-copy\n"
     ]
    },
    {
     "name": "stdout",
     "output_type": "stream",
     "text": [
      "Fold  2 AUC : 0.957036\n",
      "Training until validation scores don't improve for 100 rounds.\n",
      "[100]\ttrain's auc: 0.923648\tvalid's auc: 0.912689\n",
      "Early stopping, best iteration is:\n",
      "[63]\ttrain's auc: 0.952458\tvalid's auc: 0.938095\n"
     ]
    },
    {
     "name": "stderr",
     "output_type": "stream",
     "text": [
      "D:\\Programfiles2\\anaconda\\lib\\site-packages\\ipykernel\\__main__.py:60: SettingWithCopyWarning: \n",
      "A value is trying to be set on a copy of a slice from a DataFrame.\n",
      "Try using .loc[row_indexer,col_indexer] = value instead\n",
      "\n",
      "See the caveats in the documentation: http://pandas.pydata.org/pandas-docs/stable/indexing.html#indexing-view-versus-copy\n",
      "D:\\Programfiles2\\anaconda\\lib\\site-packages\\ipykernel\\__main__.py:61: SettingWithCopyWarning: \n",
      "A value is trying to be set on a copy of a slice from a DataFrame.\n",
      "Try using .loc[row_indexer,col_indexer] = value instead\n",
      "\n",
      "See the caveats in the documentation: http://pandas.pydata.org/pandas-docs/stable/indexing.html#indexing-view-versus-copy\n"
     ]
    },
    {
     "name": "stdout",
     "output_type": "stream",
     "text": [
      "Fold  3 AUC : 0.938095\n",
      "Training until validation scores don't improve for 100 rounds.\n",
      "[100]\ttrain's auc: 0.963201\tvalid's auc: 0.952165\n",
      "[200]\ttrain's auc: 0.974375\tvalid's auc: 0.961433\n",
      "[300]\ttrain's auc: 0.979221\tvalid's auc: 0.964042\n",
      "[400]\ttrain's auc: 0.982496\tvalid's auc: 0.965223\n",
      "[500]\ttrain's auc: 0.984784\tvalid's auc: 0.965613\n",
      "[600]\ttrain's auc: 0.986482\tvalid's auc: 0.965736\n",
      "[700]\ttrain's auc: 0.987511\tvalid's auc: 0.966017\n",
      "[800]\ttrain's auc: 0.988164\tvalid's auc: 0.966258\n",
      "Early stopping, best iteration is:\n",
      "[786]\ttrain's auc: 0.988164\tvalid's auc: 0.966258\n"
     ]
    },
    {
     "name": "stderr",
     "output_type": "stream",
     "text": [
      "D:\\Programfiles2\\anaconda\\lib\\site-packages\\ipykernel\\__main__.py:60: SettingWithCopyWarning: \n",
      "A value is trying to be set on a copy of a slice from a DataFrame.\n",
      "Try using .loc[row_indexer,col_indexer] = value instead\n",
      "\n",
      "See the caveats in the documentation: http://pandas.pydata.org/pandas-docs/stable/indexing.html#indexing-view-versus-copy\n",
      "D:\\Programfiles2\\anaconda\\lib\\site-packages\\ipykernel\\__main__.py:61: SettingWithCopyWarning: \n",
      "A value is trying to be set on a copy of a slice from a DataFrame.\n",
      "Try using .loc[row_indexer,col_indexer] = value instead\n",
      "\n",
      "See the caveats in the documentation: http://pandas.pydata.org/pandas-docs/stable/indexing.html#indexing-view-versus-copy\n"
     ]
    },
    {
     "name": "stdout",
     "output_type": "stream",
     "text": [
      "Fold  4 AUC : 0.966258\n",
      "Training until validation scores don't improve for 100 rounds.\n",
      "[100]\ttrain's auc: 0.964725\tvalid's auc: 0.947195\n",
      "[200]\ttrain's auc: 0.976043\tvalid's auc: 0.953928\n",
      "[300]\ttrain's auc: 0.980088\tvalid's auc: 0.956009\n",
      "[400]\ttrain's auc: 0.982806\tvalid's auc: 0.957387\n",
      "[500]\ttrain's auc: 0.985048\tvalid's auc: 0.958209\n",
      "[600]\ttrain's auc: 0.986651\tvalid's auc: 0.958876\n",
      "[700]\ttrain's auc: 0.987734\tvalid's auc: 0.95885\n",
      "[800]\ttrain's auc: 0.988447\tvalid's auc: 0.959149\n",
      "[900]\ttrain's auc: 0.988786\tvalid's auc: 0.959229\n",
      "Early stopping, best iteration is:\n",
      "[843]\ttrain's auc: 0.988701\tvalid's auc: 0.95932\n"
     ]
    },
    {
     "name": "stderr",
     "output_type": "stream",
     "text": [
      "D:\\Programfiles2\\anaconda\\lib\\site-packages\\ipykernel\\__main__.py:60: SettingWithCopyWarning: \n",
      "A value is trying to be set on a copy of a slice from a DataFrame.\n",
      "Try using .loc[row_indexer,col_indexer] = value instead\n",
      "\n",
      "See the caveats in the documentation: http://pandas.pydata.org/pandas-docs/stable/indexing.html#indexing-view-versus-copy\n",
      "D:\\Programfiles2\\anaconda\\lib\\site-packages\\ipykernel\\__main__.py:61: SettingWithCopyWarning: \n",
      "A value is trying to be set on a copy of a slice from a DataFrame.\n",
      "Try using .loc[row_indexer,col_indexer] = value instead\n",
      "\n",
      "See the caveats in the documentation: http://pandas.pydata.org/pandas-docs/stable/indexing.html#indexing-view-versus-copy\n"
     ]
    },
    {
     "name": "stdout",
     "output_type": "stream",
     "text": [
      "Fold  5 AUC : 0.959302\n"
     ]
    },
    {
     "name": "stderr",
     "output_type": "stream",
     "text": [
      "D:\\Programfiles2\\anaconda\\lib\\site-packages\\ipykernel\\__main__.py:70: SettingWithCopyWarning: \n",
      "A value is trying to be set on a copy of a slice from a DataFrame.\n",
      "Try using .loc[row_indexer,col_indexer] = value instead\n",
      "\n",
      "See the caveats in the documentation: http://pandas.pydata.org/pandas-docs/stable/indexing.html#indexing-view-versus-copy\n"
     ]
    },
    {
     "name": "stdout",
     "output_type": "stream",
     "text": [
      "Full AUC score 0.956541\n",
      "(24943, 503) (6236, 503) (31588, 503)\n",
      "Training until validation scores don't improve for 100 rounds.\n",
      "[100]\ttrain's auc: 0.972601\tvalid's auc: 0.952766\n",
      "[200]\ttrain's auc: 0.983738\tvalid's auc: 0.958621\n",
      "[300]\ttrain's auc: 0.989035\tvalid's auc: 0.960691\n",
      "[400]\ttrain's auc: 0.992543\tvalid's auc: 0.962256\n",
      "[500]\ttrain's auc: 0.994755\tvalid's auc: 0.962619\n",
      "[600]\ttrain's auc: 0.996255\tvalid's auc: 0.963092\n",
      "[700]\ttrain's auc: 0.997245\tvalid's auc: 0.963357\n",
      "[800]\ttrain's auc: 0.997949\tvalid's auc: 0.963388\n",
      "Early stopping, best iteration is:\n",
      "[740]\ttrain's auc: 0.997578\tvalid's auc: 0.963551\n"
     ]
    },
    {
     "name": "stderr",
     "output_type": "stream",
     "text": [
      "D:\\Programfiles2\\anaconda\\lib\\site-packages\\ipykernel\\__main__.py:60: SettingWithCopyWarning: \n",
      "A value is trying to be set on a copy of a slice from a DataFrame.\n",
      "Try using .loc[row_indexer,col_indexer] = value instead\n",
      "\n",
      "See the caveats in the documentation: http://pandas.pydata.org/pandas-docs/stable/indexing.html#indexing-view-versus-copy\n",
      "D:\\Programfiles2\\anaconda\\lib\\site-packages\\ipykernel\\__main__.py:61: SettingWithCopyWarning: \n",
      "A value is trying to be set on a copy of a slice from a DataFrame.\n",
      "Try using .loc[row_indexer,col_indexer] = value instead\n",
      "\n",
      "See the caveats in the documentation: http://pandas.pydata.org/pandas-docs/stable/indexing.html#indexing-view-versus-copy\n"
     ]
    },
    {
     "name": "stdout",
     "output_type": "stream",
     "text": [
      "Fold  1 AUC : 0.963551\n",
      "Training until validation scores don't improve for 100 rounds.\n",
      "[100]\ttrain's auc: 0.971584\tvalid's auc: 0.95392\n",
      "[200]\ttrain's auc: 0.983179\tvalid's auc: 0.961752\n",
      "[300]\ttrain's auc: 0.988854\tvalid's auc: 0.964364\n",
      "[400]\ttrain's auc: 0.992408\tvalid's auc: 0.965456\n",
      "[500]\ttrain's auc: 0.994671\tvalid's auc: 0.966258\n",
      "[600]\ttrain's auc: 0.996201\tvalid's auc: 0.966813\n",
      "[700]\ttrain's auc: 0.997228\tvalid's auc: 0.967334\n",
      "[800]\ttrain's auc: 0.997904\tvalid's auc: 0.967532\n",
      "Early stopping, best iteration is:\n",
      "[797]\ttrain's auc: 0.997888\tvalid's auc: 0.967604\n"
     ]
    },
    {
     "name": "stderr",
     "output_type": "stream",
     "text": [
      "D:\\Programfiles2\\anaconda\\lib\\site-packages\\ipykernel\\__main__.py:60: SettingWithCopyWarning: \n",
      "A value is trying to be set on a copy of a slice from a DataFrame.\n",
      "Try using .loc[row_indexer,col_indexer] = value instead\n",
      "\n",
      "See the caveats in the documentation: http://pandas.pydata.org/pandas-docs/stable/indexing.html#indexing-view-versus-copy\n",
      "D:\\Programfiles2\\anaconda\\lib\\site-packages\\ipykernel\\__main__.py:61: SettingWithCopyWarning: \n",
      "A value is trying to be set on a copy of a slice from a DataFrame.\n",
      "Try using .loc[row_indexer,col_indexer] = value instead\n",
      "\n",
      "See the caveats in the documentation: http://pandas.pydata.org/pandas-docs/stable/indexing.html#indexing-view-versus-copy\n"
     ]
    },
    {
     "name": "stdout",
     "output_type": "stream",
     "text": [
      "Fold  2 AUC : 0.967604\n",
      "Training until validation scores don't improve for 100 rounds.\n",
      "[100]\ttrain's auc: 0.971638\tvalid's auc: 0.96137\n",
      "[200]\ttrain's auc: 0.982684\tvalid's auc: 0.969543\n",
      "[300]\ttrain's auc: 0.988509\tvalid's auc: 0.972596\n",
      "[400]\ttrain's auc: 0.991999\tvalid's auc: 0.97433\n",
      "[500]\ttrain's auc: 0.994338\tvalid's auc: 0.974926\n",
      "[600]\ttrain's auc: 0.995946\tvalid's auc: 0.975507\n",
      "[700]\ttrain's auc: 0.996978\tvalid's auc: 0.975747\n",
      "[800]\ttrain's auc: 0.99769\tvalid's auc: 0.976348\n",
      "[900]\ttrain's auc: 0.998219\tvalid's auc: 0.976397\n",
      "[1000]\ttrain's auc: 0.998583\tvalid's auc: 0.976521\n",
      "[1100]\ttrain's auc: 0.998835\tvalid's auc: 0.976698\n",
      "[1200]\ttrain's auc: 0.999021\tvalid's auc: 0.976688\n",
      "Early stopping, best iteration is:\n",
      "[1128]\ttrain's auc: 0.998897\tvalid's auc: 0.976924\n"
     ]
    },
    {
     "name": "stderr",
     "output_type": "stream",
     "text": [
      "D:\\Programfiles2\\anaconda\\lib\\site-packages\\ipykernel\\__main__.py:60: SettingWithCopyWarning: \n",
      "A value is trying to be set on a copy of a slice from a DataFrame.\n",
      "Try using .loc[row_indexer,col_indexer] = value instead\n",
      "\n",
      "See the caveats in the documentation: http://pandas.pydata.org/pandas-docs/stable/indexing.html#indexing-view-versus-copy\n",
      "D:\\Programfiles2\\anaconda\\lib\\site-packages\\ipykernel\\__main__.py:61: SettingWithCopyWarning: \n",
      "A value is trying to be set on a copy of a slice from a DataFrame.\n",
      "Try using .loc[row_indexer,col_indexer] = value instead\n",
      "\n",
      "See the caveats in the documentation: http://pandas.pydata.org/pandas-docs/stable/indexing.html#indexing-view-versus-copy\n"
     ]
    },
    {
     "name": "stdout",
     "output_type": "stream",
     "text": [
      "Fold  3 AUC : 0.976924\n",
      "Training until validation scores don't improve for 100 rounds.\n",
      "[100]\ttrain's auc: 0.934555\tvalid's auc: 0.909696\n",
      "Early stopping, best iteration is:\n",
      "[57]\ttrain's auc: 0.962496\tvalid's auc: 0.940097\n"
     ]
    },
    {
     "name": "stderr",
     "output_type": "stream",
     "text": [
      "D:\\Programfiles2\\anaconda\\lib\\site-packages\\ipykernel\\__main__.py:60: SettingWithCopyWarning: \n",
      "A value is trying to be set on a copy of a slice from a DataFrame.\n",
      "Try using .loc[row_indexer,col_indexer] = value instead\n",
      "\n",
      "See the caveats in the documentation: http://pandas.pydata.org/pandas-docs/stable/indexing.html#indexing-view-versus-copy\n",
      "D:\\Programfiles2\\anaconda\\lib\\site-packages\\ipykernel\\__main__.py:61: SettingWithCopyWarning: \n",
      "A value is trying to be set on a copy of a slice from a DataFrame.\n",
      "Try using .loc[row_indexer,col_indexer] = value instead\n",
      "\n",
      "See the caveats in the documentation: http://pandas.pydata.org/pandas-docs/stable/indexing.html#indexing-view-versus-copy\n"
     ]
    },
    {
     "name": "stdout",
     "output_type": "stream",
     "text": [
      "Fold  4 AUC : 0.940097\n",
      "Training until validation scores don't improve for 100 rounds.\n",
      "[100]\ttrain's auc: 0.971184\tvalid's auc: 0.955757\n",
      "[200]\ttrain's auc: 0.982594\tvalid's auc: 0.963843\n",
      "[300]\ttrain's auc: 0.988434\tvalid's auc: 0.966141\n",
      "[400]\ttrain's auc: 0.991995\tvalid's auc: 0.967607\n",
      "[500]\ttrain's auc: 0.99436\tvalid's auc: 0.967763\n",
      "[600]\ttrain's auc: 0.995918\tvalid's auc: 0.967541\n",
      "Early stopping, best iteration is:\n",
      "[528]\ttrain's auc: 0.994876\tvalid's auc: 0.968023\n"
     ]
    },
    {
     "name": "stderr",
     "output_type": "stream",
     "text": [
      "D:\\Programfiles2\\anaconda\\lib\\site-packages\\ipykernel\\__main__.py:60: SettingWithCopyWarning: \n",
      "A value is trying to be set on a copy of a slice from a DataFrame.\n",
      "Try using .loc[row_indexer,col_indexer] = value instead\n",
      "\n",
      "See the caveats in the documentation: http://pandas.pydata.org/pandas-docs/stable/indexing.html#indexing-view-versus-copy\n",
      "D:\\Programfiles2\\anaconda\\lib\\site-packages\\ipykernel\\__main__.py:61: SettingWithCopyWarning: \n",
      "A value is trying to be set on a copy of a slice from a DataFrame.\n",
      "Try using .loc[row_indexer,col_indexer] = value instead\n",
      "\n",
      "See the caveats in the documentation: http://pandas.pydata.org/pandas-docs/stable/indexing.html#indexing-view-versus-copy\n"
     ]
    },
    {
     "name": "stdout",
     "output_type": "stream",
     "text": [
      "Fold  5 AUC : 0.968023\n"
     ]
    },
    {
     "name": "stderr",
     "output_type": "stream",
     "text": [
      "D:\\Programfiles2\\anaconda\\lib\\site-packages\\ipykernel\\__main__.py:70: SettingWithCopyWarning: \n",
      "A value is trying to be set on a copy of a slice from a DataFrame.\n",
      "Try using .loc[row_indexer,col_indexer] = value instead\n",
      "\n",
      "See the caveats in the documentation: http://pandas.pydata.org/pandas-docs/stable/indexing.html#indexing-view-versus-copy\n"
     ]
    },
    {
     "name": "stdout",
     "output_type": "stream",
     "text": [
      "Full AUC score 0.961918\n",
      "(24943, 503) (6236, 503) (31588, 503)\n",
      "Training until validation scores don't improve for 100 rounds.\n",
      "[100]\ttrain's auc: 0.962077\tvalid's auc: 0.943701\n",
      "[200]\ttrain's auc: 0.975853\tvalid's auc: 0.956952\n",
      "[300]\ttrain's auc: 0.982053\tvalid's auc: 0.96102\n",
      "[400]\ttrain's auc: 0.986134\tvalid's auc: 0.962919\n",
      "[500]\ttrain's auc: 0.989246\tvalid's auc: 0.964007\n",
      "[600]\ttrain's auc: 0.991403\tvalid's auc: 0.964659\n",
      "[700]\ttrain's auc: 0.993114\tvalid's auc: 0.965322\n",
      "[800]\ttrain's auc: 0.994357\tvalid's auc: 0.965758\n",
      "[900]\ttrain's auc: 0.99531\tvalid's auc: 0.965845\n",
      "Early stopping, best iteration is:\n",
      "[859]\ttrain's auc: 0.994972\tvalid's auc: 0.966005\n"
     ]
    },
    {
     "name": "stderr",
     "output_type": "stream",
     "text": [
      "D:\\Programfiles2\\anaconda\\lib\\site-packages\\ipykernel\\__main__.py:60: SettingWithCopyWarning: \n",
      "A value is trying to be set on a copy of a slice from a DataFrame.\n",
      "Try using .loc[row_indexer,col_indexer] = value instead\n",
      "\n",
      "See the caveats in the documentation: http://pandas.pydata.org/pandas-docs/stable/indexing.html#indexing-view-versus-copy\n",
      "D:\\Programfiles2\\anaconda\\lib\\site-packages\\ipykernel\\__main__.py:61: SettingWithCopyWarning: \n",
      "A value is trying to be set on a copy of a slice from a DataFrame.\n",
      "Try using .loc[row_indexer,col_indexer] = value instead\n",
      "\n",
      "See the caveats in the documentation: http://pandas.pydata.org/pandas-docs/stable/indexing.html#indexing-view-versus-copy\n"
     ]
    },
    {
     "name": "stdout",
     "output_type": "stream",
     "text": [
      "Fold  1 AUC : 0.966005\n",
      "Training until validation scores don't improve for 100 rounds.\n",
      "[100]\ttrain's auc: 0.925878\tvalid's auc: 0.919141\n",
      "Early stopping, best iteration is:\n",
      "[61]\ttrain's auc: 0.953642\tvalid's auc: 0.940135\n"
     ]
    },
    {
     "name": "stderr",
     "output_type": "stream",
     "text": [
      "D:\\Programfiles2\\anaconda\\lib\\site-packages\\ipykernel\\__main__.py:60: SettingWithCopyWarning: \n",
      "A value is trying to be set on a copy of a slice from a DataFrame.\n",
      "Try using .loc[row_indexer,col_indexer] = value instead\n",
      "\n",
      "See the caveats in the documentation: http://pandas.pydata.org/pandas-docs/stable/indexing.html#indexing-view-versus-copy\n",
      "D:\\Programfiles2\\anaconda\\lib\\site-packages\\ipykernel\\__main__.py:61: SettingWithCopyWarning: \n",
      "A value is trying to be set on a copy of a slice from a DataFrame.\n",
      "Try using .loc[row_indexer,col_indexer] = value instead\n",
      "\n",
      "See the caveats in the documentation: http://pandas.pydata.org/pandas-docs/stable/indexing.html#indexing-view-versus-copy\n"
     ]
    },
    {
     "name": "stdout",
     "output_type": "stream",
     "text": [
      "Fold  2 AUC : 0.940135\n",
      "Training until validation scores don't improve for 100 rounds.\n",
      "[100]\ttrain's auc: 0.962988\tvalid's auc: 0.944157\n",
      "[200]\ttrain's auc: 0.976211\tvalid's auc: 0.958609\n",
      "[300]\ttrain's auc: 0.982316\tvalid's auc: 0.963069\n",
      "[400]\ttrain's auc: 0.986338\tvalid's auc: 0.96504\n",
      "[500]\ttrain's auc: 0.989124\tvalid's auc: 0.965926\n",
      "[600]\ttrain's auc: 0.991307\tvalid's auc: 0.966735\n",
      "[700]\ttrain's auc: 0.992953\tvalid's auc: 0.967161\n",
      "[800]\ttrain's auc: 0.994209\tvalid's auc: 0.967102\n",
      "Early stopping, best iteration is:\n",
      "[768]\ttrain's auc: 0.993881\tvalid's auc: 0.967536\n"
     ]
    },
    {
     "name": "stderr",
     "output_type": "stream",
     "text": [
      "D:\\Programfiles2\\anaconda\\lib\\site-packages\\ipykernel\\__main__.py:60: SettingWithCopyWarning: \n",
      "A value is trying to be set on a copy of a slice from a DataFrame.\n",
      "Try using .loc[row_indexer,col_indexer] = value instead\n",
      "\n",
      "See the caveats in the documentation: http://pandas.pydata.org/pandas-docs/stable/indexing.html#indexing-view-versus-copy\n",
      "D:\\Programfiles2\\anaconda\\lib\\site-packages\\ipykernel\\__main__.py:61: SettingWithCopyWarning: \n",
      "A value is trying to be set on a copy of a slice from a DataFrame.\n",
      "Try using .loc[row_indexer,col_indexer] = value instead\n",
      "\n",
      "See the caveats in the documentation: http://pandas.pydata.org/pandas-docs/stable/indexing.html#indexing-view-versus-copy\n"
     ]
    },
    {
     "name": "stdout",
     "output_type": "stream",
     "text": [
      "Fold  3 AUC : 0.967536\n",
      "Training until validation scores don't improve for 100 rounds.\n",
      "[100]\ttrain's auc: 0.962486\tvalid's auc: 0.950924\n",
      "[200]\ttrain's auc: 0.976411\tvalid's auc: 0.962137\n",
      "[300]\ttrain's auc: 0.982263\tvalid's auc: 0.964047\n",
      "[400]\ttrain's auc: 0.986404\tvalid's auc: 0.965539\n",
      "[500]\ttrain's auc: 0.989439\tvalid's auc: 0.966307\n",
      "[600]\ttrain's auc: 0.991558\tvalid's auc: 0.966619\n",
      "[700]\ttrain's auc: 0.993192\tvalid's auc: 0.966855\n",
      "[800]\ttrain's auc: 0.994456\tvalid's auc: 0.966701\n",
      "Early stopping, best iteration is:\n",
      "[724]\ttrain's auc: 0.993522\tvalid's auc: 0.966976\n"
     ]
    },
    {
     "name": "stderr",
     "output_type": "stream",
     "text": [
      "D:\\Programfiles2\\anaconda\\lib\\site-packages\\ipykernel\\__main__.py:60: SettingWithCopyWarning: \n",
      "A value is trying to be set on a copy of a slice from a DataFrame.\n",
      "Try using .loc[row_indexer,col_indexer] = value instead\n",
      "\n",
      "See the caveats in the documentation: http://pandas.pydata.org/pandas-docs/stable/indexing.html#indexing-view-versus-copy\n",
      "D:\\Programfiles2\\anaconda\\lib\\site-packages\\ipykernel\\__main__.py:61: SettingWithCopyWarning: \n",
      "A value is trying to be set on a copy of a slice from a DataFrame.\n",
      "Try using .loc[row_indexer,col_indexer] = value instead\n",
      "\n",
      "See the caveats in the documentation: http://pandas.pydata.org/pandas-docs/stable/indexing.html#indexing-view-versus-copy\n"
     ]
    },
    {
     "name": "stdout",
     "output_type": "stream",
     "text": [
      "Fold  4 AUC : 0.966976\n",
      "Training until validation scores don't improve for 100 rounds.\n",
      "[100]\ttrain's auc: 0.962233\tvalid's auc: 0.941428\n",
      "[200]\ttrain's auc: 0.97604\tvalid's auc: 0.954089\n",
      "[300]\ttrain's auc: 0.981967\tvalid's auc: 0.957122\n",
      "[400]\ttrain's auc: 0.9862\tvalid's auc: 0.959377\n",
      "[500]\ttrain's auc: 0.989146\tvalid's auc: 0.960675\n",
      "[600]\ttrain's auc: 0.991306\tvalid's auc: 0.96161\n",
      "[700]\ttrain's auc: 0.992862\tvalid's auc: 0.961962\n",
      "[800]\ttrain's auc: 0.994167\tvalid's auc: 0.962406\n",
      "[900]\ttrain's auc: 0.995104\tvalid's auc: 0.963057\n",
      "[1000]\ttrain's auc: 0.995853\tvalid's auc: 0.962823\n",
      "Early stopping, best iteration is:\n",
      "[919]\ttrain's auc: 0.995263\tvalid's auc: 0.963268\n"
     ]
    },
    {
     "name": "stderr",
     "output_type": "stream",
     "text": [
      "D:\\Programfiles2\\anaconda\\lib\\site-packages\\ipykernel\\__main__.py:60: SettingWithCopyWarning: \n",
      "A value is trying to be set on a copy of a slice from a DataFrame.\n",
      "Try using .loc[row_indexer,col_indexer] = value instead\n",
      "\n",
      "See the caveats in the documentation: http://pandas.pydata.org/pandas-docs/stable/indexing.html#indexing-view-versus-copy\n",
      "D:\\Programfiles2\\anaconda\\lib\\site-packages\\ipykernel\\__main__.py:61: SettingWithCopyWarning: \n",
      "A value is trying to be set on a copy of a slice from a DataFrame.\n",
      "Try using .loc[row_indexer,col_indexer] = value instead\n",
      "\n",
      "See the caveats in the documentation: http://pandas.pydata.org/pandas-docs/stable/indexing.html#indexing-view-versus-copy\n"
     ]
    },
    {
     "name": "stdout",
     "output_type": "stream",
     "text": [
      "Fold  5 AUC : 0.963268\n"
     ]
    },
    {
     "name": "stderr",
     "output_type": "stream",
     "text": [
      "D:\\Programfiles2\\anaconda\\lib\\site-packages\\ipykernel\\__main__.py:70: SettingWithCopyWarning: \n",
      "A value is trying to be set on a copy of a slice from a DataFrame.\n",
      "Try using .loc[row_indexer,col_indexer] = value instead\n",
      "\n",
      "See the caveats in the documentation: http://pandas.pydata.org/pandas-docs/stable/indexing.html#indexing-view-versus-copy\n"
     ]
    },
    {
     "name": "stdout",
     "output_type": "stream",
     "text": [
      "Full AUC score 0.958917\n",
      "(24943, 503) (6236, 503) (31588, 503)\n",
      "Training until validation scores don't improve for 100 rounds.\n",
      "[100]\ttrain's auc: 0.974695\tvalid's auc: 0.962803\n",
      "[200]\ttrain's auc: 0.985552\tvalid's auc: 0.969596\n",
      "[300]\ttrain's auc: 0.990906\tvalid's auc: 0.971215\n",
      "[400]\ttrain's auc: 0.994127\tvalid's auc: 0.971607\n",
      "[500]\ttrain's auc: 0.996016\tvalid's auc: 0.971838\n",
      "Early stopping, best iteration is:\n",
      "[448]\ttrain's auc: 0.99518\tvalid's auc: 0.972197\n"
     ]
    },
    {
     "name": "stderr",
     "output_type": "stream",
     "text": [
      "D:\\Programfiles2\\anaconda\\lib\\site-packages\\ipykernel\\__main__.py:60: SettingWithCopyWarning: \n",
      "A value is trying to be set on a copy of a slice from a DataFrame.\n",
      "Try using .loc[row_indexer,col_indexer] = value instead\n",
      "\n",
      "See the caveats in the documentation: http://pandas.pydata.org/pandas-docs/stable/indexing.html#indexing-view-versus-copy\n",
      "D:\\Programfiles2\\anaconda\\lib\\site-packages\\ipykernel\\__main__.py:61: SettingWithCopyWarning: \n",
      "A value is trying to be set on a copy of a slice from a DataFrame.\n",
      "Try using .loc[row_indexer,col_indexer] = value instead\n",
      "\n",
      "See the caveats in the documentation: http://pandas.pydata.org/pandas-docs/stable/indexing.html#indexing-view-versus-copy\n"
     ]
    },
    {
     "name": "stdout",
     "output_type": "stream",
     "text": [
      "Fold  1 AUC : 0.972197\n",
      "Training until validation scores don't improve for 100 rounds.\n",
      "[100]\ttrain's auc: 0.976881\tvalid's auc: 0.953209\n",
      "[200]\ttrain's auc: 0.986582\tvalid's auc: 0.959714\n",
      "[300]\ttrain's auc: 0.991555\tvalid's auc: 0.962203\n",
      "[400]\ttrain's auc: 0.994447\tvalid's auc: 0.963457\n",
      "[500]\ttrain's auc: 0.996224\tvalid's auc: 0.9633\n",
      "Early stopping, best iteration is:\n",
      "[468]\ttrain's auc: 0.995751\tvalid's auc: 0.963679\n"
     ]
    },
    {
     "name": "stderr",
     "output_type": "stream",
     "text": [
      "D:\\Programfiles2\\anaconda\\lib\\site-packages\\ipykernel\\__main__.py:60: SettingWithCopyWarning: \n",
      "A value is trying to be set on a copy of a slice from a DataFrame.\n",
      "Try using .loc[row_indexer,col_indexer] = value instead\n",
      "\n",
      "See the caveats in the documentation: http://pandas.pydata.org/pandas-docs/stable/indexing.html#indexing-view-versus-copy\n",
      "D:\\Programfiles2\\anaconda\\lib\\site-packages\\ipykernel\\__main__.py:61: SettingWithCopyWarning: \n",
      "A value is trying to be set on a copy of a slice from a DataFrame.\n",
      "Try using .loc[row_indexer,col_indexer] = value instead\n",
      "\n",
      "See the caveats in the documentation: http://pandas.pydata.org/pandas-docs/stable/indexing.html#indexing-view-versus-copy\n"
     ]
    },
    {
     "name": "stdout",
     "output_type": "stream",
     "text": [
      "Fold  2 AUC : 0.963679\n",
      "Training until validation scores don't improve for 100 rounds.\n",
      "[100]\ttrain's auc: 0.97635\tvalid's auc: 0.954381\n",
      "[200]\ttrain's auc: 0.986535\tvalid's auc: 0.959079\n",
      "[300]\ttrain's auc: 0.991482\tvalid's auc: 0.961108\n",
      "[400]\ttrain's auc: 0.994365\tvalid's auc: 0.96201\n",
      "Early stopping, best iteration is:\n",
      "[372]\ttrain's auc: 0.993714\tvalid's auc: 0.96209\n"
     ]
    },
    {
     "name": "stderr",
     "output_type": "stream",
     "text": [
      "D:\\Programfiles2\\anaconda\\lib\\site-packages\\ipykernel\\__main__.py:60: SettingWithCopyWarning: \n",
      "A value is trying to be set on a copy of a slice from a DataFrame.\n",
      "Try using .loc[row_indexer,col_indexer] = value instead\n",
      "\n",
      "See the caveats in the documentation: http://pandas.pydata.org/pandas-docs/stable/indexing.html#indexing-view-versus-copy\n",
      "D:\\Programfiles2\\anaconda\\lib\\site-packages\\ipykernel\\__main__.py:61: SettingWithCopyWarning: \n",
      "A value is trying to be set on a copy of a slice from a DataFrame.\n",
      "Try using .loc[row_indexer,col_indexer] = value instead\n",
      "\n",
      "See the caveats in the documentation: http://pandas.pydata.org/pandas-docs/stable/indexing.html#indexing-view-versus-copy\n"
     ]
    },
    {
     "name": "stdout",
     "output_type": "stream",
     "text": [
      "Fold  3 AUC : 0.962090\n",
      "Training until validation scores don't improve for 100 rounds.\n",
      "[100]\ttrain's auc: 0.938612\tvalid's auc: 0.927832\n",
      "Early stopping, best iteration is:\n",
      "[51]\ttrain's auc: 0.963682\tvalid's auc: 0.948624\n"
     ]
    },
    {
     "name": "stderr",
     "output_type": "stream",
     "text": [
      "D:\\Programfiles2\\anaconda\\lib\\site-packages\\ipykernel\\__main__.py:60: SettingWithCopyWarning: \n",
      "A value is trying to be set on a copy of a slice from a DataFrame.\n",
      "Try using .loc[row_indexer,col_indexer] = value instead\n",
      "\n",
      "See the caveats in the documentation: http://pandas.pydata.org/pandas-docs/stable/indexing.html#indexing-view-versus-copy\n",
      "D:\\Programfiles2\\anaconda\\lib\\site-packages\\ipykernel\\__main__.py:61: SettingWithCopyWarning: \n",
      "A value is trying to be set on a copy of a slice from a DataFrame.\n",
      "Try using .loc[row_indexer,col_indexer] = value instead\n",
      "\n",
      "See the caveats in the documentation: http://pandas.pydata.org/pandas-docs/stable/indexing.html#indexing-view-versus-copy\n"
     ]
    },
    {
     "name": "stdout",
     "output_type": "stream",
     "text": [
      "Fold  4 AUC : 0.948624\n",
      "Training until validation scores don't improve for 100 rounds.\n",
      "[100]\ttrain's auc: 0.975854\tvalid's auc: 0.9629\n",
      "[200]\ttrain's auc: 0.986157\tvalid's auc: 0.967664\n",
      "[300]\ttrain's auc: 0.991259\tvalid's auc: 0.969645\n",
      "[400]\ttrain's auc: 0.994224\tvalid's auc: 0.969624\n",
      "Early stopping, best iteration is:\n",
      "[351]\ttrain's auc: 0.993008\tvalid's auc: 0.970007\n"
     ]
    },
    {
     "name": "stderr",
     "output_type": "stream",
     "text": [
      "D:\\Programfiles2\\anaconda\\lib\\site-packages\\ipykernel\\__main__.py:60: SettingWithCopyWarning: \n",
      "A value is trying to be set on a copy of a slice from a DataFrame.\n",
      "Try using .loc[row_indexer,col_indexer] = value instead\n",
      "\n",
      "See the caveats in the documentation: http://pandas.pydata.org/pandas-docs/stable/indexing.html#indexing-view-versus-copy\n",
      "D:\\Programfiles2\\anaconda\\lib\\site-packages\\ipykernel\\__main__.py:61: SettingWithCopyWarning: \n",
      "A value is trying to be set on a copy of a slice from a DataFrame.\n",
      "Try using .loc[row_indexer,col_indexer] = value instead\n",
      "\n",
      "See the caveats in the documentation: http://pandas.pydata.org/pandas-docs/stable/indexing.html#indexing-view-versus-copy\n"
     ]
    },
    {
     "name": "stdout",
     "output_type": "stream",
     "text": [
      "Fold  5 AUC : 0.970007\n"
     ]
    },
    {
     "name": "stderr",
     "output_type": "stream",
     "text": [
      "D:\\Programfiles2\\anaconda\\lib\\site-packages\\ipykernel\\__main__.py:70: SettingWithCopyWarning: \n",
      "A value is trying to be set on a copy of a slice from a DataFrame.\n",
      "Try using .loc[row_indexer,col_indexer] = value instead\n",
      "\n",
      "See the caveats in the documentation: http://pandas.pydata.org/pandas-docs/stable/indexing.html#indexing-view-versus-copy\n"
     ]
    },
    {
     "name": "stdout",
     "output_type": "stream",
     "text": [
      "Full AUC score 0.961374\n",
      "(24943, 503) (6236, 503) (31588, 503)\n",
      "Training until validation scores don't improve for 100 rounds.\n",
      "[100]\ttrain's auc: 0.932512\tvalid's auc: 0.922645\n",
      "Early stopping, best iteration is:\n",
      "[59]\ttrain's auc: 0.961135\tvalid's auc: 0.946947\n"
     ]
    },
    {
     "name": "stderr",
     "output_type": "stream",
     "text": [
      "D:\\Programfiles2\\anaconda\\lib\\site-packages\\ipykernel\\__main__.py:60: SettingWithCopyWarning: \n",
      "A value is trying to be set on a copy of a slice from a DataFrame.\n",
      "Try using .loc[row_indexer,col_indexer] = value instead\n",
      "\n",
      "See the caveats in the documentation: http://pandas.pydata.org/pandas-docs/stable/indexing.html#indexing-view-versus-copy\n",
      "D:\\Programfiles2\\anaconda\\lib\\site-packages\\ipykernel\\__main__.py:61: SettingWithCopyWarning: \n",
      "A value is trying to be set on a copy of a slice from a DataFrame.\n",
      "Try using .loc[row_indexer,col_indexer] = value instead\n",
      "\n",
      "See the caveats in the documentation: http://pandas.pydata.org/pandas-docs/stable/indexing.html#indexing-view-versus-copy\n"
     ]
    },
    {
     "name": "stdout",
     "output_type": "stream",
     "text": [
      "Fold  1 AUC : 0.946947\n",
      "Training until validation scores don't improve for 100 rounds.\n",
      "[100]\ttrain's auc: 0.970915\tvalid's auc: 0.956507\n",
      "[200]\ttrain's auc: 0.982464\tvalid's auc: 0.962729\n",
      "[300]\ttrain's auc: 0.988192\tvalid's auc: 0.965636\n",
      "[400]\ttrain's auc: 0.991901\tvalid's auc: 0.966948\n",
      "[500]\ttrain's auc: 0.994349\tvalid's auc: 0.967406\n",
      "[600]\ttrain's auc: 0.995958\tvalid's auc: 0.967785\n",
      "[700]\ttrain's auc: 0.997056\tvalid's auc: 0.967944\n",
      "Early stopping, best iteration is:\n",
      "[692]\ttrain's auc: 0.99698\tvalid's auc: 0.968022\n"
     ]
    },
    {
     "name": "stderr",
     "output_type": "stream",
     "text": [
      "D:\\Programfiles2\\anaconda\\lib\\site-packages\\ipykernel\\__main__.py:60: SettingWithCopyWarning: \n",
      "A value is trying to be set on a copy of a slice from a DataFrame.\n",
      "Try using .loc[row_indexer,col_indexer] = value instead\n",
      "\n",
      "See the caveats in the documentation: http://pandas.pydata.org/pandas-docs/stable/indexing.html#indexing-view-versus-copy\n",
      "D:\\Programfiles2\\anaconda\\lib\\site-packages\\ipykernel\\__main__.py:61: SettingWithCopyWarning: \n",
      "A value is trying to be set on a copy of a slice from a DataFrame.\n",
      "Try using .loc[row_indexer,col_indexer] = value instead\n",
      "\n",
      "See the caveats in the documentation: http://pandas.pydata.org/pandas-docs/stable/indexing.html#indexing-view-versus-copy\n"
     ]
    },
    {
     "name": "stdout",
     "output_type": "stream",
     "text": [
      "Fold  2 AUC : 0.968022\n",
      "Training until validation scores don't improve for 100 rounds.\n",
      "[100]\ttrain's auc: 0.971567\tvalid's auc: 0.958938\n",
      "[200]\ttrain's auc: 0.982784\tvalid's auc: 0.964594\n",
      "[300]\ttrain's auc: 0.988482\tvalid's auc: 0.966455\n",
      "[400]\ttrain's auc: 0.992066\tvalid's auc: 0.966804\n",
      "[500]\ttrain's auc: 0.994469\tvalid's auc: 0.967225\n",
      "[600]\ttrain's auc: 0.996091\tvalid's auc: 0.96713\n",
      "Early stopping, best iteration is:\n",
      "[580]\ttrain's auc: 0.99581\tvalid's auc: 0.967354\n"
     ]
    },
    {
     "name": "stderr",
     "output_type": "stream",
     "text": [
      "D:\\Programfiles2\\anaconda\\lib\\site-packages\\ipykernel\\__main__.py:60: SettingWithCopyWarning: \n",
      "A value is trying to be set on a copy of a slice from a DataFrame.\n",
      "Try using .loc[row_indexer,col_indexer] = value instead\n",
      "\n",
      "See the caveats in the documentation: http://pandas.pydata.org/pandas-docs/stable/indexing.html#indexing-view-versus-copy\n",
      "D:\\Programfiles2\\anaconda\\lib\\site-packages\\ipykernel\\__main__.py:61: SettingWithCopyWarning: \n",
      "A value is trying to be set on a copy of a slice from a DataFrame.\n",
      "Try using .loc[row_indexer,col_indexer] = value instead\n",
      "\n",
      "See the caveats in the documentation: http://pandas.pydata.org/pandas-docs/stable/indexing.html#indexing-view-versus-copy\n"
     ]
    },
    {
     "name": "stdout",
     "output_type": "stream",
     "text": [
      "Fold  3 AUC : 0.967354\n",
      "Training until validation scores don't improve for 100 rounds.\n",
      "[100]\ttrain's auc: 0.970614\tvalid's auc: 0.945961\n",
      "[200]\ttrain's auc: 0.982475\tvalid's auc: 0.956258\n",
      "[300]\ttrain's auc: 0.988468\tvalid's auc: 0.959906\n",
      "[400]\ttrain's auc: 0.992071\tvalid's auc: 0.961102\n",
      "[500]\ttrain's auc: 0.994445\tvalid's auc: 0.961104\n",
      "[600]\ttrain's auc: 0.996038\tvalid's auc: 0.961425\n",
      "[700]\ttrain's auc: 0.997122\tvalid's auc: 0.961634\n",
      "[800]\ttrain's auc: 0.99786\tvalid's auc: 0.961309\n",
      "Early stopping, best iteration is:\n",
      "[703]\ttrain's auc: 0.997154\tvalid's auc: 0.961748\n"
     ]
    },
    {
     "name": "stderr",
     "output_type": "stream",
     "text": [
      "D:\\Programfiles2\\anaconda\\lib\\site-packages\\ipykernel\\__main__.py:60: SettingWithCopyWarning: \n",
      "A value is trying to be set on a copy of a slice from a DataFrame.\n",
      "Try using .loc[row_indexer,col_indexer] = value instead\n",
      "\n",
      "See the caveats in the documentation: http://pandas.pydata.org/pandas-docs/stable/indexing.html#indexing-view-versus-copy\n",
      "D:\\Programfiles2\\anaconda\\lib\\site-packages\\ipykernel\\__main__.py:61: SettingWithCopyWarning: \n",
      "A value is trying to be set on a copy of a slice from a DataFrame.\n",
      "Try using .loc[row_indexer,col_indexer] = value instead\n",
      "\n",
      "See the caveats in the documentation: http://pandas.pydata.org/pandas-docs/stable/indexing.html#indexing-view-versus-copy\n"
     ]
    },
    {
     "name": "stdout",
     "output_type": "stream",
     "text": [
      "Fold  4 AUC : 0.961748\n",
      "Training until validation scores don't improve for 100 rounds.\n",
      "[100]\ttrain's auc: 0.970132\tvalid's auc: 0.954203\n",
      "[200]\ttrain's auc: 0.982058\tvalid's auc: 0.961659\n",
      "[300]\ttrain's auc: 0.987997\tvalid's auc: 0.964858\n",
      "[400]\ttrain's auc: 0.991706\tvalid's auc: 0.965739\n",
      "[500]\ttrain's auc: 0.994171\tvalid's auc: 0.966107\n",
      "Early stopping, best iteration is:\n",
      "[483]\ttrain's auc: 0.993803\tvalid's auc: 0.966254\n"
     ]
    },
    {
     "name": "stderr",
     "output_type": "stream",
     "text": [
      "D:\\Programfiles2\\anaconda\\lib\\site-packages\\ipykernel\\__main__.py:60: SettingWithCopyWarning: \n",
      "A value is trying to be set on a copy of a slice from a DataFrame.\n",
      "Try using .loc[row_indexer,col_indexer] = value instead\n",
      "\n",
      "See the caveats in the documentation: http://pandas.pydata.org/pandas-docs/stable/indexing.html#indexing-view-versus-copy\n",
      "D:\\Programfiles2\\anaconda\\lib\\site-packages\\ipykernel\\__main__.py:61: SettingWithCopyWarning: \n",
      "A value is trying to be set on a copy of a slice from a DataFrame.\n",
      "Try using .loc[row_indexer,col_indexer] = value instead\n",
      "\n",
      "See the caveats in the documentation: http://pandas.pydata.org/pandas-docs/stable/indexing.html#indexing-view-versus-copy\n"
     ]
    },
    {
     "name": "stdout",
     "output_type": "stream",
     "text": [
      "Fold  5 AUC : 0.966254\n"
     ]
    },
    {
     "name": "stderr",
     "output_type": "stream",
     "text": [
      "D:\\Programfiles2\\anaconda\\lib\\site-packages\\ipykernel\\__main__.py:70: SettingWithCopyWarning: \n",
      "A value is trying to be set on a copy of a slice from a DataFrame.\n",
      "Try using .loc[row_indexer,col_indexer] = value instead\n",
      "\n",
      "See the caveats in the documentation: http://pandas.pydata.org/pandas-docs/stable/indexing.html#indexing-view-versus-copy\n"
     ]
    },
    {
     "name": "stdout",
     "output_type": "stream",
     "text": [
      "Full AUC score 0.959818\n",
      "(24943, 503) (6236, 503) (31588, 503)\n",
      "Training until validation scores don't improve for 100 rounds.\n",
      "[100]\ttrain's auc: 0.961948\tvalid's auc: 0.95143\n",
      "[200]\ttrain's auc: 0.973704\tvalid's auc: 0.963001\n",
      "[300]\ttrain's auc: 0.978559\tvalid's auc: 0.966772\n",
      "[400]\ttrain's auc: 0.981983\tvalid's auc: 0.968312\n",
      "[500]\ttrain's auc: 0.984738\tvalid's auc: 0.96911\n",
      "[600]\ttrain's auc: 0.986567\tvalid's auc: 0.969783\n",
      "[700]\ttrain's auc: 0.987475\tvalid's auc: 0.969816\n",
      "[800]\ttrain's auc: 0.988236\tvalid's auc: 0.96992\n",
      "[900]\ttrain's auc: 0.988366\tvalid's auc: 0.970013\n",
      "Early stopping, best iteration is:\n",
      "[841]\ttrain's auc: 0.988366\tvalid's auc: 0.970013\n"
     ]
    },
    {
     "name": "stderr",
     "output_type": "stream",
     "text": [
      "D:\\Programfiles2\\anaconda\\lib\\site-packages\\ipykernel\\__main__.py:60: SettingWithCopyWarning: \n",
      "A value is trying to be set on a copy of a slice from a DataFrame.\n",
      "Try using .loc[row_indexer,col_indexer] = value instead\n",
      "\n",
      "See the caveats in the documentation: http://pandas.pydata.org/pandas-docs/stable/indexing.html#indexing-view-versus-copy\n",
      "D:\\Programfiles2\\anaconda\\lib\\site-packages\\ipykernel\\__main__.py:61: SettingWithCopyWarning: \n",
      "A value is trying to be set on a copy of a slice from a DataFrame.\n",
      "Try using .loc[row_indexer,col_indexer] = value instead\n",
      "\n",
      "See the caveats in the documentation: http://pandas.pydata.org/pandas-docs/stable/indexing.html#indexing-view-versus-copy\n"
     ]
    },
    {
     "name": "stdout",
     "output_type": "stream",
     "text": [
      "Fold  1 AUC : 0.970013\n",
      "Training until validation scores don't improve for 100 rounds.\n",
      "[100]\ttrain's auc: 0.962153\tvalid's auc: 0.937193\n",
      "[200]\ttrain's auc: 0.975589\tvalid's auc: 0.951087\n",
      "[300]\ttrain's auc: 0.979755\tvalid's auc: 0.954993\n",
      "[400]\ttrain's auc: 0.982857\tvalid's auc: 0.95738\n",
      "[500]\ttrain's auc: 0.985373\tvalid's auc: 0.959001\n",
      "[600]\ttrain's auc: 0.986881\tvalid's auc: 0.959734\n",
      "[700]\ttrain's auc: 0.987705\tvalid's auc: 0.960194\n",
      "[800]\ttrain's auc: 0.987819\tvalid's auc: 0.960321\n",
      "Early stopping, best iteration is:\n",
      "[709]\ttrain's auc: 0.987819\tvalid's auc: 0.960321\n"
     ]
    },
    {
     "name": "stderr",
     "output_type": "stream",
     "text": [
      "D:\\Programfiles2\\anaconda\\lib\\site-packages\\ipykernel\\__main__.py:60: SettingWithCopyWarning: \n",
      "A value is trying to be set on a copy of a slice from a DataFrame.\n",
      "Try using .loc[row_indexer,col_indexer] = value instead\n",
      "\n",
      "See the caveats in the documentation: http://pandas.pydata.org/pandas-docs/stable/indexing.html#indexing-view-versus-copy\n",
      "D:\\Programfiles2\\anaconda\\lib\\site-packages\\ipykernel\\__main__.py:61: SettingWithCopyWarning: \n",
      "A value is trying to be set on a copy of a slice from a DataFrame.\n",
      "Try using .loc[row_indexer,col_indexer] = value instead\n",
      "\n",
      "See the caveats in the documentation: http://pandas.pydata.org/pandas-docs/stable/indexing.html#indexing-view-versus-copy\n"
     ]
    },
    {
     "name": "stdout",
     "output_type": "stream",
     "text": [
      "Fold  2 AUC : 0.960321\n",
      "Training until validation scores don't improve for 100 rounds.\n",
      "[100]\ttrain's auc: 0.922358\tvalid's auc: 0.911038\n",
      "Early stopping, best iteration is:\n",
      "[63]\ttrain's auc: 0.951209\tvalid's auc: 0.936356\n"
     ]
    },
    {
     "name": "stderr",
     "output_type": "stream",
     "text": [
      "D:\\Programfiles2\\anaconda\\lib\\site-packages\\ipykernel\\__main__.py:60: SettingWithCopyWarning: \n",
      "A value is trying to be set on a copy of a slice from a DataFrame.\n",
      "Try using .loc[row_indexer,col_indexer] = value instead\n",
      "\n",
      "See the caveats in the documentation: http://pandas.pydata.org/pandas-docs/stable/indexing.html#indexing-view-versus-copy\n",
      "D:\\Programfiles2\\anaconda\\lib\\site-packages\\ipykernel\\__main__.py:61: SettingWithCopyWarning: \n",
      "A value is trying to be set on a copy of a slice from a DataFrame.\n",
      "Try using .loc[row_indexer,col_indexer] = value instead\n",
      "\n",
      "See the caveats in the documentation: http://pandas.pydata.org/pandas-docs/stable/indexing.html#indexing-view-versus-copy\n"
     ]
    },
    {
     "name": "stdout",
     "output_type": "stream",
     "text": [
      "Fold  3 AUC : 0.936356\n",
      "Training until validation scores don't improve for 100 rounds.\n",
      "[100]\ttrain's auc: 0.961396\tvalid's auc: 0.951785\n",
      "[200]\ttrain's auc: 0.974415\tvalid's auc: 0.962039\n",
      "[300]\ttrain's auc: 0.979195\tvalid's auc: 0.965036\n",
      "[400]\ttrain's auc: 0.982558\tvalid's auc: 0.965687\n",
      "[500]\ttrain's auc: 0.98501\tvalid's auc: 0.965903\n",
      "Early stopping, best iteration is:\n",
      "[465]\ttrain's auc: 0.984304\tvalid's auc: 0.966149\n"
     ]
    },
    {
     "name": "stderr",
     "output_type": "stream",
     "text": [
      "D:\\Programfiles2\\anaconda\\lib\\site-packages\\ipykernel\\__main__.py:60: SettingWithCopyWarning: \n",
      "A value is trying to be set on a copy of a slice from a DataFrame.\n",
      "Try using .loc[row_indexer,col_indexer] = value instead\n",
      "\n",
      "See the caveats in the documentation: http://pandas.pydata.org/pandas-docs/stable/indexing.html#indexing-view-versus-copy\n",
      "D:\\Programfiles2\\anaconda\\lib\\site-packages\\ipykernel\\__main__.py:61: SettingWithCopyWarning: \n",
      "A value is trying to be set on a copy of a slice from a DataFrame.\n",
      "Try using .loc[row_indexer,col_indexer] = value instead\n",
      "\n",
      "See the caveats in the documentation: http://pandas.pydata.org/pandas-docs/stable/indexing.html#indexing-view-versus-copy\n"
     ]
    },
    {
     "name": "stdout",
     "output_type": "stream",
     "text": [
      "Fold  4 AUC : 0.966149\n",
      "Training until validation scores don't improve for 100 rounds.\n",
      "[100]\ttrain's auc: 0.964037\tvalid's auc: 0.946178\n",
      "[200]\ttrain's auc: 0.974721\tvalid's auc: 0.952068\n",
      "[300]\ttrain's auc: 0.97941\tvalid's auc: 0.955207\n",
      "[400]\ttrain's auc: 0.982355\tvalid's auc: 0.956742\n",
      "[500]\ttrain's auc: 0.984739\tvalid's auc: 0.957335\n",
      "[600]\ttrain's auc: 0.986471\tvalid's auc: 0.957784\n",
      "[700]\ttrain's auc: 0.987375\tvalid's auc: 0.957722\n",
      "Early stopping, best iteration is:\n",
      "[640]\ttrain's auc: 0.986939\tvalid's auc: 0.958188\n"
     ]
    },
    {
     "name": "stderr",
     "output_type": "stream",
     "text": [
      "D:\\Programfiles2\\anaconda\\lib\\site-packages\\ipykernel\\__main__.py:60: SettingWithCopyWarning: \n",
      "A value is trying to be set on a copy of a slice from a DataFrame.\n",
      "Try using .loc[row_indexer,col_indexer] = value instead\n",
      "\n",
      "See the caveats in the documentation: http://pandas.pydata.org/pandas-docs/stable/indexing.html#indexing-view-versus-copy\n",
      "D:\\Programfiles2\\anaconda\\lib\\site-packages\\ipykernel\\__main__.py:61: SettingWithCopyWarning: \n",
      "A value is trying to be set on a copy of a slice from a DataFrame.\n",
      "Try using .loc[row_indexer,col_indexer] = value instead\n",
      "\n",
      "See the caveats in the documentation: http://pandas.pydata.org/pandas-docs/stable/indexing.html#indexing-view-versus-copy\n"
     ]
    },
    {
     "name": "stdout",
     "output_type": "stream",
     "text": [
      "Fold  5 AUC : 0.958188\n"
     ]
    },
    {
     "name": "stderr",
     "output_type": "stream",
     "text": [
      "D:\\Programfiles2\\anaconda\\lib\\site-packages\\ipykernel\\__main__.py:70: SettingWithCopyWarning: \n",
      "A value is trying to be set on a copy of a slice from a DataFrame.\n",
      "Try using .loc[row_indexer,col_indexer] = value instead\n",
      "\n",
      "See the caveats in the documentation: http://pandas.pydata.org/pandas-docs/stable/indexing.html#indexing-view-versus-copy\n"
     ]
    },
    {
     "name": "stdout",
     "output_type": "stream",
     "text": [
      "Full AUC score 0.956380\n",
      "(24943, 503) (6236, 503) (31588, 503)\n",
      "Training until validation scores don't improve for 100 rounds.\n",
      "[100]\ttrain's auc: 0.971739\tvalid's auc: 0.952073\n",
      "[200]\ttrain's auc: 0.983619\tvalid's auc: 0.95846\n",
      "[300]\ttrain's auc: 0.98915\tvalid's auc: 0.96128\n",
      "[400]\ttrain's auc: 0.992588\tvalid's auc: 0.962777\n",
      "[500]\ttrain's auc: 0.994931\tvalid's auc: 0.963762\n",
      "[600]\ttrain's auc: 0.996421\tvalid's auc: 0.964225\n",
      "[700]\ttrain's auc: 0.997413\tvalid's auc: 0.96438\n",
      "[800]\ttrain's auc: 0.998087\tvalid's auc: 0.964746\n",
      "[900]\ttrain's auc: 0.998559\tvalid's auc: 0.964947\n",
      "Early stopping, best iteration is:\n",
      "[898]\ttrain's auc: 0.998552\tvalid's auc: 0.964969\n"
     ]
    },
    {
     "name": "stderr",
     "output_type": "stream",
     "text": [
      "D:\\Programfiles2\\anaconda\\lib\\site-packages\\ipykernel\\__main__.py:60: SettingWithCopyWarning: \n",
      "A value is trying to be set on a copy of a slice from a DataFrame.\n",
      "Try using .loc[row_indexer,col_indexer] = value instead\n",
      "\n",
      "See the caveats in the documentation: http://pandas.pydata.org/pandas-docs/stable/indexing.html#indexing-view-versus-copy\n",
      "D:\\Programfiles2\\anaconda\\lib\\site-packages\\ipykernel\\__main__.py:61: SettingWithCopyWarning: \n",
      "A value is trying to be set on a copy of a slice from a DataFrame.\n",
      "Try using .loc[row_indexer,col_indexer] = value instead\n",
      "\n",
      "See the caveats in the documentation: http://pandas.pydata.org/pandas-docs/stable/indexing.html#indexing-view-versus-copy\n"
     ]
    },
    {
     "name": "stdout",
     "output_type": "stream",
     "text": [
      "Fold  1 AUC : 0.964969\n",
      "Training until validation scores don't improve for 100 rounds.\n",
      "[100]\ttrain's auc: 0.971069\tvalid's auc: 0.95416\n",
      "[200]\ttrain's auc: 0.983177\tvalid's auc: 0.961483\n",
      "[300]\ttrain's auc: 0.988887\tvalid's auc: 0.96445\n",
      "[400]\ttrain's auc: 0.992529\tvalid's auc: 0.965646\n",
      "[500]\ttrain's auc: 0.994913\tvalid's auc: 0.966561\n",
      "[600]\ttrain's auc: 0.996401\tvalid's auc: 0.967129\n",
      "[700]\ttrain's auc: 0.997409\tvalid's auc: 0.967612\n",
      "[800]\ttrain's auc: 0.998095\tvalid's auc: 0.967675\n",
      "[900]\ttrain's auc: 0.99857\tvalid's auc: 0.967904\n",
      "[1000]\ttrain's auc: 0.99891\tvalid's auc: 0.968179\n",
      "Early stopping, best iteration is:\n",
      "[989]\ttrain's auc: 0.998877\tvalid's auc: 0.968366\n"
     ]
    },
    {
     "name": "stderr",
     "output_type": "stream",
     "text": [
      "D:\\Programfiles2\\anaconda\\lib\\site-packages\\ipykernel\\__main__.py:60: SettingWithCopyWarning: \n",
      "A value is trying to be set on a copy of a slice from a DataFrame.\n",
      "Try using .loc[row_indexer,col_indexer] = value instead\n",
      "\n",
      "See the caveats in the documentation: http://pandas.pydata.org/pandas-docs/stable/indexing.html#indexing-view-versus-copy\n",
      "D:\\Programfiles2\\anaconda\\lib\\site-packages\\ipykernel\\__main__.py:61: SettingWithCopyWarning: \n",
      "A value is trying to be set on a copy of a slice from a DataFrame.\n",
      "Try using .loc[row_indexer,col_indexer] = value instead\n",
      "\n",
      "See the caveats in the documentation: http://pandas.pydata.org/pandas-docs/stable/indexing.html#indexing-view-versus-copy\n"
     ]
    },
    {
     "name": "stdout",
     "output_type": "stream",
     "text": [
      "Fold  2 AUC : 0.968366\n",
      "Training until validation scores don't improve for 100 rounds.\n",
      "[100]\ttrain's auc: 0.971492\tvalid's auc: 0.961326\n",
      "[200]\ttrain's auc: 0.982888\tvalid's auc: 0.969095\n",
      "[300]\ttrain's auc: 0.988714\tvalid's auc: 0.972161\n",
      "[400]\ttrain's auc: 0.992366\tvalid's auc: 0.97346\n",
      "[500]\ttrain's auc: 0.99466\tvalid's auc: 0.973952\n",
      "Early stopping, best iteration is:\n",
      "[461]\ttrain's auc: 0.993871\tvalid's auc: 0.974115\n"
     ]
    },
    {
     "name": "stderr",
     "output_type": "stream",
     "text": [
      "D:\\Programfiles2\\anaconda\\lib\\site-packages\\ipykernel\\__main__.py:60: SettingWithCopyWarning: \n",
      "A value is trying to be set on a copy of a slice from a DataFrame.\n",
      "Try using .loc[row_indexer,col_indexer] = value instead\n",
      "\n",
      "See the caveats in the documentation: http://pandas.pydata.org/pandas-docs/stable/indexing.html#indexing-view-versus-copy\n",
      "D:\\Programfiles2\\anaconda\\lib\\site-packages\\ipykernel\\__main__.py:61: SettingWithCopyWarning: \n",
      "A value is trying to be set on a copy of a slice from a DataFrame.\n",
      "Try using .loc[row_indexer,col_indexer] = value instead\n",
      "\n",
      "See the caveats in the documentation: http://pandas.pydata.org/pandas-docs/stable/indexing.html#indexing-view-versus-copy\n"
     ]
    },
    {
     "name": "stdout",
     "output_type": "stream",
     "text": [
      "Fold  3 AUC : 0.974115\n",
      "Training until validation scores don't improve for 100 rounds.\n",
      "[100]\ttrain's auc: 0.932741\tvalid's auc: 0.909125\n",
      "Early stopping, best iteration is:\n",
      "[57]\ttrain's auc: 0.961011\tvalid's auc: 0.939827\n"
     ]
    },
    {
     "name": "stderr",
     "output_type": "stream",
     "text": [
      "D:\\Programfiles2\\anaconda\\lib\\site-packages\\ipykernel\\__main__.py:60: SettingWithCopyWarning: \n",
      "A value is trying to be set on a copy of a slice from a DataFrame.\n",
      "Try using .loc[row_indexer,col_indexer] = value instead\n",
      "\n",
      "See the caveats in the documentation: http://pandas.pydata.org/pandas-docs/stable/indexing.html#indexing-view-versus-copy\n",
      "D:\\Programfiles2\\anaconda\\lib\\site-packages\\ipykernel\\__main__.py:61: SettingWithCopyWarning: \n",
      "A value is trying to be set on a copy of a slice from a DataFrame.\n",
      "Try using .loc[row_indexer,col_indexer] = value instead\n",
      "\n",
      "See the caveats in the documentation: http://pandas.pydata.org/pandas-docs/stable/indexing.html#indexing-view-versus-copy\n"
     ]
    },
    {
     "name": "stdout",
     "output_type": "stream",
     "text": [
      "Fold  4 AUC : 0.939827\n",
      "Training until validation scores don't improve for 100 rounds.\n",
      "[100]\ttrain's auc: 0.970873\tvalid's auc: 0.954575\n",
      "[200]\ttrain's auc: 0.982482\tvalid's auc: 0.962647\n",
      "[300]\ttrain's auc: 0.988523\tvalid's auc: 0.965532\n",
      "[400]\ttrain's auc: 0.992191\tvalid's auc: 0.966504\n",
      "[500]\ttrain's auc: 0.994611\tvalid's auc: 0.966694\n",
      "Early stopping, best iteration is:\n",
      "[486]\ttrain's auc: 0.994328\tvalid's auc: 0.966821\n"
     ]
    },
    {
     "name": "stderr",
     "output_type": "stream",
     "text": [
      "D:\\Programfiles2\\anaconda\\lib\\site-packages\\ipykernel\\__main__.py:60: SettingWithCopyWarning: \n",
      "A value is trying to be set on a copy of a slice from a DataFrame.\n",
      "Try using .loc[row_indexer,col_indexer] = value instead\n",
      "\n",
      "See the caveats in the documentation: http://pandas.pydata.org/pandas-docs/stable/indexing.html#indexing-view-versus-copy\n",
      "D:\\Programfiles2\\anaconda\\lib\\site-packages\\ipykernel\\__main__.py:61: SettingWithCopyWarning: \n",
      "A value is trying to be set on a copy of a slice from a DataFrame.\n",
      "Try using .loc[row_indexer,col_indexer] = value instead\n",
      "\n",
      "See the caveats in the documentation: http://pandas.pydata.org/pandas-docs/stable/indexing.html#indexing-view-versus-copy\n"
     ]
    },
    {
     "name": "stdout",
     "output_type": "stream",
     "text": [
      "Fold  5 AUC : 0.966821\n"
     ]
    },
    {
     "name": "stderr",
     "output_type": "stream",
     "text": [
      "D:\\Programfiles2\\anaconda\\lib\\site-packages\\ipykernel\\__main__.py:70: SettingWithCopyWarning: \n",
      "A value is trying to be set on a copy of a slice from a DataFrame.\n",
      "Try using .loc[row_indexer,col_indexer] = value instead\n",
      "\n",
      "See the caveats in the documentation: http://pandas.pydata.org/pandas-docs/stable/indexing.html#indexing-view-versus-copy\n"
     ]
    },
    {
     "name": "stdout",
     "output_type": "stream",
     "text": [
      "Full AUC score 0.961252\n",
      "(24943, 503) (6236, 503) (31588, 503)\n",
      "Training until validation scores don't improve for 100 rounds.\n",
      "[100]\ttrain's auc: 0.974856\tvalid's auc: 0.959692\n",
      "[200]\ttrain's auc: 0.983892\tvalid's auc: 0.967549\n",
      "[300]\ttrain's auc: 0.988004\tvalid's auc: 0.970204\n",
      "[400]\ttrain's auc: 0.990482\tvalid's auc: 0.971305\n",
      "[500]\ttrain's auc: 0.992291\tvalid's auc: 0.972077\n",
      "[600]\ttrain's auc: 0.993599\tvalid's auc: 0.972608\n",
      "[700]\ttrain's auc: 0.994557\tvalid's auc: 0.972574\n",
      "Early stopping, best iteration is:\n",
      "[659]\ttrain's auc: 0.994226\tvalid's auc: 0.972861\n"
     ]
    },
    {
     "name": "stderr",
     "output_type": "stream",
     "text": [
      "D:\\Programfiles2\\anaconda\\lib\\site-packages\\ipykernel\\__main__.py:60: SettingWithCopyWarning: \n",
      "A value is trying to be set on a copy of a slice from a DataFrame.\n",
      "Try using .loc[row_indexer,col_indexer] = value instead\n",
      "\n",
      "See the caveats in the documentation: http://pandas.pydata.org/pandas-docs/stable/indexing.html#indexing-view-versus-copy\n",
      "D:\\Programfiles2\\anaconda\\lib\\site-packages\\ipykernel\\__main__.py:61: SettingWithCopyWarning: \n",
      "A value is trying to be set on a copy of a slice from a DataFrame.\n",
      "Try using .loc[row_indexer,col_indexer] = value instead\n",
      "\n",
      "See the caveats in the documentation: http://pandas.pydata.org/pandas-docs/stable/indexing.html#indexing-view-versus-copy\n"
     ]
    },
    {
     "name": "stdout",
     "output_type": "stream",
     "text": [
      "Fold  1 AUC : 0.972861\n",
      "Training until validation scores don't improve for 100 rounds.\n",
      "[100]\ttrain's auc: 0.949785\tvalid's auc: 0.940502\n",
      "Early stopping, best iteration is:\n",
      "[61]\ttrain's auc: 0.970699\tvalid's auc: 0.954323\n"
     ]
    },
    {
     "name": "stderr",
     "output_type": "stream",
     "text": [
      "D:\\Programfiles2\\anaconda\\lib\\site-packages\\ipykernel\\__main__.py:60: SettingWithCopyWarning: \n",
      "A value is trying to be set on a copy of a slice from a DataFrame.\n",
      "Try using .loc[row_indexer,col_indexer] = value instead\n",
      "\n",
      "See the caveats in the documentation: http://pandas.pydata.org/pandas-docs/stable/indexing.html#indexing-view-versus-copy\n",
      "D:\\Programfiles2\\anaconda\\lib\\site-packages\\ipykernel\\__main__.py:61: SettingWithCopyWarning: \n",
      "A value is trying to be set on a copy of a slice from a DataFrame.\n",
      "Try using .loc[row_indexer,col_indexer] = value instead\n",
      "\n",
      "See the caveats in the documentation: http://pandas.pydata.org/pandas-docs/stable/indexing.html#indexing-view-versus-copy\n"
     ]
    },
    {
     "name": "stdout",
     "output_type": "stream",
     "text": [
      "Fold  2 AUC : 0.954323\n",
      "Training until validation scores don't improve for 100 rounds.\n",
      "[100]\ttrain's auc: 0.974932\tvalid's auc: 0.965095\n",
      "[200]\ttrain's auc: 0.983411\tvalid's auc: 0.970259\n",
      "[300]\ttrain's auc: 0.987568\tvalid's auc: 0.973171\n",
      "[400]\ttrain's auc: 0.990136\tvalid's auc: 0.97474\n",
      "[500]\ttrain's auc: 0.992018\tvalid's auc: 0.975633\n",
      "[600]\ttrain's auc: 0.993369\tvalid's auc: 0.976288\n",
      "[700]\ttrain's auc: 0.994406\tvalid's auc: 0.97661\n",
      "Early stopping, best iteration is:\n",
      "[666]\ttrain's auc: 0.994085\tvalid's auc: 0.976665\n"
     ]
    },
    {
     "name": "stderr",
     "output_type": "stream",
     "text": [
      "D:\\Programfiles2\\anaconda\\lib\\site-packages\\ipykernel\\__main__.py:60: SettingWithCopyWarning: \n",
      "A value is trying to be set on a copy of a slice from a DataFrame.\n",
      "Try using .loc[row_indexer,col_indexer] = value instead\n",
      "\n",
      "See the caveats in the documentation: http://pandas.pydata.org/pandas-docs/stable/indexing.html#indexing-view-versus-copy\n",
      "D:\\Programfiles2\\anaconda\\lib\\site-packages\\ipykernel\\__main__.py:61: SettingWithCopyWarning: \n",
      "A value is trying to be set on a copy of a slice from a DataFrame.\n",
      "Try using .loc[row_indexer,col_indexer] = value instead\n",
      "\n",
      "See the caveats in the documentation: http://pandas.pydata.org/pandas-docs/stable/indexing.html#indexing-view-versus-copy\n"
     ]
    },
    {
     "name": "stdout",
     "output_type": "stream",
     "text": [
      "Fold  3 AUC : 0.976665\n",
      "Training until validation scores don't improve for 100 rounds.\n",
      "[100]\ttrain's auc: 0.975095\tvalid's auc: 0.969291\n",
      "[200]\ttrain's auc: 0.983764\tvalid's auc: 0.9741\n",
      "[300]\ttrain's auc: 0.98788\tvalid's auc: 0.976224\n",
      "[400]\ttrain's auc: 0.990475\tvalid's auc: 0.976601\n",
      "[500]\ttrain's auc: 0.992372\tvalid's auc: 0.977225\n",
      "[600]\ttrain's auc: 0.993636\tvalid's auc: 0.977558\n",
      "[700]\ttrain's auc: 0.994643\tvalid's auc: 0.97762\n",
      "[800]\ttrain's auc: 0.995394\tvalid's auc: 0.977635\n",
      "Early stopping, best iteration is:\n",
      "[760]\ttrain's auc: 0.995125\tvalid's auc: 0.977784\n"
     ]
    },
    {
     "name": "stderr",
     "output_type": "stream",
     "text": [
      "D:\\Programfiles2\\anaconda\\lib\\site-packages\\ipykernel\\__main__.py:60: SettingWithCopyWarning: \n",
      "A value is trying to be set on a copy of a slice from a DataFrame.\n",
      "Try using .loc[row_indexer,col_indexer] = value instead\n",
      "\n",
      "See the caveats in the documentation: http://pandas.pydata.org/pandas-docs/stable/indexing.html#indexing-view-versus-copy\n",
      "D:\\Programfiles2\\anaconda\\lib\\site-packages\\ipykernel\\__main__.py:61: SettingWithCopyWarning: \n",
      "A value is trying to be set on a copy of a slice from a DataFrame.\n",
      "Try using .loc[row_indexer,col_indexer] = value instead\n",
      "\n",
      "See the caveats in the documentation: http://pandas.pydata.org/pandas-docs/stable/indexing.html#indexing-view-versus-copy\n"
     ]
    },
    {
     "name": "stdout",
     "output_type": "stream",
     "text": [
      "Fold  4 AUC : 0.977784\n",
      "Training until validation scores don't improve for 100 rounds.\n",
      "[100]\ttrain's auc: 0.975561\tvalid's auc: 0.954491\n",
      "[200]\ttrain's auc: 0.984179\tvalid's auc: 0.961829\n",
      "[300]\ttrain's auc: 0.988491\tvalid's auc: 0.96491\n",
      "[400]\ttrain's auc: 0.990904\tvalid's auc: 0.967004\n",
      "[500]\ttrain's auc: 0.992545\tvalid's auc: 0.968043\n",
      "[600]\ttrain's auc: 0.993801\tvalid's auc: 0.968487\n",
      "[700]\ttrain's auc: 0.994726\tvalid's auc: 0.968742\n",
      "[800]\ttrain's auc: 0.995432\tvalid's auc: 0.96904\n",
      "[900]\ttrain's auc: 0.995986\tvalid's auc: 0.969028\n",
      "[1000]\ttrain's auc: 0.996388\tvalid's auc: 0.969201\n",
      "[1100]\ttrain's auc: 0.996739\tvalid's auc: 0.969457\n",
      "[1200]\ttrain's auc: 0.997025\tvalid's auc: 0.969498\n",
      "[1300]\ttrain's auc: 0.997235\tvalid's auc: 0.969405\n",
      "Early stopping, best iteration is:\n",
      "[1235]\ttrain's auc: 0.997105\tvalid's auc: 0.969605\n"
     ]
    },
    {
     "name": "stderr",
     "output_type": "stream",
     "text": [
      "D:\\Programfiles2\\anaconda\\lib\\site-packages\\ipykernel\\__main__.py:60: SettingWithCopyWarning: \n",
      "A value is trying to be set on a copy of a slice from a DataFrame.\n",
      "Try using .loc[row_indexer,col_indexer] = value instead\n",
      "\n",
      "See the caveats in the documentation: http://pandas.pydata.org/pandas-docs/stable/indexing.html#indexing-view-versus-copy\n",
      "D:\\Programfiles2\\anaconda\\lib\\site-packages\\ipykernel\\__main__.py:61: SettingWithCopyWarning: \n",
      "A value is trying to be set on a copy of a slice from a DataFrame.\n",
      "Try using .loc[row_indexer,col_indexer] = value instead\n",
      "\n",
      "See the caveats in the documentation: http://pandas.pydata.org/pandas-docs/stable/indexing.html#indexing-view-versus-copy\n"
     ]
    },
    {
     "name": "stdout",
     "output_type": "stream",
     "text": [
      "Fold  5 AUC : 0.969605\n"
     ]
    },
    {
     "name": "stderr",
     "output_type": "stream",
     "text": [
      "D:\\Programfiles2\\anaconda\\lib\\site-packages\\ipykernel\\__main__.py:70: SettingWithCopyWarning: \n",
      "A value is trying to be set on a copy of a slice from a DataFrame.\n",
      "Try using .loc[row_indexer,col_indexer] = value instead\n",
      "\n",
      "See the caveats in the documentation: http://pandas.pydata.org/pandas-docs/stable/indexing.html#indexing-view-versus-copy\n"
     ]
    },
    {
     "name": "stdout",
     "output_type": "stream",
     "text": [
      "Full AUC score 0.968615\n",
      "(24943, 503) (6236, 503) (31588, 503)\n",
      "Training until validation scores don't improve for 100 rounds.\n",
      "[100]\ttrain's auc: 0.982835\tvalid's auc: 0.970638\n",
      "[200]\ttrain's auc: 0.990214\tvalid's auc: 0.975125\n",
      "[300]\ttrain's auc: 0.993488\tvalid's auc: 0.976031\n",
      "[400]\ttrain's auc: 0.995384\tvalid's auc: 0.976329\n",
      "[500]\ttrain's auc: 0.996534\tvalid's auc: 0.975919\n",
      "Early stopping, best iteration is:\n",
      "[409]\ttrain's auc: 0.995507\tvalid's auc: 0.976412\n"
     ]
    },
    {
     "name": "stderr",
     "output_type": "stream",
     "text": [
      "D:\\Programfiles2\\anaconda\\lib\\site-packages\\ipykernel\\__main__.py:60: SettingWithCopyWarning: \n",
      "A value is trying to be set on a copy of a slice from a DataFrame.\n",
      "Try using .loc[row_indexer,col_indexer] = value instead\n",
      "\n",
      "See the caveats in the documentation: http://pandas.pydata.org/pandas-docs/stable/indexing.html#indexing-view-versus-copy\n",
      "D:\\Programfiles2\\anaconda\\lib\\site-packages\\ipykernel\\__main__.py:61: SettingWithCopyWarning: \n",
      "A value is trying to be set on a copy of a slice from a DataFrame.\n",
      "Try using .loc[row_indexer,col_indexer] = value instead\n",
      "\n",
      "See the caveats in the documentation: http://pandas.pydata.org/pandas-docs/stable/indexing.html#indexing-view-versus-copy\n"
     ]
    },
    {
     "name": "stdout",
     "output_type": "stream",
     "text": [
      "Fold  1 AUC : 0.976412\n",
      "Training until validation scores don't improve for 100 rounds.\n",
      "[100]\ttrain's auc: 0.983414\tvalid's auc: 0.962521\n",
      "[200]\ttrain's auc: 0.990286\tvalid's auc: 0.966225\n",
      "[300]\ttrain's auc: 0.993501\tvalid's auc: 0.967654\n",
      "[400]\ttrain's auc: 0.995287\tvalid's auc: 0.968937\n",
      "Early stopping, best iteration is:\n",
      "[391]\ttrain's auc: 0.995174\tvalid's auc: 0.969032\n"
     ]
    },
    {
     "name": "stderr",
     "output_type": "stream",
     "text": [
      "D:\\Programfiles2\\anaconda\\lib\\site-packages\\ipykernel\\__main__.py:60: SettingWithCopyWarning: \n",
      "A value is trying to be set on a copy of a slice from a DataFrame.\n",
      "Try using .loc[row_indexer,col_indexer] = value instead\n",
      "\n",
      "See the caveats in the documentation: http://pandas.pydata.org/pandas-docs/stable/indexing.html#indexing-view-versus-copy\n",
      "D:\\Programfiles2\\anaconda\\lib\\site-packages\\ipykernel\\__main__.py:61: SettingWithCopyWarning: \n",
      "A value is trying to be set on a copy of a slice from a DataFrame.\n",
      "Try using .loc[row_indexer,col_indexer] = value instead\n",
      "\n",
      "See the caveats in the documentation: http://pandas.pydata.org/pandas-docs/stable/indexing.html#indexing-view-versus-copy\n"
     ]
    },
    {
     "name": "stdout",
     "output_type": "stream",
     "text": [
      "Fold  2 AUC : 0.969032\n",
      "Training until validation scores don't improve for 100 rounds.\n",
      "[100]\ttrain's auc: 0.9832\tvalid's auc: 0.967345\n",
      "[200]\ttrain's auc: 0.990368\tvalid's auc: 0.971454\n",
      "[300]\ttrain's auc: 0.9935\tvalid's auc: 0.973271\n",
      "[400]\ttrain's auc: 0.995337\tvalid's auc: 0.974029\n",
      "[500]\ttrain's auc: 0.996531\tvalid's auc: 0.97454\n",
      "[600]\ttrain's auc: 0.997303\tvalid's auc: 0.974695\n",
      "[700]\ttrain's auc: 0.997833\tvalid's auc: 0.974862\n",
      "[800]\ttrain's auc: 0.998183\tvalid's auc: 0.975049\n",
      "[900]\ttrain's auc: 0.998445\tvalid's auc: 0.975136\n",
      "[1000]\ttrain's auc: 0.998652\tvalid's auc: 0.975138\n",
      "Early stopping, best iteration is:\n",
      "[912]\ttrain's auc: 0.998477\tvalid's auc: 0.975289\n"
     ]
    },
    {
     "name": "stderr",
     "output_type": "stream",
     "text": [
      "D:\\Programfiles2\\anaconda\\lib\\site-packages\\ipykernel\\__main__.py:60: SettingWithCopyWarning: \n",
      "A value is trying to be set on a copy of a slice from a DataFrame.\n",
      "Try using .loc[row_indexer,col_indexer] = value instead\n",
      "\n",
      "See the caveats in the documentation: http://pandas.pydata.org/pandas-docs/stable/indexing.html#indexing-view-versus-copy\n",
      "D:\\Programfiles2\\anaconda\\lib\\site-packages\\ipykernel\\__main__.py:61: SettingWithCopyWarning: \n",
      "A value is trying to be set on a copy of a slice from a DataFrame.\n",
      "Try using .loc[row_indexer,col_indexer] = value instead\n",
      "\n",
      "See the caveats in the documentation: http://pandas.pydata.org/pandas-docs/stable/indexing.html#indexing-view-versus-copy\n"
     ]
    },
    {
     "name": "stdout",
     "output_type": "stream",
     "text": [
      "Fold  3 AUC : 0.975289\n",
      "Training until validation scores don't improve for 100 rounds.\n",
      "[100]\ttrain's auc: 0.953406\tvalid's auc: 0.942274\n",
      "Early stopping, best iteration is:\n",
      "[51]\ttrain's auc: 0.976211\tvalid's auc: 0.960344\n"
     ]
    },
    {
     "name": "stderr",
     "output_type": "stream",
     "text": [
      "D:\\Programfiles2\\anaconda\\lib\\site-packages\\ipykernel\\__main__.py:60: SettingWithCopyWarning: \n",
      "A value is trying to be set on a copy of a slice from a DataFrame.\n",
      "Try using .loc[row_indexer,col_indexer] = value instead\n",
      "\n",
      "See the caveats in the documentation: http://pandas.pydata.org/pandas-docs/stable/indexing.html#indexing-view-versus-copy\n",
      "D:\\Programfiles2\\anaconda\\lib\\site-packages\\ipykernel\\__main__.py:61: SettingWithCopyWarning: \n",
      "A value is trying to be set on a copy of a slice from a DataFrame.\n",
      "Try using .loc[row_indexer,col_indexer] = value instead\n",
      "\n",
      "See the caveats in the documentation: http://pandas.pydata.org/pandas-docs/stable/indexing.html#indexing-view-versus-copy\n"
     ]
    },
    {
     "name": "stdout",
     "output_type": "stream",
     "text": [
      "Fold  4 AUC : 0.960344\n",
      "Training until validation scores don't improve for 100 rounds.\n",
      "[100]\ttrain's auc: 0.98275\tvalid's auc: 0.972593\n",
      "[200]\ttrain's auc: 0.990257\tvalid's auc: 0.975854\n",
      "[300]\ttrain's auc: 0.99333\tvalid's auc: 0.976713\n",
      "[400]\ttrain's auc: 0.995264\tvalid's auc: 0.977573\n",
      "[500]\ttrain's auc: 0.996426\tvalid's auc: 0.97753\n",
      "Early stopping, best iteration is:\n",
      "[431]\ttrain's auc: 0.995661\tvalid's auc: 0.97767\n"
     ]
    },
    {
     "name": "stderr",
     "output_type": "stream",
     "text": [
      "D:\\Programfiles2\\anaconda\\lib\\site-packages\\ipykernel\\__main__.py:60: SettingWithCopyWarning: \n",
      "A value is trying to be set on a copy of a slice from a DataFrame.\n",
      "Try using .loc[row_indexer,col_indexer] = value instead\n",
      "\n",
      "See the caveats in the documentation: http://pandas.pydata.org/pandas-docs/stable/indexing.html#indexing-view-versus-copy\n",
      "D:\\Programfiles2\\anaconda\\lib\\site-packages\\ipykernel\\__main__.py:61: SettingWithCopyWarning: \n",
      "A value is trying to be set on a copy of a slice from a DataFrame.\n",
      "Try using .loc[row_indexer,col_indexer] = value instead\n",
      "\n",
      "See the caveats in the documentation: http://pandas.pydata.org/pandas-docs/stable/indexing.html#indexing-view-versus-copy\n"
     ]
    },
    {
     "name": "stdout",
     "output_type": "stream",
     "text": [
      "Fold  5 AUC : 0.977670\n"
     ]
    },
    {
     "name": "stderr",
     "output_type": "stream",
     "text": [
      "D:\\Programfiles2\\anaconda\\lib\\site-packages\\ipykernel\\__main__.py:70: SettingWithCopyWarning: \n",
      "A value is trying to be set on a copy of a slice from a DataFrame.\n",
      "Try using .loc[row_indexer,col_indexer] = value instead\n",
      "\n",
      "See the caveats in the documentation: http://pandas.pydata.org/pandas-docs/stable/indexing.html#indexing-view-versus-copy\n"
     ]
    },
    {
     "name": "stdout",
     "output_type": "stream",
     "text": [
      "Full AUC score 0.969834\n",
      "(24943, 503) (6236, 503) (31588, 503)\n",
      "Training until validation scores don't improve for 100 rounds.\n",
      "[100]\ttrain's auc: 0.950231\tvalid's auc: 0.941104\n",
      "Early stopping, best iteration is:\n",
      "[59]\ttrain's auc: 0.97412\tvalid's auc: 0.962175\n"
     ]
    },
    {
     "name": "stderr",
     "output_type": "stream",
     "text": [
      "D:\\Programfiles2\\anaconda\\lib\\site-packages\\ipykernel\\__main__.py:60: SettingWithCopyWarning: \n",
      "A value is trying to be set on a copy of a slice from a DataFrame.\n",
      "Try using .loc[row_indexer,col_indexer] = value instead\n",
      "\n",
      "See the caveats in the documentation: http://pandas.pydata.org/pandas-docs/stable/indexing.html#indexing-view-versus-copy\n",
      "D:\\Programfiles2\\anaconda\\lib\\site-packages\\ipykernel\\__main__.py:61: SettingWithCopyWarning: \n",
      "A value is trying to be set on a copy of a slice from a DataFrame.\n",
      "Try using .loc[row_indexer,col_indexer] = value instead\n",
      "\n",
      "See the caveats in the documentation: http://pandas.pydata.org/pandas-docs/stable/indexing.html#indexing-view-versus-copy\n"
     ]
    },
    {
     "name": "stdout",
     "output_type": "stream",
     "text": [
      "Fold  1 AUC : 0.962175\n",
      "Training until validation scores don't improve for 100 rounds.\n",
      "[100]\ttrain's auc: 0.97929\tvalid's auc: 0.970025\n",
      "[200]\ttrain's auc: 0.987922\tvalid's auc: 0.971957\n",
      "[300]\ttrain's auc: 0.991829\tvalid's auc: 0.973348\n",
      "[400]\ttrain's auc: 0.994145\tvalid's auc: 0.974044\n",
      "[500]\ttrain's auc: 0.99561\tvalid's auc: 0.974456\n",
      "Early stopping, best iteration is:\n",
      "[496]\ttrain's auc: 0.995581\tvalid's auc: 0.974553\n"
     ]
    },
    {
     "name": "stderr",
     "output_type": "stream",
     "text": [
      "D:\\Programfiles2\\anaconda\\lib\\site-packages\\ipykernel\\__main__.py:60: SettingWithCopyWarning: \n",
      "A value is trying to be set on a copy of a slice from a DataFrame.\n",
      "Try using .loc[row_indexer,col_indexer] = value instead\n",
      "\n",
      "See the caveats in the documentation: http://pandas.pydata.org/pandas-docs/stable/indexing.html#indexing-view-versus-copy\n",
      "D:\\Programfiles2\\anaconda\\lib\\site-packages\\ipykernel\\__main__.py:61: SettingWithCopyWarning: \n",
      "A value is trying to be set on a copy of a slice from a DataFrame.\n",
      "Try using .loc[row_indexer,col_indexer] = value instead\n",
      "\n",
      "See the caveats in the documentation: http://pandas.pydata.org/pandas-docs/stable/indexing.html#indexing-view-versus-copy\n"
     ]
    },
    {
     "name": "stdout",
     "output_type": "stream",
     "text": [
      "Fold  2 AUC : 0.974553\n",
      "Training until validation scores don't improve for 100 rounds.\n",
      "[100]\ttrain's auc: 0.981055\tvalid's auc: 0.968811\n",
      "[200]\ttrain's auc: 0.988365\tvalid's auc: 0.970819\n",
      "[300]\ttrain's auc: 0.991934\tvalid's auc: 0.972194\n",
      "[400]\ttrain's auc: 0.994163\tvalid's auc: 0.972992\n",
      "[500]\ttrain's auc: 0.995625\tvalid's auc: 0.973142\n",
      "Early stopping, best iteration is:\n",
      "[482]\ttrain's auc: 0.995401\tvalid's auc: 0.973238\n"
     ]
    },
    {
     "name": "stderr",
     "output_type": "stream",
     "text": [
      "D:\\Programfiles2\\anaconda\\lib\\site-packages\\ipykernel\\__main__.py:60: SettingWithCopyWarning: \n",
      "A value is trying to be set on a copy of a slice from a DataFrame.\n",
      "Try using .loc[row_indexer,col_indexer] = value instead\n",
      "\n",
      "See the caveats in the documentation: http://pandas.pydata.org/pandas-docs/stable/indexing.html#indexing-view-versus-copy\n",
      "D:\\Programfiles2\\anaconda\\lib\\site-packages\\ipykernel\\__main__.py:61: SettingWithCopyWarning: \n",
      "A value is trying to be set on a copy of a slice from a DataFrame.\n",
      "Try using .loc[row_indexer,col_indexer] = value instead\n",
      "\n",
      "See the caveats in the documentation: http://pandas.pydata.org/pandas-docs/stable/indexing.html#indexing-view-versus-copy\n"
     ]
    },
    {
     "name": "stdout",
     "output_type": "stream",
     "text": [
      "Fold  3 AUC : 0.973238\n",
      "Training until validation scores don't improve for 100 rounds.\n",
      "[100]\ttrain's auc: 0.980426\tvalid's auc: 0.957543\n",
      "[200]\ttrain's auc: 0.988348\tvalid's auc: 0.964353\n",
      "[300]\ttrain's auc: 0.992026\tvalid's auc: 0.967391\n",
      "[400]\ttrain's auc: 0.994205\tvalid's auc: 0.968369\n",
      "[500]\ttrain's auc: 0.995625\tvalid's auc: 0.968748\n",
      "[600]\ttrain's auc: 0.996651\tvalid's auc: 0.969228\n",
      "[700]\ttrain's auc: 0.997348\tvalid's auc: 0.968992\n",
      "Early stopping, best iteration is:\n",
      "[601]\ttrain's auc: 0.996661\tvalid's auc: 0.969247\n"
     ]
    },
    {
     "name": "stderr",
     "output_type": "stream",
     "text": [
      "D:\\Programfiles2\\anaconda\\lib\\site-packages\\ipykernel\\__main__.py:60: SettingWithCopyWarning: \n",
      "A value is trying to be set on a copy of a slice from a DataFrame.\n",
      "Try using .loc[row_indexer,col_indexer] = value instead\n",
      "\n",
      "See the caveats in the documentation: http://pandas.pydata.org/pandas-docs/stable/indexing.html#indexing-view-versus-copy\n",
      "D:\\Programfiles2\\anaconda\\lib\\site-packages\\ipykernel\\__main__.py:61: SettingWithCopyWarning: \n",
      "A value is trying to be set on a copy of a slice from a DataFrame.\n",
      "Try using .loc[row_indexer,col_indexer] = value instead\n",
      "\n",
      "See the caveats in the documentation: http://pandas.pydata.org/pandas-docs/stable/indexing.html#indexing-view-versus-copy\n"
     ]
    },
    {
     "name": "stdout",
     "output_type": "stream",
     "text": [
      "Fold  4 AUC : 0.969247\n",
      "Training until validation scores don't improve for 100 rounds.\n",
      "[100]\ttrain's auc: 0.980118\tvalid's auc: 0.963452\n",
      "[200]\ttrain's auc: 0.987982\tvalid's auc: 0.968867\n",
      "[300]\ttrain's auc: 0.991874\tvalid's auc: 0.971485\n",
      "[400]\ttrain's auc: 0.994156\tvalid's auc: 0.972271\n",
      "[500]\ttrain's auc: 0.995601\tvalid's auc: 0.973076\n",
      "[600]\ttrain's auc: 0.996581\tvalid's auc: 0.972935\n",
      "[700]\ttrain's auc: 0.997309\tvalid's auc: 0.973385\n",
      "[800]\ttrain's auc: 0.99782\tvalid's auc: 0.97343\n",
      "Early stopping, best iteration is:\n",
      "[729]\ttrain's auc: 0.99747\tvalid's auc: 0.973694\n"
     ]
    },
    {
     "name": "stderr",
     "output_type": "stream",
     "text": [
      "D:\\Programfiles2\\anaconda\\lib\\site-packages\\ipykernel\\__main__.py:60: SettingWithCopyWarning: \n",
      "A value is trying to be set on a copy of a slice from a DataFrame.\n",
      "Try using .loc[row_indexer,col_indexer] = value instead\n",
      "\n",
      "See the caveats in the documentation: http://pandas.pydata.org/pandas-docs/stable/indexing.html#indexing-view-versus-copy\n",
      "D:\\Programfiles2\\anaconda\\lib\\site-packages\\ipykernel\\__main__.py:61: SettingWithCopyWarning: \n",
      "A value is trying to be set on a copy of a slice from a DataFrame.\n",
      "Try using .loc[row_indexer,col_indexer] = value instead\n",
      "\n",
      "See the caveats in the documentation: http://pandas.pydata.org/pandas-docs/stable/indexing.html#indexing-view-versus-copy\n"
     ]
    },
    {
     "name": "stdout",
     "output_type": "stream",
     "text": [
      "Fold  5 AUC : 0.973694\n"
     ]
    },
    {
     "name": "stderr",
     "output_type": "stream",
     "text": [
      "D:\\Programfiles2\\anaconda\\lib\\site-packages\\ipykernel\\__main__.py:70: SettingWithCopyWarning: \n",
      "A value is trying to be set on a copy of a slice from a DataFrame.\n",
      "Try using .loc[row_indexer,col_indexer] = value instead\n",
      "\n",
      "See the caveats in the documentation: http://pandas.pydata.org/pandas-docs/stable/indexing.html#indexing-view-versus-copy\n"
     ]
    },
    {
     "name": "stdout",
     "output_type": "stream",
     "text": [
      "Full AUC score 0.968021\n",
      "(24943, 503) (6236, 503) (31588, 503)\n",
      "Training until validation scores don't improve for 100 rounds.\n",
      "[100]\ttrain's auc: 0.97302\tvalid's auc: 0.962242\n",
      "[200]\ttrain's auc: 0.981081\tvalid's auc: 0.971223\n",
      "[300]\ttrain's auc: 0.985015\tvalid's auc: 0.974525\n",
      "[400]\ttrain's auc: 0.987662\tvalid's auc: 0.976159\n",
      "[500]\ttrain's auc: 0.989286\tvalid's auc: 0.976552\n",
      "[600]\ttrain's auc: 0.99014\tvalid's auc: 0.977115\n",
      "[700]\ttrain's auc: 0.990655\tvalid's auc: 0.977362\n",
      "[800]\ttrain's auc: 0.990733\tvalid's auc: 0.977457\n",
      "Early stopping, best iteration is:\n",
      "[716]\ttrain's auc: 0.990733\tvalid's auc: 0.977457\n"
     ]
    },
    {
     "name": "stderr",
     "output_type": "stream",
     "text": [
      "D:\\Programfiles2\\anaconda\\lib\\site-packages\\ipykernel\\__main__.py:60: SettingWithCopyWarning: \n",
      "A value is trying to be set on a copy of a slice from a DataFrame.\n",
      "Try using .loc[row_indexer,col_indexer] = value instead\n",
      "\n",
      "See the caveats in the documentation: http://pandas.pydata.org/pandas-docs/stable/indexing.html#indexing-view-versus-copy\n",
      "D:\\Programfiles2\\anaconda\\lib\\site-packages\\ipykernel\\__main__.py:61: SettingWithCopyWarning: \n",
      "A value is trying to be set on a copy of a slice from a DataFrame.\n",
      "Try using .loc[row_indexer,col_indexer] = value instead\n",
      "\n",
      "See the caveats in the documentation: http://pandas.pydata.org/pandas-docs/stable/indexing.html#indexing-view-versus-copy\n"
     ]
    },
    {
     "name": "stdout",
     "output_type": "stream",
     "text": [
      "Fold  1 AUC : 0.977457\n",
      "Training until validation scores don't improve for 100 rounds.\n",
      "[100]\ttrain's auc: 0.973608\tvalid's auc: 0.953718\n",
      "[200]\ttrain's auc: 0.981589\tvalid's auc: 0.959753\n",
      "[300]\ttrain's auc: 0.985557\tvalid's auc: 0.963764\n",
      "[400]\ttrain's auc: 0.987918\tvalid's auc: 0.965761\n",
      "[500]\ttrain's auc: 0.989395\tvalid's auc: 0.966694\n",
      "[600]\ttrain's auc: 0.990265\tvalid's auc: 0.967191\n",
      "[700]\ttrain's auc: 0.990717\tvalid's auc: 0.967519\n",
      "[800]\ttrain's auc: 0.990937\tvalid's auc: 0.967731\n",
      "Early stopping, best iteration is:\n",
      "[763]\ttrain's auc: 0.990917\tvalid's auc: 0.967825\n"
     ]
    },
    {
     "name": "stderr",
     "output_type": "stream",
     "text": [
      "D:\\Programfiles2\\anaconda\\lib\\site-packages\\ipykernel\\__main__.py:60: SettingWithCopyWarning: \n",
      "A value is trying to be set on a copy of a slice from a DataFrame.\n",
      "Try using .loc[row_indexer,col_indexer] = value instead\n",
      "\n",
      "See the caveats in the documentation: http://pandas.pydata.org/pandas-docs/stable/indexing.html#indexing-view-versus-copy\n",
      "D:\\Programfiles2\\anaconda\\lib\\site-packages\\ipykernel\\__main__.py:61: SettingWithCopyWarning: \n",
      "A value is trying to be set on a copy of a slice from a DataFrame.\n",
      "Try using .loc[row_indexer,col_indexer] = value instead\n",
      "\n",
      "See the caveats in the documentation: http://pandas.pydata.org/pandas-docs/stable/indexing.html#indexing-view-versus-copy\n"
     ]
    },
    {
     "name": "stdout",
     "output_type": "stream",
     "text": [
      "Fold  2 AUC : 0.967750\n",
      "Training until validation scores don't improve for 100 rounds.\n",
      "[100]\ttrain's auc: 0.945895\tvalid's auc: 0.942424\n",
      "Early stopping, best iteration is:\n",
      "[63]\ttrain's auc: 0.969377\tvalid's auc: 0.957786\n"
     ]
    },
    {
     "name": "stderr",
     "output_type": "stream",
     "text": [
      "D:\\Programfiles2\\anaconda\\lib\\site-packages\\ipykernel\\__main__.py:60: SettingWithCopyWarning: \n",
      "A value is trying to be set on a copy of a slice from a DataFrame.\n",
      "Try using .loc[row_indexer,col_indexer] = value instead\n",
      "\n",
      "See the caveats in the documentation: http://pandas.pydata.org/pandas-docs/stable/indexing.html#indexing-view-versus-copy\n",
      "D:\\Programfiles2\\anaconda\\lib\\site-packages\\ipykernel\\__main__.py:61: SettingWithCopyWarning: \n",
      "A value is trying to be set on a copy of a slice from a DataFrame.\n",
      "Try using .loc[row_indexer,col_indexer] = value instead\n",
      "\n",
      "See the caveats in the documentation: http://pandas.pydata.org/pandas-docs/stable/indexing.html#indexing-view-versus-copy\n"
     ]
    },
    {
     "name": "stdout",
     "output_type": "stream",
     "text": [
      "Fold  3 AUC : 0.957786\n",
      "Training until validation scores don't improve for 100 rounds.\n",
      "[100]\ttrain's auc: 0.973338\tvalid's auc: 0.962912\n",
      "[200]\ttrain's auc: 0.981571\tvalid's auc: 0.968193\n",
      "[300]\ttrain's auc: 0.985536\tvalid's auc: 0.970531\n",
      "[400]\ttrain's auc: 0.987934\tvalid's auc: 0.971247\n",
      "[500]\ttrain's auc: 0.989433\tvalid's auc: 0.971869\n",
      "[600]\ttrain's auc: 0.990324\tvalid's auc: 0.972004\n",
      "Early stopping, best iteration is:\n",
      "[530]\ttrain's auc: 0.989767\tvalid's auc: 0.972079\n"
     ]
    },
    {
     "name": "stderr",
     "output_type": "stream",
     "text": [
      "D:\\Programfiles2\\anaconda\\lib\\site-packages\\ipykernel\\__main__.py:60: SettingWithCopyWarning: \n",
      "A value is trying to be set on a copy of a slice from a DataFrame.\n",
      "Try using .loc[row_indexer,col_indexer] = value instead\n",
      "\n",
      "See the caveats in the documentation: http://pandas.pydata.org/pandas-docs/stable/indexing.html#indexing-view-versus-copy\n",
      "D:\\Programfiles2\\anaconda\\lib\\site-packages\\ipykernel\\__main__.py:61: SettingWithCopyWarning: \n",
      "A value is trying to be set on a copy of a slice from a DataFrame.\n",
      "Try using .loc[row_indexer,col_indexer] = value instead\n",
      "\n",
      "See the caveats in the documentation: http://pandas.pydata.org/pandas-docs/stable/indexing.html#indexing-view-versus-copy\n"
     ]
    },
    {
     "name": "stdout",
     "output_type": "stream",
     "text": [
      "Fold  4 AUC : 0.972079\n",
      "Training until validation scores don't improve for 100 rounds.\n",
      "[100]\ttrain's auc: 0.974929\tvalid's auc: 0.959586\n",
      "[200]\ttrain's auc: 0.982867\tvalid's auc: 0.962496\n",
      "[300]\ttrain's auc: 0.986262\tvalid's auc: 0.964682\n",
      "[400]\ttrain's auc: 0.98859\tvalid's auc: 0.966299\n",
      "[500]\ttrain's auc: 0.990046\tvalid's auc: 0.966984\n",
      "[600]\ttrain's auc: 0.99096\tvalid's auc: 0.967558\n",
      "[700]\ttrain's auc: 0.99144\tvalid's auc: 0.967612\n",
      "Early stopping, best iteration is:\n",
      "[630]\ttrain's auc: 0.99112\tvalid's auc: 0.967662\n"
     ]
    },
    {
     "name": "stderr",
     "output_type": "stream",
     "text": [
      "D:\\Programfiles2\\anaconda\\lib\\site-packages\\ipykernel\\__main__.py:60: SettingWithCopyWarning: \n",
      "A value is trying to be set on a copy of a slice from a DataFrame.\n",
      "Try using .loc[row_indexer,col_indexer] = value instead\n",
      "\n",
      "See the caveats in the documentation: http://pandas.pydata.org/pandas-docs/stable/indexing.html#indexing-view-versus-copy\n",
      "D:\\Programfiles2\\anaconda\\lib\\site-packages\\ipykernel\\__main__.py:61: SettingWithCopyWarning: \n",
      "A value is trying to be set on a copy of a slice from a DataFrame.\n",
      "Try using .loc[row_indexer,col_indexer] = value instead\n",
      "\n",
      "See the caveats in the documentation: http://pandas.pydata.org/pandas-docs/stable/indexing.html#indexing-view-versus-copy\n"
     ]
    },
    {
     "name": "stdout",
     "output_type": "stream",
     "text": [
      "Fold  5 AUC : 0.967662\n"
     ]
    },
    {
     "name": "stderr",
     "output_type": "stream",
     "text": [
      "D:\\Programfiles2\\anaconda\\lib\\site-packages\\ipykernel\\__main__.py:70: SettingWithCopyWarning: \n",
      "A value is trying to be set on a copy of a slice from a DataFrame.\n",
      "Try using .loc[row_indexer,col_indexer] = value instead\n",
      "\n",
      "See the caveats in the documentation: http://pandas.pydata.org/pandas-docs/stable/indexing.html#indexing-view-versus-copy\n"
     ]
    },
    {
     "name": "stdout",
     "output_type": "stream",
     "text": [
      "Full AUC score 0.966519\n",
      "(24943, 503) (6236, 503) (31588, 503)\n",
      "Training until validation scores don't improve for 100 rounds.\n",
      "[100]\ttrain's auc: 0.98083\tvalid's auc: 0.963889\n",
      "[200]\ttrain's auc: 0.988751\tvalid's auc: 0.968685\n",
      "[300]\ttrain's auc: 0.992326\tvalid's auc: 0.97038\n",
      "[400]\ttrain's auc: 0.994461\tvalid's auc: 0.971468\n",
      "[500]\ttrain's auc: 0.995905\tvalid's auc: 0.972459\n",
      "[600]\ttrain's auc: 0.996894\tvalid's auc: 0.973189\n",
      "[700]\ttrain's auc: 0.997568\tvalid's auc: 0.973447\n",
      "[800]\ttrain's auc: 0.998039\tvalid's auc: 0.973701\n",
      "Early stopping, best iteration is:\n",
      "[767]\ttrain's auc: 0.9979\tvalid's auc: 0.973845\n"
     ]
    },
    {
     "name": "stderr",
     "output_type": "stream",
     "text": [
      "D:\\Programfiles2\\anaconda\\lib\\site-packages\\ipykernel\\__main__.py:60: SettingWithCopyWarning: \n",
      "A value is trying to be set on a copy of a slice from a DataFrame.\n",
      "Try using .loc[row_indexer,col_indexer] = value instead\n",
      "\n",
      "See the caveats in the documentation: http://pandas.pydata.org/pandas-docs/stable/indexing.html#indexing-view-versus-copy\n",
      "D:\\Programfiles2\\anaconda\\lib\\site-packages\\ipykernel\\__main__.py:61: SettingWithCopyWarning: \n",
      "A value is trying to be set on a copy of a slice from a DataFrame.\n",
      "Try using .loc[row_indexer,col_indexer] = value instead\n",
      "\n",
      "See the caveats in the documentation: http://pandas.pydata.org/pandas-docs/stable/indexing.html#indexing-view-versus-copy\n"
     ]
    },
    {
     "name": "stdout",
     "output_type": "stream",
     "text": [
      "Fold  1 AUC : 0.973845\n",
      "Training until validation scores don't improve for 100 rounds.\n",
      "[100]\ttrain's auc: 0.980086\tvalid's auc: 0.966608\n",
      "[200]\ttrain's auc: 0.988187\tvalid's auc: 0.970251\n",
      "[300]\ttrain's auc: 0.992075\tvalid's auc: 0.972022\n",
      "[400]\ttrain's auc: 0.99437\tvalid's auc: 0.972602\n",
      "[500]\ttrain's auc: 0.995847\tvalid's auc: 0.973171\n",
      "[600]\ttrain's auc: 0.996862\tvalid's auc: 0.973293\n",
      "[700]\ttrain's auc: 0.997555\tvalid's auc: 0.97364\n",
      "[800]\ttrain's auc: 0.998063\tvalid's auc: 0.973913\n",
      "[900]\ttrain's auc: 0.998434\tvalid's auc: 0.973801\n",
      "Early stopping, best iteration is:\n",
      "[810]\ttrain's auc: 0.998099\tvalid's auc: 0.97396\n"
     ]
    },
    {
     "name": "stderr",
     "output_type": "stream",
     "text": [
      "D:\\Programfiles2\\anaconda\\lib\\site-packages\\ipykernel\\__main__.py:60: SettingWithCopyWarning: \n",
      "A value is trying to be set on a copy of a slice from a DataFrame.\n",
      "Try using .loc[row_indexer,col_indexer] = value instead\n",
      "\n",
      "See the caveats in the documentation: http://pandas.pydata.org/pandas-docs/stable/indexing.html#indexing-view-versus-copy\n",
      "D:\\Programfiles2\\anaconda\\lib\\site-packages\\ipykernel\\__main__.py:61: SettingWithCopyWarning: \n",
      "A value is trying to be set on a copy of a slice from a DataFrame.\n",
      "Try using .loc[row_indexer,col_indexer] = value instead\n",
      "\n",
      "See the caveats in the documentation: http://pandas.pydata.org/pandas-docs/stable/indexing.html#indexing-view-versus-copy\n"
     ]
    },
    {
     "name": "stdout",
     "output_type": "stream",
     "text": [
      "Fold  2 AUC : 0.973960\n",
      "Training until validation scores don't improve for 100 rounds.\n",
      "[100]\ttrain's auc: 0.981142\tvalid's auc: 0.968887\n",
      "[200]\ttrain's auc: 0.988496\tvalid's auc: 0.973933\n",
      "[300]\ttrain's auc: 0.992166\tvalid's auc: 0.976269\n",
      "[400]\ttrain's auc: 0.9944\tvalid's auc: 0.977484\n",
      "[500]\ttrain's auc: 0.995755\tvalid's auc: 0.977589\n",
      "Early stopping, best iteration is:\n",
      "[459]\ttrain's auc: 0.995275\tvalid's auc: 0.977743\n"
     ]
    },
    {
     "name": "stderr",
     "output_type": "stream",
     "text": [
      "D:\\Programfiles2\\anaconda\\lib\\site-packages\\ipykernel\\__main__.py:60: SettingWithCopyWarning: \n",
      "A value is trying to be set on a copy of a slice from a DataFrame.\n",
      "Try using .loc[row_indexer,col_indexer] = value instead\n",
      "\n",
      "See the caveats in the documentation: http://pandas.pydata.org/pandas-docs/stable/indexing.html#indexing-view-versus-copy\n",
      "D:\\Programfiles2\\anaconda\\lib\\site-packages\\ipykernel\\__main__.py:61: SettingWithCopyWarning: \n",
      "A value is trying to be set on a copy of a slice from a DataFrame.\n",
      "Try using .loc[row_indexer,col_indexer] = value instead\n",
      "\n",
      "See the caveats in the documentation: http://pandas.pydata.org/pandas-docs/stable/indexing.html#indexing-view-versus-copy\n"
     ]
    },
    {
     "name": "stdout",
     "output_type": "stream",
     "text": [
      "Fold  3 AUC : 0.977743\n",
      "Training until validation scores don't improve for 100 rounds.\n",
      "[100]\ttrain's auc: 0.954242\tvalid's auc: 0.937635\n",
      "Early stopping, best iteration is:\n",
      "[60]\ttrain's auc: 0.976114\tvalid's auc: 0.958228\n"
     ]
    },
    {
     "name": "stderr",
     "output_type": "stream",
     "text": [
      "D:\\Programfiles2\\anaconda\\lib\\site-packages\\ipykernel\\__main__.py:60: SettingWithCopyWarning: \n",
      "A value is trying to be set on a copy of a slice from a DataFrame.\n",
      "Try using .loc[row_indexer,col_indexer] = value instead\n",
      "\n",
      "See the caveats in the documentation: http://pandas.pydata.org/pandas-docs/stable/indexing.html#indexing-view-versus-copy\n",
      "D:\\Programfiles2\\anaconda\\lib\\site-packages\\ipykernel\\__main__.py:61: SettingWithCopyWarning: \n",
      "A value is trying to be set on a copy of a slice from a DataFrame.\n",
      "Try using .loc[row_indexer,col_indexer] = value instead\n",
      "\n",
      "See the caveats in the documentation: http://pandas.pydata.org/pandas-docs/stable/indexing.html#indexing-view-versus-copy\n"
     ]
    },
    {
     "name": "stdout",
     "output_type": "stream",
     "text": [
      "Fold  4 AUC : 0.958228\n",
      "Training until validation scores don't improve for 100 rounds.\n",
      "[100]\ttrain's auc: 0.980037\tvalid's auc: 0.966305\n",
      "[200]\ttrain's auc: 0.988031\tvalid's auc: 0.971014\n",
      "[300]\ttrain's auc: 0.991923\tvalid's auc: 0.973895\n",
      "[400]\ttrain's auc: 0.994241\tvalid's auc: 0.975021\n",
      "[500]\ttrain's auc: 0.995707\tvalid's auc: 0.97556\n",
      "[600]\ttrain's auc: 0.996704\tvalid's auc: 0.975782\n",
      "Early stopping, best iteration is:\n",
      "[543]\ttrain's auc: 0.996189\tvalid's auc: 0.975918\n"
     ]
    },
    {
     "name": "stderr",
     "output_type": "stream",
     "text": [
      "D:\\Programfiles2\\anaconda\\lib\\site-packages\\ipykernel\\__main__.py:60: SettingWithCopyWarning: \n",
      "A value is trying to be set on a copy of a slice from a DataFrame.\n",
      "Try using .loc[row_indexer,col_indexer] = value instead\n",
      "\n",
      "See the caveats in the documentation: http://pandas.pydata.org/pandas-docs/stable/indexing.html#indexing-view-versus-copy\n",
      "D:\\Programfiles2\\anaconda\\lib\\site-packages\\ipykernel\\__main__.py:61: SettingWithCopyWarning: \n",
      "A value is trying to be set on a copy of a slice from a DataFrame.\n",
      "Try using .loc[row_indexer,col_indexer] = value instead\n",
      "\n",
      "See the caveats in the documentation: http://pandas.pydata.org/pandas-docs/stable/indexing.html#indexing-view-versus-copy\n"
     ]
    },
    {
     "name": "stdout",
     "output_type": "stream",
     "text": [
      "Fold  5 AUC : 0.975918\n"
     ]
    },
    {
     "name": "stderr",
     "output_type": "stream",
     "text": [
      "D:\\Programfiles2\\anaconda\\lib\\site-packages\\ipykernel\\__main__.py:70: SettingWithCopyWarning: \n",
      "A value is trying to be set on a copy of a slice from a DataFrame.\n",
      "Try using .loc[row_indexer,col_indexer] = value instead\n",
      "\n",
      "See the caveats in the documentation: http://pandas.pydata.org/pandas-docs/stable/indexing.html#indexing-view-versus-copy\n"
     ]
    },
    {
     "name": "stdout",
     "output_type": "stream",
     "text": [
      "Full AUC score 0.970269\n",
      "(24943, 531) (6236, 531) (31588, 531)\n",
      "Training until validation scores don't improve for 100 rounds.\n",
      "[100]\ttrain's auc: 0.964118\tvalid's auc: 0.94346\n",
      "[200]\ttrain's auc: 0.978294\tvalid's auc: 0.956647\n",
      "[300]\ttrain's auc: 0.983938\tvalid's auc: 0.960798\n",
      "[400]\ttrain's auc: 0.987986\tvalid's auc: 0.963035\n",
      "[500]\ttrain's auc: 0.990763\tvalid's auc: 0.964645\n",
      "[600]\ttrain's auc: 0.992782\tvalid's auc: 0.9654\n",
      "[700]\ttrain's auc: 0.994247\tvalid's auc: 0.965513\n",
      "[800]\ttrain's auc: 0.995399\tvalid's auc: 0.966061\n",
      "[900]\ttrain's auc: 0.996194\tvalid's auc: 0.966257\n",
      "[1000]\ttrain's auc: 0.996789\tvalid's auc: 0.966296\n",
      "Early stopping, best iteration is:\n",
      "[951]\ttrain's auc: 0.996509\tvalid's auc: 0.966387\n"
     ]
    },
    {
     "name": "stderr",
     "output_type": "stream",
     "text": [
      "D:\\Programfiles2\\anaconda\\lib\\site-packages\\ipykernel\\__main__.py:60: SettingWithCopyWarning: \n",
      "A value is trying to be set on a copy of a slice from a DataFrame.\n",
      "Try using .loc[row_indexer,col_indexer] = value instead\n",
      "\n",
      "See the caveats in the documentation: http://pandas.pydata.org/pandas-docs/stable/indexing.html#indexing-view-versus-copy\n",
      "D:\\Programfiles2\\anaconda\\lib\\site-packages\\ipykernel\\__main__.py:61: SettingWithCopyWarning: \n",
      "A value is trying to be set on a copy of a slice from a DataFrame.\n",
      "Try using .loc[row_indexer,col_indexer] = value instead\n",
      "\n",
      "See the caveats in the documentation: http://pandas.pydata.org/pandas-docs/stable/indexing.html#indexing-view-versus-copy\n"
     ]
    },
    {
     "name": "stdout",
     "output_type": "stream",
     "text": [
      "Fold  1 AUC : 0.966387\n",
      "Training until validation scores don't improve for 100 rounds.\n",
      "[100]\ttrain's auc: 0.928206\tvalid's auc: 0.919494\n",
      "Early stopping, best iteration is:\n",
      "[61]\ttrain's auc: 0.956527\tvalid's auc: 0.94214\n"
     ]
    },
    {
     "name": "stderr",
     "output_type": "stream",
     "text": [
      "D:\\Programfiles2\\anaconda\\lib\\site-packages\\ipykernel\\__main__.py:60: SettingWithCopyWarning: \n",
      "A value is trying to be set on a copy of a slice from a DataFrame.\n",
      "Try using .loc[row_indexer,col_indexer] = value instead\n",
      "\n",
      "See the caveats in the documentation: http://pandas.pydata.org/pandas-docs/stable/indexing.html#indexing-view-versus-copy\n",
      "D:\\Programfiles2\\anaconda\\lib\\site-packages\\ipykernel\\__main__.py:61: SettingWithCopyWarning: \n",
      "A value is trying to be set on a copy of a slice from a DataFrame.\n",
      "Try using .loc[row_indexer,col_indexer] = value instead\n",
      "\n",
      "See the caveats in the documentation: http://pandas.pydata.org/pandas-docs/stable/indexing.html#indexing-view-versus-copy\n"
     ]
    },
    {
     "name": "stdout",
     "output_type": "stream",
     "text": [
      "Fold  2 AUC : 0.942140\n",
      "Training until validation scores don't improve for 100 rounds.\n",
      "[100]\ttrain's auc: 0.964978\tvalid's auc: 0.942615\n",
      "[200]\ttrain's auc: 0.978542\tvalid's auc: 0.958075\n",
      "[300]\ttrain's auc: 0.984336\tvalid's auc: 0.962014\n",
      "[400]\ttrain's auc: 0.988217\tvalid's auc: 0.964369\n",
      "[500]\ttrain's auc: 0.990849\tvalid's auc: 0.965668\n",
      "[600]\ttrain's auc: 0.992857\tvalid's auc: 0.966549\n",
      "[700]\ttrain's auc: 0.994267\tvalid's auc: 0.966574\n",
      "[800]\ttrain's auc: 0.995294\tvalid's auc: 0.967243\n",
      "[900]\ttrain's auc: 0.996075\tvalid's auc: 0.967349\n",
      "[1000]\ttrain's auc: 0.996688\tvalid's auc: 0.967425\n",
      "[1100]\ttrain's auc: 0.997151\tvalid's auc: 0.967934\n",
      "[1200]\ttrain's auc: 0.997509\tvalid's auc: 0.968159\n",
      "[1300]\ttrain's auc: 0.997791\tvalid's auc: 0.96804\n",
      "Early stopping, best iteration is:\n",
      "[1201]\ttrain's auc: 0.997515\tvalid's auc: 0.968172\n"
     ]
    },
    {
     "name": "stderr",
     "output_type": "stream",
     "text": [
      "D:\\Programfiles2\\anaconda\\lib\\site-packages\\ipykernel\\__main__.py:60: SettingWithCopyWarning: \n",
      "A value is trying to be set on a copy of a slice from a DataFrame.\n",
      "Try using .loc[row_indexer,col_indexer] = value instead\n",
      "\n",
      "See the caveats in the documentation: http://pandas.pydata.org/pandas-docs/stable/indexing.html#indexing-view-versus-copy\n",
      "D:\\Programfiles2\\anaconda\\lib\\site-packages\\ipykernel\\__main__.py:61: SettingWithCopyWarning: \n",
      "A value is trying to be set on a copy of a slice from a DataFrame.\n",
      "Try using .loc[row_indexer,col_indexer] = value instead\n",
      "\n",
      "See the caveats in the documentation: http://pandas.pydata.org/pandas-docs/stable/indexing.html#indexing-view-versus-copy\n"
     ]
    },
    {
     "name": "stdout",
     "output_type": "stream",
     "text": [
      "Fold  3 AUC : 0.968172\n",
      "Training until validation scores don't improve for 100 rounds.\n",
      "[100]\ttrain's auc: 0.964801\tvalid's auc: 0.952301\n",
      "[200]\ttrain's auc: 0.978485\tvalid's auc: 0.963598\n",
      "[300]\ttrain's auc: 0.984331\tvalid's auc: 0.966048\n",
      "[400]\ttrain's auc: 0.988322\tvalid's auc: 0.967615\n",
      "[500]\ttrain's auc: 0.991015\tvalid's auc: 0.968488\n",
      "[600]\ttrain's auc: 0.992939\tvalid's auc: 0.969086\n",
      "[700]\ttrain's auc: 0.994323\tvalid's auc: 0.969142\n",
      "[800]\ttrain's auc: 0.995382\tvalid's auc: 0.969346\n",
      "[900]\ttrain's auc: 0.996152\tvalid's auc: 0.969541\n",
      "[1000]\ttrain's auc: 0.996761\tvalid's auc: 0.969796\n",
      "[1100]\ttrain's auc: 0.997204\tvalid's auc: 0.970118\n",
      "[1200]\ttrain's auc: 0.997552\tvalid's auc: 0.970103\n",
      "[1300]\ttrain's auc: 0.99784\tvalid's auc: 0.970107\n",
      "Early stopping, best iteration is:\n",
      "[1230]\ttrain's auc: 0.997659\tvalid's auc: 0.970187\n"
     ]
    },
    {
     "name": "stderr",
     "output_type": "stream",
     "text": [
      "D:\\Programfiles2\\anaconda\\lib\\site-packages\\ipykernel\\__main__.py:60: SettingWithCopyWarning: \n",
      "A value is trying to be set on a copy of a slice from a DataFrame.\n",
      "Try using .loc[row_indexer,col_indexer] = value instead\n",
      "\n",
      "See the caveats in the documentation: http://pandas.pydata.org/pandas-docs/stable/indexing.html#indexing-view-versus-copy\n",
      "D:\\Programfiles2\\anaconda\\lib\\site-packages\\ipykernel\\__main__.py:61: SettingWithCopyWarning: \n",
      "A value is trying to be set on a copy of a slice from a DataFrame.\n",
      "Try using .loc[row_indexer,col_indexer] = value instead\n",
      "\n",
      "See the caveats in the documentation: http://pandas.pydata.org/pandas-docs/stable/indexing.html#indexing-view-versus-copy\n"
     ]
    },
    {
     "name": "stdout",
     "output_type": "stream",
     "text": [
      "Fold  4 AUC : 0.970187\n",
      "Training until validation scores don't improve for 100 rounds.\n",
      "[100]\ttrain's auc: 0.964724\tvalid's auc: 0.942728\n",
      "[200]\ttrain's auc: 0.978442\tvalid's auc: 0.954949\n",
      "[300]\ttrain's auc: 0.984152\tvalid's auc: 0.957993\n",
      "[400]\ttrain's auc: 0.988012\tvalid's auc: 0.960663\n",
      "[500]\ttrain's auc: 0.990761\tvalid's auc: 0.961952\n",
      "[600]\ttrain's auc: 0.992782\tvalid's auc: 0.962809\n",
      "[700]\ttrain's auc: 0.994293\tvalid's auc: 0.963791\n",
      "[800]\ttrain's auc: 0.995337\tvalid's auc: 0.964085\n",
      "[900]\ttrain's auc: 0.996129\tvalid's auc: 0.964257\n",
      "Early stopping, best iteration is:\n",
      "[861]\ttrain's auc: 0.9959\tvalid's auc: 0.964488\n"
     ]
    },
    {
     "name": "stderr",
     "output_type": "stream",
     "text": [
      "D:\\Programfiles2\\anaconda\\lib\\site-packages\\ipykernel\\__main__.py:60: SettingWithCopyWarning: \n",
      "A value is trying to be set on a copy of a slice from a DataFrame.\n",
      "Try using .loc[row_indexer,col_indexer] = value instead\n",
      "\n",
      "See the caveats in the documentation: http://pandas.pydata.org/pandas-docs/stable/indexing.html#indexing-view-versus-copy\n",
      "D:\\Programfiles2\\anaconda\\lib\\site-packages\\ipykernel\\__main__.py:61: SettingWithCopyWarning: \n",
      "A value is trying to be set on a copy of a slice from a DataFrame.\n",
      "Try using .loc[row_indexer,col_indexer] = value instead\n",
      "\n",
      "See the caveats in the documentation: http://pandas.pydata.org/pandas-docs/stable/indexing.html#indexing-view-versus-copy\n"
     ]
    },
    {
     "name": "stdout",
     "output_type": "stream",
     "text": [
      "Fold  5 AUC : 0.964488\n"
     ]
    },
    {
     "name": "stderr",
     "output_type": "stream",
     "text": [
      "D:\\Programfiles2\\anaconda\\lib\\site-packages\\ipykernel\\__main__.py:70: SettingWithCopyWarning: \n",
      "A value is trying to be set on a copy of a slice from a DataFrame.\n",
      "Try using .loc[row_indexer,col_indexer] = value instead\n",
      "\n",
      "See the caveats in the documentation: http://pandas.pydata.org/pandas-docs/stable/indexing.html#indexing-view-versus-copy\n"
     ]
    },
    {
     "name": "stdout",
     "output_type": "stream",
     "text": [
      "Full AUC score 0.960856\n",
      "(24943, 531) (6236, 531) (31588, 531)\n",
      "Training until validation scores don't improve for 100 rounds.\n",
      "[100]\ttrain's auc: 0.976383\tvalid's auc: 0.961901\n",
      "[200]\ttrain's auc: 0.987292\tvalid's auc: 0.969104\n",
      "[300]\ttrain's auc: 0.992246\tvalid's auc: 0.971662\n",
      "[400]\ttrain's auc: 0.995103\tvalid's auc: 0.973094\n",
      "[500]\ttrain's auc: 0.996736\tvalid's auc: 0.973829\n",
      "[600]\ttrain's auc: 0.99771\tvalid's auc: 0.974369\n",
      "[700]\ttrain's auc: 0.998312\tvalid's auc: 0.974707\n",
      "[800]\ttrain's auc: 0.998717\tvalid's auc: 0.9751\n",
      "[900]\ttrain's auc: 0.998967\tvalid's auc: 0.975105\n",
      "[1000]\ttrain's auc: 0.999164\tvalid's auc: 0.975379\n",
      "[1100]\ttrain's auc: 0.999317\tvalid's auc: 0.975438\n",
      "[1200]\ttrain's auc: 0.999416\tvalid's auc: 0.975099\n",
      "Early stopping, best iteration is:\n",
      "[1112]\ttrain's auc: 0.999336\tvalid's auc: 0.975569\n"
     ]
    },
    {
     "name": "stderr",
     "output_type": "stream",
     "text": [
      "D:\\Programfiles2\\anaconda\\lib\\site-packages\\ipykernel\\__main__.py:60: SettingWithCopyWarning: \n",
      "A value is trying to be set on a copy of a slice from a DataFrame.\n",
      "Try using .loc[row_indexer,col_indexer] = value instead\n",
      "\n",
      "See the caveats in the documentation: http://pandas.pydata.org/pandas-docs/stable/indexing.html#indexing-view-versus-copy\n",
      "D:\\Programfiles2\\anaconda\\lib\\site-packages\\ipykernel\\__main__.py:61: SettingWithCopyWarning: \n",
      "A value is trying to be set on a copy of a slice from a DataFrame.\n",
      "Try using .loc[row_indexer,col_indexer] = value instead\n",
      "\n",
      "See the caveats in the documentation: http://pandas.pydata.org/pandas-docs/stable/indexing.html#indexing-view-versus-copy\n"
     ]
    },
    {
     "name": "stdout",
     "output_type": "stream",
     "text": [
      "Fold  1 AUC : 0.975569\n",
      "Training until validation scores don't improve for 100 rounds.\n",
      "[100]\ttrain's auc: 0.978749\tvalid's auc: 0.95325\n",
      "[200]\ttrain's auc: 0.988205\tvalid's auc: 0.960018\n",
      "[300]\ttrain's auc: 0.992689\tvalid's auc: 0.961975\n",
      "[400]\ttrain's auc: 0.995348\tvalid's auc: 0.963228\n",
      "[500]\ttrain's auc: 0.99692\tvalid's auc: 0.964091\n",
      "Early stopping, best iteration is:\n",
      "[499]\ttrain's auc: 0.996907\tvalid's auc: 0.964116\n"
     ]
    },
    {
     "name": "stderr",
     "output_type": "stream",
     "text": [
      "D:\\Programfiles2\\anaconda\\lib\\site-packages\\ipykernel\\__main__.py:60: SettingWithCopyWarning: \n",
      "A value is trying to be set on a copy of a slice from a DataFrame.\n",
      "Try using .loc[row_indexer,col_indexer] = value instead\n",
      "\n",
      "See the caveats in the documentation: http://pandas.pydata.org/pandas-docs/stable/indexing.html#indexing-view-versus-copy\n",
      "D:\\Programfiles2\\anaconda\\lib\\site-packages\\ipykernel\\__main__.py:61: SettingWithCopyWarning: \n",
      "A value is trying to be set on a copy of a slice from a DataFrame.\n",
      "Try using .loc[row_indexer,col_indexer] = value instead\n",
      "\n",
      "See the caveats in the documentation: http://pandas.pydata.org/pandas-docs/stable/indexing.html#indexing-view-versus-copy\n"
     ]
    },
    {
     "name": "stdout",
     "output_type": "stream",
     "text": [
      "Fold  2 AUC : 0.964116\n",
      "Training until validation scores don't improve for 100 rounds.\n",
      "[100]\ttrain's auc: 0.977367\tvalid's auc: 0.953859\n",
      "[200]\ttrain's auc: 0.987692\tvalid's auc: 0.959353\n",
      "[300]\ttrain's auc: 0.992824\tvalid's auc: 0.961753\n",
      "[400]\ttrain's auc: 0.995485\tvalid's auc: 0.962997\n",
      "Early stopping, best iteration is:\n",
      "[356]\ttrain's auc: 0.994507\tvalid's auc: 0.963135\n"
     ]
    },
    {
     "name": "stderr",
     "output_type": "stream",
     "text": [
      "D:\\Programfiles2\\anaconda\\lib\\site-packages\\ipykernel\\__main__.py:60: SettingWithCopyWarning: \n",
      "A value is trying to be set on a copy of a slice from a DataFrame.\n",
      "Try using .loc[row_indexer,col_indexer] = value instead\n",
      "\n",
      "See the caveats in the documentation: http://pandas.pydata.org/pandas-docs/stable/indexing.html#indexing-view-versus-copy\n",
      "D:\\Programfiles2\\anaconda\\lib\\site-packages\\ipykernel\\__main__.py:61: SettingWithCopyWarning: \n",
      "A value is trying to be set on a copy of a slice from a DataFrame.\n",
      "Try using .loc[row_indexer,col_indexer] = value instead\n",
      "\n",
      "See the caveats in the documentation: http://pandas.pydata.org/pandas-docs/stable/indexing.html#indexing-view-versus-copy\n"
     ]
    },
    {
     "name": "stdout",
     "output_type": "stream",
     "text": [
      "Fold  3 AUC : 0.963135\n",
      "Training until validation scores don't improve for 100 rounds.\n",
      "[100]\ttrain's auc: 0.939574\tvalid's auc: 0.926656\n",
      "Early stopping, best iteration is:\n",
      "[51]\ttrain's auc: 0.967272\tvalid's auc: 0.948543\n"
     ]
    },
    {
     "name": "stderr",
     "output_type": "stream",
     "text": [
      "D:\\Programfiles2\\anaconda\\lib\\site-packages\\ipykernel\\__main__.py:60: SettingWithCopyWarning: \n",
      "A value is trying to be set on a copy of a slice from a DataFrame.\n",
      "Try using .loc[row_indexer,col_indexer] = value instead\n",
      "\n",
      "See the caveats in the documentation: http://pandas.pydata.org/pandas-docs/stable/indexing.html#indexing-view-versus-copy\n",
      "D:\\Programfiles2\\anaconda\\lib\\site-packages\\ipykernel\\__main__.py:61: SettingWithCopyWarning: \n",
      "A value is trying to be set on a copy of a slice from a DataFrame.\n",
      "Try using .loc[row_indexer,col_indexer] = value instead\n",
      "\n",
      "See the caveats in the documentation: http://pandas.pydata.org/pandas-docs/stable/indexing.html#indexing-view-versus-copy\n"
     ]
    },
    {
     "name": "stdout",
     "output_type": "stream",
     "text": [
      "Fold  4 AUC : 0.948543\n",
      "Training until validation scores don't improve for 100 rounds.\n",
      "[100]\ttrain's auc: 0.977466\tvalid's auc: 0.962833\n",
      "[200]\ttrain's auc: 0.987446\tvalid's auc: 0.968758\n",
      "[300]\ttrain's auc: 0.992428\tvalid's auc: 0.970639\n",
      "[400]\ttrain's auc: 0.995267\tvalid's auc: 0.97092\n",
      "Early stopping, best iteration is:\n",
      "[369]\ttrain's auc: 0.994588\tvalid's auc: 0.971168\n"
     ]
    },
    {
     "name": "stderr",
     "output_type": "stream",
     "text": [
      "D:\\Programfiles2\\anaconda\\lib\\site-packages\\ipykernel\\__main__.py:60: SettingWithCopyWarning: \n",
      "A value is trying to be set on a copy of a slice from a DataFrame.\n",
      "Try using .loc[row_indexer,col_indexer] = value instead\n",
      "\n",
      "See the caveats in the documentation: http://pandas.pydata.org/pandas-docs/stable/indexing.html#indexing-view-versus-copy\n",
      "D:\\Programfiles2\\anaconda\\lib\\site-packages\\ipykernel\\__main__.py:61: SettingWithCopyWarning: \n",
      "A value is trying to be set on a copy of a slice from a DataFrame.\n",
      "Try using .loc[row_indexer,col_indexer] = value instead\n",
      "\n",
      "See the caveats in the documentation: http://pandas.pydata.org/pandas-docs/stable/indexing.html#indexing-view-versus-copy\n"
     ]
    },
    {
     "name": "stdout",
     "output_type": "stream",
     "text": [
      "Fold  5 AUC : 0.971168\n"
     ]
    },
    {
     "name": "stderr",
     "output_type": "stream",
     "text": [
      "D:\\Programfiles2\\anaconda\\lib\\site-packages\\ipykernel\\__main__.py:70: SettingWithCopyWarning: \n",
      "A value is trying to be set on a copy of a slice from a DataFrame.\n",
      "Try using .loc[row_indexer,col_indexer] = value instead\n",
      "\n",
      "See the caveats in the documentation: http://pandas.pydata.org/pandas-docs/stable/indexing.html#indexing-view-versus-copy\n"
     ]
    },
    {
     "name": "stdout",
     "output_type": "stream",
     "text": [
      "Full AUC score 0.962996\n",
      "(24943, 531) (6236, 531) (31588, 531)\n",
      "Training until validation scores don't improve for 100 rounds.\n",
      "[100]\ttrain's auc: 0.935054\tvalid's auc: 0.923166\n",
      "Early stopping, best iteration is:\n",
      "[59]\ttrain's auc: 0.964104\tvalid's auc: 0.94804\n"
     ]
    },
    {
     "name": "stderr",
     "output_type": "stream",
     "text": [
      "D:\\Programfiles2\\anaconda\\lib\\site-packages\\ipykernel\\__main__.py:60: SettingWithCopyWarning: \n",
      "A value is trying to be set on a copy of a slice from a DataFrame.\n",
      "Try using .loc[row_indexer,col_indexer] = value instead\n",
      "\n",
      "See the caveats in the documentation: http://pandas.pydata.org/pandas-docs/stable/indexing.html#indexing-view-versus-copy\n",
      "D:\\Programfiles2\\anaconda\\lib\\site-packages\\ipykernel\\__main__.py:61: SettingWithCopyWarning: \n",
      "A value is trying to be set on a copy of a slice from a DataFrame.\n",
      "Try using .loc[row_indexer,col_indexer] = value instead\n",
      "\n",
      "See the caveats in the documentation: http://pandas.pydata.org/pandas-docs/stable/indexing.html#indexing-view-versus-copy\n"
     ]
    },
    {
     "name": "stdout",
     "output_type": "stream",
     "text": [
      "Fold  1 AUC : 0.948040\n",
      "Training until validation scores don't improve for 100 rounds.\n",
      "[100]\ttrain's auc: 0.971856\tvalid's auc: 0.957278\n",
      "[200]\ttrain's auc: 0.98371\tvalid's auc: 0.964103\n",
      "[300]\ttrain's auc: 0.989346\tvalid's auc: 0.967392\n",
      "[400]\ttrain's auc: 0.992855\tvalid's auc: 0.968872\n",
      "[500]\ttrain's auc: 0.995096\tvalid's auc: 0.970121\n",
      "[600]\ttrain's auc: 0.99649\tvalid's auc: 0.970545\n",
      "[700]\ttrain's auc: 0.99747\tvalid's auc: 0.970877\n",
      "[800]\ttrain's auc: 0.998111\tvalid's auc: 0.970879\n",
      "Early stopping, best iteration is:\n",
      "[731]\ttrain's auc: 0.997707\tvalid's auc: 0.971019\n"
     ]
    },
    {
     "name": "stderr",
     "output_type": "stream",
     "text": [
      "D:\\Programfiles2\\anaconda\\lib\\site-packages\\ipykernel\\__main__.py:60: SettingWithCopyWarning: \n",
      "A value is trying to be set on a copy of a slice from a DataFrame.\n",
      "Try using .loc[row_indexer,col_indexer] = value instead\n",
      "\n",
      "See the caveats in the documentation: http://pandas.pydata.org/pandas-docs/stable/indexing.html#indexing-view-versus-copy\n",
      "D:\\Programfiles2\\anaconda\\lib\\site-packages\\ipykernel\\__main__.py:61: SettingWithCopyWarning: \n",
      "A value is trying to be set on a copy of a slice from a DataFrame.\n",
      "Try using .loc[row_indexer,col_indexer] = value instead\n",
      "\n",
      "See the caveats in the documentation: http://pandas.pydata.org/pandas-docs/stable/indexing.html#indexing-view-versus-copy\n"
     ]
    },
    {
     "name": "stdout",
     "output_type": "stream",
     "text": [
      "Fold  2 AUC : 0.971019\n",
      "Training until validation scores don't improve for 100 rounds.\n",
      "[100]\ttrain's auc: 0.97322\tvalid's auc: 0.957705\n",
      "[200]\ttrain's auc: 0.98403\tvalid's auc: 0.964381\n",
      "[300]\ttrain's auc: 0.989771\tvalid's auc: 0.967019\n",
      "[400]\ttrain's auc: 0.993156\tvalid's auc: 0.96796\n",
      "[500]\ttrain's auc: 0.995248\tvalid's auc: 0.968856\n",
      "[600]\ttrain's auc: 0.996663\tvalid's auc: 0.969373\n",
      "[700]\ttrain's auc: 0.997583\tvalid's auc: 0.969767\n",
      "[800]\ttrain's auc: 0.998206\tvalid's auc: 0.970587\n",
      "[900]\ttrain's auc: 0.998654\tvalid's auc: 0.970999\n",
      "[1000]\ttrain's auc: 0.998953\tvalid's auc: 0.971709\n",
      "[1100]\ttrain's auc: 0.999175\tvalid's auc: 0.971977\n",
      "Early stopping, best iteration is:\n",
      "[1091]\ttrain's auc: 0.999159\tvalid's auc: 0.972117\n"
     ]
    },
    {
     "name": "stderr",
     "output_type": "stream",
     "text": [
      "D:\\Programfiles2\\anaconda\\lib\\site-packages\\ipykernel\\__main__.py:60: SettingWithCopyWarning: \n",
      "A value is trying to be set on a copy of a slice from a DataFrame.\n",
      "Try using .loc[row_indexer,col_indexer] = value instead\n",
      "\n",
      "See the caveats in the documentation: http://pandas.pydata.org/pandas-docs/stable/indexing.html#indexing-view-versus-copy\n",
      "D:\\Programfiles2\\anaconda\\lib\\site-packages\\ipykernel\\__main__.py:61: SettingWithCopyWarning: \n",
      "A value is trying to be set on a copy of a slice from a DataFrame.\n",
      "Try using .loc[row_indexer,col_indexer] = value instead\n",
      "\n",
      "See the caveats in the documentation: http://pandas.pydata.org/pandas-docs/stable/indexing.html#indexing-view-versus-copy\n"
     ]
    },
    {
     "name": "stdout",
     "output_type": "stream",
     "text": [
      "Fold  3 AUC : 0.972117\n",
      "Training until validation scores don't improve for 100 rounds.\n",
      "[100]\ttrain's auc: 0.971656\tvalid's auc: 0.944101\n",
      "[200]\ttrain's auc: 0.983951\tvalid's auc: 0.955945\n",
      "[300]\ttrain's auc: 0.989768\tvalid's auc: 0.959302\n",
      "[400]\ttrain's auc: 0.993225\tvalid's auc: 0.960907\n",
      "[500]\ttrain's auc: 0.995313\tvalid's auc: 0.961422\n",
      "[600]\ttrain's auc: 0.9967\tvalid's auc: 0.961323\n",
      "Early stopping, best iteration is:\n",
      "[505]\ttrain's auc: 0.99539\tvalid's auc: 0.961506\n"
     ]
    },
    {
     "name": "stderr",
     "output_type": "stream",
     "text": [
      "D:\\Programfiles2\\anaconda\\lib\\site-packages\\ipykernel\\__main__.py:60: SettingWithCopyWarning: \n",
      "A value is trying to be set on a copy of a slice from a DataFrame.\n",
      "Try using .loc[row_indexer,col_indexer] = value instead\n",
      "\n",
      "See the caveats in the documentation: http://pandas.pydata.org/pandas-docs/stable/indexing.html#indexing-view-versus-copy\n",
      "D:\\Programfiles2\\anaconda\\lib\\site-packages\\ipykernel\\__main__.py:61: SettingWithCopyWarning: \n",
      "A value is trying to be set on a copy of a slice from a DataFrame.\n",
      "Try using .loc[row_indexer,col_indexer] = value instead\n",
      "\n",
      "See the caveats in the documentation: http://pandas.pydata.org/pandas-docs/stable/indexing.html#indexing-view-versus-copy\n"
     ]
    },
    {
     "name": "stdout",
     "output_type": "stream",
     "text": [
      "Fold  4 AUC : 0.961506\n",
      "Training until validation scores don't improve for 100 rounds.\n",
      "[100]\ttrain's auc: 0.971383\tvalid's auc: 0.954368\n",
      "[200]\ttrain's auc: 0.983534\tvalid's auc: 0.962624\n",
      "[300]\ttrain's auc: 0.989296\tvalid's auc: 0.96584\n",
      "[400]\ttrain's auc: 0.992769\tvalid's auc: 0.966668\n",
      "[500]\ttrain's auc: 0.994949\tvalid's auc: 0.967324\n",
      "[600]\ttrain's auc: 0.996483\tvalid's auc: 0.968226\n",
      "[700]\ttrain's auc: 0.997445\tvalid's auc: 0.968451\n",
      "[800]\ttrain's auc: 0.99811\tvalid's auc: 0.968548\n",
      "[900]\ttrain's auc: 0.998542\tvalid's auc: 0.968617\n",
      "[1000]\ttrain's auc: 0.998873\tvalid's auc: 0.96866\n",
      "[1100]\ttrain's auc: 0.999112\tvalid's auc: 0.968702\n",
      "Early stopping, best iteration is:\n",
      "[1071]\ttrain's auc: 0.999051\tvalid's auc: 0.968806\n"
     ]
    },
    {
     "name": "stderr",
     "output_type": "stream",
     "text": [
      "D:\\Programfiles2\\anaconda\\lib\\site-packages\\ipykernel\\__main__.py:60: SettingWithCopyWarning: \n",
      "A value is trying to be set on a copy of a slice from a DataFrame.\n",
      "Try using .loc[row_indexer,col_indexer] = value instead\n",
      "\n",
      "See the caveats in the documentation: http://pandas.pydata.org/pandas-docs/stable/indexing.html#indexing-view-versus-copy\n",
      "D:\\Programfiles2\\anaconda\\lib\\site-packages\\ipykernel\\__main__.py:61: SettingWithCopyWarning: \n",
      "A value is trying to be set on a copy of a slice from a DataFrame.\n",
      "Try using .loc[row_indexer,col_indexer] = value instead\n",
      "\n",
      "See the caveats in the documentation: http://pandas.pydata.org/pandas-docs/stable/indexing.html#indexing-view-versus-copy\n"
     ]
    },
    {
     "name": "stdout",
     "output_type": "stream",
     "text": [
      "Fold  5 AUC : 0.968806\n"
     ]
    },
    {
     "name": "stderr",
     "output_type": "stream",
     "text": [
      "D:\\Programfiles2\\anaconda\\lib\\site-packages\\ipykernel\\__main__.py:70: SettingWithCopyWarning: \n",
      "A value is trying to be set on a copy of a slice from a DataFrame.\n",
      "Try using .loc[row_indexer,col_indexer] = value instead\n",
      "\n",
      "See the caveats in the documentation: http://pandas.pydata.org/pandas-docs/stable/indexing.html#indexing-view-versus-copy\n"
     ]
    },
    {
     "name": "stdout",
     "output_type": "stream",
     "text": [
      "Full AUC score 0.962264\n",
      "(24943, 531) (6236, 531) (31588, 531)\n",
      "Training until validation scores don't improve for 100 rounds.\n",
      "[100]\ttrain's auc: 0.963761\tvalid's auc: 0.94935\n",
      "[200]\ttrain's auc: 0.976056\tvalid's auc: 0.964369\n",
      "[300]\ttrain's auc: 0.981175\tvalid's auc: 0.96833\n",
      "[400]\ttrain's auc: 0.984467\tvalid's auc: 0.97027\n",
      "[500]\ttrain's auc: 0.986983\tvalid's auc: 0.971382\n",
      "[600]\ttrain's auc: 0.988717\tvalid's auc: 0.971821\n",
      "[700]\ttrain's auc: 0.989744\tvalid's auc: 0.972039\n",
      "[800]\ttrain's auc: 0.990472\tvalid's auc: 0.972389\n",
      "Early stopping, best iteration is:\n",
      "[792]\ttrain's auc: 0.990473\tvalid's auc: 0.972389\n"
     ]
    },
    {
     "name": "stderr",
     "output_type": "stream",
     "text": [
      "D:\\Programfiles2\\anaconda\\lib\\site-packages\\ipykernel\\__main__.py:60: SettingWithCopyWarning: \n",
      "A value is trying to be set on a copy of a slice from a DataFrame.\n",
      "Try using .loc[row_indexer,col_indexer] = value instead\n",
      "\n",
      "See the caveats in the documentation: http://pandas.pydata.org/pandas-docs/stable/indexing.html#indexing-view-versus-copy\n",
      "D:\\Programfiles2\\anaconda\\lib\\site-packages\\ipykernel\\__main__.py:61: SettingWithCopyWarning: \n",
      "A value is trying to be set on a copy of a slice from a DataFrame.\n",
      "Try using .loc[row_indexer,col_indexer] = value instead\n",
      "\n",
      "See the caveats in the documentation: http://pandas.pydata.org/pandas-docs/stable/indexing.html#indexing-view-versus-copy\n"
     ]
    },
    {
     "name": "stdout",
     "output_type": "stream",
     "text": [
      "Fold  1 AUC : 0.972389\n",
      "Training until validation scores don't improve for 100 rounds.\n",
      "[100]\ttrain's auc: 0.964439\tvalid's auc: 0.935602\n",
      "[200]\ttrain's auc: 0.976992\tvalid's auc: 0.949521\n",
      "[300]\ttrain's auc: 0.981567\tvalid's auc: 0.952682\n",
      "[400]\ttrain's auc: 0.985122\tvalid's auc: 0.955076\n",
      "[500]\ttrain's auc: 0.98739\tvalid's auc: 0.956242\n",
      "[600]\ttrain's auc: 0.98889\tvalid's auc: 0.957058\n",
      "[700]\ttrain's auc: 0.98979\tvalid's auc: 0.957218\n",
      "[800]\ttrain's auc: 0.990616\tvalid's auc: 0.958096\n",
      "[900]\ttrain's auc: 0.990862\tvalid's auc: 0.958063\n",
      "Early stopping, best iteration is:\n",
      "[808]\ttrain's auc: 0.990678\tvalid's auc: 0.958103\n"
     ]
    },
    {
     "name": "stderr",
     "output_type": "stream",
     "text": [
      "D:\\Programfiles2\\anaconda\\lib\\site-packages\\ipykernel\\__main__.py:60: SettingWithCopyWarning: \n",
      "A value is trying to be set on a copy of a slice from a DataFrame.\n",
      "Try using .loc[row_indexer,col_indexer] = value instead\n",
      "\n",
      "See the caveats in the documentation: http://pandas.pydata.org/pandas-docs/stable/indexing.html#indexing-view-versus-copy\n",
      "D:\\Programfiles2\\anaconda\\lib\\site-packages\\ipykernel\\__main__.py:61: SettingWithCopyWarning: \n",
      "A value is trying to be set on a copy of a slice from a DataFrame.\n",
      "Try using .loc[row_indexer,col_indexer] = value instead\n",
      "\n",
      "See the caveats in the documentation: http://pandas.pydata.org/pandas-docs/stable/indexing.html#indexing-view-versus-copy\n"
     ]
    },
    {
     "name": "stdout",
     "output_type": "stream",
     "text": [
      "Fold  2 AUC : 0.958090\n",
      "Training until validation scores don't improve for 100 rounds.\n",
      "[100]\ttrain's auc: 0.92519\tvalid's auc: 0.913787\n",
      "Early stopping, best iteration is:\n",
      "[63]\ttrain's auc: 0.954695\tvalid's auc: 0.939403\n"
     ]
    },
    {
     "name": "stderr",
     "output_type": "stream",
     "text": [
      "D:\\Programfiles2\\anaconda\\lib\\site-packages\\ipykernel\\__main__.py:60: SettingWithCopyWarning: \n",
      "A value is trying to be set on a copy of a slice from a DataFrame.\n",
      "Try using .loc[row_indexer,col_indexer] = value instead\n",
      "\n",
      "See the caveats in the documentation: http://pandas.pydata.org/pandas-docs/stable/indexing.html#indexing-view-versus-copy\n",
      "D:\\Programfiles2\\anaconda\\lib\\site-packages\\ipykernel\\__main__.py:61: SettingWithCopyWarning: \n",
      "A value is trying to be set on a copy of a slice from a DataFrame.\n",
      "Try using .loc[row_indexer,col_indexer] = value instead\n",
      "\n",
      "See the caveats in the documentation: http://pandas.pydata.org/pandas-docs/stable/indexing.html#indexing-view-versus-copy\n"
     ]
    },
    {
     "name": "stdout",
     "output_type": "stream",
     "text": [
      "Fold  3 AUC : 0.939403\n",
      "Training until validation scores don't improve for 100 rounds.\n",
      "[100]\ttrain's auc: 0.963379\tvalid's auc: 0.952618\n",
      "[200]\ttrain's auc: 0.975919\tvalid's auc: 0.963257\n",
      "[300]\ttrain's auc: 0.980739\tvalid's auc: 0.965774\n",
      "[400]\ttrain's auc: 0.984094\tvalid's auc: 0.967173\n",
      "[500]\ttrain's auc: 0.986563\tvalid's auc: 0.96784\n",
      "[600]\ttrain's auc: 0.988219\tvalid's auc: 0.968311\n",
      "[700]\ttrain's auc: 0.989186\tvalid's auc: 0.968343\n",
      "Early stopping, best iteration is:\n",
      "[667]\ttrain's auc: 0.989\tvalid's auc: 0.968414\n"
     ]
    },
    {
     "name": "stderr",
     "output_type": "stream",
     "text": [
      "D:\\Programfiles2\\anaconda\\lib\\site-packages\\ipykernel\\__main__.py:60: SettingWithCopyWarning: \n",
      "A value is trying to be set on a copy of a slice from a DataFrame.\n",
      "Try using .loc[row_indexer,col_indexer] = value instead\n",
      "\n",
      "See the caveats in the documentation: http://pandas.pydata.org/pandas-docs/stable/indexing.html#indexing-view-versus-copy\n",
      "D:\\Programfiles2\\anaconda\\lib\\site-packages\\ipykernel\\__main__.py:61: SettingWithCopyWarning: \n",
      "A value is trying to be set on a copy of a slice from a DataFrame.\n",
      "Try using .loc[row_indexer,col_indexer] = value instead\n",
      "\n",
      "See the caveats in the documentation: http://pandas.pydata.org/pandas-docs/stable/indexing.html#indexing-view-versus-copy\n"
     ]
    },
    {
     "name": "stdout",
     "output_type": "stream",
     "text": [
      "Fold  4 AUC : 0.968414\n",
      "Training until validation scores don't improve for 100 rounds.\n",
      "[100]\ttrain's auc: 0.964804\tvalid's auc: 0.944947\n",
      "[200]\ttrain's auc: 0.977725\tvalid's auc: 0.953558\n",
      "[300]\ttrain's auc: 0.98222\tvalid's auc: 0.955754\n",
      "[400]\ttrain's auc: 0.985645\tvalid's auc: 0.957534\n",
      "[500]\ttrain's auc: 0.987932\tvalid's auc: 0.95842\n",
      "[600]\ttrain's auc: 0.98948\tvalid's auc: 0.958926\n",
      "[700]\ttrain's auc: 0.990446\tvalid's auc: 0.959245\n",
      "[800]\ttrain's auc: 0.990963\tvalid's auc: 0.959479\n",
      "Early stopping, best iteration is:\n",
      "[749]\ttrain's auc: 0.990795\tvalid's auc: 0.959604\n"
     ]
    },
    {
     "name": "stderr",
     "output_type": "stream",
     "text": [
      "D:\\Programfiles2\\anaconda\\lib\\site-packages\\ipykernel\\__main__.py:60: SettingWithCopyWarning: \n",
      "A value is trying to be set on a copy of a slice from a DataFrame.\n",
      "Try using .loc[row_indexer,col_indexer] = value instead\n",
      "\n",
      "See the caveats in the documentation: http://pandas.pydata.org/pandas-docs/stable/indexing.html#indexing-view-versus-copy\n",
      "D:\\Programfiles2\\anaconda\\lib\\site-packages\\ipykernel\\__main__.py:61: SettingWithCopyWarning: \n",
      "A value is trying to be set on a copy of a slice from a DataFrame.\n",
      "Try using .loc[row_indexer,col_indexer] = value instead\n",
      "\n",
      "See the caveats in the documentation: http://pandas.pydata.org/pandas-docs/stable/indexing.html#indexing-view-versus-copy\n"
     ]
    },
    {
     "name": "stdout",
     "output_type": "stream",
     "text": [
      "Fold  5 AUC : 0.959604\n"
     ]
    },
    {
     "name": "stderr",
     "output_type": "stream",
     "text": [
      "D:\\Programfiles2\\anaconda\\lib\\site-packages\\ipykernel\\__main__.py:70: SettingWithCopyWarning: \n",
      "A value is trying to be set on a copy of a slice from a DataFrame.\n",
      "Try using .loc[row_indexer,col_indexer] = value instead\n",
      "\n",
      "See the caveats in the documentation: http://pandas.pydata.org/pandas-docs/stable/indexing.html#indexing-view-versus-copy\n"
     ]
    },
    {
     "name": "stdout",
     "output_type": "stream",
     "text": [
      "Full AUC score 0.957996\n",
      "(24943, 531) (6236, 531) (31588, 531)\n",
      "Training until validation scores don't improve for 100 rounds.\n",
      "[100]\ttrain's auc: 0.973884\tvalid's auc: 0.950821\n",
      "[200]\ttrain's auc: 0.985159\tvalid's auc: 0.958369\n",
      "[300]\ttrain's auc: 0.990606\tvalid's auc: 0.961689\n",
      "[400]\ttrain's auc: 0.993742\tvalid's auc: 0.962967\n",
      "[500]\ttrain's auc: 0.995781\tvalid's auc: 0.964287\n",
      "[600]\ttrain's auc: 0.997023\tvalid's auc: 0.964617\n",
      "[700]\ttrain's auc: 0.997869\tvalid's auc: 0.965061\n",
      "[800]\ttrain's auc: 0.998426\tvalid's auc: 0.965363\n",
      "[900]\ttrain's auc: 0.998803\tvalid's auc: 0.965502\n",
      "[1000]\ttrain's auc: 0.999082\tvalid's auc: 0.96566\n",
      "[1100]\ttrain's auc: 0.999277\tvalid's auc: 0.965658\n",
      "Early stopping, best iteration is:\n",
      "[1027]\ttrain's auc: 0.999147\tvalid's auc: 0.965821\n"
     ]
    },
    {
     "name": "stderr",
     "output_type": "stream",
     "text": [
      "D:\\Programfiles2\\anaconda\\lib\\site-packages\\ipykernel\\__main__.py:60: SettingWithCopyWarning: \n",
      "A value is trying to be set on a copy of a slice from a DataFrame.\n",
      "Try using .loc[row_indexer,col_indexer] = value instead\n",
      "\n",
      "See the caveats in the documentation: http://pandas.pydata.org/pandas-docs/stable/indexing.html#indexing-view-versus-copy\n",
      "D:\\Programfiles2\\anaconda\\lib\\site-packages\\ipykernel\\__main__.py:61: SettingWithCopyWarning: \n",
      "A value is trying to be set on a copy of a slice from a DataFrame.\n",
      "Try using .loc[row_indexer,col_indexer] = value instead\n",
      "\n",
      "See the caveats in the documentation: http://pandas.pydata.org/pandas-docs/stable/indexing.html#indexing-view-versus-copy\n"
     ]
    },
    {
     "name": "stdout",
     "output_type": "stream",
     "text": [
      "Fold  1 AUC : 0.965821\n",
      "Training until validation scores don't improve for 100 rounds.\n",
      "[100]\ttrain's auc: 0.972993\tvalid's auc: 0.954223\n",
      "[200]\ttrain's auc: 0.984509\tvalid's auc: 0.964012\n",
      "[300]\ttrain's auc: 0.98994\tvalid's auc: 0.966908\n",
      "[400]\ttrain's auc: 0.993367\tvalid's auc: 0.968129\n",
      "[500]\ttrain's auc: 0.995568\tvalid's auc: 0.969428\n",
      "[600]\ttrain's auc: 0.996898\tvalid's auc: 0.969955\n",
      "[700]\ttrain's auc: 0.997763\tvalid's auc: 0.970064\n",
      "[800]\ttrain's auc: 0.998358\tvalid's auc: 0.970254\n",
      "[900]\ttrain's auc: 0.998766\tvalid's auc: 0.970267\n",
      "Early stopping, best iteration is:\n",
      "[854]\ttrain's auc: 0.998588\tvalid's auc: 0.970481\n"
     ]
    },
    {
     "name": "stderr",
     "output_type": "stream",
     "text": [
      "D:\\Programfiles2\\anaconda\\lib\\site-packages\\ipykernel\\__main__.py:60: SettingWithCopyWarning: \n",
      "A value is trying to be set on a copy of a slice from a DataFrame.\n",
      "Try using .loc[row_indexer,col_indexer] = value instead\n",
      "\n",
      "See the caveats in the documentation: http://pandas.pydata.org/pandas-docs/stable/indexing.html#indexing-view-versus-copy\n",
      "D:\\Programfiles2\\anaconda\\lib\\site-packages\\ipykernel\\__main__.py:61: SettingWithCopyWarning: \n",
      "A value is trying to be set on a copy of a slice from a DataFrame.\n",
      "Try using .loc[row_indexer,col_indexer] = value instead\n",
      "\n",
      "See the caveats in the documentation: http://pandas.pydata.org/pandas-docs/stable/indexing.html#indexing-view-versus-copy\n"
     ]
    },
    {
     "name": "stdout",
     "output_type": "stream",
     "text": [
      "Fold  2 AUC : 0.970481\n",
      "Training until validation scores don't improve for 100 rounds.\n",
      "[100]\ttrain's auc: 0.971769\tvalid's auc: 0.960033\n",
      "[200]\ttrain's auc: 0.983909\tvalid's auc: 0.968811\n",
      "[300]\ttrain's auc: 0.989751\tvalid's auc: 0.971341\n",
      "[400]\ttrain's auc: 0.993239\tvalid's auc: 0.97241\n",
      "[500]\ttrain's auc: 0.995395\tvalid's auc: 0.972271\n",
      "[600]\ttrain's auc: 0.996829\tvalid's auc: 0.972988\n",
      "[700]\ttrain's auc: 0.997727\tvalid's auc: 0.973081\n",
      "Early stopping, best iteration is:\n",
      "[642]\ttrain's auc: 0.99726\tvalid's auc: 0.973349\n"
     ]
    },
    {
     "name": "stderr",
     "output_type": "stream",
     "text": [
      "D:\\Programfiles2\\anaconda\\lib\\site-packages\\ipykernel\\__main__.py:60: SettingWithCopyWarning: \n",
      "A value is trying to be set on a copy of a slice from a DataFrame.\n",
      "Try using .loc[row_indexer,col_indexer] = value instead\n",
      "\n",
      "See the caveats in the documentation: http://pandas.pydata.org/pandas-docs/stable/indexing.html#indexing-view-versus-copy\n",
      "D:\\Programfiles2\\anaconda\\lib\\site-packages\\ipykernel\\__main__.py:61: SettingWithCopyWarning: \n",
      "A value is trying to be set on a copy of a slice from a DataFrame.\n",
      "Try using .loc[row_indexer,col_indexer] = value instead\n",
      "\n",
      "See the caveats in the documentation: http://pandas.pydata.org/pandas-docs/stable/indexing.html#indexing-view-versus-copy\n"
     ]
    },
    {
     "name": "stdout",
     "output_type": "stream",
     "text": [
      "Fold  3 AUC : 0.973349\n",
      "Training until validation scores don't improve for 100 rounds.\n",
      "[100]\ttrain's auc: 0.935983\tvalid's auc: 0.911456\n",
      "Early stopping, best iteration is:\n",
      "[60]\ttrain's auc: 0.964919\tvalid's auc: 0.941626\n"
     ]
    },
    {
     "name": "stderr",
     "output_type": "stream",
     "text": [
      "D:\\Programfiles2\\anaconda\\lib\\site-packages\\ipykernel\\__main__.py:60: SettingWithCopyWarning: \n",
      "A value is trying to be set on a copy of a slice from a DataFrame.\n",
      "Try using .loc[row_indexer,col_indexer] = value instead\n",
      "\n",
      "See the caveats in the documentation: http://pandas.pydata.org/pandas-docs/stable/indexing.html#indexing-view-versus-copy\n",
      "D:\\Programfiles2\\anaconda\\lib\\site-packages\\ipykernel\\__main__.py:61: SettingWithCopyWarning: \n",
      "A value is trying to be set on a copy of a slice from a DataFrame.\n",
      "Try using .loc[row_indexer,col_indexer] = value instead\n",
      "\n",
      "See the caveats in the documentation: http://pandas.pydata.org/pandas-docs/stable/indexing.html#indexing-view-versus-copy\n"
     ]
    },
    {
     "name": "stdout",
     "output_type": "stream",
     "text": [
      "Fold  4 AUC : 0.941626\n",
      "Training until validation scores don't improve for 100 rounds.\n",
      "[100]\ttrain's auc: 0.972357\tvalid's auc: 0.954258\n",
      "[200]\ttrain's auc: 0.983868\tvalid's auc: 0.962843\n",
      "[300]\ttrain's auc: 0.989598\tvalid's auc: 0.966367\n",
      "[400]\ttrain's auc: 0.993193\tvalid's auc: 0.967718\n",
      "[500]\ttrain's auc: 0.995325\tvalid's auc: 0.968071\n",
      "[600]\ttrain's auc: 0.996753\tvalid's auc: 0.968691\n",
      "[700]\ttrain's auc: 0.997676\tvalid's auc: 0.969015\n",
      "[800]\ttrain's auc: 0.998291\tvalid's auc: 0.969216\n",
      "[900]\ttrain's auc: 0.9987\tvalid's auc: 0.969413\n",
      "[1000]\ttrain's auc: 0.998984\tvalid's auc: 0.96932\n",
      "[1100]\ttrain's auc: 0.999201\tvalid's auc: 0.969492\n",
      "Early stopping, best iteration is:\n",
      "[1056]\ttrain's auc: 0.999116\tvalid's auc: 0.969731\n"
     ]
    },
    {
     "name": "stderr",
     "output_type": "stream",
     "text": [
      "D:\\Programfiles2\\anaconda\\lib\\site-packages\\ipykernel\\__main__.py:60: SettingWithCopyWarning: \n",
      "A value is trying to be set on a copy of a slice from a DataFrame.\n",
      "Try using .loc[row_indexer,col_indexer] = value instead\n",
      "\n",
      "See the caveats in the documentation: http://pandas.pydata.org/pandas-docs/stable/indexing.html#indexing-view-versus-copy\n",
      "D:\\Programfiles2\\anaconda\\lib\\site-packages\\ipykernel\\__main__.py:61: SettingWithCopyWarning: \n",
      "A value is trying to be set on a copy of a slice from a DataFrame.\n",
      "Try using .loc[row_indexer,col_indexer] = value instead\n",
      "\n",
      "See the caveats in the documentation: http://pandas.pydata.org/pandas-docs/stable/indexing.html#indexing-view-versus-copy\n"
     ]
    },
    {
     "name": "stdout",
     "output_type": "stream",
     "text": [
      "Fold  5 AUC : 0.969731\n"
     ]
    },
    {
     "name": "stderr",
     "output_type": "stream",
     "text": [
      "D:\\Programfiles2\\anaconda\\lib\\site-packages\\ipykernel\\__main__.py:70: SettingWithCopyWarning: \n",
      "A value is trying to be set on a copy of a slice from a DataFrame.\n",
      "Try using .loc[row_indexer,col_indexer] = value instead\n",
      "\n",
      "See the caveats in the documentation: http://pandas.pydata.org/pandas-docs/stable/indexing.html#indexing-view-versus-copy\n"
     ]
    },
    {
     "name": "stdout",
     "output_type": "stream",
     "text": [
      "Full AUC score 0.963148\n",
      "(24943, 503) (6236, 503) (31588, 503)\n",
      "Training until validation scores don't improve for 100 rounds.\n",
      "[100]\ttrain's auc: 0.962443\tvalid's auc: 0.94515\n",
      "[200]\ttrain's auc: 0.975763\tvalid's auc: 0.957723\n",
      "[300]\ttrain's auc: 0.981356\tvalid's auc: 0.960818\n",
      "[400]\ttrain's auc: 0.985286\tvalid's auc: 0.96327\n",
      "[500]\ttrain's auc: 0.988155\tvalid's auc: 0.964614\n",
      "[600]\ttrain's auc: 0.990368\tvalid's auc: 0.965687\n",
      "[700]\ttrain's auc: 0.991989\tvalid's auc: 0.966031\n",
      "[800]\ttrain's auc: 0.993291\tvalid's auc: 0.966208\n",
      "Early stopping, best iteration is:\n",
      "[758]\ttrain's auc: 0.992791\tvalid's auc: 0.966467\n"
     ]
    },
    {
     "name": "stderr",
     "output_type": "stream",
     "text": [
      "D:\\Programfiles2\\anaconda\\lib\\site-packages\\ipykernel\\__main__.py:60: SettingWithCopyWarning: \n",
      "A value is trying to be set on a copy of a slice from a DataFrame.\n",
      "Try using .loc[row_indexer,col_indexer] = value instead\n",
      "\n",
      "See the caveats in the documentation: http://pandas.pydata.org/pandas-docs/stable/indexing.html#indexing-view-versus-copy\n",
      "D:\\Programfiles2\\anaconda\\lib\\site-packages\\ipykernel\\__main__.py:61: SettingWithCopyWarning: \n",
      "A value is trying to be set on a copy of a slice from a DataFrame.\n",
      "Try using .loc[row_indexer,col_indexer] = value instead\n",
      "\n",
      "See the caveats in the documentation: http://pandas.pydata.org/pandas-docs/stable/indexing.html#indexing-view-versus-copy\n"
     ]
    },
    {
     "name": "stdout",
     "output_type": "stream",
     "text": [
      "Fold  1 AUC : 0.966467\n",
      "Training until validation scores don't improve for 100 rounds.\n",
      "[100]\ttrain's auc: 0.926336\tvalid's auc: 0.917803\n",
      "Early stopping, best iteration is:\n",
      "[61]\ttrain's auc: 0.954846\tvalid's auc: 0.940746\n"
     ]
    },
    {
     "name": "stderr",
     "output_type": "stream",
     "text": [
      "D:\\Programfiles2\\anaconda\\lib\\site-packages\\ipykernel\\__main__.py:60: SettingWithCopyWarning: \n",
      "A value is trying to be set on a copy of a slice from a DataFrame.\n",
      "Try using .loc[row_indexer,col_indexer] = value instead\n",
      "\n",
      "See the caveats in the documentation: http://pandas.pydata.org/pandas-docs/stable/indexing.html#indexing-view-versus-copy\n",
      "D:\\Programfiles2\\anaconda\\lib\\site-packages\\ipykernel\\__main__.py:61: SettingWithCopyWarning: \n",
      "A value is trying to be set on a copy of a slice from a DataFrame.\n",
      "Try using .loc[row_indexer,col_indexer] = value instead\n",
      "\n",
      "See the caveats in the documentation: http://pandas.pydata.org/pandas-docs/stable/indexing.html#indexing-view-versus-copy\n"
     ]
    },
    {
     "name": "stdout",
     "output_type": "stream",
     "text": [
      "Fold  2 AUC : 0.940746\n",
      "Training until validation scores don't improve for 100 rounds.\n",
      "[100]\ttrain's auc: 0.96268\tvalid's auc: 0.944432\n",
      "[200]\ttrain's auc: 0.975973\tvalid's auc: 0.95852\n",
      "[300]\ttrain's auc: 0.981702\tvalid's auc: 0.961801\n",
      "[400]\ttrain's auc: 0.985624\tvalid's auc: 0.963351\n",
      "[500]\ttrain's auc: 0.988406\tvalid's auc: 0.96449\n",
      "[600]\ttrain's auc: 0.990538\tvalid's auc: 0.965222\n",
      "[700]\ttrain's auc: 0.992191\tvalid's auc: 0.965118\n",
      "Early stopping, best iteration is:\n",
      "[665]\ttrain's auc: 0.991694\tvalid's auc: 0.965322\n"
     ]
    },
    {
     "name": "stderr",
     "output_type": "stream",
     "text": [
      "D:\\Programfiles2\\anaconda\\lib\\site-packages\\ipykernel\\__main__.py:60: SettingWithCopyWarning: \n",
      "A value is trying to be set on a copy of a slice from a DataFrame.\n",
      "Try using .loc[row_indexer,col_indexer] = value instead\n",
      "\n",
      "See the caveats in the documentation: http://pandas.pydata.org/pandas-docs/stable/indexing.html#indexing-view-versus-copy\n",
      "D:\\Programfiles2\\anaconda\\lib\\site-packages\\ipykernel\\__main__.py:61: SettingWithCopyWarning: \n",
      "A value is trying to be set on a copy of a slice from a DataFrame.\n",
      "Try using .loc[row_indexer,col_indexer] = value instead\n",
      "\n",
      "See the caveats in the documentation: http://pandas.pydata.org/pandas-docs/stable/indexing.html#indexing-view-versus-copy\n"
     ]
    },
    {
     "name": "stdout",
     "output_type": "stream",
     "text": [
      "Fold  3 AUC : 0.965322\n",
      "Training until validation scores don't improve for 100 rounds.\n",
      "[100]\ttrain's auc: 0.963071\tvalid's auc: 0.953178\n",
      "[200]\ttrain's auc: 0.976267\tvalid's auc: 0.962899\n",
      "[300]\ttrain's auc: 0.981951\tvalid's auc: 0.965284\n",
      "[400]\ttrain's auc: 0.985956\tvalid's auc: 0.966364\n",
      "[500]\ttrain's auc: 0.988708\tvalid's auc: 0.967042\n",
      "[600]\ttrain's auc: 0.990798\tvalid's auc: 0.967258\n",
      "[700]\ttrain's auc: 0.992427\tvalid's auc: 0.967389\n",
      "Early stopping, best iteration is:\n",
      "[658]\ttrain's auc: 0.991812\tvalid's auc: 0.967527\n"
     ]
    },
    {
     "name": "stderr",
     "output_type": "stream",
     "text": [
      "D:\\Programfiles2\\anaconda\\lib\\site-packages\\ipykernel\\__main__.py:60: SettingWithCopyWarning: \n",
      "A value is trying to be set on a copy of a slice from a DataFrame.\n",
      "Try using .loc[row_indexer,col_indexer] = value instead\n",
      "\n",
      "See the caveats in the documentation: http://pandas.pydata.org/pandas-docs/stable/indexing.html#indexing-view-versus-copy\n",
      "D:\\Programfiles2\\anaconda\\lib\\site-packages\\ipykernel\\__main__.py:61: SettingWithCopyWarning: \n",
      "A value is trying to be set on a copy of a slice from a DataFrame.\n",
      "Try using .loc[row_indexer,col_indexer] = value instead\n",
      "\n",
      "See the caveats in the documentation: http://pandas.pydata.org/pandas-docs/stable/indexing.html#indexing-view-versus-copy\n"
     ]
    },
    {
     "name": "stdout",
     "output_type": "stream",
     "text": [
      "Fold  4 AUC : 0.967527\n",
      "Training until validation scores don't improve for 100 rounds.\n",
      "[100]\ttrain's auc: 0.961697\tvalid's auc: 0.942317\n",
      "[200]\ttrain's auc: 0.975791\tvalid's auc: 0.953525\n",
      "[300]\ttrain's auc: 0.981622\tvalid's auc: 0.95674\n",
      "[400]\ttrain's auc: 0.985598\tvalid's auc: 0.958803\n",
      "[500]\ttrain's auc: 0.988367\tvalid's auc: 0.959657\n",
      "[600]\ttrain's auc: 0.990498\tvalid's auc: 0.960136\n",
      "[700]\ttrain's auc: 0.992147\tvalid's auc: 0.960685\n",
      "[800]\ttrain's auc: 0.993422\tvalid's auc: 0.96095\n",
      "[900]\ttrain's auc: 0.994337\tvalid's auc: 0.960891\n",
      "Early stopping, best iteration is:\n",
      "[810]\ttrain's auc: 0.993556\tvalid's auc: 0.961073\n"
     ]
    },
    {
     "name": "stderr",
     "output_type": "stream",
     "text": [
      "D:\\Programfiles2\\anaconda\\lib\\site-packages\\ipykernel\\__main__.py:60: SettingWithCopyWarning: \n",
      "A value is trying to be set on a copy of a slice from a DataFrame.\n",
      "Try using .loc[row_indexer,col_indexer] = value instead\n",
      "\n",
      "See the caveats in the documentation: http://pandas.pydata.org/pandas-docs/stable/indexing.html#indexing-view-versus-copy\n",
      "D:\\Programfiles2\\anaconda\\lib\\site-packages\\ipykernel\\__main__.py:61: SettingWithCopyWarning: \n",
      "A value is trying to be set on a copy of a slice from a DataFrame.\n",
      "Try using .loc[row_indexer,col_indexer] = value instead\n",
      "\n",
      "See the caveats in the documentation: http://pandas.pydata.org/pandas-docs/stable/indexing.html#indexing-view-versus-copy\n"
     ]
    },
    {
     "name": "stdout",
     "output_type": "stream",
     "text": [
      "Fold  5 AUC : 0.961073\n"
     ]
    },
    {
     "name": "stderr",
     "output_type": "stream",
     "text": [
      "D:\\Programfiles2\\anaconda\\lib\\site-packages\\ipykernel\\__main__.py:70: SettingWithCopyWarning: \n",
      "A value is trying to be set on a copy of a slice from a DataFrame.\n",
      "Try using .loc[row_indexer,col_indexer] = value instead\n",
      "\n",
      "See the caveats in the documentation: http://pandas.pydata.org/pandas-docs/stable/indexing.html#indexing-view-versus-copy\n"
     ]
    },
    {
     "name": "stdout",
     "output_type": "stream",
     "text": [
      "Full AUC score 0.958553\n",
      "(24943, 503) (6236, 503) (31588, 503)\n",
      "Training until validation scores don't improve for 100 rounds.\n",
      "[100]\ttrain's auc: 0.975227\tvalid's auc: 0.963113\n",
      "[200]\ttrain's auc: 0.985318\tvalid's auc: 0.969188\n",
      "[300]\ttrain's auc: 0.9904\tvalid's auc: 0.970552\n",
      "[400]\ttrain's auc: 0.993477\tvalid's auc: 0.97184\n",
      "[500]\ttrain's auc: 0.995422\tvalid's auc: 0.972042\n",
      "[600]\ttrain's auc: 0.996624\tvalid's auc: 0.972866\n",
      "[700]\ttrain's auc: 0.997438\tvalid's auc: 0.972688\n",
      "Early stopping, best iteration is:\n",
      "[607]\ttrain's auc: 0.996701\tvalid's auc: 0.973005\n"
     ]
    },
    {
     "name": "stderr",
     "output_type": "stream",
     "text": [
      "D:\\Programfiles2\\anaconda\\lib\\site-packages\\ipykernel\\__main__.py:60: SettingWithCopyWarning: \n",
      "A value is trying to be set on a copy of a slice from a DataFrame.\n",
      "Try using .loc[row_indexer,col_indexer] = value instead\n",
      "\n",
      "See the caveats in the documentation: http://pandas.pydata.org/pandas-docs/stable/indexing.html#indexing-view-versus-copy\n",
      "D:\\Programfiles2\\anaconda\\lib\\site-packages\\ipykernel\\__main__.py:61: SettingWithCopyWarning: \n",
      "A value is trying to be set on a copy of a slice from a DataFrame.\n",
      "Try using .loc[row_indexer,col_indexer] = value instead\n",
      "\n",
      "See the caveats in the documentation: http://pandas.pydata.org/pandas-docs/stable/indexing.html#indexing-view-versus-copy\n"
     ]
    },
    {
     "name": "stdout",
     "output_type": "stream",
     "text": [
      "Fold  1 AUC : 0.973005\n",
      "Training until validation scores don't improve for 100 rounds.\n",
      "[100]\ttrain's auc: 0.976457\tvalid's auc: 0.953306\n",
      "[200]\ttrain's auc: 0.986223\tvalid's auc: 0.959386\n",
      "[300]\ttrain's auc: 0.990835\tvalid's auc: 0.961025\n",
      "[400]\ttrain's auc: 0.99373\tvalid's auc: 0.962363\n",
      "[500]\ttrain's auc: 0.99559\tvalid's auc: 0.962765\n",
      "Early stopping, best iteration is:\n",
      "[481]\ttrain's auc: 0.995273\tvalid's auc: 0.963022\n"
     ]
    },
    {
     "name": "stderr",
     "output_type": "stream",
     "text": [
      "D:\\Programfiles2\\anaconda\\lib\\site-packages\\ipykernel\\__main__.py:60: SettingWithCopyWarning: \n",
      "A value is trying to be set on a copy of a slice from a DataFrame.\n",
      "Try using .loc[row_indexer,col_indexer] = value instead\n",
      "\n",
      "See the caveats in the documentation: http://pandas.pydata.org/pandas-docs/stable/indexing.html#indexing-view-versus-copy\n",
      "D:\\Programfiles2\\anaconda\\lib\\site-packages\\ipykernel\\__main__.py:61: SettingWithCopyWarning: \n",
      "A value is trying to be set on a copy of a slice from a DataFrame.\n",
      "Try using .loc[row_indexer,col_indexer] = value instead\n",
      "\n",
      "See the caveats in the documentation: http://pandas.pydata.org/pandas-docs/stable/indexing.html#indexing-view-versus-copy\n"
     ]
    },
    {
     "name": "stdout",
     "output_type": "stream",
     "text": [
      "Fold  2 AUC : 0.963022\n",
      "Training until validation scores don't improve for 100 rounds.\n",
      "[100]\ttrain's auc: 0.975773\tvalid's auc: 0.954823\n",
      "[200]\ttrain's auc: 0.985991\tvalid's auc: 0.961162\n",
      "[300]\ttrain's auc: 0.990896\tvalid's auc: 0.963232\n",
      "[400]\ttrain's auc: 0.993675\tvalid's auc: 0.963846\n",
      "[500]\ttrain's auc: 0.995497\tvalid's auc: 0.964377\n",
      "[600]\ttrain's auc: 0.996706\tvalid's auc: 0.964558\n",
      "Early stopping, best iteration is:\n",
      "[552]\ttrain's auc: 0.996201\tvalid's auc: 0.964902\n"
     ]
    },
    {
     "name": "stderr",
     "output_type": "stream",
     "text": [
      "D:\\Programfiles2\\anaconda\\lib\\site-packages\\ipykernel\\__main__.py:60: SettingWithCopyWarning: \n",
      "A value is trying to be set on a copy of a slice from a DataFrame.\n",
      "Try using .loc[row_indexer,col_indexer] = value instead\n",
      "\n",
      "See the caveats in the documentation: http://pandas.pydata.org/pandas-docs/stable/indexing.html#indexing-view-versus-copy\n",
      "D:\\Programfiles2\\anaconda\\lib\\site-packages\\ipykernel\\__main__.py:61: SettingWithCopyWarning: \n",
      "A value is trying to be set on a copy of a slice from a DataFrame.\n",
      "Try using .loc[row_indexer,col_indexer] = value instead\n",
      "\n",
      "See the caveats in the documentation: http://pandas.pydata.org/pandas-docs/stable/indexing.html#indexing-view-versus-copy\n"
     ]
    },
    {
     "name": "stdout",
     "output_type": "stream",
     "text": [
      "Fold  3 AUC : 0.964902\n",
      "Training until validation scores don't improve for 100 rounds.\n",
      "[100]\ttrain's auc: 0.938041\tvalid's auc: 0.926081\n",
      "Early stopping, best iteration is:\n",
      "[51]\ttrain's auc: 0.965156\tvalid's auc: 0.947864\n"
     ]
    },
    {
     "name": "stderr",
     "output_type": "stream",
     "text": [
      "D:\\Programfiles2\\anaconda\\lib\\site-packages\\ipykernel\\__main__.py:60: SettingWithCopyWarning: \n",
      "A value is trying to be set on a copy of a slice from a DataFrame.\n",
      "Try using .loc[row_indexer,col_indexer] = value instead\n",
      "\n",
      "See the caveats in the documentation: http://pandas.pydata.org/pandas-docs/stable/indexing.html#indexing-view-versus-copy\n",
      "D:\\Programfiles2\\anaconda\\lib\\site-packages\\ipykernel\\__main__.py:61: SettingWithCopyWarning: \n",
      "A value is trying to be set on a copy of a slice from a DataFrame.\n",
      "Try using .loc[row_indexer,col_indexer] = value instead\n",
      "\n",
      "See the caveats in the documentation: http://pandas.pydata.org/pandas-docs/stable/indexing.html#indexing-view-versus-copy\n"
     ]
    },
    {
     "name": "stdout",
     "output_type": "stream",
     "text": [
      "Fold  4 AUC : 0.947864\n",
      "Training until validation scores don't improve for 100 rounds.\n",
      "[100]\ttrain's auc: 0.975561\tvalid's auc: 0.963879\n",
      "[200]\ttrain's auc: 0.985612\tvalid's auc: 0.967777\n",
      "[300]\ttrain's auc: 0.990639\tvalid's auc: 0.96926\n",
      "[400]\ttrain's auc: 0.993754\tvalid's auc: 0.969567\n",
      "[500]\ttrain's auc: 0.995661\tvalid's auc: 0.969499\n",
      "Early stopping, best iteration is:\n",
      "[428]\ttrain's auc: 0.994412\tvalid's auc: 0.969812\n"
     ]
    },
    {
     "name": "stderr",
     "output_type": "stream",
     "text": [
      "D:\\Programfiles2\\anaconda\\lib\\site-packages\\ipykernel\\__main__.py:60: SettingWithCopyWarning: \n",
      "A value is trying to be set on a copy of a slice from a DataFrame.\n",
      "Try using .loc[row_indexer,col_indexer] = value instead\n",
      "\n",
      "See the caveats in the documentation: http://pandas.pydata.org/pandas-docs/stable/indexing.html#indexing-view-versus-copy\n",
      "D:\\Programfiles2\\anaconda\\lib\\site-packages\\ipykernel\\__main__.py:61: SettingWithCopyWarning: \n",
      "A value is trying to be set on a copy of a slice from a DataFrame.\n",
      "Try using .loc[row_indexer,col_indexer] = value instead\n",
      "\n",
      "See the caveats in the documentation: http://pandas.pydata.org/pandas-docs/stable/indexing.html#indexing-view-versus-copy\n"
     ]
    },
    {
     "name": "stdout",
     "output_type": "stream",
     "text": [
      "Fold  5 AUC : 0.969812\n"
     ]
    },
    {
     "name": "stderr",
     "output_type": "stream",
     "text": [
      "D:\\Programfiles2\\anaconda\\lib\\site-packages\\ipykernel\\__main__.py:70: SettingWithCopyWarning: \n",
      "A value is trying to be set on a copy of a slice from a DataFrame.\n",
      "Try using .loc[row_indexer,col_indexer] = value instead\n",
      "\n",
      "See the caveats in the documentation: http://pandas.pydata.org/pandas-docs/stable/indexing.html#indexing-view-versus-copy\n"
     ]
    },
    {
     "name": "stdout",
     "output_type": "stream",
     "text": [
      "Full AUC score 0.961976\n",
      "(24943, 503) (6236, 503) (31588, 503)\n",
      "Training until validation scores don't improve for 100 rounds.\n",
      "[100]\ttrain's auc: 0.932897\tvalid's auc: 0.921314\n",
      "Early stopping, best iteration is:\n",
      "[59]\ttrain's auc: 0.961611\tvalid's auc: 0.946413\n"
     ]
    },
    {
     "name": "stderr",
     "output_type": "stream",
     "text": [
      "D:\\Programfiles2\\anaconda\\lib\\site-packages\\ipykernel\\__main__.py:60: SettingWithCopyWarning: \n",
      "A value is trying to be set on a copy of a slice from a DataFrame.\n",
      "Try using .loc[row_indexer,col_indexer] = value instead\n",
      "\n",
      "See the caveats in the documentation: http://pandas.pydata.org/pandas-docs/stable/indexing.html#indexing-view-versus-copy\n",
      "D:\\Programfiles2\\anaconda\\lib\\site-packages\\ipykernel\\__main__.py:61: SettingWithCopyWarning: \n",
      "A value is trying to be set on a copy of a slice from a DataFrame.\n",
      "Try using .loc[row_indexer,col_indexer] = value instead\n",
      "\n",
      "See the caveats in the documentation: http://pandas.pydata.org/pandas-docs/stable/indexing.html#indexing-view-versus-copy\n"
     ]
    },
    {
     "name": "stdout",
     "output_type": "stream",
     "text": [
      "Fold  1 AUC : 0.946413\n",
      "Training until validation scores don't improve for 100 rounds.\n",
      "[100]\ttrain's auc: 0.970688\tvalid's auc: 0.9572\n",
      "[200]\ttrain's auc: 0.98197\tvalid's auc: 0.962763\n",
      "[300]\ttrain's auc: 0.987658\tvalid's auc: 0.96562\n",
      "[400]\ttrain's auc: 0.991254\tvalid's auc: 0.967568\n",
      "[500]\ttrain's auc: 0.9936\tvalid's auc: 0.967946\n",
      "[600]\ttrain's auc: 0.995313\tvalid's auc: 0.968567\n",
      "Early stopping, best iteration is:\n",
      "[580]\ttrain's auc: 0.995037\tvalid's auc: 0.968797\n"
     ]
    },
    {
     "name": "stderr",
     "output_type": "stream",
     "text": [
      "D:\\Programfiles2\\anaconda\\lib\\site-packages\\ipykernel\\__main__.py:60: SettingWithCopyWarning: \n",
      "A value is trying to be set on a copy of a slice from a DataFrame.\n",
      "Try using .loc[row_indexer,col_indexer] = value instead\n",
      "\n",
      "See the caveats in the documentation: http://pandas.pydata.org/pandas-docs/stable/indexing.html#indexing-view-versus-copy\n",
      "D:\\Programfiles2\\anaconda\\lib\\site-packages\\ipykernel\\__main__.py:61: SettingWithCopyWarning: \n",
      "A value is trying to be set on a copy of a slice from a DataFrame.\n",
      "Try using .loc[row_indexer,col_indexer] = value instead\n",
      "\n",
      "See the caveats in the documentation: http://pandas.pydata.org/pandas-docs/stable/indexing.html#indexing-view-versus-copy\n"
     ]
    },
    {
     "name": "stdout",
     "output_type": "stream",
     "text": [
      "Fold  2 AUC : 0.968797\n",
      "Training until validation scores don't improve for 100 rounds.\n",
      "[100]\ttrain's auc: 0.971373\tvalid's auc: 0.957661\n",
      "[200]\ttrain's auc: 0.98245\tvalid's auc: 0.964683\n",
      "[300]\ttrain's auc: 0.987999\tvalid's auc: 0.966134\n",
      "[400]\ttrain's auc: 0.991533\tvalid's auc: 0.96733\n",
      "[500]\ttrain's auc: 0.993846\tvalid's auc: 0.967908\n",
      "Early stopping, best iteration is:\n",
      "[496]\ttrain's auc: 0.99376\tvalid's auc: 0.967965\n"
     ]
    },
    {
     "name": "stderr",
     "output_type": "stream",
     "text": [
      "D:\\Programfiles2\\anaconda\\lib\\site-packages\\ipykernel\\__main__.py:60: SettingWithCopyWarning: \n",
      "A value is trying to be set on a copy of a slice from a DataFrame.\n",
      "Try using .loc[row_indexer,col_indexer] = value instead\n",
      "\n",
      "See the caveats in the documentation: http://pandas.pydata.org/pandas-docs/stable/indexing.html#indexing-view-versus-copy\n",
      "D:\\Programfiles2\\anaconda\\lib\\site-packages\\ipykernel\\__main__.py:61: SettingWithCopyWarning: \n",
      "A value is trying to be set on a copy of a slice from a DataFrame.\n",
      "Try using .loc[row_indexer,col_indexer] = value instead\n",
      "\n",
      "See the caveats in the documentation: http://pandas.pydata.org/pandas-docs/stable/indexing.html#indexing-view-versus-copy\n"
     ]
    },
    {
     "name": "stdout",
     "output_type": "stream",
     "text": [
      "Fold  3 AUC : 0.967965\n",
      "Training until validation scores don't improve for 100 rounds.\n",
      "[100]\ttrain's auc: 0.969623\tvalid's auc: 0.943688\n",
      "[200]\ttrain's auc: 0.982494\tvalid's auc: 0.957128\n",
      "[300]\ttrain's auc: 0.988199\tvalid's auc: 0.960368\n",
      "[400]\ttrain's auc: 0.991645\tvalid's auc: 0.960738\n",
      "Early stopping, best iteration is:\n",
      "[390]\ttrain's auc: 0.991338\tvalid's auc: 0.960888\n"
     ]
    },
    {
     "name": "stderr",
     "output_type": "stream",
     "text": [
      "D:\\Programfiles2\\anaconda\\lib\\site-packages\\ipykernel\\__main__.py:60: SettingWithCopyWarning: \n",
      "A value is trying to be set on a copy of a slice from a DataFrame.\n",
      "Try using .loc[row_indexer,col_indexer] = value instead\n",
      "\n",
      "See the caveats in the documentation: http://pandas.pydata.org/pandas-docs/stable/indexing.html#indexing-view-versus-copy\n",
      "D:\\Programfiles2\\anaconda\\lib\\site-packages\\ipykernel\\__main__.py:61: SettingWithCopyWarning: \n",
      "A value is trying to be set on a copy of a slice from a DataFrame.\n",
      "Try using .loc[row_indexer,col_indexer] = value instead\n",
      "\n",
      "See the caveats in the documentation: http://pandas.pydata.org/pandas-docs/stable/indexing.html#indexing-view-versus-copy\n"
     ]
    },
    {
     "name": "stdout",
     "output_type": "stream",
     "text": [
      "Fold  4 AUC : 0.960888\n",
      "Training until validation scores don't improve for 100 rounds.\n",
      "[100]\ttrain's auc: 0.970437\tvalid's auc: 0.955291\n",
      "[200]\ttrain's auc: 0.981793\tvalid's auc: 0.962193\n",
      "[300]\ttrain's auc: 0.987532\tvalid's auc: 0.964689\n",
      "[400]\ttrain's auc: 0.991168\tvalid's auc: 0.965665\n",
      "[500]\ttrain's auc: 0.993605\tvalid's auc: 0.965851\n",
      "[600]\ttrain's auc: 0.995329\tvalid's auc: 0.965917\n",
      "Early stopping, best iteration is:\n",
      "[534]\ttrain's auc: 0.994272\tvalid's auc: 0.966102\n"
     ]
    },
    {
     "name": "stderr",
     "output_type": "stream",
     "text": [
      "D:\\Programfiles2\\anaconda\\lib\\site-packages\\ipykernel\\__main__.py:60: SettingWithCopyWarning: \n",
      "A value is trying to be set on a copy of a slice from a DataFrame.\n",
      "Try using .loc[row_indexer,col_indexer] = value instead\n",
      "\n",
      "See the caveats in the documentation: http://pandas.pydata.org/pandas-docs/stable/indexing.html#indexing-view-versus-copy\n",
      "D:\\Programfiles2\\anaconda\\lib\\site-packages\\ipykernel\\__main__.py:61: SettingWithCopyWarning: \n",
      "A value is trying to be set on a copy of a slice from a DataFrame.\n",
      "Try using .loc[row_indexer,col_indexer] = value instead\n",
      "\n",
      "See the caveats in the documentation: http://pandas.pydata.org/pandas-docs/stable/indexing.html#indexing-view-versus-copy\n"
     ]
    },
    {
     "name": "stdout",
     "output_type": "stream",
     "text": [
      "Fold  5 AUC : 0.966102\n"
     ]
    },
    {
     "name": "stderr",
     "output_type": "stream",
     "text": [
      "D:\\Programfiles2\\anaconda\\lib\\site-packages\\ipykernel\\__main__.py:70: SettingWithCopyWarning: \n",
      "A value is trying to be set on a copy of a slice from a DataFrame.\n",
      "Try using .loc[row_indexer,col_indexer] = value instead\n",
      "\n",
      "See the caveats in the documentation: http://pandas.pydata.org/pandas-docs/stable/indexing.html#indexing-view-versus-copy\n"
     ]
    },
    {
     "name": "stdout",
     "output_type": "stream",
     "text": [
      "Full AUC score 0.959964\n",
      "(24943, 503) (6236, 503) (31588, 503)\n",
      "Training until validation scores don't improve for 100 rounds.\n",
      "[100]\ttrain's auc: 0.962602\tvalid's auc: 0.951261\n",
      "[200]\ttrain's auc: 0.97441\tvalid's auc: 0.963367\n",
      "[300]\ttrain's auc: 0.97869\tvalid's auc: 0.966488\n",
      "[400]\ttrain's auc: 0.981859\tvalid's auc: 0.968407\n",
      "[500]\ttrain's auc: 0.984351\tvalid's auc: 0.969416\n",
      "[600]\ttrain's auc: 0.985927\tvalid's auc: 0.970002\n",
      "[700]\ttrain's auc: 0.98686\tvalid's auc: 0.970274\n",
      "[800]\ttrain's auc: 0.986975\tvalid's auc: 0.970312\n",
      "Early stopping, best iteration is:\n",
      "[711]\ttrain's auc: 0.986985\tvalid's auc: 0.970333\n"
     ]
    },
    {
     "name": "stderr",
     "output_type": "stream",
     "text": [
      "D:\\Programfiles2\\anaconda\\lib\\site-packages\\ipykernel\\__main__.py:60: SettingWithCopyWarning: \n",
      "A value is trying to be set on a copy of a slice from a DataFrame.\n",
      "Try using .loc[row_indexer,col_indexer] = value instead\n",
      "\n",
      "See the caveats in the documentation: http://pandas.pydata.org/pandas-docs/stable/indexing.html#indexing-view-versus-copy\n",
      "D:\\Programfiles2\\anaconda\\lib\\site-packages\\ipykernel\\__main__.py:61: SettingWithCopyWarning: \n",
      "A value is trying to be set on a copy of a slice from a DataFrame.\n",
      "Try using .loc[row_indexer,col_indexer] = value instead\n",
      "\n",
      "See the caveats in the documentation: http://pandas.pydata.org/pandas-docs/stable/indexing.html#indexing-view-versus-copy\n"
     ]
    },
    {
     "name": "stdout",
     "output_type": "stream",
     "text": [
      "Fold  1 AUC : 0.970333\n",
      "Training until validation scores don't improve for 100 rounds.\n",
      "[100]\ttrain's auc: 0.962463\tvalid's auc: 0.937078\n",
      "[200]\ttrain's auc: 0.974968\tvalid's auc: 0.949821\n",
      "[300]\ttrain's auc: 0.979332\tvalid's auc: 0.953457\n",
      "[400]\ttrain's auc: 0.982367\tvalid's auc: 0.955632\n",
      "[500]\ttrain's auc: 0.984631\tvalid's auc: 0.956714\n",
      "[600]\ttrain's auc: 0.986213\tvalid's auc: 0.957779\n",
      "[700]\ttrain's auc: 0.986855\tvalid's auc: 0.958073\n",
      "Early stopping, best iteration is:\n",
      "[667]\ttrain's auc: 0.986838\tvalid's auc: 0.958222\n"
     ]
    },
    {
     "name": "stderr",
     "output_type": "stream",
     "text": [
      "D:\\Programfiles2\\anaconda\\lib\\site-packages\\ipykernel\\__main__.py:60: SettingWithCopyWarning: \n",
      "A value is trying to be set on a copy of a slice from a DataFrame.\n",
      "Try using .loc[row_indexer,col_indexer] = value instead\n",
      "\n",
      "See the caveats in the documentation: http://pandas.pydata.org/pandas-docs/stable/indexing.html#indexing-view-versus-copy\n",
      "D:\\Programfiles2\\anaconda\\lib\\site-packages\\ipykernel\\__main__.py:61: SettingWithCopyWarning: \n",
      "A value is trying to be set on a copy of a slice from a DataFrame.\n",
      "Try using .loc[row_indexer,col_indexer] = value instead\n",
      "\n",
      "See the caveats in the documentation: http://pandas.pydata.org/pandas-docs/stable/indexing.html#indexing-view-versus-copy\n"
     ]
    },
    {
     "name": "stdout",
     "output_type": "stream",
     "text": [
      "Fold  2 AUC : 0.958222\n",
      "Training until validation scores don't improve for 100 rounds.\n",
      "[100]\ttrain's auc: 0.923177\tvalid's auc: 0.91351\n",
      "Early stopping, best iteration is:\n",
      "[63]\ttrain's auc: 0.951489\tvalid's auc: 0.936774\n"
     ]
    },
    {
     "name": "stderr",
     "output_type": "stream",
     "text": [
      "D:\\Programfiles2\\anaconda\\lib\\site-packages\\ipykernel\\__main__.py:60: SettingWithCopyWarning: \n",
      "A value is trying to be set on a copy of a slice from a DataFrame.\n",
      "Try using .loc[row_indexer,col_indexer] = value instead\n",
      "\n",
      "See the caveats in the documentation: http://pandas.pydata.org/pandas-docs/stable/indexing.html#indexing-view-versus-copy\n",
      "D:\\Programfiles2\\anaconda\\lib\\site-packages\\ipykernel\\__main__.py:61: SettingWithCopyWarning: \n",
      "A value is trying to be set on a copy of a slice from a DataFrame.\n",
      "Try using .loc[row_indexer,col_indexer] = value instead\n",
      "\n",
      "See the caveats in the documentation: http://pandas.pydata.org/pandas-docs/stable/indexing.html#indexing-view-versus-copy\n"
     ]
    },
    {
     "name": "stdout",
     "output_type": "stream",
     "text": [
      "Fold  3 AUC : 0.936774\n",
      "Training until validation scores don't improve for 100 rounds.\n",
      "[100]\ttrain's auc: 0.962449\tvalid's auc: 0.951802\n",
      "[200]\ttrain's auc: 0.974253\tvalid's auc: 0.961404\n",
      "[300]\ttrain's auc: 0.978808\tvalid's auc: 0.963769\n",
      "[400]\ttrain's auc: 0.98208\tvalid's auc: 0.965177\n",
      "[500]\ttrain's auc: 0.984129\tvalid's auc: 0.965765\n",
      "[600]\ttrain's auc: 0.985632\tvalid's auc: 0.96614\n",
      "[700]\ttrain's auc: 0.986508\tvalid's auc: 0.96637\n",
      "[800]\ttrain's auc: 0.987085\tvalid's auc: 0.966548\n",
      "Early stopping, best iteration is:\n",
      "[766]\ttrain's auc: 0.986985\tvalid's auc: 0.966614\n"
     ]
    },
    {
     "name": "stderr",
     "output_type": "stream",
     "text": [
      "D:\\Programfiles2\\anaconda\\lib\\site-packages\\ipykernel\\__main__.py:60: SettingWithCopyWarning: \n",
      "A value is trying to be set on a copy of a slice from a DataFrame.\n",
      "Try using .loc[row_indexer,col_indexer] = value instead\n",
      "\n",
      "See the caveats in the documentation: http://pandas.pydata.org/pandas-docs/stable/indexing.html#indexing-view-versus-copy\n",
      "D:\\Programfiles2\\anaconda\\lib\\site-packages\\ipykernel\\__main__.py:61: SettingWithCopyWarning: \n",
      "A value is trying to be set on a copy of a slice from a DataFrame.\n",
      "Try using .loc[row_indexer,col_indexer] = value instead\n",
      "\n",
      "See the caveats in the documentation: http://pandas.pydata.org/pandas-docs/stable/indexing.html#indexing-view-versus-copy\n"
     ]
    },
    {
     "name": "stdout",
     "output_type": "stream",
     "text": [
      "Fold  4 AUC : 0.966605\n",
      "Training until validation scores don't improve for 100 rounds.\n",
      "[100]\ttrain's auc: 0.963475\tvalid's auc: 0.945238\n",
      "[200]\ttrain's auc: 0.975123\tvalid's auc: 0.952674\n",
      "[300]\ttrain's auc: 0.97944\tvalid's auc: 0.955329\n",
      "[400]\ttrain's auc: 0.982429\tvalid's auc: 0.956884\n",
      "[500]\ttrain's auc: 0.984572\tvalid's auc: 0.957889\n",
      "[600]\ttrain's auc: 0.986031\tvalid's auc: 0.958255\n",
      "[700]\ttrain's auc: 0.987028\tvalid's auc: 0.958512\n",
      "[800]\ttrain's auc: 0.987842\tvalid's auc: 0.959115\n",
      "[900]\ttrain's auc: 0.987955\tvalid's auc: 0.959122\n",
      "Early stopping, best iteration is:\n",
      "[806]\ttrain's auc: 0.987885\tvalid's auc: 0.95917\n"
     ]
    },
    {
     "name": "stderr",
     "output_type": "stream",
     "text": [
      "D:\\Programfiles2\\anaconda\\lib\\site-packages\\ipykernel\\__main__.py:60: SettingWithCopyWarning: \n",
      "A value is trying to be set on a copy of a slice from a DataFrame.\n",
      "Try using .loc[row_indexer,col_indexer] = value instead\n",
      "\n",
      "See the caveats in the documentation: http://pandas.pydata.org/pandas-docs/stable/indexing.html#indexing-view-versus-copy\n",
      "D:\\Programfiles2\\anaconda\\lib\\site-packages\\ipykernel\\__main__.py:61: SettingWithCopyWarning: \n",
      "A value is trying to be set on a copy of a slice from a DataFrame.\n",
      "Try using .loc[row_indexer,col_indexer] = value instead\n",
      "\n",
      "See the caveats in the documentation: http://pandas.pydata.org/pandas-docs/stable/indexing.html#indexing-view-versus-copy\n"
     ]
    },
    {
     "name": "stdout",
     "output_type": "stream",
     "text": [
      "Fold  5 AUC : 0.959159\n"
     ]
    },
    {
     "name": "stderr",
     "output_type": "stream",
     "text": [
      "D:\\Programfiles2\\anaconda\\lib\\site-packages\\ipykernel\\__main__.py:70: SettingWithCopyWarning: \n",
      "A value is trying to be set on a copy of a slice from a DataFrame.\n",
      "Try using .loc[row_indexer,col_indexer] = value instead\n",
      "\n",
      "See the caveats in the documentation: http://pandas.pydata.org/pandas-docs/stable/indexing.html#indexing-view-versus-copy\n"
     ]
    },
    {
     "name": "stdout",
     "output_type": "stream",
     "text": [
      "Full AUC score 0.956474\n",
      "(24943, 503) (6236, 503) (31588, 503)\n",
      "Training until validation scores don't improve for 100 rounds.\n",
      "[100]\ttrain's auc: 0.972342\tvalid's auc: 0.952136\n",
      "[200]\ttrain's auc: 0.98314\tvalid's auc: 0.958334\n",
      "[300]\ttrain's auc: 0.988653\tvalid's auc: 0.961252\n",
      "[400]\ttrain's auc: 0.991935\tvalid's auc: 0.962447\n",
      "[500]\ttrain's auc: 0.994235\tvalid's auc: 0.963766\n",
      "[600]\ttrain's auc: 0.995824\tvalid's auc: 0.964484\n",
      "[700]\ttrain's auc: 0.99689\tvalid's auc: 0.96473\n",
      "[800]\ttrain's auc: 0.997651\tvalid's auc: 0.964784\n",
      "Early stopping, best iteration is:\n",
      "[738]\ttrain's auc: 0.997213\tvalid's auc: 0.965015\n"
     ]
    },
    {
     "name": "stderr",
     "output_type": "stream",
     "text": [
      "D:\\Programfiles2\\anaconda\\lib\\site-packages\\ipykernel\\__main__.py:60: SettingWithCopyWarning: \n",
      "A value is trying to be set on a copy of a slice from a DataFrame.\n",
      "Try using .loc[row_indexer,col_indexer] = value instead\n",
      "\n",
      "See the caveats in the documentation: http://pandas.pydata.org/pandas-docs/stable/indexing.html#indexing-view-versus-copy\n",
      "D:\\Programfiles2\\anaconda\\lib\\site-packages\\ipykernel\\__main__.py:61: SettingWithCopyWarning: \n",
      "A value is trying to be set on a copy of a slice from a DataFrame.\n",
      "Try using .loc[row_indexer,col_indexer] = value instead\n",
      "\n",
      "See the caveats in the documentation: http://pandas.pydata.org/pandas-docs/stable/indexing.html#indexing-view-versus-copy\n"
     ]
    },
    {
     "name": "stdout",
     "output_type": "stream",
     "text": [
      "Fold  1 AUC : 0.965015\n",
      "Training until validation scores don't improve for 100 rounds.\n",
      "[100]\ttrain's auc: 0.970543\tvalid's auc: 0.953152\n",
      "[200]\ttrain's auc: 0.98236\tvalid's auc: 0.962354\n",
      "[300]\ttrain's auc: 0.988262\tvalid's auc: 0.964744\n",
      "[400]\ttrain's auc: 0.991731\tvalid's auc: 0.965899\n",
      "[500]\ttrain's auc: 0.994151\tvalid's auc: 0.966743\n",
      "[600]\ttrain's auc: 0.995792\tvalid's auc: 0.967495\n",
      "[700]\ttrain's auc: 0.996864\tvalid's auc: 0.967594\n",
      "[800]\ttrain's auc: 0.997618\tvalid's auc: 0.96726\n",
      "Early stopping, best iteration is:\n",
      "[739]\ttrain's auc: 0.997203\tvalid's auc: 0.967785\n"
     ]
    },
    {
     "name": "stderr",
     "output_type": "stream",
     "text": [
      "D:\\Programfiles2\\anaconda\\lib\\site-packages\\ipykernel\\__main__.py:60: SettingWithCopyWarning: \n",
      "A value is trying to be set on a copy of a slice from a DataFrame.\n",
      "Try using .loc[row_indexer,col_indexer] = value instead\n",
      "\n",
      "See the caveats in the documentation: http://pandas.pydata.org/pandas-docs/stable/indexing.html#indexing-view-versus-copy\n",
      "D:\\Programfiles2\\anaconda\\lib\\site-packages\\ipykernel\\__main__.py:61: SettingWithCopyWarning: \n",
      "A value is trying to be set on a copy of a slice from a DataFrame.\n",
      "Try using .loc[row_indexer,col_indexer] = value instead\n",
      "\n",
      "See the caveats in the documentation: http://pandas.pydata.org/pandas-docs/stable/indexing.html#indexing-view-versus-copy\n"
     ]
    },
    {
     "name": "stdout",
     "output_type": "stream",
     "text": [
      "Fold  2 AUC : 0.967785\n",
      "Training until validation scores don't improve for 100 rounds.\n",
      "[100]\ttrain's auc: 0.970735\tvalid's auc: 0.961314\n",
      "[200]\ttrain's auc: 0.982231\tvalid's auc: 0.969222\n",
      "[300]\ttrain's auc: 0.988003\tvalid's auc: 0.972292\n",
      "[400]\ttrain's auc: 0.991618\tvalid's auc: 0.973062\n",
      "[500]\ttrain's auc: 0.994091\tvalid's auc: 0.973502\n",
      "[600]\ttrain's auc: 0.995714\tvalid's auc: 0.973846\n",
      "[700]\ttrain's auc: 0.996814\tvalid's auc: 0.973973\n",
      "[800]\ttrain's auc: 0.997593\tvalid's auc: 0.973979\n",
      "Early stopping, best iteration is:\n",
      "[740]\ttrain's auc: 0.997162\tvalid's auc: 0.974238\n"
     ]
    },
    {
     "name": "stderr",
     "output_type": "stream",
     "text": [
      "D:\\Programfiles2\\anaconda\\lib\\site-packages\\ipykernel\\__main__.py:60: SettingWithCopyWarning: \n",
      "A value is trying to be set on a copy of a slice from a DataFrame.\n",
      "Try using .loc[row_indexer,col_indexer] = value instead\n",
      "\n",
      "See the caveats in the documentation: http://pandas.pydata.org/pandas-docs/stable/indexing.html#indexing-view-versus-copy\n",
      "D:\\Programfiles2\\anaconda\\lib\\site-packages\\ipykernel\\__main__.py:61: SettingWithCopyWarning: \n",
      "A value is trying to be set on a copy of a slice from a DataFrame.\n",
      "Try using .loc[row_indexer,col_indexer] = value instead\n",
      "\n",
      "See the caveats in the documentation: http://pandas.pydata.org/pandas-docs/stable/indexing.html#indexing-view-versus-copy\n"
     ]
    },
    {
     "name": "stdout",
     "output_type": "stream",
     "text": [
      "Fold  3 AUC : 0.974238\n",
      "Training until validation scores don't improve for 100 rounds.\n",
      "[100]\ttrain's auc: 0.933115\tvalid's auc: 0.909815\n",
      "Early stopping, best iteration is:\n",
      "[59]\ttrain's auc: 0.962123\tvalid's auc: 0.941324\n"
     ]
    },
    {
     "name": "stderr",
     "output_type": "stream",
     "text": [
      "D:\\Programfiles2\\anaconda\\lib\\site-packages\\ipykernel\\__main__.py:60: SettingWithCopyWarning: \n",
      "A value is trying to be set on a copy of a slice from a DataFrame.\n",
      "Try using .loc[row_indexer,col_indexer] = value instead\n",
      "\n",
      "See the caveats in the documentation: http://pandas.pydata.org/pandas-docs/stable/indexing.html#indexing-view-versus-copy\n",
      "D:\\Programfiles2\\anaconda\\lib\\site-packages\\ipykernel\\__main__.py:61: SettingWithCopyWarning: \n",
      "A value is trying to be set on a copy of a slice from a DataFrame.\n",
      "Try using .loc[row_indexer,col_indexer] = value instead\n",
      "\n",
      "See the caveats in the documentation: http://pandas.pydata.org/pandas-docs/stable/indexing.html#indexing-view-versus-copy\n"
     ]
    },
    {
     "name": "stdout",
     "output_type": "stream",
     "text": [
      "Fold  4 AUC : 0.941324\n",
      "Training until validation scores don't improve for 100 rounds.\n",
      "[100]\ttrain's auc: 0.970609\tvalid's auc: 0.954868\n",
      "[200]\ttrain's auc: 0.982125\tvalid's auc: 0.963257\n",
      "[300]\ttrain's auc: 0.987826\tvalid's auc: 0.965209\n",
      "[400]\ttrain's auc: 0.991476\tvalid's auc: 0.966109\n",
      "[500]\ttrain's auc: 0.993913\tvalid's auc: 0.966444\n",
      "[600]\ttrain's auc: 0.995585\tvalid's auc: 0.966908\n",
      "[700]\ttrain's auc: 0.996729\tvalid's auc: 0.96701\n",
      "[800]\ttrain's auc: 0.997527\tvalid's auc: 0.966866\n",
      "Early stopping, best iteration is:\n",
      "[712]\ttrain's auc: 0.996859\tvalid's auc: 0.967122\n"
     ]
    },
    {
     "name": "stderr",
     "output_type": "stream",
     "text": [
      "D:\\Programfiles2\\anaconda\\lib\\site-packages\\ipykernel\\__main__.py:60: SettingWithCopyWarning: \n",
      "A value is trying to be set on a copy of a slice from a DataFrame.\n",
      "Try using .loc[row_indexer,col_indexer] = value instead\n",
      "\n",
      "See the caveats in the documentation: http://pandas.pydata.org/pandas-docs/stable/indexing.html#indexing-view-versus-copy\n",
      "D:\\Programfiles2\\anaconda\\lib\\site-packages\\ipykernel\\__main__.py:61: SettingWithCopyWarning: \n",
      "A value is trying to be set on a copy of a slice from a DataFrame.\n",
      "Try using .loc[row_indexer,col_indexer] = value instead\n",
      "\n",
      "See the caveats in the documentation: http://pandas.pydata.org/pandas-docs/stable/indexing.html#indexing-view-versus-copy\n"
     ]
    },
    {
     "name": "stdout",
     "output_type": "stream",
     "text": [
      "Fold  5 AUC : 0.967122\n"
     ]
    },
    {
     "name": "stderr",
     "output_type": "stream",
     "text": [
      "D:\\Programfiles2\\anaconda\\lib\\site-packages\\ipykernel\\__main__.py:70: SettingWithCopyWarning: \n",
      "A value is trying to be set on a copy of a slice from a DataFrame.\n",
      "Try using .loc[row_indexer,col_indexer] = value instead\n",
      "\n",
      "See the caveats in the documentation: http://pandas.pydata.org/pandas-docs/stable/indexing.html#indexing-view-versus-copy\n"
     ]
    },
    {
     "name": "stdout",
     "output_type": "stream",
     "text": [
      "Full AUC score 0.961625\n"
     ]
    }
   ],
   "source": [
    "import datetime\n",
    "time_now = datetime.datetime.now()\n",
    "crt_folder = time_now.strftime('%Y-%m-%d_') + str(time_now.toordinal())\n",
    "runlgb = runmodel(data)\n",
    "stackingRoot = cacheRoot + crt_folder\n",
    "if not os.path.exists(stackingRoot):\n",
    "    os.mkdir(stackingRoot)\n",
    "    print(\"making sub root for stacking :%s\"%stackingRoot )\n",
    "    for embfN in [c for c in os.listdir(cacheRoot) if \".emb\" in c]:\n",
    "        embname = embfN.split(\"edglist\")[0]\n",
    "        subname = stackingRoot + \"/\"+ embname + \"_embtype_\" +  embfN.split(\".\")[-1]\n",
    "        runlgb.get_result(cacheRoot + \"/\" + embfN, embname,subname)\n",
    "\n",
    "        \n",
    "    \n",
    "    \n",
    "# runlgb = runmodel(data)\n",
    "# runlgb.getinfo()\n",
    "# sub_embeding = runlgb.get_result()\n",
    "\n",
    "# all_subs = [x[1] for x in sub_embeding]\n",
    "# all_sub3 = pd.concat( all_subs  )\n",
    "# all_sub3 = all_sub3.groupby(\"UID\")[\"Tag\"].agg({\"Tag\":\"mean\" }).reset_index()\n",
    "# all_sub3.Tag = all_sub3.Tag * 2.5\n",
    "# all_sub3.to_csv(subRoot + \"sub2.csv\", encoding = 'utf8', index = False)"
   ]
  },
  {
   "cell_type": "code",
   "execution_count": 37,
   "metadata": {},
   "outputs": [
    {
     "data": {
      "text/html": [
       "<div>\n",
       "<style scoped>\n",
       "    .dataframe tbody tr th:only-of-type {\n",
       "        vertical-align: middle;\n",
       "    }\n",
       "\n",
       "    .dataframe tbody tr th {\n",
       "        vertical-align: top;\n",
       "    }\n",
       "\n",
       "    .dataframe thead th {\n",
       "        text-align: right;\n",
       "    }\n",
       "</style>\n",
       "<table border=\"1\" class=\"dataframe\">\n",
       "  <thead>\n",
       "    <tr style=\"text-align: right;\">\n",
       "      <th></th>\n",
       "      <th>device1__0</th>\n",
       "      <th>device1__1</th>\n",
       "      <th>device1__2</th>\n",
       "      <th>device1__3</th>\n",
       "      <th>device1__4</th>\n",
       "      <th>device_code2__0</th>\n",
       "      <th>device_code2__1</th>\n",
       "      <th>device_code2__2</th>\n",
       "      <th>device_code2__3</th>\n",
       "      <th>device_code2__4</th>\n",
       "      <th>...</th>\n",
       "      <th>merchant_weighted__0</th>\n",
       "      <th>merchant_weighted__1</th>\n",
       "      <th>merchant_weighted__2</th>\n",
       "      <th>merchant_weighted__3</th>\n",
       "      <th>merchant_weighted__4</th>\n",
       "      <th>wifi__0</th>\n",
       "      <th>wifi__1</th>\n",
       "      <th>wifi__2</th>\n",
       "      <th>wifi__3</th>\n",
       "      <th>wifi__4</th>\n",
       "    </tr>\n",
       "  </thead>\n",
       "  <tbody>\n",
       "    <tr>\n",
       "      <th>0</th>\n",
       "      <td>0.146497</td>\n",
       "      <td>0.162197</td>\n",
       "      <td>0.169074</td>\n",
       "      <td>0.114448</td>\n",
       "      <td>0.180234</td>\n",
       "      <td>0.141879</td>\n",
       "      <td>0.168333</td>\n",
       "      <td>0.164825</td>\n",
       "      <td>0.108391</td>\n",
       "      <td>0.181037</td>\n",
       "      <td>...</td>\n",
       "      <td>0.128964</td>\n",
       "      <td>0.132806</td>\n",
       "      <td>0.121131</td>\n",
       "      <td>0.135579</td>\n",
       "      <td>0.131889</td>\n",
       "      <td>0.146788</td>\n",
       "      <td>0.167300</td>\n",
       "      <td>0.175654</td>\n",
       "      <td>0.109115</td>\n",
       "      <td>0.183270</td>\n",
       "    </tr>\n",
       "    <tr>\n",
       "      <th>1</th>\n",
       "      <td>-0.016352</td>\n",
       "      <td>-0.035719</td>\n",
       "      <td>-0.019262</td>\n",
       "      <td>-0.020743</td>\n",
       "      <td>-0.012715</td>\n",
       "      <td>-0.035957</td>\n",
       "      <td>-0.037478</td>\n",
       "      <td>-0.024742</td>\n",
       "      <td>-0.019539</td>\n",
       "      <td>-0.029202</td>\n",
       "      <td>...</td>\n",
       "      <td>-0.020451</td>\n",
       "      <td>-0.018022</td>\n",
       "      <td>-0.015941</td>\n",
       "      <td>-0.023442</td>\n",
       "      <td>-0.010101</td>\n",
       "      <td>-0.027618</td>\n",
       "      <td>-0.024981</td>\n",
       "      <td>-0.029128</td>\n",
       "      <td>-0.039541</td>\n",
       "      <td>-0.021486</td>\n",
       "    </tr>\n",
       "    <tr>\n",
       "      <th>2</th>\n",
       "      <td>0.101992</td>\n",
       "      <td>0.070607</td>\n",
       "      <td>0.103653</td>\n",
       "      <td>0.079822</td>\n",
       "      <td>0.118613</td>\n",
       "      <td>0.087591</td>\n",
       "      <td>0.062718</td>\n",
       "      <td>0.102726</td>\n",
       "      <td>0.076901</td>\n",
       "      <td>0.111804</td>\n",
       "      <td>...</td>\n",
       "      <td>0.077843</td>\n",
       "      <td>0.033912</td>\n",
       "      <td>0.112221</td>\n",
       "      <td>0.106386</td>\n",
       "      <td>0.031534</td>\n",
       "      <td>0.114063</td>\n",
       "      <td>0.067761</td>\n",
       "      <td>0.101370</td>\n",
       "      <td>0.079366</td>\n",
       "      <td>0.108927</td>\n",
       "    </tr>\n",
       "    <tr>\n",
       "      <th>3</th>\n",
       "      <td>-0.069394</td>\n",
       "      <td>-0.045161</td>\n",
       "      <td>-0.036481</td>\n",
       "      <td>-0.051028</td>\n",
       "      <td>-0.053031</td>\n",
       "      <td>-0.039171</td>\n",
       "      <td>-0.041032</td>\n",
       "      <td>-0.039254</td>\n",
       "      <td>-0.058202</td>\n",
       "      <td>-0.042554</td>\n",
       "      <td>...</td>\n",
       "      <td>-0.006597</td>\n",
       "      <td>0.013139</td>\n",
       "      <td>-0.009023</td>\n",
       "      <td>-0.001667</td>\n",
       "      <td>0.006729</td>\n",
       "      <td>-0.056490</td>\n",
       "      <td>-0.038447</td>\n",
       "      <td>-0.054578</td>\n",
       "      <td>-0.052559</td>\n",
       "      <td>-0.034356</td>\n",
       "    </tr>\n",
       "    <tr>\n",
       "      <th>4</th>\n",
       "      <td>-0.038110</td>\n",
       "      <td>0.000009</td>\n",
       "      <td>-0.019217</td>\n",
       "      <td>-0.032002</td>\n",
       "      <td>0.003202</td>\n",
       "      <td>-0.034347</td>\n",
       "      <td>-0.020580</td>\n",
       "      <td>-0.008864</td>\n",
       "      <td>-0.031328</td>\n",
       "      <td>-0.002515</td>\n",
       "      <td>...</td>\n",
       "      <td>-0.002245</td>\n",
       "      <td>0.007191</td>\n",
       "      <td>-0.010708</td>\n",
       "      <td>0.011915</td>\n",
       "      <td>-0.007378</td>\n",
       "      <td>-0.023684</td>\n",
       "      <td>-0.004185</td>\n",
       "      <td>-0.000328</td>\n",
       "      <td>-0.048756</td>\n",
       "      <td>0.003131</td>\n",
       "    </tr>\n",
       "  </tbody>\n",
       "</table>\n",
       "<p>5 rows × 40 columns</p>\n",
       "</div>"
      ],
      "text/plain": [
       "   device1__0  device1__1  device1__2  device1__3  device1__4  \\\n",
       "0    0.146497    0.162197    0.169074    0.114448    0.180234   \n",
       "1   -0.016352   -0.035719   -0.019262   -0.020743   -0.012715   \n",
       "2    0.101992    0.070607    0.103653    0.079822    0.118613   \n",
       "3   -0.069394   -0.045161   -0.036481   -0.051028   -0.053031   \n",
       "4   -0.038110    0.000009   -0.019217   -0.032002    0.003202   \n",
       "\n",
       "   device_code2__0  device_code2__1  device_code2__2  device_code2__3  \\\n",
       "0         0.141879         0.168333         0.164825         0.108391   \n",
       "1        -0.035957        -0.037478        -0.024742        -0.019539   \n",
       "2         0.087591         0.062718         0.102726         0.076901   \n",
       "3        -0.039171        -0.041032        -0.039254        -0.058202   \n",
       "4        -0.034347        -0.020580        -0.008864        -0.031328   \n",
       "\n",
       "   device_code2__4    ...     merchant_weighted__0  merchant_weighted__1  \\\n",
       "0         0.181037    ...                 0.128964              0.132806   \n",
       "1        -0.029202    ...                -0.020451             -0.018022   \n",
       "2         0.111804    ...                 0.077843              0.033912   \n",
       "3        -0.042554    ...                -0.006597              0.013139   \n",
       "4        -0.002515    ...                -0.002245              0.007191   \n",
       "\n",
       "   merchant_weighted__2  merchant_weighted__3  merchant_weighted__4   wifi__0  \\\n",
       "0              0.121131              0.135579              0.131889  0.146788   \n",
       "1             -0.015941             -0.023442             -0.010101 -0.027618   \n",
       "2              0.112221              0.106386              0.031534  0.114063   \n",
       "3             -0.009023             -0.001667              0.006729 -0.056490   \n",
       "4             -0.010708              0.011915             -0.007378 -0.023684   \n",
       "\n",
       "    wifi__1   wifi__2   wifi__3   wifi__4  \n",
       "0  0.167300  0.175654  0.109115  0.183270  \n",
       "1 -0.024981 -0.029128 -0.039541 -0.021486  \n",
       "2  0.067761  0.101370  0.079366  0.108927  \n",
       "3 -0.038447 -0.054578 -0.052559 -0.034356  \n",
       "4 -0.004185 -0.000328 -0.048756  0.003131  \n",
       "\n",
       "[5 rows x 40 columns]"
      ]
     },
     "execution_count": 37,
     "metadata": {},
     "output_type": "execute_result"
    }
   ],
   "source": [
    "dataroot = \"../data/\"\n",
    "cacheRoot = \"../cache/\"\n",
    "subRoot = \"../submission/\"\n",
    "\n",
    "pred_trn_dfs = []\n",
    "pred_tsn_dfs = []\n",
    "base_predictions_train_dic = {}\n",
    "for embfN in [c for c in os.listdir(cacheRoot) if \".emb\" in c]:\n",
    "    embname = embfN.split(\"edglist\")[0]\n",
    "    subname = stackingRoot + \"/\"+ embname + \"_embtype_\" +  embfN.split(\".\")[-1]\n",
    "    for i in range(5):\n",
    "        train_pred_save = subname + '_train_%d_.csv'%i\n",
    "        test_pred_save = subname + '_test_%d_.csv'%i\n",
    "        pred_trn =  pd.read_csv(train_pred_save)[\"prob\"].values.reshape(-1,1)\n",
    "        base_predictions_train_dic[embname + \"_\"+  str(i) ] = pred_trn.ravel()\n",
    "        pred_trn_dfs.append( pred_trn  )  \n",
    "        pred_tsn_dfs.append( pd.read_csv(test_pred_save)[\"Tag\"].values.reshape(-1,1)  )  \n",
    "\n",
    "base_predictions_train = pd.DataFrame(base_predictions_train_dic)\n",
    "base_predictions_train.head()\n"
   ]
  },
  {
   "cell_type": "code",
   "execution_count": 42,
   "metadata": {},
   "outputs": [
    {
     "data": {
      "text/plain": [
       "['device1_edglist_emb_dim36.emb',\n",
       " 'device_code2_edglist_emb_dim36.emb',\n",
       " 'geo_code_edglist.embeddings',\n",
       " 'geo_code_edglist_emb_dim36.emb',\n",
       " 'ip1_edglist.embeddings',\n",
       " 'ip1_edglist_emb_dim36.emb',\n",
       " 'mac1_edglist_emb_dim36.emb',\n",
       " 'mac1_edglist_noweit_.embeddings',\n",
       " 'merchant_edglist_emb_dim36.emb',\n",
       " 'merchant_weighted_edglist_DeepWalk.embeddings',\n",
       " 'wifi_edglist.embeddings',\n",
       " 'wifi_edglist_emb_dim36.emb']"
      ]
     },
     "execution_count": 42,
     "metadata": {},
     "output_type": "execute_result"
    }
   ],
   "source": [
    "[c for c in os.listdir(cacheRoot) if \".emb\" in c]"
   ]
  },
  {
   "cell_type": "code",
   "execution_count": 40,
   "metadata": {},
   "outputs": [
    {
     "data": {
      "text/html": [
       "<script type=\"text/javascript\">window.PlotlyConfig = {MathJaxConfig: 'local'};</script><script type=\"text/javascript\">if (window.MathJax) {MathJax.Hub.Config({SVG: {font: \"STIX-Web\"}});}</script><script>requirejs.config({paths: { 'plotly': ['https://cdn.plot.ly/plotly-latest.min']},});if(!window._Plotly) {require(['plotly'],function(plotly) {window._Plotly=plotly;});}</script>"
      ],
      "text/vnd.plotly.v1+html": [
       "<script type=\"text/javascript\">window.PlotlyConfig = {MathJaxConfig: 'local'};</script><script type=\"text/javascript\">if (window.MathJax) {MathJax.Hub.Config({SVG: {font: \"STIX-Web\"}});}</script><script>requirejs.config({paths: { 'plotly': ['https://cdn.plot.ly/plotly-latest.min']},});if(!window._Plotly) {require(['plotly'],function(plotly) {window._Plotly=plotly;});}</script>"
      ]
     },
     "metadata": {},
     "output_type": "display_data"
    },
    {
     "data": {
      "application/vnd.plotly.v1+json": {
       "data": [
        {
         "colorscale": "Viridis",
         "reversescale": true,
         "showscale": true,
         "type": "heatmap",
         "uid": "dd0b1ce6-574f-44b2-9491-056daabef338",
         "x": [
          "device1__2",
          "device_code2__2",
          "geo_code__2",
          "ip1__2",
          "mac1__2",
          "merchant__2",
          "merchant_weighted__2",
          "wifi__2"
         ],
         "y": [
          "device1__2",
          "device_code2__2",
          "geo_code__2",
          "ip1__2",
          "mac1__2",
          "merchant__2",
          "merchant_weighted__2",
          "wifi__2"
         ],
         "z": [
          [
           1,
           0.9957872784657608,
           0.9968623564449138,
           0.9953460947621999,
           0.9953894867954538,
           0.9961726368410551,
           0.9700138466447965,
           0.9969023704754743
          ],
          [
           0.9957872784657608,
           1,
           0.9954679836201789,
           0.9942726664745661,
           0.9948820172102082,
           0.9952149026722764,
           0.9699485750148464,
           0.995765118873491
          ],
          [
           0.9968623564449138,
           0.9954679836201789,
           1,
           0.995506991029128,
           0.9952056359039677,
           0.9958923249309303,
           0.9701064556270896,
           0.9967315560607644
          ],
          [
           0.9953460947621999,
           0.9942726664745661,
           0.995506991029128,
           1,
           0.9946980260104366,
           0.9962041619341004,
           0.9705743301665261,
           0.9953984599947411
          ],
          [
           0.9953894867954538,
           0.9948820172102082,
           0.9952056359039677,
           0.9946980260104366,
           1,
           0.9948302952699717,
           0.9704778337177772,
           0.9952042936062214
          ],
          [
           0.9961726368410551,
           0.9952149026722764,
           0.9958923249309303,
           0.9962041619341004,
           0.9948302952699717,
           1,
           0.9700210171748964,
           0.996521813644968
          ],
          [
           0.9700138466447965,
           0.9699485750148464,
           0.9701064556270896,
           0.9705743301665261,
           0.9704778337177772,
           0.9700210171748964,
           1,
           0.969870849922321
          ],
          [
           0.9969023704754743,
           0.995765118873491,
           0.9967315560607644,
           0.9953984599947411,
           0.9952042936062214,
           0.996521813644968,
           0.969870849922321,
           1
          ]
         ]
        }
       ],
       "layout": {}
      },
      "text/html": [
       "<div id=\"32dac469-0f5a-4f27-aac0-6b5b795f691b\" style=\"height: 525px; width: 100%;\" class=\"plotly-graph-div\"></div><script type=\"text/javascript\">require([\"plotly\"], function(Plotly) { window.PLOTLYENV=window.PLOTLYENV || {};window.PLOTLYENV.BASE_URL=\"https://plot.ly\";Plotly.newPlot(\"32dac469-0f5a-4f27-aac0-6b5b795f691b\", [{\"colorscale\": \"Viridis\", \"y\": [\"device1__2\", \"device_code2__2\", \"geo_code__2\", \"ip1__2\", \"mac1__2\", \"merchant__2\", \"merchant_weighted__2\", \"wifi__2\"], \"uid\": \"7fa7f565-2f46-4086-90d0-0bdb9beff09a\", \"z\": [[1.0, 0.9957872784657608, 0.9968623564449138, 0.9953460947621999, 0.9953894867954538, 0.9961726368410551, 0.9700138466447965, 0.9969023704754743], [0.9957872784657608, 1.0, 0.9954679836201789, 0.9942726664745661, 0.9948820172102082, 0.9952149026722764, 0.9699485750148464, 0.995765118873491], [0.9968623564449138, 0.9954679836201789, 1.0, 0.995506991029128, 0.9952056359039677, 0.9958923249309303, 0.9701064556270896, 0.9967315560607644], [0.9953460947621999, 0.9942726664745661, 0.995506991029128, 1.0, 0.9946980260104366, 0.9962041619341004, 0.9705743301665261, 0.9953984599947411], [0.9953894867954538, 0.9948820172102082, 0.9952056359039677, 0.9946980260104366, 1.0, 0.9948302952699717, 0.9704778337177772, 0.9952042936062214], [0.9961726368410551, 0.9952149026722764, 0.9958923249309303, 0.9962041619341004, 0.9948302952699717, 1.0, 0.9700210171748964, 0.996521813644968], [0.9700138466447965, 0.9699485750148464, 0.9701064556270896, 0.9705743301665261, 0.9704778337177772, 0.9700210171748964, 1.0, 0.969870849922321], [0.9969023704754743, 0.995765118873491, 0.9967315560607644, 0.9953984599947411, 0.9952042936062214, 0.996521813644968, 0.969870849922321, 1.0]], \"x\": [\"device1__2\", \"device_code2__2\", \"geo_code__2\", \"ip1__2\", \"mac1__2\", \"merchant__2\", \"merchant_weighted__2\", \"wifi__2\"], \"showscale\": true, \"reversescale\": true, \"type\": \"heatmap\"}], {}, {\"linkText\": \"Export to plot.ly\", \"showLink\": true})});</script><script type=\"text/javascript\">window.addEventListener(\"resize\", function(){window._Plotly.Plots.resize(document.getElementById(\"32dac469-0f5a-4f27-aac0-6b5b795f691b\"));});</script>"
      ],
      "text/vnd.plotly.v1+html": [
       "<div id=\"32dac469-0f5a-4f27-aac0-6b5b795f691b\" style=\"height: 525px; width: 100%;\" class=\"plotly-graph-div\"></div><script type=\"text/javascript\">require([\"plotly\"], function(Plotly) { window.PLOTLYENV=window.PLOTLYENV || {};window.PLOTLYENV.BASE_URL=\"https://plot.ly\";Plotly.newPlot(\"32dac469-0f5a-4f27-aac0-6b5b795f691b\", [{\"colorscale\": \"Viridis\", \"y\": [\"device1__2\", \"device_code2__2\", \"geo_code__2\", \"ip1__2\", \"mac1__2\", \"merchant__2\", \"merchant_weighted__2\", \"wifi__2\"], \"uid\": \"7fa7f565-2f46-4086-90d0-0bdb9beff09a\", \"z\": [[1.0, 0.9957872784657608, 0.9968623564449138, 0.9953460947621999, 0.9953894867954538, 0.9961726368410551, 0.9700138466447965, 0.9969023704754743], [0.9957872784657608, 1.0, 0.9954679836201789, 0.9942726664745661, 0.9948820172102082, 0.9952149026722764, 0.9699485750148464, 0.995765118873491], [0.9968623564449138, 0.9954679836201789, 1.0, 0.995506991029128, 0.9952056359039677, 0.9958923249309303, 0.9701064556270896, 0.9967315560607644], [0.9953460947621999, 0.9942726664745661, 0.995506991029128, 1.0, 0.9946980260104366, 0.9962041619341004, 0.9705743301665261, 0.9953984599947411], [0.9953894867954538, 0.9948820172102082, 0.9952056359039677, 0.9946980260104366, 1.0, 0.9948302952699717, 0.9704778337177772, 0.9952042936062214], [0.9961726368410551, 0.9952149026722764, 0.9958923249309303, 0.9962041619341004, 0.9948302952699717, 1.0, 0.9700210171748964, 0.996521813644968], [0.9700138466447965, 0.9699485750148464, 0.9701064556270896, 0.9705743301665261, 0.9704778337177772, 0.9700210171748964, 1.0, 0.969870849922321], [0.9969023704754743, 0.995765118873491, 0.9967315560607644, 0.9953984599947411, 0.9952042936062214, 0.996521813644968, 0.969870849922321, 1.0]], \"x\": [\"device1__2\", \"device_code2__2\", \"geo_code__2\", \"ip1__2\", \"mac1__2\", \"merchant__2\", \"merchant_weighted__2\", \"wifi__2\"], \"showscale\": true, \"reversescale\": true, \"type\": \"heatmap\"}], {}, {\"linkText\": \"Export to plot.ly\", \"showLink\": true})});</script><script type=\"text/javascript\">window.addEventListener(\"resize\", function(){window._Plotly.Plots.resize(document.getElementById(\"32dac469-0f5a-4f27-aac0-6b5b795f691b\"));});</script>"
      ]
     },
     "metadata": {},
     "output_type": "display_data"
    }
   ],
   "source": [
    "import seaborn as sns\n",
    "import matplotlib.pyplot as plt\n",
    "%matplotlib inline\n",
    "\n",
    "import plotly.offline as py\n",
    "py.init_notebook_mode(connected=True)\n",
    "import plotly.graph_objs as go\n",
    "import plotly.tools as tls\n",
    "base_predictions_train_folder3 = base_predictions_train[[ c for c in base_predictions_train.columns if \"_2\" in c] ]\n",
    "dataplt = [\n",
    "    go.Heatmap(\n",
    "        z= base_predictions_train_folder3.astype(float).corr().values ,\n",
    "        x=base_predictions_train_folder3.columns.values,\n",
    "        y= base_predictions_train_folder3.columns.values,\n",
    "          colorscale='Viridis',\n",
    "            showscale=True,\n",
    "            reversescale = True\n",
    "    )\n",
    "]\n",
    "py.iplot(dataplt, filename='labelled-heatmap')"
   ]
  },
  {
   "cell_type": "code",
   "execution_count": 41,
   "metadata": {},
   "outputs": [],
   "source": [
    "from sklearn.cluster import KMeans"
   ]
  },
  {
   "cell_type": "code",
   "execution_count": 44,
   "metadata": {},
   "outputs": [],
   "source": [
    "mec = runlgb.get_embeding(\"../cache/merchant_weighted_edglist_DeepWalk.embeddings\",\"merchant_depwk\")"
   ]
  },
  {
   "cell_type": "code",
   "execution_count": 49,
   "metadata": {},
   "outputs": [],
   "source": [
    "kmdata = pd.DataFrame()\n",
    "kmdata['UID'] =data.UID\n",
    "kmdata['Tag'] =data.Tag\n",
    "kmdata = kmdata.merge(mec )"
   ]
  },
  {
   "cell_type": "code",
   "execution_count": 85,
   "metadata": {},
   "outputs": [
    {
     "data": {
      "text/html": [
       "<div>\n",
       "<style scoped>\n",
       "    .dataframe tbody tr th:only-of-type {\n",
       "        vertical-align: middle;\n",
       "    }\n",
       "\n",
       "    .dataframe tbody tr th {\n",
       "        vertical-align: top;\n",
       "    }\n",
       "\n",
       "    .dataframe thead th {\n",
       "        text-align: right;\n",
       "    }\n",
       "</style>\n",
       "<table border=\"1\" class=\"dataframe\">\n",
       "  <thead>\n",
       "    <tr style=\"text-align: right;\">\n",
       "      <th></th>\n",
       "      <th>Cluster</th>\n",
       "      <th>Tag</th>\n",
       "    </tr>\n",
       "  </thead>\n",
       "  <tbody>\n",
       "    <tr>\n",
       "      <th>Cluster</th>\n",
       "      <td>1.000000</td>\n",
       "      <td>-0.186966</td>\n",
       "    </tr>\n",
       "    <tr>\n",
       "      <th>Tag</th>\n",
       "      <td>-0.186966</td>\n",
       "      <td>1.000000</td>\n",
       "    </tr>\n",
       "  </tbody>\n",
       "</table>\n",
       "</div>"
      ],
      "text/plain": [
       "          Cluster       Tag\n",
       "Cluster  1.000000 -0.186966\n",
       "Tag     -0.186966  1.000000"
      ]
     },
     "execution_count": 85,
     "metadata": {},
     "output_type": "execute_result"
    }
   ],
   "source": [
    "y_pred = KMeans(n_clusters=10, random_state=66).fit_predict( kmdata[[c for c in kmdata.columns if c not in [ \"UID\",\"Tag\"] ]]  )\n",
    "kmdata[\"Cluster\"] = y_pred\n",
    "kmdata[kmdata.Tag != 0.5 ][['Cluster','Tag' ]].corr()"
   ]
  },
  {
   "cell_type": "code",
   "execution_count": 68,
   "metadata": {},
   "outputs": [
    {
     "data": {
      "text/html": [
       "<div>\n",
       "<style scoped>\n",
       "    .dataframe tbody tr th:only-of-type {\n",
       "        vertical-align: middle;\n",
       "    }\n",
       "\n",
       "    .dataframe tbody tr th {\n",
       "        vertical-align: top;\n",
       "    }\n",
       "\n",
       "    .dataframe thead th {\n",
       "        text-align: right;\n",
       "    }\n",
       "</style>\n",
       "<table border=\"1\" class=\"dataframe\">\n",
       "  <thead>\n",
       "    <tr style=\"text-align: right;\">\n",
       "      <th></th>\n",
       "      <th>Cluster</th>\n",
       "      <th>Tag</th>\n",
       "    </tr>\n",
       "  </thead>\n",
       "  <tbody>\n",
       "    <tr>\n",
       "      <th>Cluster</th>\n",
       "      <td>1.000000</td>\n",
       "      <td>0.210431</td>\n",
       "    </tr>\n",
       "    <tr>\n",
       "      <th>Tag</th>\n",
       "      <td>0.210431</td>\n",
       "      <td>1.000000</td>\n",
       "    </tr>\n",
       "  </tbody>\n",
       "</table>\n",
       "</div>"
      ],
      "text/plain": [
       "          Cluster       Tag\n",
       "Cluster  1.000000  0.210431\n",
       "Tag      0.210431  1.000000"
      ]
     },
     "execution_count": 68,
     "metadata": {},
     "output_type": "execute_result"
    }
   ],
   "source": []
  },
  {
   "cell_type": "code",
   "execution_count": 66,
   "metadata": {},
   "outputs": [
    {
     "data": {
      "text/html": [
       "<div>\n",
       "<style scoped>\n",
       "    .dataframe tbody tr th:only-of-type {\n",
       "        vertical-align: middle;\n",
       "    }\n",
       "\n",
       "    .dataframe tbody tr th {\n",
       "        vertical-align: top;\n",
       "    }\n",
       "\n",
       "    .dataframe thead th {\n",
       "        text-align: right;\n",
       "    }\n",
       "</style>\n",
       "<table border=\"1\" class=\"dataframe\">\n",
       "  <thead>\n",
       "    <tr style=\"text-align: right;\">\n",
       "      <th></th>\n",
       "      <th>Cluster</th>\n",
       "      <th>Tag</th>\n",
       "    </tr>\n",
       "  </thead>\n",
       "  <tbody>\n",
       "    <tr>\n",
       "      <th>Cluster</th>\n",
       "      <td>1.000000</td>\n",
       "      <td>0.173485</td>\n",
       "    </tr>\n",
       "    <tr>\n",
       "      <th>Tag</th>\n",
       "      <td>0.173485</td>\n",
       "      <td>1.000000</td>\n",
       "    </tr>\n",
       "  </tbody>\n",
       "</table>\n",
       "</div>"
      ],
      "text/plain": [
       "          Cluster       Tag\n",
       "Cluster  1.000000  0.173485\n",
       "Tag      0.173485  1.000000"
      ]
     },
     "execution_count": 66,
     "metadata": {},
     "output_type": "execute_result"
    }
   ],
   "source": []
  },
  {
   "cell_type": "code",
   "execution_count": null,
   "metadata": {},
   "outputs": [],
   "source": [
    "x_train = np.concatenate( pred_trn_dfs ,axis=1) \n",
    "x_test  = np.concatenate( pred_tsn_dfs ,axis=1) \n",
    "y_train = pd.read_csv(\"../data/tag_train_new.csv\").Tag.values.reshape(-1,1)"
   ]
  },
  {
   "cell_type": "code",
   "execution_count": 36,
   "metadata": {},
   "outputs": [
    {
     "ename": "NameError",
     "evalue": "name 'x_train' is not defined",
     "output_type": "error",
     "traceback": [
      "\u001b[1;31m---------------------------------------------------------------------------\u001b[0m",
      "\u001b[1;31mNameError\u001b[0m                                 Traceback (most recent call last)",
      "\u001b[1;32m<ipython-input-36-4b2897f5139b>\u001b[0m in \u001b[0;36m<module>\u001b[1;34m\u001b[0m\n\u001b[0;32m     16\u001b[0m  \u001b[0mobjective\u001b[0m\u001b[1;33m=\u001b[0m \u001b[1;34m'binary:logistic'\u001b[0m\u001b[1;33m,\u001b[0m\u001b[1;33m\u001b[0m\u001b[0m\n\u001b[0;32m     17\u001b[0m  \u001b[0mnthread\u001b[0m\u001b[1;33m=\u001b[0m \u001b[1;33m-\u001b[0m\u001b[1;36m1\u001b[0m\u001b[1;33m,\u001b[0m\u001b[1;33m\u001b[0m\u001b[0m\n\u001b[1;32m---> 18\u001b[1;33m  fpreproc=fpreproc).fit(x_train, y_train)\n\u001b[0m\u001b[0;32m     19\u001b[0m \u001b[0mpredictions\u001b[0m \u001b[1;33m=\u001b[0m \u001b[0mgbm\u001b[0m\u001b[1;33m.\u001b[0m\u001b[0mpredict\u001b[0m\u001b[1;33m(\u001b[0m\u001b[0mx_test\u001b[0m\u001b[1;33m)\u001b[0m\u001b[1;33m\u001b[0m\u001b[0m\n",
      "\u001b[1;31mNameError\u001b[0m: name 'x_train' is not defined"
     ]
    }
   ],
   "source": [
    "import numpy as np\n",
    "import pandas as pd\n",
    "from xgboost import XGBClassifier\n",
    "\n",
    "def fpreproc(dtrain, dtest, param):\n",
    "    label = dtrain.get_label()\n",
    "    ratio = float(np.sum(label == 0)) / np.sum(label == 1)\n",
    "    param['scale_pos_weight'] = ratio\n",
    "    return (dtrain, dtest, param)\n",
    "\n",
    "gbm = xgb.XGBClassifier(\n",
    "    #learning_rate = 0.02,\n",
    " n_estimators= 2000,\n",
    " max_depth= 4,\n",
    " min_child_weight= 2,\n",
    " #gamma=1,\n",
    " gamma=0.9,                        \n",
    " subsample=0.8,\n",
    " colsample_bytree=0.8,\n",
    " objective= 'binary:logistic',\n",
    " nthread= -1,\n",
    " fpreproc=fpreproc).fit(x_train, y_train)\n",
    "predictions = gbm.predict(x_test)"
   ]
  },
  {
   "cell_type": "code",
   "execution_count": 109,
   "metadata": {},
   "outputs": [],
   "source": []
  }
 ],
 "metadata": {
  "anaconda-cloud": {},
  "kernelspec": {
   "display_name": "Python [conda root]",
   "language": "python",
   "name": "conda-root-py"
  },
  "language_info": {
   "codemirror_mode": {
    "name": "ipython",
    "version": 3
   },
   "file_extension": ".py",
   "mimetype": "text/x-python",
   "name": "python",
   "nbconvert_exporter": "python",
   "pygments_lexer": "ipython3",
   "version": "3.5.2"
  }
 },
 "nbformat": 4,
 "nbformat_minor": 2
}
