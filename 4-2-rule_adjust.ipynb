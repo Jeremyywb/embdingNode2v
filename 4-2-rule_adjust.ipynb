{
 "cells": [
  {
   "cell_type": "markdown",
   "metadata": {},
   "source": [
    "**导入所需库**"
   ]
  },
  {
   "cell_type": "code",
   "execution_count": 1,
   "metadata": {},
   "outputs": [],
   "source": [
    "import pandas as pd\n",
    "import numpy as np\n",
    "import warnings\n",
    "warnings.filterwarnings('ignore')"
   ]
  },
  {
   "cell_type": "markdown",
   "metadata": {},
   "source": [
    "**读取数据**"
   ]
  },
  {
   "cell_type": "code",
   "execution_count": 2,
   "metadata": {},
   "outputs": [],
   "source": [
    "sub = pd.read_csv('../submission/avg_blend_6.csv') # 融合结果\n",
    "operation_trn = pd.read_csv('../data/operation_train_new.csv')\n",
    "transaction_trn = pd.read_csv('../data/transaction_train_new.csv')\n",
    "operation_tst2 = pd.read_csv('../data/test_operation_round2.csv')\n",
    "transaction_tst2 = pd.read_csv('../data/test_transaction_round2.csv')\n",
    "tag_trn = pd.read_csv('../data/tag_train_new.csv')"
   ]
  },
  {
   "cell_type": "markdown",
   "metadata": {},
   "source": [
    "**规则模拟**"
   ]
  },
  {
   "cell_type": "markdown",
   "metadata": {},
   "source": [
    "在119平台交易过的用户都是白用户"
   ]
  },
  {
   "cell_type": "code",
   "execution_count": 3,
   "metadata": {},
   "outputs": [
    {
     "name": "stdout",
     "output_type": "stream",
     "text": [
      "训练集共找出246用户，其中白用户246，占比1.00\n"
     ]
    }
   ],
   "source": [
    "train_uid = list(transaction_trn[transaction_trn['channel']==119]['UID'].unique())\n",
    "white_uid = tag_trn[(tag_trn['Tag']==0)&(tag_trn['UID'].isin(train_uid)==True)]\n",
    "print('训练集共找出%d用户，其中白用户%d，占比%.2f'%(len(train_uid), len(white_uid), 1.0*len(train_uid)/len(white_uid)))"
   ]
  },
  {
   "cell_type": "markdown",
   "metadata": {},
   "source": [
    "acc_id2"
   ]
  },
  {
   "cell_type": "code",
   "execution_count": 4,
   "metadata": {},
   "outputs": [
    {
     "name": "stdout",
     "output_type": "stream",
     "text": [
      "训练集共找出375用户，其中黑用户370，占比0.99\n"
     ]
    }
   ],
   "source": [
    "group_df = transaction_trn.groupby(['acc_id2'])['UID'].nunique().reset_index().rename(columns={'UID': 'acc_id2_uid_nunique'})\n",
    "stats = transaction_trn.merge(group_df, on=['acc_id2'], how='left')\n",
    "train_uid = list(stats[stats['acc_id2_uid_nunique']>20]['UID'].unique())\n",
    "black_uid = tag_trn[(tag_trn['Tag']==1)&(tag_trn['UID'].isin(train_uid)==True)]\n",
    "print('训练集共找出%d用户，其中黑用户%d，占比%.2f'%(len(train_uid), len(black_uid), 1.0*len(black_uid)/len(train_uid)))"
   ]
  },
  {
   "cell_type": "markdown",
   "metadata": {},
   "source": [
    "acc_id3"
   ]
  },
  {
   "cell_type": "code",
   "execution_count": 5,
   "metadata": {},
   "outputs": [
    {
     "name": "stdout",
     "output_type": "stream",
     "text": [
      "训练集共找出149用户，其中黑用户144，占比0.97\n"
     ]
    }
   ],
   "source": [
    "group_df = transaction_trn.groupby(['acc_id3'])['UID'].nunique().reset_index().rename(columns={'UID': 'acc_id3_uid_nunique'})\n",
    "stats = transaction_trn.merge(group_df, on=['acc_id3'], how='left')\n",
    "train_uid = list(stats[stats['acc_id3_uid_nunique']>10]['UID'].unique())\n",
    "black_uid = tag_trn[(tag_trn['Tag']==1)&(tag_trn['UID'].isin(train_uid)==True)]\n",
    "print('训练集共找出%d用户，其中黑用户%d，占比%.2f'%(len(train_uid), len(black_uid), 1.0*len(black_uid)/len(train_uid)))"
   ]
  },
  {
   "cell_type": "markdown",
   "metadata": {},
   "source": [
    "transaction:device_code1"
   ]
  },
  {
   "cell_type": "code",
   "execution_count": 6,
   "metadata": {},
   "outputs": [
    {
     "name": "stdout",
     "output_type": "stream",
     "text": [
      "训练集共找出346用户，其中黑用户342，占比0.99\n"
     ]
    }
   ],
   "source": [
    "group_df = transaction_trn.groupby(['device_code1'])['UID'].nunique().reset_index().rename(columns={'UID': 'device_code1_uid_nunique'})\n",
    "stats = transaction_trn.merge(group_df, on=['device_code1'], how='left')\n",
    "train_uid = list(stats[stats['device_code1_uid_nunique']>60]['UID'].unique())\n",
    "black_uid = tag_trn[(tag_trn['Tag']==1)&(tag_trn['UID'].isin(train_uid)==True)]\n",
    "print('训练集共找出%d用户，其中黑用户%d，占比%.2f'%(len(train_uid), len(black_uid), 1.0*len(black_uid)/len(train_uid)))"
   ]
  },
  {
   "cell_type": "markdown",
   "metadata": {},
   "source": [
    "transaction:device_code3"
   ]
  },
  {
   "cell_type": "code",
   "execution_count": 7,
   "metadata": {},
   "outputs": [
    {
     "name": "stdout",
     "output_type": "stream",
     "text": [
      "训练集共找出308用户，其中黑用户303，占比0.98\n"
     ]
    }
   ],
   "source": [
    "group_df = transaction_trn.groupby(['device_code3'])['UID'].nunique().reset_index().rename(columns={'UID': 'device_code3_uid_nunique'})\n",
    "stats = transaction_trn.merge(group_df, on=['device_code3'], how='left')\n",
    "train_uid = list(stats[stats['device_code3_uid_nunique']>20]['UID'].unique())\n",
    "black_uid = tag_trn[(tag_trn['Tag']==1)&(tag_trn['UID'].isin(train_uid)==True)]\n",
    "print('训练集共找出%d用户，其中黑用户%d，占比%.2f'%(len(train_uid), len(black_uid), 1.0*len(black_uid)/len(train_uid)))"
   ]
  },
  {
   "cell_type": "markdown",
   "metadata": {},
   "source": [
    "operation:ip1"
   ]
  },
  {
   "cell_type": "code",
   "execution_count": 8,
   "metadata": {},
   "outputs": [
    {
     "name": "stdout",
     "output_type": "stream",
     "text": [
      "训练集共找出220用户，其中黑用户220，占比1.00\n"
     ]
    }
   ],
   "source": [
    "group_df = operation_trn.groupby(['ip1'])['UID'].nunique().reset_index().rename(columns={'UID': 'ip1_uid_nunique'})\n",
    "stats = operation_trn.merge(group_df, on=['ip1'], how='left')\n",
    "train_uid = list(stats[stats['ip1_uid_nunique']>200]['UID'].unique())\n",
    "black_uid = tag_trn[(tag_trn['Tag']==1)&(tag_trn['UID'].isin(train_uid)==True)]\n",
    "print('训练集共找出%d用户，其中黑用户%d，占比%.2f'%(len(train_uid), len(black_uid), 1.0*len(black_uid)/len(train_uid)))"
   ]
  },
  {
   "cell_type": "markdown",
   "metadata": {},
   "source": [
    "transaction:ip1"
   ]
  },
  {
   "cell_type": "code",
   "execution_count": 9,
   "metadata": {},
   "outputs": [
    {
     "name": "stdout",
     "output_type": "stream",
     "text": [
      "训练集共找出222用户，其中黑用户222，占比1.00\n"
     ]
    }
   ],
   "source": [
    "group_df = transaction_trn.groupby(['ip1'])['UID'].nunique().reset_index().rename(columns={'UID': 'ip1_uid_nunique'})\n",
    "stats = transaction_trn.merge(group_df, on=['ip1'], how='left')\n",
    "train_uid = list(stats[stats['ip1_uid_nunique']>200]['UID'].unique())\n",
    "black_uid = tag_trn[(tag_trn['Tag']==1)&(tag_trn['UID'].isin(train_uid)==True)]\n",
    "print('训练集共找出%d用户，其中黑用户%d，占比%.2f'%(len(train_uid), len(black_uid), 1.0*len(black_uid)/len(train_uid)))"
   ]
  },
  {
   "cell_type": "markdown",
   "metadata": {},
   "source": [
    "operation+transaction:ip1,ip1_sub"
   ]
  },
  {
   "cell_type": "code",
   "execution_count": 10,
   "metadata": {},
   "outputs": [],
   "source": [
    "user_action_trn = pd.concat([operation_trn[['UID', 'day', 'ip1', 'ip1_sub']].copy(), transaction_trn[['UID', 'day', 'ip1', 'ip1_sub']].copy()], axis=0, ignore_index=True)\n",
    "user_action_tst2 = pd.concat([operation_tst2[['UID', 'day', 'ip1', 'ip1_sub']].copy(), transaction_tst2[['UID', 'day', 'ip1', 'ip1_sub']].copy()], axis=0, ignore_index=True)"
   ]
  },
  {
   "cell_type": "code",
   "execution_count": 11,
   "metadata": {},
   "outputs": [
    {
     "name": "stdout",
     "output_type": "stream",
     "text": [
      "训练集共找出481用户，其中黑用户476，占比0.99\n"
     ]
    }
   ],
   "source": [
    "group_df = user_action_trn.groupby(['ip1'])[['UID', 'day']].nunique().reset_index().rename(columns={'UID': 'ip1_uid_nunique',\n",
    "                                                                                                    'day': 'ip1_day_nunique'})\n",
    "stats = user_action_trn.merge(group_df, on=['ip1'], how='left')\n",
    "train_uid = list(stats[(stats['ip1_uid_nunique']>70)&(stats['ip1_day_nunique']<15)]['UID'].unique())\n",
    "black_uid = tag_trn[(tag_trn['Tag']==1)&(tag_trn['UID'].isin(train_uid)==True)]\n",
    "print('训练集共找出%d用户，其中黑用户%d，占比%.2f'%(len(train_uid), len(black_uid), 1.0*len(black_uid)/len(train_uid)))"
   ]
  },
  {
   "cell_type": "code",
   "execution_count": 12,
   "metadata": {},
   "outputs": [
    {
     "name": "stdout",
     "output_type": "stream",
     "text": [
      "训练集共找出504用户，其中黑用户493，占比0.98\n"
     ]
    }
   ],
   "source": [
    "group_df = user_action_trn.groupby(['ip1_sub'])[['UID', 'day']].nunique().reset_index().rename(columns={'UID': 'ip1_sub_uid_nunique',\n",
    "                                                                                                        'day': 'ip1_sub_day_nunique'})\n",
    "stats = user_action_trn.merge(group_df, on=['ip1_sub'], how='left')\n",
    "train_uid = list(stats[(stats['ip1_sub_uid_nunique']>80)&(stats['ip1_sub_day_nunique']<10)]['UID'].unique())\n",
    "black_uid = tag_trn[(tag_trn['Tag']==1)&(tag_trn['UID'].isin(train_uid)==True)]\n",
    "print('训练集共找出%d用户，其中黑用户%d，占比%.2f'%(len(train_uid), len(black_uid), 1.0*len(black_uid)/len(train_uid)))"
   ]
  },
  {
   "cell_type": "markdown",
   "metadata": {},
   "source": [
    "**规则实现**"
   ]
  },
  {
   "cell_type": "code",
   "execution_count": 13,
   "metadata": {},
   "outputs": [],
   "source": [
    "sub_new = sub.copy()\n",
    "min_prob = sub_new['Tag'].min()\n",
    "max_prob = sub_new['Tag'].max()"
   ]
  },
  {
   "cell_type": "code",
   "execution_count": 16,
   "metadata": {},
   "outputs": [],
   "source": [
    "rule1_uid = list(transaction_tst2[transaction_tst2['channel']==119]['UID'].unique())\n",
    "sub_new.loc[sub_new['UID'].isin(rule1_uid)==True, 'Tag'] = min_prob"
   ]
  },
  {
   "cell_type": "code",
   "execution_count": 17,
   "metadata": {},
   "outputs": [],
   "source": [
    "group_df = transaction_tst2.groupby(['acc_id2'])['UID'].nunique().reset_index().rename(columns={'UID': 'acc_id2_uid_nunique'})\n",
    "stats = transaction_tst2.merge(group_df, on=['acc_id2'], how='left')\n",
    "rule2_uid = list(stats[stats['acc_id2_uid_nunique']>20]['UID'].unique())\n",
    "sub_new.loc[sub_new['UID'].isin(rule2_uid)==True, 'Tag'] = max_prob"
   ]
  },
  {
   "cell_type": "code",
   "execution_count": 18,
   "metadata": {},
   "outputs": [],
   "source": [
    "group_df = transaction_tst2.groupby(['acc_id3'])['UID'].nunique().reset_index().rename(columns={'UID': 'acc_id3_uid_nunique'})\n",
    "stats = transaction_tst2.merge(group_df, on=['acc_id3'], how='left')\n",
    "rule3_uid = list(stats[stats['acc_id3_uid_nunique']>10]['UID'].unique())\n",
    "sub_new.loc[sub_new['UID'].isin(rule3_uid)==True, 'Tag'] = max_prob"
   ]
  },
  {
   "cell_type": "code",
   "execution_count": 20,
   "metadata": {},
   "outputs": [],
   "source": [
    "# group_df = transaction_tst2.groupby(['device_code1'])['UID'].nunique().reset_index().rename(columns={'UID': 'device_code1_uid_nunique'})\n",
    "# stats = transaction_tst2.merge(group_df, on=['device_code1'], how='left')\n",
    "# rule4_uid = list(stats[stats['device_code1_uid_nunique']>60]['UID'].unique())\n",
    "# sub_new.loc[sub_new['UID'].isin(rule4_uid)==True, 'Tag'] = max_prob"
   ]
  },
  {
   "cell_type": "code",
   "execution_count": 21,
   "metadata": {},
   "outputs": [],
   "source": [
    "# group_df = transaction_tst2.groupby(['device_code3'])['UID'].nunique().reset_index().rename(columns={'UID': 'device_code3_uid_nunique'})\n",
    "# stats = transaction_tst2.merge(group_df, on=['device_code3'], how='left')\n",
    "# rule5_uid = list(stats[stats['device_code3_uid_nunique']>20]['UID'].unique())\n",
    "# sub_new.loc[sub_new['UID'].isin(rule5_uid)==True, 'Tag'] = max_prob"
   ]
  },
  {
   "cell_type": "code",
   "execution_count": 22,
   "metadata": {},
   "outputs": [],
   "source": [
    "# group_df = operation_tst2.groupby(['ip1'])['UID'].nunique().reset_index().rename(columns={'UID': 'ip1_uid_nunique'})\n",
    "# stats = operation_tst2.merge(group_df, on=['ip1'], how='left')\n",
    "# rule6_uid = list(stats[stats['ip1_uid_nunique']>230]['UID'].unique())\n",
    "# set(rule6_uid).intersection(set(rule1_uid))\n",
    "# sub_new.loc[sub_new['UID'].isin(rule6_uid)==True, 'Tag'] = max_prob"
   ]
  },
  {
   "cell_type": "code",
   "execution_count": 23,
   "metadata": {},
   "outputs": [],
   "source": [
    "# group_df = transaction_tst2.groupby(['ip1'])['UID'].nunique().reset_index().rename(columns={'UID': 'ip1_uid_nunique'})\n",
    "# stats = transaction_tst2.merge(group_df, on=['ip1'], how='left')\n",
    "# rule7_uid = list(stats[stats['ip1_uid_nunique']>200]['UID'].unique())\n",
    "# sub_new.loc[sub_new['UID'].isin(rule7_uid)==True, 'Tag'] = max_prob"
   ]
  },
  {
   "cell_type": "code",
   "execution_count": 28,
   "metadata": {},
   "outputs": [],
   "source": [
    "group_df = user_action_tst2.groupby(['ip1'])[['UID', 'day']].nunique().reset_index().rename(columns={'UID': 'ip1_uid_nunique',\n",
    "                                                                                                    'day': 'ip1_day_nunique'})\n",
    "stats = user_action_tst2.merge(group_df, on=['ip1'], how='left')\n",
    "rule8_uid = list(stats[(stats['ip1_uid_nunique']>70)&(stats['ip1_day_nunique']<15)]['UID'].unique())\n",
    "sub_new.loc[sub_new['UID'].isin(rule8_uid)==True, 'Tag'] = max_prob"
   ]
  },
  {
   "cell_type": "code",
   "execution_count": 29,
   "metadata": {},
   "outputs": [],
   "source": [
    "group_df = user_action_tst2.groupby(['ip1_sub'])[['UID', 'day']].nunique().reset_index().rename(columns={'UID': 'ip1_sub_uid_nunique',\n",
    "                                                                                                         'day': 'ip1_sub_day_nunique'})\n",
    "stats = user_action_tst2.merge(group_df, on=['ip1_sub'], how='left')\n",
    "rule9_uid = list(stats[(stats['ip1_sub_uid_nunique']>80)&(stats['ip1_sub_day_nunique']<10)]['UID'].unique())\n",
    "sub_new.loc[sub_new['UID'].isin(rule9_uid)==True, 'Tag'] = max_prob"
   ]
  },
  {
   "cell_type": "markdown",
   "metadata": {},
   "source": [
    "**输出结果**"
   ]
  },
  {
   "cell_type": "code",
   "execution_count": 26,
   "metadata": {},
   "outputs": [],
   "source": [
    "sub_new.to_csv('../submission/final3.csv', index=False)"
   ]
  }
 ],
 "metadata": {
  "anaconda-cloud": {},
  "kernelspec": {
   "display_name": "Python [default]",
   "language": "python",
   "name": "python3"
  },
  "language_info": {
   "codemirror_mode": {
    "name": "ipython",
    "version": 3
   },
   "file_extension": ".py",
   "mimetype": "text/x-python",
   "name": "python",
   "nbconvert_exporter": "python",
   "pygments_lexer": "ipython3",
   "version": "3.5.2"
  }
 },
 "nbformat": 4,
 "nbformat_minor": 2
}
